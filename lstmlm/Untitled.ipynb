{
 "cells": [
  {
   "cell_type": "code",
   "execution_count": 1,
   "metadata": {
    "collapsed": true
   },
   "outputs": [],
   "source": [
    "require 'nn'\n",
    "require 'nngraph'\n",
    "require 'rnn'\n",
    "require 'cutorch'\n",
    "require 'cunn'\n",
    "require 'optim'\n",
    "LSTM = require 'model.LSTM'"
   ]
  },
  {
   "cell_type": "code",
   "execution_count": 23,
   "metadata": {
    "collapsed": false
   },
   "outputs": [],
   "source": [
    "local config = {\n",
    "    input_dim = 2,\n",
    "    hidden_dim = 32,\n",
    "    num_layers = 1\n",
    "}\n",
    "cell = LSTM.lite_lstm(config)"
   ]
  },
  {
   "cell_type": "code",
   "execution_count": 25,
   "metadata": {
    "collapsed": false
   },
   "outputs": [],
   "source": [
    "states, values = LSTM.init_states(1,1,32,false)\n",
    "nngraph.setDebug(true)\n",
    "graph.dot(cell.fg, 'ab', 'ab')\n",
    "a = cell:forward\n",
    "    {torch.randn(1, 2), \n",
    "        unpack(states)\n",
    "    }\n"
   ]
  },
  {
   "cell_type": "code",
   "execution_count": 46,
   "metadata": {
    "collapsed": false
   },
   "outputs": [],
   "source": [
    "m = nn.Sequential()\n",
    "m:add(nn.Sequencer(cell))"
   ]
  },
  {
   "cell_type": "code",
   "execution_count": 49,
   "metadata": {
    "collapsed": false,
    "scrolled": true
   },
   "outputs": [
    {
     "ename": "...mmon/tools/torch/install/share/lua/5.1/rnn/Sequencer.lua:45: expecting input table\nstack traceback:\n\t[C]: in function 'assert'\n\t...mmon/tools/torch/install/share/lua/5.1/rnn/Sequencer.lua:45: in function 'updateOutput'\n\t...mmon/tools/torch/install/share/lua/5.1/nn/Sequential.lua:44: in function 'f'\n\t[string \"local f = function() return m:forward(torch.r...\"]:1: in main chunk\n\t[C]: in function 'xpcall'\n\t...common/tools/torch/install/share/lua/5.1/itorch/main.lua:177: in function <...common/tools/torch/install/share/lua/5.1/itorch/main.lua:143>\n\t...common/tools/torch/install/share/lua/5.1/lzmq/poller.lua:75: in function 'poll'\n\t...mon/tools/torch/install/share/lua/5.1/lzmq/impl/loop.lua:307: in function 'poll'\n\t...mon/tools/torch/install/share/lua/5.1/lzmq/impl/loop.lua:325: in function 'sleep_ex'\n\t...mon/tools/torch/install/share/lua/5.1/lzmq/impl/loop.lua:370: in function 'start'\n\t...common/tools/torch/install/share/lua/5.1/itorch/main.lua:344: in main chunk\n\t[C]: in function 'require'\n\t[string \"arg={'/home/northanapon/.ipython/profile_defa...\"]:1: in main chunk",
     "evalue": "",
     "output_type": "error",
     "traceback": [
      "...mmon/tools/torch/install/share/lua/5.1/rnn/Sequencer.lua:45: expecting input table\nstack traceback:\n\t[C]: in function 'assert'\n\t...mmon/tools/torch/install/share/lua/5.1/rnn/Sequencer.lua:45: in function 'updateOutput'\n\t...mmon/tools/torch/install/share/lua/5.1/nn/Sequential.lua:44: in function 'f'\n\t[string \"local f = function() return m:forward(torch.r...\"]:1: in main chunk\n\t[C]: in function 'xpcall'\n\t...common/tools/torch/install/share/lua/5.1/itorch/main.lua:177: in function <...common/tools/torch/install/share/lua/5.1/itorch/main.lua:143>\n\t...common/tools/torch/install/share/lua/5.1/lzmq/poller.lua:75: in function 'poll'\n\t...mon/tools/torch/install/share/lua/5.1/lzmq/impl/loop.lua:307: in function 'poll'\n\t...mon/tools/torch/install/share/lua/5.1/lzmq/impl/loop.lua:325: in function 'sleep_ex'\n\t...mon/tools/torch/install/share/lua/5.1/lzmq/impl/loop.lua:370: in function 'start'\n\t...common/tools/torch/install/share/lua/5.1/itorch/main.lua:344: in main chunk\n\t[C]: in function 'require'\n\t[string \"arg={'/home/northanapon/.ipython/profile_defa...\"]:1: in main chunk"
     ]
    }
   ],
   "source": [
    "m:forward(torch.randn(1, 2))"
   ]
  },
  {
   "cell_type": "code",
   "execution_count": 59,
   "metadata": {
    "collapsed": true
   },
   "outputs": [],
   "source": [
    "l = nn.FastLSTM(2,32)\n",
    "m = nn.Sequential()\n",
    "m:add(nn.Sequencer(l))"
   ]
  },
  {
   "cell_type": "code",
   "execution_count": 60,
   "metadata": {
    "collapsed": false
   },
   "outputs": [
    {
     "data": {
      "text/plain": [
       "{\n"
      ]
     },
     "execution_count": 60,
     "metadata": {},
     "output_type": "execute_result"
    },
    {
     "data": {
      "text/plain": [
       "  1 : DoubleTensor - size: 2x32\n",
       "  2 : DoubleTensor - size: 2x32\n",
       "  3 : DoubleTensor - size: 2x32\n",
       "}\n"
      ]
     },
     "execution_count": 60,
     "metadata": {},
     "output_type": "execute_result"
    }
   ],
   "source": [
    "m:forward({torch.zeros(2,2),torch.zeros(2,2),torch.zeros(2,2)})"
   ]
  },
  {
   "cell_type": "code",
   "execution_count": null,
   "metadata": {
    "collapsed": true
   },
   "outputs": [],
   "source": []
  }
 ],
 "metadata": {
  "kernelspec": {
   "display_name": "iTorch",
   "language": "lua",
   "name": "itorch"
  },
  "language_info": {
   "name": "lua",
   "version": "20100"
  }
 },
 "nbformat": 4,
 "nbformat_minor": 0
}
