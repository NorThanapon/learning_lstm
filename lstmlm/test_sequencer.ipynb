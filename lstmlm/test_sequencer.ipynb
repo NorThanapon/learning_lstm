{
 "cells": [
  {
   "cell_type": "code",
   "execution_count": 1,
   "metadata": {
    "collapsed": true
   },
   "outputs": [],
   "source": [
    "require 'nn'\n",
    "require 'nngraph'\n",
    "require 'rnn'\n",
    "require 'cutorch'\n",
    "require 'cunn'\n",
    "require 'optim'\n",
    "LSTM = require 'model.LSTM'"
   ]
  },
  {
   "cell_type": "code",
   "execution_count": 26,
   "metadata": {
    "collapsed": false
   },
   "outputs": [],
   "source": [
    "-- model hyper-params\n",
    "emb_dim = 2\n",
    "sum_rep_dim = 32\n",
    "class_types = 2\n",
    "num_layers = 1\n",
    "gpu = false -- GPU is not going to help in this small model\n",
    "-- construct LSTM cell\n",
    "emb_unit = nn.LookupTable(10, emb_dim)\n",
    "out_unit = nn.Sequential()\n",
    "out_unit:add(nn.Linear(sum_rep_dim, class_types))\n",
    "out_unit:add(nn.LogSoftMax())\n",
    "lstm_config = {input_dim=emb_dim,\n",
    "    hidden_dim=sum_rep_dim,\n",
    "    num_layers=num_layers,\n",
    "    emb_unit=emb_unit,\n",
    "    output_unit=out_unit}\n",
    "master_cell = LSTM.lstm(lstm_config)\n",
    "criterion = nn.ClassNLLCriterion()\n",
    "if gpu then \n",
    "    master_cell:cuda() \n",
    "    criterion:cuda()\n",
    "end\n",
    "params, grad_params = master_cell:getParameters()"
   ]
  },
  {
   "cell_type": "code",
   "execution_count": null,
   "metadata": {
    "collapsed": true
   },
   "outputs": [],
   "source": [
    "-- model hyper-params\n",
    "emb_dim = 2\n",
    "sum_rep_dim = 32\n",
    "class_types = 2\n",
    "num_layers = 1\n",
    "gpu = false -- GPU is not going to help in this small model\n",
    "dropout = true\n",
    "-- model\n",
    "model = nn.Sequential()\n",
    "emb_unit = nn.LookupTable(10, emb_dim)\n",
    "out_unit = nn.Sequential()\n",
    "out_unit:add(nn.Linear(sum_rep_dim, class_types))\n",
    "out_unit:add(nn.LogSoftMax())\n",
    "lstm_config = {input_dim=emb_dim,\n",
    "    hidden_dim=sum_rep_dim,\n",
    "    num_layers=num_layers,\n",
    "    emb_unit=emb_unit,\n",
    "    output_unit=out_unit}\n",
    "rnn = nn.Sequencer(LSTM.lstm(lstm_config))\n",
    "model:add(rnn)\n",
    "if dropout then\n",
    "    lm:add(nn.Sequencer(nn.Dropout(0.5)))\n",
    "end\n"
   ]
  },
  {
   "cell_type": "code",
   "execution_count": 27,
   "metadata": {
    "collapsed": false
   },
   "outputs": [],
   "source": [
    "-- construct network\n",
    "seq_len = 10\n",
    "batch_size = 64\n",
    "init_states, _init_values = LSTM.init_states(batch_size, num_layers, sum_rep_dim, gpu)\n",
    "cells = LSTM.duplicate_cells(master_cell, seq_len)"
   ]
  },
  {
   "cell_type": "code",
   "execution_count": 28,
   "metadata": {
    "collapsed": false
   },
   "outputs": [],
   "source": [
    "-- generate data\n",
    "function display(inputs, outputs)\n",
    "    for b=1,inputs:size(2) do\n",
    "        print(string.format('Batch: %d', b))\n",
    "        local s = 0\n",
    "        for l = 1, inputs:size(1) do\n",
    "            s = s + inputs[l][b] - 1\n",
    "            out_text = 'Even'\n",
    "            if outputs[l][b] == 2 then out_text = 'Odd' end\n",
    "            print(string.format('input %d, sum %d, output %s', inputs[l][b] - 1, s, out_text))\n",
    "        end\n",
    "    end\n",
    "end\n",
    "\n",
    "function gendata(batch_size, len, num, cuda)\n",
    "    local D = {}\n",
    "    local Y = {}\n",
    "    for n=1,num do\n",
    "        D[n] = torch.Tensor(len, batch_size)\n",
    "        Y[n] = torch.Tensor(len, batch_size)\n",
    "        for b=1,batch_size do\n",
    "            for l=1,len do\n",
    "                D[n][l][b] = torch.uniform(1,11)\n",
    "            end\n",
    "        end\n",
    "        D[n]:floor()\n",
    "        for b=1,batch_size do\n",
    "            local s = 0\n",
    "            for l=1,len do\n",
    "                s = s + D[n][l][b] - 1\n",
    "                Y[n][l][b] = (s % 2) + 1\n",
    "            end\n",
    "        end\n",
    "        if cuda then\n",
    "            D[n] = D[n]:cuda()\n",
    "            Y[n] = Y[n]:cuda()\n",
    "        end\n",
    "    end\n",
    "    return D, Y\n",
    "end\n",
    "D, Y = gendata(batch_size, seq_len, 600, gpu)"
   ]
  },
  {
   "cell_type": "code",
   "execution_count": 29,
   "metadata": {
    "collapsed": false
   },
   "outputs": [],
   "source": [
    "for n = 1, seq_len do\n",
    "    cells[n]:training()\n",
    "end\n",
    "-- for optim\n",
    "local n=1\n",
    "function feval(x)\n",
    "    -- reset\n",
    "    if x ~= params then\n",
    "        params:copy(x)\n",
    "    end\n",
    "    grad_params:zero()\n",
    "    -- get data\n",
    "    local data = D[n]\n",
    "    local labels = Y[n]\n",
    "    \n",
    "    -- forward\n",
    "    local rstates = {[0]=init_states}\n",
    "    local outputs = {}\n",
    "    local loss = 0\n",
    "    for t=1,seq_len do\n",
    "        local cell_output = cells[t]:forward{data[t], unpack(rstates[t-1])}\n",
    "        if num_layers == 1 then \n",
    "            cell_output[1] = {cell_output[1]}\n",
    "            cell_output[2] = {cell_output[2]}\n",
    "        end\n",
    "        rstates[t] = {cell_output[1], cell_output[2]}\n",
    "        outputs[t] = cell_output[3]\n",
    "        -- this will average loss for each batch\n",
    "        loss = loss + criterion:forward(outputs[t], labels[t])\n",
    "    end\n",
    "    loss = loss / seq_len\n",
    "    -- backward\n",
    "    local zero_grads, _ = LSTM.init_states(batch_size, num_layers, sum_rep_dim, gpu)\n",
    "    local grads = {[seq_len]=zero_grads}\n",
    "    for t = seq_len,1,-1 do\n",
    "        local grad_output = criterion:backward(outputs[t], labels[t])\n",
    "        table.insert(grads[t], grad_output)\n",
    "        if num_layers == 1 then\n",
    "            grads[t][1] = grads[t][1][1]\n",
    "            grads[t][2] = grads[t][2][1]\n",
    "        end\n",
    "        local grad_cell = cells[t]:backward(\n",
    "            {data[t], unpack(rstates[t-1])},\n",
    "            grads[t])\n",
    "        grads[t-1] = {}\n",
    "        grads[t-1][1] = grad_cell[2]\n",
    "        grads[t-1][2] = grad_cell[3]\n",
    "    end\n",
    "    grad_params:div(seq_len)\n",
    "    -- update data to the next batch\n",
    "    n = n + 1\n",
    "    if n > #D then n = 1 end\n",
    "    -- in case, that data is continuous between batch\n",
    "    -- init_states = rstates[seq_len]\n",
    "    return loss, grad_params\n",
    "end\n",
    "sgd_params = {\n",
    "   learningRate = 1e-0,\n",
    "   -- learningRateDecay = 1e-4,\n",
    "   weightDecay = 0,\n",
    "   momentum = 0\n",
    "}\n"
   ]
  },
  {
   "cell_type": "code",
   "execution_count": 30,
   "metadata": {
    "collapsed": false
   },
   "outputs": [
    {
     "data": {
      "text/plain": [
       "[5.6528389453888s] 0.673963\t\n"
      ]
     },
     "execution_count": 30,
     "metadata": {},
     "output_type": "execute_result"
    },
    {
     "data": {
      "text/plain": [
       "[5.3023719787598s] 0.144206\t\n"
      ]
     },
     "execution_count": 30,
     "metadata": {},
     "output_type": "execute_result"
    },
    {
     "data": {
      "text/plain": [
       "[5.2973129749298s] 0.001075\t\n"
      ]
     },
     "execution_count": 30,
     "metadata": {},
     "output_type": "execute_result"
    }
   ],
   "source": [
    "local epochs = 2\n",
    "local nt = torch.getnumthreads()\n",
    "torch.setnumthreads(1)\n",
    "for j = 1, epochs do\n",
    "    local cur_loss = 0\n",
    "    local timer = torch.Timer() \n",
    "    for i = 1, 600 do\n",
    "        _, fs = optim.sgd(feval, params, sgd_params)\n",
    "        cur_loss = cur_loss + fs[1]\n",
    "    end\n",
    "    local ts = timer:time().real\n",
    "    cur_loss = cur_loss / 600\n",
    "    print(string.format('[%ss] %f', ts, cur_loss))\n",
    "    if cur_loss < 0.03 then break end\n",
    "end\n",
    "torch.setnumthreads(nt)"
   ]
  },
  {
   "cell_type": "code",
   "execution_count": 31,
   "metadata": {
    "collapsed": true
   },
   "outputs": [
    {
     "data": {
      "text/plain": [
       "Batch: 1\t\n",
       "input 8, sum 8, output Even\t\n",
       "input 7, sum 15, output Odd\t\n",
       "input 2, sum 17, output Odd\t\n",
       "input 7, sum 24, output Even\t\n",
       "input 2, sum 26, output Even\t\n",
       "input 2, sum 28, output Even\t\n",
       "input 0, sum 28, output Even\t\n",
       "input 2, sum 30, output Even\t\n",
       "input 2, sum 32, output Even\t\n",
       "input 1, sum 33, output Odd\t\n",
       "Batch: 2\t\n",
       "input 3, sum 3, output Odd\t\n",
       "input 0, sum 3, output Odd\t\n",
       "input 1, sum 4, output Even\t\n"
      ]
     },
     "execution_count": 31,
     "metadata": {},
     "output_type": "execute_result"
    },
    {
     "data": {
      "text/plain": [
       "input 0, sum 4, output Even\t\n",
       "input 8, sum 12, output Even\t\n",
       "input 9, sum 21, output Odd\t\n",
       "input 1, sum 22, output Even\t\n",
       "input 9, sum 31, output Odd\t\n",
       "input 4, sum 35, output Odd\t\n",
       "input 5, sum 40, output Even\t\n",
       "Batch: 3\t\n",
       "input 4, sum 4, output Even\t\n",
       "input 4, sum 8, output Even\t\n",
       "input 7, sum 15, output Odd\t\n",
       "input 2, sum 17, output Odd\t\n",
       "input 8, sum 25, output Odd\t\n",
       "input 7, sum 32, output Even\t\n",
       "input 9, sum 41, output Odd\t\n",
       "input 7, sum 48, output Even\t\n",
       "input 1, sum 49, output Odd\t\n",
       "input 8, sum 57, output Odd\t\n",
       "Batch: 4\t\n",
       "input 3, sum 3, output Odd\t\n",
       "input 8, sum 11, output Odd\t\n",
       "input 6, sum 17, output Odd\t\n"
      ]
     },
     "execution_count": 31,
     "metadata": {},
     "output_type": "execute_result"
    },
    {
     "data": {
      "text/plain": [
       "input 1, sum 18, output Even\t\n",
       "input 6, sum 24, output Even\t\n",
       "input 1, sum 25, output Odd\t\n",
       "input 1, sum 26, output Even\t\n",
       "input 8, sum 34, output Even\t\n",
       "input 9, sum 43, output Odd\t\n",
       "input 2, sum 45, output Odd\t\n",
       "Batch: 5\t\n",
       "input 2, sum 2, output Even\t\n",
       "input 3, sum 5, output Odd\t\n",
       "input 6, sum 11, output Odd\t\n",
       "input 3, sum 14, output Even\t\n",
       "input 4, sum 18, output Even\t\n",
       "input 1, sum 19, output Odd\t\n",
       "input 7, sum 26, output Even\t\n",
       "input 2, sum 28, output Even\t\n",
       "input 1, sum 29, output Odd\t\n",
       "input 9, sum 38, output Even\t\n",
       "Batch: 6\t\n",
       "input 8, sum 8, output Even\t\n",
       "input 5, sum 13, output Odd\t\n",
       "input 4, sum 17, output Odd\t\n",
       "input 0, sum 17, output Odd\t\n"
      ]
     },
     "execution_count": 31,
     "metadata": {},
     "output_type": "execute_result"
    },
    {
     "data": {
      "text/plain": [
       "input 5, sum 22, output Even\t\n",
       "input 1, sum 23, output Odd\t\n",
       "input 1, sum 24, output Even\t\n",
       "input 8, sum 32, output Even\t\n",
       "input 1, sum 33, output Odd\t\n",
       "input 0, sum 33, output Odd\t\n",
       "Batch: 7\t\n",
       "input 4, sum 4, output Even\t\n",
       "input 1, sum 5, output Odd\t\n",
       "input 4, sum 9, output Odd\t\n",
       "input 2, sum 11, output Odd\t\n",
       "input 7, sum 18, output Even\t\n",
       "input 0, sum 18, output Even\t\n",
       "input 9, sum 27, output Odd\t\n",
       "input 3, sum 30, output Even\t\n",
       "input 0, sum 30, output Even\t\n",
       "input 8, sum 38, output Even\t\n",
       "Batch: 8\t\n",
       "input 7, sum 7, output Odd\t\n",
       "input 8, sum 15, output Odd\t\n",
       "input 9, sum 24, output Even\t\n",
       "input 0, sum 24, output Even\t\n",
       "input 2, sum 26, output Even\t\n"
      ]
     },
     "execution_count": 31,
     "metadata": {},
     "output_type": "execute_result"
    },
    {
     "data": {
      "text/plain": [
       "input 6, sum 32, output Even\t\n",
       "input 4, sum 36, output Even\t\n",
       "input 5, sum 41, output Odd\t\n",
       "input 3, sum 44, output Even\t\n",
       "input 3, sum 47, output Odd\t\n",
       "Batch: 9\t\n",
       "input 4, sum 4, output Even\t\n",
       "input 3, sum 7, output Odd\t\n",
       "input 4, sum 11, output Odd\t\n",
       "input 7, sum 18, output Even\t\n",
       "input 9, sum 27, output Odd\t\n",
       "input 7, sum 34, output Even\t\n",
       "input 1, sum 35, output Odd\t\n",
       "input 3, sum 38, output Even\t\n",
       "input 2, sum 40, output Even\t\n",
       "input 5, sum 45, output Odd\t\n",
       "Batch: 10\t\n",
       "input 2, sum 2, output Even\t\n",
       "input 3, sum 5, output Odd\t\n",
       "input 5, sum 10, output Even\t\n",
       "input 8, sum 18, output Even\t\n",
       "input 4, sum 22, output Even\t\n"
      ]
     },
     "execution_count": 31,
     "metadata": {},
     "output_type": "execute_result"
    },
    {
     "data": {
      "text/plain": [
       "input 2, sum 24, output Even\t\n",
       "input 7, sum 31, output Odd\t\n",
       "input 7, sum 38, output Even\t\n",
       "input 8, sum 46, output Even\t\n",
       "input 0, sum 46, output Even\t\n",
       "Batch: 11\t\n",
       "input 7, sum 7, output Odd\t\n",
       "input 6, sum 13, output Odd\t\n",
       "input 0, sum 13, output Odd\t\n",
       "input 1, sum 14, output Even\t\n",
       "input 4, sum 18, output Even\t\n",
       "input 5, sum 23, output Odd\t\n",
       "input 7, sum 30, output Even\t\n",
       "input 6, sum 36, output Even\t\n",
       "input 9, sum 45, output Odd\t\n",
       "input 5, sum 50, output Even\t\n",
       "Batch: 12\t\n",
       "input 5, sum 5, output Odd\t\n",
       "input 5, sum 10, output Even\t\n",
       "input 6, sum 16, output Even\t\n",
       "input 0, sum 16, output Even\t\n",
       "input 7, sum 23, output Odd\t\n",
       "input 6, sum 29, output Odd\t\n"
      ]
     },
     "execution_count": 31,
     "metadata": {},
     "output_type": "execute_result"
    },
    {
     "data": {
      "text/plain": [
       "input 2, sum 31, output Odd\t\n",
       "input 9, sum 40, output Even\t\n",
       "input 9, sum 49, output Odd\t\n",
       "input 7, sum 56, output Even\t\n",
       "Batch: 13\t\n",
       "input 6, sum 6, output Even\t\n",
       "input 1, sum 7, output Odd\t\n",
       "input 9, sum 16, output Even\t\n",
       "input 9, sum 25, output Odd\t\n",
       "input 8, sum 33, output Odd\t\n",
       "input 0, sum 33, output Odd\t\n",
       "input 0, sum 33, output Odd\t\n",
       "input 1, sum 34, output Even\t\n",
       "input 3, sum 37, output Odd\t\n",
       "input 5, sum 42, output Even\t\n",
       "Batch: 14\t\n",
       "input 6, sum 6, output Even\t\n",
       "input 9, sum 15, output Odd\t\n",
       "input 9, sum 24, output Even\t\n",
       "input 8, sum 32, output Even\t\n",
       "input 8, sum 40, output Even\t\n",
       "input 3, sum 43, output Odd\t\n",
       "input 2, sum 45, output Odd\t\n"
      ]
     },
     "execution_count": 31,
     "metadata": {},
     "output_type": "execute_result"
    },
    {
     "data": {
      "text/plain": [
       "input 2, sum 47, output Odd\t\n",
       "input 3, sum 50, output Even\t\n",
       "input 0, sum 50, output Even\t\n",
       "Batch: 15\t\n",
       "input 8, sum 8, output Even\t\n",
       "input 5, sum 13, output Odd\t\n",
       "input 4, sum 17, output Odd\t\n",
       "input 5, sum 22, output Even\t\n",
       "input 6, sum 28, output Even\t\n",
       "input 2, sum 30, output Even\t\n",
       "input 7, sum 37, output Odd\t\n",
       "input 2, sum 39, output Odd\t\n",
       "input 1, sum 40, output Even\t\n",
       "input 1, sum 41, output Odd\t\n",
       "Batch: 16\t\n",
       "input 7, sum 7, output Odd\t\n",
       "input 1, sum 8, output Even\t\n",
       "input 6, sum 14, output Even\t\n",
       "input 9, sum 23, output Odd\t\n",
       "input 0, sum 23, output Odd\t\n",
       "input 7, sum 30, output Even\t\n"
      ]
     },
     "execution_count": 31,
     "metadata": {},
     "output_type": "execute_result"
    },
    {
     "data": {
      "text/plain": [
       "input 5, sum 35, output Odd\t\n",
       "input 4, sum 39, output Odd\t\n",
       "input 5, sum 44, output Even\t\n",
       "input 5, sum 49, output Odd\t\n",
       "Batch: 17\t\n",
       "input 3, sum 3, output Odd\t\n",
       "input 7, sum 10, output Even\t\n",
       "input 3, sum 13, output Odd\t\n",
       "input 7, sum 20, output Even\t\n",
       "input 0, sum 20, output Even\t\n",
       "input 9, sum 29, output Odd\t\n",
       "input 5, sum 34, output Even\t\n",
       "input 5, sum 39, output Odd\t\n",
       "input 3, sum 42, output Even\t\n",
       "input 5, sum 47, output Odd\t\n",
       "Batch: 18\t\n",
       "input 3, sum 3, output Odd\t\n",
       "input 3, sum 6, output Even\t\n",
       "input 5, sum 11, output Odd\t\n",
       "input 8, sum 19, output Odd\t\n",
       "input 9, sum 28, output Even\t\n",
       "input 6, sum 34, output Even\t\n"
      ]
     },
     "execution_count": 31,
     "metadata": {},
     "output_type": "execute_result"
    },
    {
     "data": {
      "text/plain": [
       "input 2, sum 36, output Even\t\n",
       "input 4, sum 40, output Even\t\n",
       "input 3, sum 43, output Odd\t\n",
       "input 5, sum 48, output Even\t\n",
       "Batch: 19\t\n",
       "input 3, sum 3, output Odd\t\n",
       "input 6, sum 9, output Odd\t\n",
       "input 4, sum 13, output Odd\t\n",
       "input 3, sum 16, output Even\t\n",
       "input 9, sum 25, output Odd\t\n",
       "input 5, sum 30, output Even\t\n",
       "input 5, sum 35, output Odd\t\n",
       "input 4, sum 39, output Odd\t\n",
       "input 0, sum 39, output Odd\t\n",
       "input 4, sum 43, output Odd\t\n",
       "Batch: 20\t\n",
       "input 0, sum 0, output Even\t\n",
       "input 6, sum 6, output Even\t\n",
       "input 7, sum 13, output Odd\t\n",
       "input 0, sum 13, output Odd\t\n"
      ]
     },
     "execution_count": 31,
     "metadata": {},
     "output_type": "execute_result"
    },
    {
     "data": {
      "text/plain": [
       "input 4, sum 17, output Odd\t\n",
       "input 9, sum 26, output Even\t\n",
       "input 9, sum 35, output Odd\t\n",
       "input 5, sum 40, output Even\t\n",
       "input 1, sum 41, output Odd\t\n",
       "input 4, sum 45, output Odd\t\n",
       "Batch: 21\t\n",
       "input 6, sum 6, output Even\t\n",
       "input 3, sum 9, output Odd\t\n",
       "input 2, sum 11, output Odd\t\n",
       "input 2, sum 13, output Odd\t\n",
       "input 1, sum 14, output Even\t\n",
       "input 4, sum 18, output Even\t\n",
       "input 8, sum 26, output Even\t\n",
       "input 5, sum 31, output Odd\t\n",
       "input 4, sum 35, output Odd\t\n",
       "input 8, sum 43, output Odd\t\n",
       "Batch: 22\t\n",
       "input 8, sum 8, output Even\t\n",
       "input 4, sum 12, output Even\t\n",
       "input 9, sum 21, output Odd\t\n"
      ]
     },
     "execution_count": 31,
     "metadata": {},
     "output_type": "execute_result"
    },
    {
     "data": {
      "text/plain": [
       "input 5, sum 26, output Even\t\n",
       "input 1, sum 27, output Odd\t\n",
       "input 2, sum 29, output Odd\t\n",
       "input 2, sum 31, output Odd\t\n",
       "input 3, sum 34, output Even\t\n",
       "input 4, sum 38, output Even\t\n",
       "input 9, sum 47, output Odd\t\n",
       "Batch: 23\t\n",
       "input 5, sum 5, output Odd\t\n",
       "input 8, sum 13, output Odd\t\n",
       "input 8, sum 21, output Odd\t\n",
       "input 4, sum 25, output Odd\t\n",
       "input 9, sum 34, output Even\t\n",
       "input 4, sum 38, output Even\t\n",
       "input 8, sum 46, output Even\t\n",
       "input 9, sum 55, output Odd\t\n",
       "input 4, sum 59, output Odd\t\n",
       "input 0, sum 59, output Odd\t\n",
       "Batch: 24\t\n",
       "input 9, sum 9, output Odd\t\n",
       "input 1, sum 10, output Even\t\n"
      ]
     },
     "execution_count": 31,
     "metadata": {},
     "output_type": "execute_result"
    },
    {
     "data": {
      "text/plain": [
       "input 6, sum 16, output Even\t\n",
       "input 1, sum 17, output Odd\t\n",
       "input 8, sum 25, output Odd\t\n",
       "input 4, sum 29, output Odd\t\n",
       "input 5, sum 34, output Even\t\n",
       "input 7, sum 41, output Odd\t\n",
       "input 3, sum 44, output Even\t\n",
       "input 9, sum 53, output Odd\t\n",
       "Batch: 25\t\n",
       "input 1, sum 1, output Odd\t\n",
       "input 5, sum 6, output Even\t\n",
       "input 4, sum 10, output Even\t\n",
       "input 8, sum 18, output Even\t\n",
       "input 1, sum 19, output Odd\t\n",
       "input 0, sum 19, output Odd\t\n",
       "input 6, sum 25, output Odd\t\n",
       "input 7, sum 32, output Even\t\n",
       "input 5, sum 37, output Odd\t\n",
       "input 1, sum 38, output Even\t\n",
       "Batch: 26\t\n",
       "input 7, sum 7, output Odd\t\n",
       "input 1, sum 8, output Even\t\n",
       "input 9, sum 17, output Odd\t\n",
       "input 4, sum 21, output Odd\t\n"
      ]
     },
     "execution_count": 31,
     "metadata": {},
     "output_type": "execute_result"
    },
    {
     "data": {
      "text/plain": [
       "input 2, sum 23, output Odd\t\n",
       "input 4, sum 27, output Odd\t\n",
       "input 3, sum 30, output Even\t\n",
       "input 7, sum 37, output Odd\t\n",
       "input 6, sum 43, output Odd\t\n",
       "input 7, sum 50, output Even\t\n",
       "Batch: 27\t\n",
       "input 1, sum 1, output Odd\t\n",
       "input 2, sum 3, output Odd\t\n",
       "input 6, sum 9, output Odd\t\n",
       "input 5, sum 14, output Even\t\n",
       "input 6, sum 20, output Even\t\n",
       "input 9, sum 29, output Odd\t\n",
       "input 8, sum 37, output Odd\t\n",
       "input 4, sum 41, output Odd\t\n",
       "input 8, sum 49, output Odd\t\n",
       "input 4, sum 53, output Odd\t\n",
       "Batch: 28\t\n",
       "input 7, sum 7, output Odd\t\n",
       "input 2, sum 9, output Odd\t\n",
       "input 7, sum 16, output Even\t\n",
       "input 2, sum 18, output Even\t\n",
       "input 2, sum 20, output Even\t\n",
       "input 8, sum 28, output Even\t\n",
       "input 1, sum 29, output Odd\t\n",
       "input 4, sum 33, output Odd\t\n",
       "input 0, sum 33, output Odd\t\n",
       "input 1, sum 34, output Even\t\n",
       "Batch: 29\t\n"
      ]
     },
     "execution_count": 31,
     "metadata": {},
     "output_type": "execute_result"
    },
    {
     "data": {
      "text/plain": [
       "input 9, sum 9, output Odd\t\n",
       "input 0, sum 9, output Odd\t\n",
       "input 2, sum 11, output Odd\t\n",
       "input 7, sum 18, output Even\t\n",
       "input 5, sum 23, output Odd\t\n",
       "input 1, sum 24, output Even\t\n",
       "input 0, sum 24, output Even\t\n",
       "input 7, sum 31, output Odd\t\n",
       "input 7, sum 38, output Even\t\n",
       "input 9, sum 47, output Odd\t\n",
       "Batch: 30\t\n",
       "input 3, sum 3, output Odd\t\n",
       "input 1, sum 4, output Even\t\n",
       "input 5, sum 9, output Odd\t\n",
       "input 5, sum 14, output Even\t\n",
       "input 3, sum 17, output Odd\t\n",
       "input 9, sum 26, output Even\t\n",
       "input 4, sum 30, output Even\t\n",
       "input 0, sum 30, output Even\t\n",
       "input 5, sum 35, output Odd\t\n",
       "input 3, sum 38, output Even\t\n",
       "Batch: 31\t\n",
       "input 2, sum 2, output Even\t\n",
       "input 6, sum 8, output Even\t\n",
       "input 9, sum 17, output Odd\t\n",
       "input 2, sum 19, output Odd\t\n",
       "input 7, sum 26, output Even\t\n",
       "input 8, sum 34, output Even\t\n",
       "input 2, sum 36, output Even\t\n",
       "input 3, sum 39, output Odd\t\n",
       "input 1, sum 40, output Even\t\n",
       "input 6, sum 46, output Even\t\n",
       "Batch: 32\t\n",
       "input 4, sum 4, output Even\t\n",
       "input 7, sum 11, output Odd\t\n",
       "input 9, sum 20, output Even\t\n",
       "input 7, sum 27, output Odd\t\n",
       "input 5, sum 32, output Even\t\n",
       "input 8, sum 40, output Even\t\n",
       "input 0, sum 40, output Even\t"
      ]
     },
     "execution_count": 31,
     "metadata": {},
     "output_type": "execute_result"
    },
    {
     "data": {
      "text/plain": [
       "\n",
       "input 8, sum 48, output Even\t\n",
       "input 5, sum 53, output Odd\t\n",
       "input 6, sum 59, output Odd\t\n",
       "Batch: 33\t\n",
       "input 4, sum 4, output Even\t\n",
       "input 3, sum 7, output Odd\t\n",
       "input 6, sum 13, output Odd\t\n",
       "input 5, sum 18, output Even\t\n",
       "input 9, sum 27, output Odd\t\n",
       "input 8, sum 35, output Odd\t\n",
       "input 4, sum 39, output Odd\t\n",
       "input 7, sum 46, output Even\t\n",
       "input 1, sum 47, output Odd\t\n",
       "input 7, sum 54, output Even\t\n",
       "Batch: 34\t\n",
       "input 5, sum 5, output Odd\t\n",
       "input 4, sum 9, output Odd\t\n",
       "input 1, sum 10, output Even\t\n",
       "input 7, sum 17, output Odd\t\n",
       "input 9, sum 26, output Even\t\n",
       "input 6, sum 32, output Even\t\n",
       "input 5, sum 37, output Odd\t\n",
       "input 8, sum 45, output Odd\t\n",
       "input 2, sum 47, output Odd\t\n",
       "input 6, sum 53, output Odd\t\n",
       "Batch: 35\t\n",
       "input 2, sum 2, output Even\t\n",
       "input 8, sum 10, output Even\t\n",
       "input 9, sum 19, output Odd\t\n"
      ]
     },
     "execution_count": 31,
     "metadata": {},
     "output_type": "execute_result"
    },
    {
     "data": {
      "text/plain": [
       "input 8, sum 27, output Odd\t\n",
       "input 8, sum 35, output Odd\t\n",
       "input 1, sum 36, output Even\t\n",
       "input 8, sum 44, output Even\t\n",
       "input 0, sum 44, output Even\t\n",
       "input 9, sum 53, output Odd\t\n",
       "input 7, sum 60, output Even\t\n",
       "Batch: 36\t\n",
       "input 6, sum 6, output Even\t\n",
       "input 5, sum 11, output Odd\t\n",
       "input 8, sum 19, output Odd\t\n",
       "input 7, sum 26, output Even\t\n",
       "input 7, sum 33, output Odd\t\n",
       "input 8, sum 41, output Odd\t\n",
       "input 3, sum 44, output Even\t\n",
       "input 9, sum 53, output Odd\t\n",
       "input 7, sum 60, output Even\t\n",
       "input 6, sum 66, output Even\t\n",
       "Batch: 37\t\n",
       "input 3, sum 3, output Odd\t\n",
       "input 4, sum 7, output Odd\t\n",
       "input 7, sum 14, output Even\t\n",
       "input 0, sum 14, output Even\t\n"
      ]
     },
     "execution_count": 31,
     "metadata": {},
     "output_type": "execute_result"
    },
    {
     "data": {
      "text/plain": [
       "input 3, sum 17, output Odd\t\n",
       "input 2, sum 19, output Odd\t\n",
       "input 8, sum 27, output Odd\t\n",
       "input 8, sum 35, output Odd\t\n",
       "input 6, sum 41, output Odd\t\n",
       "input 2, sum 43, output Odd\t\n",
       "Batch: 38\t\n",
       "input 4, sum 4, output Even\t\n",
       "input 6, sum 10, output Even\t\n",
       "input 2, sum 12, output Even\t\n",
       "input 4, sum 16, output Even\t\n",
       "input 8, sum 24, output Even\t\n",
       "input 4, sum 28, output Even\t\n",
       "input 8, sum 36, output Even\t\n",
       "input 2, sum 38, output Even\t\n",
       "input 0, sum 38, output Even\t\n",
       "input 3, sum 41, output Odd\t\n",
       "Batch: 39\t\n",
       "input 5, sum 5, output Odd\t\n",
       "input 5, sum 10, output Even\t\n",
       "input 4, sum 14, output Even\t\n",
       "input 9, sum 23, output Odd\t\n",
       "input 6, sum 29, output Odd\t\n",
       "input 1, sum 30, output Even\t\n"
      ]
     },
     "execution_count": 31,
     "metadata": {},
     "output_type": "execute_result"
    },
    {
     "data": {
      "text/plain": [
       "input 5, sum 35, output Odd\t\n",
       "input 3, sum 38, output Even\t\n",
       "input 1, sum 39, output Odd\t\n",
       "input 6, sum 45, output Odd\t\n",
       "Batch: 40\t\n",
       "input 9, sum 9, output Odd\t\n",
       "input 6, sum 15, output Odd\t\n",
       "input 1, sum 16, output Even\t\n",
       "input 7, sum 23, output Odd\t\n",
       "input 0, sum 23, output Odd\t\n",
       "input 2, sum 25, output Odd\t\n",
       "input 2, sum 27, output Odd\t\n",
       "input 9, sum 36, output Even\t\n",
       "input 7, sum 43, output Odd\t\n",
       "input 3, sum 46, output Even\t\n",
       "Batch: 41\t\n",
       "input 2, sum 2, output Even\t\n",
       "input 9, sum 11, output Odd\t\n",
       "input 2, sum 13, output Odd\t\n",
       "input 9, sum 22, output Even\t\n",
       "input 4, sum 26, output Even\t\n",
       "input 4, sum 30, output Even\t\n",
       "input 5, sum 35, output Odd\t\n",
       "input 9, sum 44, output Even\t\n"
      ]
     },
     "execution_count": 31,
     "metadata": {},
     "output_type": "execute_result"
    },
    {
     "data": {
      "text/plain": [
       "input 7, sum 51, output Odd\t\n",
       "input 1, sum 52, output Even\t\n",
       "Batch: 42\t\n",
       "input 4, sum 4, output Even\t\n",
       "input 0, sum 4, output Even\t\n",
       "input 7, sum 11, output Odd\t\n",
       "input 5, sum 16, output Even\t\n",
       "input 3, sum 19, output Odd\t\n",
       "input 8, sum 27, output Odd\t\n",
       "input 6, sum 33, output Odd\t\n",
       "input 9, sum 42, output Even\t\n",
       "input 5, sum 47, output Odd\t\n",
       "input 0, sum 47, output Odd\t\n",
       "Batch: 43\t\n",
       "input 8, sum 8, output Even\t\n",
       "input 4, sum 12, output Even\t\n",
       "input 8, sum 20, output Even\t\n",
       "input 9, sum 29, output Odd\t\n",
       "input 1, sum 30, output Even\t\n",
       "input 2, sum 32, output Even\t\n",
       "input 7, sum 39, output Odd\t\n",
       "input 4, sum 43, output Odd\t\n",
       "input 9, sum 52, output Even\t\n",
       "input 3, sum 55, output Odd\t\n"
      ]
     },
     "execution_count": 31,
     "metadata": {},
     "output_type": "execute_result"
    },
    {
     "data": {
      "text/plain": [
       "Batch: 44\t\n",
       "input 3, sum 3, output Odd\t\n",
       "input 7, sum 10, output Even\t\n",
       "input 1, sum 11, output Odd\t\n",
       "input 5, sum 16, output Even\t\n",
       "input 5, sum 21, output Odd\t\n",
       "input 1, sum 22, output Even\t\n",
       "input 8, sum 30, output Even\t\n",
       "input 1, sum 31, output Odd\t\n",
       "input 3, sum 34, output Even\t\n",
       "input 3, sum 37, output Odd\t\n",
       "Batch: 45\t\n",
       "input 3, sum 3, output Odd\t\n",
       "input 2, sum 5, output Odd\t\n",
       "input 3, sum 8, output Even\t\n",
       "input 9, sum 17, output Odd\t\n",
       "input 0, sum 17, output Odd\t\n",
       "input 4, sum 21, output Odd\t\n",
       "input 6, sum 27, output Odd\t\n",
       "input 0, sum 27, output Odd\t\n",
       "input 5, sum 32, output Even\t\n",
       "input 3, sum 35, output Odd\t\n",
       "Batch: 46\t\n"
      ]
     },
     "execution_count": 31,
     "metadata": {},
     "output_type": "execute_result"
    },
    {
     "data": {
      "text/plain": [
       "input 7, sum 7, output Odd\t\n",
       "input 3, sum 10, output Even\t\n",
       "input 5, sum 15, output Odd\t\n",
       "input 6, sum 21, output Odd\t\n",
       "input 5, sum 26, output Even\t\n",
       "input 5, sum 31, output Odd\t\n",
       "input 8, sum 39, output Odd\t\n",
       "input 6, sum 45, output Odd\t\n",
       "input 0, sum 45, output Odd\t\n",
       "input 4, sum 49, output Odd\t\n",
       "Batch: 47\t\n",
       "input 6, sum 6, output Even\t\n",
       "input 2, sum 8, output Even\t\n",
       "input 7, sum 15, output Odd\t\n",
       "input 2, sum 17, output Odd\t\n",
       "input 6, sum 23, output Odd\t\n",
       "input 3, sum 26, output Even\t\n",
       "input 2, sum 28, output Even\t\n",
       "input 6, sum 34, output Even\t\n",
       "input 7, sum 41, output Odd\t\n",
       "input 3, sum 44, output Even\t\n",
       "Batch: 48\t\n",
       "input 1, sum 1, output Odd\t\n",
       "input 3, sum 4, output Even\t\n"
      ]
     },
     "execution_count": 31,
     "metadata": {},
     "output_type": "execute_result"
    },
    {
     "data": {
      "text/plain": [
       "input 6, sum 10, output Even\t\n",
       "input 8, sum 18, output Even\t\n",
       "input 1, sum 19, output Odd\t\n",
       "input 8, sum 27, output Odd\t\n",
       "input 0, sum 27, output Odd\t\n",
       "input 1, sum 28, output Even\t\n",
       "input 1, sum 29, output Odd\t\n",
       "input 5, sum 34, output Even\t\n",
       "Batch: 49\t\n",
       "input 0, sum 0, output Even\t\n",
       "input 2, sum 2, output Even\t\n",
       "input 8, sum 10, output Even\t\n",
       "input 2, sum 12, output Even\t\n",
       "input 5, sum 17, output Odd\t\n",
       "input 9, sum 26, output Even\t\n",
       "input 9, sum 35, output Odd\t\n",
       "input 1, sum 36, output Even\t\n",
       "input 6, sum 42, output Even\t\n",
       "input 1, sum 43, output Odd\t\n",
       "Batch: 50\t\n",
       "input 9, sum 9, output Odd\t\n",
       "input 3, sum 12, output Even\t\n",
       "input 8, sum 20, output Even\t\n",
       "input 9, sum 29, output Odd\t\n",
       "input 5, sum 34, output Even\t"
      ]
     },
     "execution_count": 31,
     "metadata": {},
     "output_type": "execute_result"
    },
    {
     "data": {
      "text/plain": [
       "\n",
       "input 9, sum 43, output Odd\t\n",
       "input 5, sum 48, output Even\t\n",
       "input 9, sum 57, output Odd\t\n",
       "input 3, sum 60, output Even\t\n",
       "input 3, sum 63, output Odd\t\n",
       "Batch: 51\t\n",
       "input 8, sum 8, output Even\t\n",
       "input 6, sum 14, output Even\t\n",
       "input 0, sum 14, output Even\t\n",
       "input 8, sum 22, output Even\t\n",
       "input 4, sum 26, output Even\t\n",
       "input 7, sum 33, output Odd\t\n",
       "input 5, sum 38, output Even\t\n",
       "input 0, sum 38, output Even\t\n",
       "input 9, sum 47, output Odd\t\n",
       "input 2, sum 49, output Odd\t\n",
       "Batch: 52\t\n",
       "input 6, sum 6, output Even\t\n",
       "input 0, sum 6, output Even\t\n",
       "input 6, sum 12, output Even\t\n",
       "input 4, sum 16, output Even\t\n",
       "input 6, sum 22, output Even\t\n",
       "input 3, sum 25, output Odd\t\n"
      ]
     },
     "execution_count": 31,
     "metadata": {},
     "output_type": "execute_result"
    },
    {
     "data": {
      "text/plain": [
       "input 4, sum 29, output Odd\t\n",
       "input 7, sum 36, output Even\t\n",
       "input 3, sum 39, output Odd\t\n",
       "input 8, sum 47, output Odd\t\n",
       "Batch: 53\t\n",
       "input 9, sum 9, output Odd\t\n",
       "input 0, sum 9, output Odd\t\n",
       "input 1, sum 10, output Even\t\n",
       "input 8, sum 18, output Even\t\n",
       "input 7, sum 25, output Odd\t\n",
       "input 3, sum 28, output Even\t\n",
       "input 8, sum 36, output Even\t\n",
       "input 1, sum 37, output Odd\t\n",
       "input 2, sum 39, output Odd\t\n",
       "input 1, sum 40, output Even\t\n",
       "Batch: 54\t\n",
       "input 9, sum 9, output Odd\t\n",
       "input 8, sum 17, output Odd\t\n",
       "input 6, sum 23, output Odd\t\n",
       "input 5, sum 28, output Even\t\n",
       "input 0, sum 28, output Even\t\n",
       "input 4, sum 32, output Even\t\n",
       "input 1, sum 33, output Odd\t\n",
       "input 7, sum 40, output Even\t\n"
      ]
     },
     "execution_count": 31,
     "metadata": {},
     "output_type": "execute_result"
    },
    {
     "data": {
      "text/plain": [
       "input 9, sum 49, output Odd\t\n",
       "input 1, sum 50, output Even\t\n",
       "Batch: 55\t\n",
       "input 4, sum 4, output Even\t\n",
       "input 5, sum 9, output Odd\t\n",
       "input 0, sum 9, output Odd\t\n",
       "input 2, sum 11, output Odd\t\n",
       "input 9, sum 20, output Even\t\n",
       "input 2, sum 22, output Even\t\n",
       "input 9, sum 31, output Odd\t\n",
       "input 2, sum 33, output Odd\t\n",
       "input 7, sum 40, output Even\t\n",
       "input 5, sum 45, output Odd\t\n",
       "Batch: 56\t\n",
       "input 1, sum 1, output Odd\t\n",
       "input 2, sum 3, output Odd\t\n",
       "input 3, sum 6, output Even\t\n",
       "input 6, sum 12, output Even\t\n",
       "input 9, sum 21, output Odd\t\n",
       "input 4, sum 25, output Odd\t\n",
       "input 9, sum 34, output Even\t\n",
       "input 2, sum 36, output Even\t\n",
       "input 9, sum 45, output Odd\t\n",
       "input 8, sum 53, output Odd\t\n"
      ]
     },
     "execution_count": 31,
     "metadata": {},
     "output_type": "execute_result"
    },
    {
     "data": {
      "text/plain": [
       "Batch: 57\t\n",
       "input 8, sum 8, output Even\t\n",
       "input 2, sum 10, output Even\t\n",
       "input 6, sum 16, output Even\t\n",
       "input 2, sum 18, output Even\t\n",
       "input 3, sum 21, output Odd\t\n",
       "input 3, sum 24, output Even\t\n",
       "input 2, sum 26, output Even\t\n",
       "input 2, sum 28, output Even\t\n",
       "input 0, sum 28, output Even\t\n",
       "input 9, sum 37, output Odd\t\n",
       "Batch: 58\t\n",
       "input 1, sum 1, output Odd\t\n",
       "input 7, sum 8, output Even\t\n",
       "input 0, sum 8, output Even\t\n",
       "input 6, sum 14, output Even\t\n",
       "input 1, sum 15, output Odd\t\n",
       "input 2, sum 17, output Odd\t\n",
       "input 9, sum 26, output Even\t\n",
       "input 2, sum 28, output Even\t\n",
       "input 2, sum 30, output Even\t\n",
       "input 4, sum 34, output Even\t\n",
       "Batch: 59\t\n"
      ]
     },
     "execution_count": 31,
     "metadata": {},
     "output_type": "execute_result"
    },
    {
     "data": {
      "text/plain": [
       "input 5, sum 5, output Odd\t\n",
       "input 2, sum 7, output Odd\t\n",
       "input 9, sum 16, output Even\t\n",
       "input 7, sum 23, output Odd\t\n",
       "input 7, sum 30, output Even\t\n",
       "input 8, sum 38, output Even\t\n",
       "input 3, sum 41, output Odd\t\n",
       "input 1, sum 42, output Even\t\n",
       "input 4, sum 46, output Even\t\n",
       "input 0, sum 46, output Even\t\n",
       "Batch: 60\t\n",
       "input 2, sum 2, output Even\t\n",
       "input 4, sum 6, output Even\t\n",
       "input 7, sum 13, output Odd\t\n",
       "input 4, sum 17, output Odd\t\n",
       "input 5, sum 22, output Even\t\n",
       "input 3, sum 25, output Odd\t\n",
       "input 6, sum 31, output Odd\t\n",
       "input 8, sum 39, output Odd\t\n",
       "input 6, sum 45, output Odd\t\n",
       "input 6, sum 51, output Odd\t\n",
       "Batch: 61\t\n",
       "input 9, sum 9, output Odd\t\n",
       "input 6, sum 15, output Odd\t\n"
      ]
     },
     "execution_count": 31,
     "metadata": {},
     "output_type": "execute_result"
    },
    {
     "data": {
      "text/plain": [
       "input 7, sum 22, output Even\t\n",
       "input 7, sum 29, output Odd\t\n",
       "input 3, sum 32, output Even\t\n",
       "input 7, sum 39, output Odd\t\n",
       "input 6, sum 45, output Odd\t\n",
       "input 1, sum 46, output Even\t\n",
       "input 2, sum 48, output Even\t\n",
       "input 6, sum 54, output Even\t\n",
       "Batch: 62\t\n",
       "input 1, sum 1, output Odd\t\n",
       "input 6, sum 7, output Odd\t\n",
       "input 2, sum 9, output Odd\t\n",
       "input 9, sum 18, output Even\t\n",
       "input 3, sum 21, output Odd\t\n",
       "input 2, sum 23, output Odd\t\n",
       "input 8, sum 31, output Odd\t\n",
       "input 9, sum 40, output Even\t\n",
       "input 6, sum 46, output Even\t\n",
       "input 7, sum 53, output Odd\t\n",
       "Batch: 63\t\n",
       "input 4, sum 4, output Even\t\n",
       "input 9, sum 13, output Odd\t\n",
       "input 4, sum 17, output Odd\t\n",
       "input 4, sum 21, output Odd\t\n"
      ]
     },
     "execution_count": 31,
     "metadata": {},
     "output_type": "execute_result"
    },
    {
     "data": {
      "text/plain": [
       "input 4, sum 25, output Odd\t\n",
       "input 9, sum 34, output Even\t\n",
       "input 8, sum 42, output Even\t\n",
       "input 4, sum 46, output Even\t\n",
       "input 5, sum 51, output Odd\t\n",
       "input 1, sum 52, output Even\t\n",
       "Batch: 64\t\n",
       "input 1, sum 1, output Odd\t\n",
       "input 5, sum 6, output Even\t\n",
       "input 0, sum 6, output Even\t\n",
       "input 1, sum 7, output Odd\t\n",
       "input 6, sum 13, output Odd\t\n",
       "input 8, sum 21, output Odd\t\n",
       "input 1, sum 22, output Even\t\n",
       "input 5, sum 27, output Odd\t\n",
       "input 5, sum 32, output Even\t\n",
       "input 3, sum 35, output Odd\t\n"
      ]
     },
     "execution_count": 31,
     "metadata": {},
     "output_type": "execute_result"
    }
   ],
   "source": [
    "local rstates = {[0]=init_states}\n",
    "local outputs = {}\n",
    "local loss = 0\n",
    "local data = D[1]\n",
    "local labels = Y[1]\n",
    "for t=1,seq_len do\n",
    "    local cell_output = cells[t]:forward{data[t], unpack(rstates[t-1])}\n",
    "    if num_layers == 1 then \n",
    "        cell_output[1] = {cell_output[1]}\n",
    "        cell_output[2] = {cell_output[2]}\n",
    "    end\n",
    "    rstates[t] = {cell_output[1], cell_output[2]}\n",
    "    outputs[t] = cell_output[3]\n",
    "    -- this will average loss for each batch\n",
    "    loss = loss + criterion:forward(outputs[t], labels[t])\n",
    "end\n",
    "local predicts = {}\n",
    "for t = 1, seq_len do\n",
    "    predicts[t] = {}\n",
    "    for b = 1, batch_size do\n",
    "        local _,d = torch.max(outputs[t][b],1)\n",
    "        predicts[t][b] = d[1]\n",
    "    end\n",
    "end\n",
    "display(data, predicts)"
   ]
  },
  {
   "cell_type": "code",
   "execution_count": 7,
   "metadata": {
    "collapsed": false
   },
   "outputs": [
    {
     "data": {
      "text/plain": [
       "4123680768\t4294770688\t\n"
      ]
     },
     "execution_count": 7,
     "metadata": {},
     "output_type": "execute_result"
    }
   ],
   "source": [
    "cutorch.getMemoryUsage(1)"
   ]
  },
  {
   "cell_type": "code",
   "execution_count": null,
   "metadata": {
    "collapsed": true
   },
   "outputs": [],
   "source": []
  }
 ],
 "metadata": {
  "kernelspec": {
   "display_name": "iTorch",
   "language": "lua",
   "name": "itorch"
  },
  "language_info": {
   "name": "lua",
   "version": "20100"
  }
 },
 "nbformat": 4,
 "nbformat_minor": 0
}
