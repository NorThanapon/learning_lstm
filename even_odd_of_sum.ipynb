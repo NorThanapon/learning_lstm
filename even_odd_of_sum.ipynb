{
 "cells": [
  {
   "cell_type": "code",
   "execution_count": 1,
   "metadata": {
    "collapsed": false
   },
   "outputs": [],
   "source": [
    "require 'nn'\n",
    "require 'nngraph'\n",
    "Plot = require \"itorch.Plot\"\n",
    "lstm = {}\n",
    "include('utils.lua')\n",
    "include('LSTM.lua')"
   ]
  },
  {
   "cell_type": "code",
   "execution_count": 61,
   "metadata": {
    "collapsed": false
   },
   "outputs": [],
   "source": [
    "-- model hyper-params\n",
    "emb_dim = 2\n",
    "sum_rep_dim = 20\n",
    "class_hidden = 40\n",
    "class_types = 2\n",
    "seq_len = 5\n",
    "num_layers = 2\n",
    "-- create a model (in forward order)\n",
    "emb = nn.LookupTable(10, emb_dim) -- embeddings layer\n",
    "lstm_net = lstm.LSTM({num_layers=num_layers, input_dim=emb_dim, hidden_dim=sum_rep_dim}) -- LSTM layer\n",
    "classifier = nn.Sequential()  -- classification layer\n",
    "classifier:add(nn.Linear(sum_rep_dim, class_hidden)) -- classification: linear\n",
    "classifier:add(nn.ReLU())  -- classification: activation\n",
    "classifier:add(nn.Linear(class_hidden, class_types)) -- classification: output\n",
    "classifier:add(nn.LogSoftMax()) -- classification: softmax\n",
    "criterion = nn.ClassNLLCriterion() -- negative log-likelihood for training\n",
    "-- if we don't use \"optim\" package, the rest is not need \n",
    "-- (I am going to write SGD myself)\n",
    "local modules = nn.Parallel()\n",
    "modules:add(emb)\n",
    "modules:add(lstm_net)\n",
    "modules:add(classifier)\n",
    "params, grad_params = modules:getParameters()"
   ]
  },
  {
   "cell_type": "code",
   "execution_count": 62,
   "metadata": {
    "collapsed": false
   },
   "outputs": [],
   "source": [
    "-- Utility functions\n",
    "function plot_emb(emb, plot)\n",
    "    local even_points = emb.weight:index(1, torch.LongTensor{1,3,5,7,9})\n",
    "    local odd_points = emb.weight:index(1, torch.LongTensor{2,4,6,8,10})\n",
    "    if plot == nil then\n",
    "        plot = Plot()\n",
    "    else\n",
    "        plot._data = {}\n",
    "    end\n",
    "    plot:circle(odd_points[{{}, 1}], odd_points[{{}, 2}], 'red', 'odd')\n",
    "    plot:circle(even_points[{{}, 1}], even_points[{{}, 2}], 'blue', 'even')\n",
    "    plot:title('Embeddings of numbers 0 - 9')\n",
    "    plot:legend(true)\n",
    "    plot:redraw()\n",
    "    return plot\n",
    "end\n",
    "function gen_data(len)\n",
    "    local inputs = torch.Tensor(len)\n",
    "    local outputs = torch.Tensor(len)\n",
    "    for i = 1, len do\n",
    "        inputs[i] = torch.uniform(1,11)\n",
    "    end\n",
    "    inputs:floor()\n",
    "    local s = 0\n",
    "    for i = 1, len do\n",
    "        s = s + inputs[i] - 1\n",
    "        outputs[i] = (s % 2) + 1\n",
    "    end\n",
    "    return inputs, outputs\n",
    "end\n",
    "function display(inputs, outputs)\n",
    "    local s = 0\n",
    "    for i = 1, inputs:size(1) do\n",
    "        s = s + inputs[i] - 1\n",
    "        out_text = 'Even'\n",
    "        if outputs[i] == 2 then out_text = 'Odd' end\n",
    "        print(string.format('input %d, sum %d, output %s', inputs[i] - 1, s, out_text))\n",
    "    end\n",
    "end"
   ]
  },
  {
   "cell_type": "code",
   "execution_count": 71,
   "metadata": {
    "collapsed": false
   },
   "outputs": [
    {
     "data": {
      "text/html": [
       "<script type=\"text/javascript\">\n",
       "$(function() {\n",
       "    if (typeof (window._bokeh_onload_callbacks) === \"undefined\"){\n",
       "  window._bokeh_onload_callbacks = [];\n",
       "    }\n",
       "    function load_lib(url, callback){\n",
       "  window._bokeh_onload_callbacks.push(callback);\n",
       "  if (window._bokeh_is_loading){\n",
       "      console.log(\"Bokeh: BokehJS is being loaded, scheduling callback at\", new Date());\n",
       "      return null;\n",
       "  }\n",
       "  console.log(\"Bokeh: BokehJS not loaded, scheduling load and callback at\", new Date());\n",
       "  window._bokeh_is_loading = true;\n",
       "  var s = document.createElement('script');\n",
       "  s.src = url;\n",
       "  s.async = true;\n",
       "  s.onreadystatechange = s.onload = function(){\n",
       "      Bokeh.embed.inject_css(\"http://cdn.pydata.org/bokeh-0.7.0.min.css\");\n",
       "      window._bokeh_onload_callbacks.forEach(function(callback){callback()});\n",
       "  };\n",
       "  s.onerror = function(){\n",
       "      console.warn(\"failed to load library \" + url);\n",
       "  };\n",
       "  document.getElementsByTagName(\"head\")[0].appendChild(s);\n",
       "    }\n",
       "\n",
       "    bokehjs_url = \"http://cdn.pydata.org/bokeh-0.7.0.min.js\"\n",
       "\n",
       "    var elt = document.getElementById(\"786e4e56-96a1-4797-c77c-1c5281aec095\");\n",
       "    if(elt==null) {\n",
       "  console.log(\"Bokeh: ERROR: autoload.js configured with elementid '786e4e56-96a1-4797-c77c-1c5281aec095'\"\n",
       "        + \"but no matching script tag was found. \")\n",
       "  return false;\n",
       "    }\n",
       "\n",
       "    if(typeof(Bokeh) !== \"undefined\") {\n",
       "  console.log(\"Bokeh: BokehJS loaded, going straight to plotting\");\n",
       "  var modelid = \"5d1c3eca-dc5b-46af-c6fd-b4e7c8dbbaf2\";\n",
       "  var modeltype = \"Plot\";\n",
       "  var all_models = [{\"id\":\"a4d1d990-025d-4338-c3d1-e733e89f52e3\",\"type\":\"ColumnDataSource\",\"attributes\":{\"data\":{\"y\":[-0.28915655080083,1.6641135679192,-1.0712269771074,0.24059210149953,-1.2221982087321],\"x\":[2.5253736498788,0.86305038739365,-1.78253303834,0.60416936903677,-0.8406484759036]},\"column_names\":[\"y\",\"x\"],\"cont_ranges\":{},\"discrete_ranges\":{},\"selected\":[],\"id\":\"a4d1d990-025d-4338-c3d1-e733e89f52e3\",\"doc\":null,\"tags\":[]}},{\"id\":\"bddc36a8-0f8b-455c-c5fa-3524bfe5a634\",\"type\":\"Circle\",\"attributes\":{\"fill_alpha\":{\"units\":\"data\",\"value\":0.2},\"line_alpha\":{\"units\":\"data\",\"value\":1},\"doc\":null,\"size\":{\"units\":\"screen\",\"value\":10},\"fill_color\":{\"value\":\"red\"},\"line_color\":{\"value\":\"red\"},\"x\":{\"units\":\"data\",\"field\":\"x\"},\"id\":\"bddc36a8-0f8b-455c-c5fa-3524bfe5a634\",\"y\":{\"units\":\"data\",\"field\":\"y\"},\"tags\":[]}},{\"id\":\"bc29ef9b-2f2d-4b2f-cb53-04cf6e1c59e6\",\"type\":\"Circle\",\"attributes\":{\"fill_alpha\":{\"units\":\"data\",\"value\":0.2},\"line_alpha\":{\"units\":\"data\",\"value\":1},\"doc\":null,\"size\":{\"units\":\"screen\",\"value\":10},\"fill_color\":{\"value\":\"red\"},\"line_color\":{\"value\":\"red\"},\"x\":{\"units\":\"data\",\"field\":\"x\"},\"id\":\"bc29ef9b-2f2d-4b2f-cb53-04cf6e1c59e6\",\"y\":{\"units\":\"data\",\"field\":\"y\"},\"tags\":[]}},{\"id\":\"70c21479-4ce1-4a1e-ca58-0bd59aa88a22\",\"type\":\"GlyphRenderer\",\"attributes\":{\"name\":null,\"nonselection_glyph\":{\"type\":\"Circle\",\"id\":\"bc29ef9b-2f2d-4b2f-cb53-04cf6e1c59e6\"},\"doc\":null,\"server_data_source\":null,\"data_source\":{\"type\":\"ColumnDataSource\",\"id\":\"a4d1d990-025d-4338-c3d1-e733e89f52e3\"},\"glyph\":{\"type\":\"Circle\",\"id\":\"bddc36a8-0f8b-455c-c5fa-3524bfe5a634\"},\"selection_glyph\":null,\"id\":\"70c21479-4ce1-4a1e-ca58-0bd59aa88a22\",\"tags\":[]}},{\"id\":\"5e23918a-9e6c-4e81-ce31-f47d3a8f1c8c\",\"type\":\"ColumnDataSource\",\"attributes\":{\"data\":{\"y\":[0.29328092932522,0.44944968475818,-1.2303832868581,-1.409634751187,-0.11144742086795],\"x\":[-0.66825143018108,-0.79829292276893,0.69733678357597,0.88967552455093,-0.26690115112676]},\"column_names\":[\"y\",\"x\"],\"cont_ranges\":{},\"discrete_ranges\":{},\"selected\":[],\"id\":\"5e23918a-9e6c-4e81-ce31-f47d3a8f1c8c\",\"doc\":null,\"tags\":[]}},{\"id\":\"970ff8a8-f9f1-4ba2-cb4f-17f035aea1a0\",\"type\":\"Circle\",\"attributes\":{\"fill_alpha\":{\"units\":\"data\",\"value\":0.2},\"line_alpha\":{\"units\":\"data\",\"value\":1},\"doc\":null,\"size\":{\"units\":\"screen\",\"value\":10},\"fill_color\":{\"value\":\"blue\"},\"line_color\":{\"value\":\"blue\"},\"x\":{\"units\":\"data\",\"field\":\"x\"},\"id\":\"970ff8a8-f9f1-4ba2-cb4f-17f035aea1a0\",\"y\":{\"units\":\"data\",\"field\":\"y\"},\"tags\":[]}},{\"id\":\"d7db4a74-5111-4e5b-ce4e-9d47816431ca\",\"type\":\"Circle\",\"attributes\":{\"fill_alpha\":{\"units\":\"data\",\"value\":0.2},\"line_alpha\":{\"units\":\"data\",\"value\":1},\"doc\":null,\"size\":{\"units\":\"screen\",\"value\":10},\"fill_color\":{\"value\":\"blue\"},\"line_color\":{\"value\":\"blue\"},\"x\":{\"units\":\"data\",\"field\":\"x\"},\"id\":\"d7db4a74-5111-4e5b-ce4e-9d47816431ca\",\"y\":{\"units\":\"data\",\"field\":\"y\"},\"tags\":[]}},{\"id\":\"59e96a8e-fbd0-4c61-cc41-36c64cd1b7fe\",\"type\":\"GlyphRenderer\",\"attributes\":{\"name\":null,\"nonselection_glyph\":{\"type\":\"Circle\",\"id\":\"d7db4a74-5111-4e5b-ce4e-9d47816431ca\"},\"doc\":null,\"server_data_source\":null,\"data_source\":{\"type\":\"ColumnDataSource\",\"id\":\"5e23918a-9e6c-4e81-ce31-f47d3a8f1c8c\"},\"glyph\":{\"type\":\"Circle\",\"id\":\"970ff8a8-f9f1-4ba2-cb4f-17f035aea1a0\"},\"selection_glyph\":null,\"id\":\"59e96a8e-fbd0-4c61-cc41-36c64cd1b7fe\",\"tags\":[]}},{\"id\":\"99fddbbf-c947-4d98-cd9d-cfde08543b2e\",\"type\":\"DataRange1d\",\"attributes\":{\"sources\":[{\"columns\":[\"x\"],\"source\":{\"type\":\"ColumnDataSource\",\"id\":\"a4d1d990-025d-4338-c3d1-e733e89f52e3\"}},{\"columns\":[\"x\"],\"source\":{\"type\":\"ColumnDataSource\",\"id\":\"5e23918a-9e6c-4e81-ce31-f47d3a8f1c8c\"}}],\"id\":\"99fddbbf-c947-4d98-cd9d-cfde08543b2e\",\"tags\":[],\"doc\":null}},{\"id\":\"d9429efd-3f36-4672-c672-a6a995104dcd\",\"type\":\"DataRange1d\",\"attributes\":{\"sources\":[{\"columns\":[\"y\"],\"source\":{\"type\":\"ColumnDataSource\",\"id\":\"a4d1d990-025d-4338-c3d1-e733e89f52e3\"}},{\"columns\":[\"y\"],\"source\":{\"type\":\"ColumnDataSource\",\"id\":\"5e23918a-9e6c-4e81-ce31-f47d3a8f1c8c\"}}],\"id\":\"d9429efd-3f36-4672-c672-a6a995104dcd\",\"tags\":[],\"doc\":null}},{\"id\":\"b56b3649-6fb0-47c7-c7d2-652fc99b2547\",\"type\":\"ToolEvents\",\"attributes\":{\"tags\":[],\"id\":\"b56b3649-6fb0-47c7-c7d2-652fc99b2547\",\"geometries\":[],\"doc\":null}},{\"id\":\"b03d1662-fdba-4a38-cacf-b7c35dc5bc28\",\"type\":\"BasicTickFormatter\",\"attributes\":{\"id\":\"b03d1662-fdba-4a38-cacf-b7c35dc5bc28\",\"tags\":[],\"doc\":null}},{\"id\":\"f7da0849-091d-4e82-ce77-0410d8b4e4f1\",\"type\":\"BasicTicker\",\"attributes\":{\"num_minor_ticks\":5,\"id\":\"f7da0849-091d-4e82-ce77-0410d8b4e4f1\",\"tags\":[],\"doc\":null}},{\"id\":\"b9ad490e-9ff6-4745-c7e0-67605ce7dc13\",\"type\":\"LinearAxis\",\"attributes\":{\"formatter\":{\"type\":\"BasicTickFormatter\",\"id\":\"b03d1662-fdba-4a38-cacf-b7c35dc5bc28\"},\"ticker\":{\"type\":\"BasicTicker\",\"id\":\"f7da0849-091d-4e82-ce77-0410d8b4e4f1\"},\"plot\":{\"id\":\"5d1c3eca-dc5b-46af-c6fd-b4e7c8dbbaf2\",\"type\":\"Plot\",\"subtype\":\"Figure\"},\"axis_label\":null,\"id\":\"b9ad490e-9ff6-4745-c7e0-67605ce7dc13\",\"doc\":null,\"tags\":[]}},{\"id\":\"af1800bf-195c-4260-c2cd-fad0d22d1d04\",\"type\":\"Grid\",\"attributes\":{\"dimension\":0,\"plot\":{\"id\":\"5d1c3eca-dc5b-46af-c6fd-b4e7c8dbbaf2\",\"type\":\"Plot\",\"subtype\":\"Figure\"},\"ticker\":{\"type\":\"BasicTicker\",\"id\":\"f7da0849-091d-4e82-ce77-0410d8b4e4f1\"},\"id\":\"af1800bf-195c-4260-c2cd-fad0d22d1d04\",\"doc\":null,\"tags\":[]}},{\"id\":\"7055d031-4ed8-4731-c75c-b4a8180ba9bf\",\"type\":\"BasicTickFormatter\",\"attributes\":{\"id\":\"7055d031-4ed8-4731-c75c-b4a8180ba9bf\",\"tags\":[],\"doc\":null}},{\"id\":\"e006cdfb-80eb-4595-c560-40766cacb47a\",\"type\":\"BasicTicker\",\"attributes\":{\"num_minor_ticks\":5,\"id\":\"e006cdfb-80eb-4595-c560-40766cacb47a\",\"tags\":[],\"doc\":null}},{\"id\":\"35ac0dcd-c2d7-47e9-c7c6-aad71a405360\",\"type\":\"LinearAxis\",\"attributes\":{\"formatter\":{\"type\":\"BasicTickFormatter\",\"id\":\"7055d031-4ed8-4731-c75c-b4a8180ba9bf\"},\"ticker\":{\"type\":\"BasicTicker\",\"id\":\"e006cdfb-80eb-4595-c560-40766cacb47a\"},\"plot\":{\"id\":\"5d1c3eca-dc5b-46af-c6fd-b4e7c8dbbaf2\",\"type\":\"Plot\",\"subtype\":\"Figure\"},\"axis_label\":null,\"id\":\"35ac0dcd-c2d7-47e9-c7c6-aad71a405360\",\"doc\":null,\"tags\":[]}},{\"id\":\"8098eaa1-a02d-4540-c5cf-8211b6989969\",\"type\":\"Grid\",\"attributes\":{\"dimension\":1,\"plot\":{\"id\":\"5d1c3eca-dc5b-46af-c6fd-b4e7c8dbbaf2\",\"type\":\"Plot\",\"subtype\":\"Figure\"},\"ticker\":{\"type\":\"BasicTicker\",\"id\":\"e006cdfb-80eb-4595-c560-40766cacb47a\"},\"id\":\"8098eaa1-a02d-4540-c5cf-8211b6989969\",\"doc\":null,\"tags\":[]}},{\"id\":\"ffc75395-8da6-4811-c885-f20da365339f\",\"type\":\"PanTool\",\"attributes\":{\"plot\":{\"id\":\"5d1c3eca-dc5b-46af-c6fd-b4e7c8dbbaf2\",\"type\":\"Plot\",\"subtype\":\"Figure\"},\"dimensions\":[\"width\",\"height\"],\"id\":\"ffc75395-8da6-4811-c885-f20da365339f\",\"doc\":null,\"tags\":[]}},{\"id\":\"e3e101e3-7e9b-462a-c66e-db0231d9963e\",\"type\":\"WheelZoomTool\",\"attributes\":{\"plot\":{\"id\":\"5d1c3eca-dc5b-46af-c6fd-b4e7c8dbbaf2\",\"type\":\"Plot\",\"subtype\":\"Figure\"},\"dimensions\":[\"width\",\"height\"],\"id\":\"e3e101e3-7e9b-462a-c66e-db0231d9963e\",\"doc\":null,\"tags\":[]}},{\"id\":\"bac18925-f8de-4306-c35a-806b09282122\",\"type\":\"BoxZoomTool\",\"attributes\":{\"plot\":{\"id\":\"5d1c3eca-dc5b-46af-c6fd-b4e7c8dbbaf2\",\"type\":\"Plot\",\"subtype\":\"Figure\"},\"id\":\"bac18925-f8de-4306-c35a-806b09282122\",\"tags\":[],\"doc\":null}},{\"id\":\"2147c563-08ee-4b19-cbe4-a707e5e3a7ac\",\"type\":\"PreviewSaveTool\",\"attributes\":{\"plot\":{\"id\":\"5d1c3eca-dc5b-46af-c6fd-b4e7c8dbbaf2\",\"type\":\"Plot\",\"subtype\":\"Figure\"},\"id\":\"2147c563-08ee-4b19-cbe4-a707e5e3a7ac\",\"tags\":[],\"doc\":null}},{\"id\":\"20c3458f-c893-472d-c7ea-b516d8f3887c\",\"type\":\"ResizeTool\",\"attributes\":{\"plot\":{\"id\":\"5d1c3eca-dc5b-46af-c6fd-b4e7c8dbbaf2\",\"type\":\"Plot\",\"subtype\":\"Figure\"},\"id\":\"20c3458f-c893-472d-c7ea-b516d8f3887c\",\"tags\":[],\"doc\":null}},{\"id\":\"e20071fd-22f1-4eeb-cea5-b26656d5198f\",\"type\":\"ResetTool\",\"attributes\":{\"plot\":{\"id\":\"5d1c3eca-dc5b-46af-c6fd-b4e7c8dbbaf2\",\"type\":\"Plot\",\"subtype\":\"Figure\"},\"id\":\"e20071fd-22f1-4eeb-cea5-b26656d5198f\",\"tags\":[],\"doc\":null}},{\"id\":\"fbf9de6c-fa39-4c96-cc1b-5c1c04618cb6\",\"type\":\"Legend\",\"attributes\":{\"plot\":{\"id\":\"5d1c3eca-dc5b-46af-c6fd-b4e7c8dbbaf2\",\"type\":\"Plot\",\"subtype\":\"Figure\"},\"legends\":[[\"odd\",[{\"type\":\"GlyphRenderer\",\"id\":\"70c21479-4ce1-4a1e-ca58-0bd59aa88a22\"}]],[\"even\",[{\"type\":\"GlyphRenderer\",\"id\":\"59e96a8e-fbd0-4c61-cc41-36c64cd1b7fe\"}]]],\"id\":\"fbf9de6c-fa39-4c96-cc1b-5c1c04618cb6\",\"doc\":null,\"tags\":[]}},{\"id\":\"5d1c3eca-dc5b-46af-c6fd-b4e7c8dbbaf2\",\"type\":\"Plot\",\"attributes\":{\"x_range\":{\"type\":\"DataRange1d\",\"id\":\"99fddbbf-c947-4d98-cd9d-cfde08543b2e\"},\"tool_events\":{\"type\":\"ToolEvents\",\"id\":\"b56b3649-6fb0-47c7-c7d2-652fc99b2547\"},\"below\":[{\"type\":\"LinearAxis\",\"id\":\"b9ad490e-9ff6-4745-c7e0-67605ce7dc13\"}],\"renderers\":[{\"type\":\"GlyphRenderer\",\"id\":\"70c21479-4ce1-4a1e-ca58-0bd59aa88a22\"},{\"type\":\"GlyphRenderer\",\"id\":\"59e96a8e-fbd0-4c61-cc41-36c64cd1b7fe\"},{\"type\":\"LinearAxis\",\"id\":\"b9ad490e-9ff6-4745-c7e0-67605ce7dc13\"},{\"type\":\"Grid\",\"id\":\"af1800bf-195c-4260-c2cd-fad0d22d1d04\"},{\"type\":\"LinearAxis\",\"id\":\"35ac0dcd-c2d7-47e9-c7c6-aad71a405360\"},{\"type\":\"Grid\",\"id\":\"8098eaa1-a02d-4540-c5cf-8211b6989969\"},{\"type\":\"Legend\",\"id\":\"fbf9de6c-fa39-4c96-cc1b-5c1c04618cb6\"}],\"above\":[],\"tools\":[{\"type\":\"PanTool\",\"id\":\"ffc75395-8da6-4811-c885-f20da365339f\"},{\"type\":\"WheelZoomTool\",\"id\":\"e3e101e3-7e9b-462a-c66e-db0231d9963e\"},{\"type\":\"BoxZoomTool\",\"id\":\"bac18925-f8de-4306-c35a-806b09282122\"},{\"type\":\"PreviewSaveTool\",\"id\":\"2147c563-08ee-4b19-cbe4-a707e5e3a7ac\"},{\"type\":\"ResizeTool\",\"id\":\"20c3458f-c893-472d-c7ea-b516d8f3887c\"},{\"type\":\"ResetTool\",\"id\":\"e20071fd-22f1-4eeb-cea5-b26656d5198f\"}],\"doc\":null,\"right\":[],\"title\":\"Embeddings of numbers 0 - 9\",\"extra_x_ranges\":{},\"left\":[{\"type\":\"LinearAxis\",\"id\":\"35ac0dcd-c2d7-47e9-c7c6-aad71a405360\"}],\"y_range\":{\"type\":\"DataRange1d\",\"id\":\"d9429efd-3f36-4672-c672-a6a995104dcd\"},\"id\":\"5d1c3eca-dc5b-46af-c6fd-b4e7c8dbbaf2\",\"extra_y_ranges\":{},\"tags\":[]}}];\n",
       "  Bokeh.load_models(all_models);\n",
       "  var model = Bokeh.Collections(modeltype).get(modelid);\n",
       "  $(\"#786e4e56-96a1-4797-c77c-1c5281aec095\").html(''); // clear any previous plot in window_id\n",
       "  var view = new model.default_view({model: model, el: \"#786e4e56-96a1-4797-c77c-1c5281aec095\"});\n",
       "    } else {\n",
       "  load_lib(bokehjs_url, function() {\n",
       "      console.log(\"Bokeh: BokehJS plotting callback run at\", new Date())\n",
       "      var modelid = \"5d1c3eca-dc5b-46af-c6fd-b4e7c8dbbaf2\";\n",
       "      var modeltype = \"Plot\";\n",
       "      var all_models = [{\"id\":\"a4d1d990-025d-4338-c3d1-e733e89f52e3\",\"type\":\"ColumnDataSource\",\"attributes\":{\"data\":{\"y\":[-0.28915655080083,1.6641135679192,-1.0712269771074,0.24059210149953,-1.2221982087321],\"x\":[2.5253736498788,0.86305038739365,-1.78253303834,0.60416936903677,-0.8406484759036]},\"column_names\":[\"y\",\"x\"],\"cont_ranges\":{},\"discrete_ranges\":{},\"selected\":[],\"id\":\"a4d1d990-025d-4338-c3d1-e733e89f52e3\",\"doc\":null,\"tags\":[]}},{\"id\":\"bddc36a8-0f8b-455c-c5fa-3524bfe5a634\",\"type\":\"Circle\",\"attributes\":{\"fill_alpha\":{\"units\":\"data\",\"value\":0.2},\"line_alpha\":{\"units\":\"data\",\"value\":1},\"doc\":null,\"size\":{\"units\":\"screen\",\"value\":10},\"fill_color\":{\"value\":\"red\"},\"line_color\":{\"value\":\"red\"},\"x\":{\"units\":\"data\",\"field\":\"x\"},\"id\":\"bddc36a8-0f8b-455c-c5fa-3524bfe5a634\",\"y\":{\"units\":\"data\",\"field\":\"y\"},\"tags\":[]}},{\"id\":\"bc29ef9b-2f2d-4b2f-cb53-04cf6e1c59e6\",\"type\":\"Circle\",\"attributes\":{\"fill_alpha\":{\"units\":\"data\",\"value\":0.2},\"line_alpha\":{\"units\":\"data\",\"value\":1},\"doc\":null,\"size\":{\"units\":\"screen\",\"value\":10},\"fill_color\":{\"value\":\"red\"},\"line_color\":{\"value\":\"red\"},\"x\":{\"units\":\"data\",\"field\":\"x\"},\"id\":\"bc29ef9b-2f2d-4b2f-cb53-04cf6e1c59e6\",\"y\":{\"units\":\"data\",\"field\":\"y\"},\"tags\":[]}},{\"id\":\"70c21479-4ce1-4a1e-ca58-0bd59aa88a22\",\"type\":\"GlyphRenderer\",\"attributes\":{\"name\":null,\"nonselection_glyph\":{\"type\":\"Circle\",\"id\":\"bc29ef9b-2f2d-4b2f-cb53-04cf6e1c59e6\"},\"doc\":null,\"server_data_source\":null,\"data_source\":{\"type\":\"ColumnDataSource\",\"id\":\"a4d1d990-025d-4338-c3d1-e733e89f52e3\"},\"glyph\":{\"type\":\"Circle\",\"id\":\"bddc36a8-0f8b-455c-c5fa-3524bfe5a634\"},\"selection_glyph\":null,\"id\":\"70c21479-4ce1-4a1e-ca58-0bd59aa88a22\",\"tags\":[]}},{\"id\":\"5e23918a-9e6c-4e81-ce31-f47d3a8f1c8c\",\"type\":\"ColumnDataSource\",\"attributes\":{\"data\":{\"y\":[0.29328092932522,0.44944968475818,-1.2303832868581,-1.409634751187,-0.11144742086795],\"x\":[-0.66825143018108,-0.79829292276893,0.69733678357597,0.88967552455093,-0.26690115112676]},\"column_names\":[\"y\",\"x\"],\"cont_ranges\":{},\"discrete_ranges\":{},\"selected\":[],\"id\":\"5e23918a-9e6c-4e81-ce31-f47d3a8f1c8c\",\"doc\":null,\"tags\":[]}},{\"id\":\"970ff8a8-f9f1-4ba2-cb4f-17f035aea1a0\",\"type\":\"Circle\",\"attributes\":{\"fill_alpha\":{\"units\":\"data\",\"value\":0.2},\"line_alpha\":{\"units\":\"data\",\"value\":1},\"doc\":null,\"size\":{\"units\":\"screen\",\"value\":10},\"fill_color\":{\"value\":\"blue\"},\"line_color\":{\"value\":\"blue\"},\"x\":{\"units\":\"data\",\"field\":\"x\"},\"id\":\"970ff8a8-f9f1-4ba2-cb4f-17f035aea1a0\",\"y\":{\"units\":\"data\",\"field\":\"y\"},\"tags\":[]}},{\"id\":\"d7db4a74-5111-4e5b-ce4e-9d47816431ca\",\"type\":\"Circle\",\"attributes\":{\"fill_alpha\":{\"units\":\"data\",\"value\":0.2},\"line_alpha\":{\"units\":\"data\",\"value\":1},\"doc\":null,\"size\":{\"units\":\"screen\",\"value\":10},\"fill_color\":{\"value\":\"blue\"},\"line_color\":{\"value\":\"blue\"},\"x\":{\"units\":\"data\",\"field\":\"x\"},\"id\":\"d7db4a74-5111-4e5b-ce4e-9d47816431ca\",\"y\":{\"units\":\"data\",\"field\":\"y\"},\"tags\":[]}},{\"id\":\"59e96a8e-fbd0-4c61-cc41-36c64cd1b7fe\",\"type\":\"GlyphRenderer\",\"attributes\":{\"name\":null,\"nonselection_glyph\":{\"type\":\"Circle\",\"id\":\"d7db4a74-5111-4e5b-ce4e-9d47816431ca\"},\"doc\":null,\"server_data_source\":null,\"data_source\":{\"type\":\"ColumnDataSource\",\"id\":\"5e23918a-9e6c-4e81-ce31-f47d3a8f1c8c\"},\"glyph\":{\"type\":\"Circle\",\"id\":\"970ff8a8-f9f1-4ba2-cb4f-17f035aea1a0\"},\"selection_glyph\":null,\"id\":\"59e96a8e-fbd0-4c61-cc41-36c64cd1b7fe\",\"tags\":[]}},{\"id\":\"99fddbbf-c947-4d98-cd9d-cfde08543b2e\",\"type\":\"DataRange1d\",\"attributes\":{\"sources\":[{\"columns\":[\"x\"],\"source\":{\"type\":\"ColumnDataSource\",\"id\":\"a4d1d990-025d-4338-c3d1-e733e89f52e3\"}},{\"columns\":[\"x\"],\"source\":{\"type\":\"ColumnDataSource\",\"id\":\"5e23918a-9e6c-4e81-ce31-f47d3a8f1c8c\"}}],\"id\":\"99fddbbf-c947-4d98-cd9d-cfde08543b2e\",\"tags\":[],\"doc\":null}},{\"id\":\"d9429efd-3f36-4672-c672-a6a995104dcd\",\"type\":\"DataRange1d\",\"attributes\":{\"sources\":[{\"columns\":[\"y\"],\"source\":{\"type\":\"ColumnDataSource\",\"id\":\"a4d1d990-025d-4338-c3d1-e733e89f52e3\"}},{\"columns\":[\"y\"],\"source\":{\"type\":\"ColumnDataSource\",\"id\":\"5e23918a-9e6c-4e81-ce31-f47d3a8f1c8c\"}}],\"id\":\"d9429efd-3f36-4672-c672-a6a995104dcd\",\"tags\":[],\"doc\":null}},{\"id\":\"b56b3649-6fb0-47c7-c7d2-652fc99b2547\",\"type\":\"ToolEvents\",\"attributes\":{\"tags\":[],\"id\":\"b56b3649-6fb0-47c7-c7d2-652fc99b2547\",\"geometries\":[],\"doc\":null}},{\"id\":\"b03d1662-fdba-4a38-cacf-b7c35dc5bc28\",\"type\":\"BasicTickFormatter\",\"attributes\":{\"id\":\"b03d1662-fdba-4a38-cacf-b7c35dc5bc28\",\"tags\":[],\"doc\":null}},{\"id\":\"f7da0849-091d-4e82-ce77-0410d8b4e4f1\",\"type\":\"BasicTicker\",\"attributes\":{\"num_minor_ticks\":5,\"id\":\"f7da0849-091d-4e82-ce77-0410d8b4e4f1\",\"tags\":[],\"doc\":null}},{\"id\":\"b9ad490e-9ff6-4745-c7e0-67605ce7dc13\",\"type\":\"LinearAxis\",\"attributes\":{\"formatter\":{\"type\":\"BasicTickFormatter\",\"id\":\"b03d1662-fdba-4a38-cacf-b7c35dc5bc28\"},\"ticker\":{\"type\":\"BasicTicker\",\"id\":\"f7da0849-091d-4e82-ce77-0410d8b4e4f1\"},\"plot\":{\"id\":\"5d1c3eca-dc5b-46af-c6fd-b4e7c8dbbaf2\",\"type\":\"Plot\",\"subtype\":\"Figure\"},\"axis_label\":null,\"id\":\"b9ad490e-9ff6-4745-c7e0-67605ce7dc13\",\"doc\":null,\"tags\":[]}},{\"id\":\"af1800bf-195c-4260-c2cd-fad0d22d1d04\",\"type\":\"Grid\",\"attributes\":{\"dimension\":0,\"plot\":{\"id\":\"5d1c3eca-dc5b-46af-c6fd-b4e7c8dbbaf2\",\"type\":\"Plot\",\"subtype\":\"Figure\"},\"ticker\":{\"type\":\"BasicTicker\",\"id\":\"f7da0849-091d-4e82-ce77-0410d8b4e4f1\"},\"id\":\"af1800bf-195c-4260-c2cd-fad0d22d1d04\",\"doc\":null,\"tags\":[]}},{\"id\":\"7055d031-4ed8-4731-c75c-b4a8180ba9bf\",\"type\":\"BasicTickFormatter\",\"attributes\":{\"id\":\"7055d031-4ed8-4731-c75c-b4a8180ba9bf\",\"tags\":[],\"doc\":null}},{\"id\":\"e006cdfb-80eb-4595-c560-40766cacb47a\",\"type\":\"BasicTicker\",\"attributes\":{\"num_minor_ticks\":5,\"id\":\"e006cdfb-80eb-4595-c560-40766cacb47a\",\"tags\":[],\"doc\":null}},{\"id\":\"35ac0dcd-c2d7-47e9-c7c6-aad71a405360\",\"type\":\"LinearAxis\",\"attributes\":{\"formatter\":{\"type\":\"BasicTickFormatter\",\"id\":\"7055d031-4ed8-4731-c75c-b4a8180ba9bf\"},\"ticker\":{\"type\":\"BasicTicker\",\"id\":\"e006cdfb-80eb-4595-c560-40766cacb47a\"},\"plot\":{\"id\":\"5d1c3eca-dc5b-46af-c6fd-b4e7c8dbbaf2\",\"type\":\"Plot\",\"subtype\":\"Figure\"},\"axis_label\":null,\"id\":\"35ac0dcd-c2d7-47e9-c7c6-aad71a405360\",\"doc\":null,\"tags\":[]}},{\"id\":\"8098eaa1-a02d-4540-c5cf-8211b6989969\",\"type\":\"Grid\",\"attributes\":{\"dimension\":1,\"plot\":{\"id\":\"5d1c3eca-dc5b-46af-c6fd-b4e7c8dbbaf2\",\"type\":\"Plot\",\"subtype\":\"Figure\"},\"ticker\":{\"type\":\"BasicTicker\",\"id\":\"e006cdfb-80eb-4595-c560-40766cacb47a\"},\"id\":\"8098eaa1-a02d-4540-c5cf-8211b6989969\",\"doc\":null,\"tags\":[]}},{\"id\":\"ffc75395-8da6-4811-c885-f20da365339f\",\"type\":\"PanTool\",\"attributes\":{\"plot\":{\"id\":\"5d1c3eca-dc5b-46af-c6fd-b4e7c8dbbaf2\",\"type\":\"Plot\",\"subtype\":\"Figure\"},\"dimensions\":[\"width\",\"height\"],\"id\":\"ffc75395-8da6-4811-c885-f20da365339f\",\"doc\":null,\"tags\":[]}},{\"id\":\"e3e101e3-7e9b-462a-c66e-db0231d9963e\",\"type\":\"WheelZoomTool\",\"attributes\":{\"plot\":{\"id\":\"5d1c3eca-dc5b-46af-c6fd-b4e7c8dbbaf2\",\"type\":\"Plot\",\"subtype\":\"Figure\"},\"dimensions\":[\"width\",\"height\"],\"id\":\"e3e101e3-7e9b-462a-c66e-db0231d9963e\",\"doc\":null,\"tags\":[]}},{\"id\":\"bac18925-f8de-4306-c35a-806b09282122\",\"type\":\"BoxZoomTool\",\"attributes\":{\"plot\":{\"id\":\"5d1c3eca-dc5b-46af-c6fd-b4e7c8dbbaf2\",\"type\":\"Plot\",\"subtype\":\"Figure\"},\"id\":\"bac18925-f8de-4306-c35a-806b09282122\",\"tags\":[],\"doc\":null}},{\"id\":\"2147c563-08ee-4b19-cbe4-a707e5e3a7ac\",\"type\":\"PreviewSaveTool\",\"attributes\":{\"plot\":{\"id\":\"5d1c3eca-dc5b-46af-c6fd-b4e7c8dbbaf2\",\"type\":\"Plot\",\"subtype\":\"Figure\"},\"id\":\"2147c563-08ee-4b19-cbe4-a707e5e3a7ac\",\"tags\":[],\"doc\":null}},{\"id\":\"20c3458f-c893-472d-c7ea-b516d8f3887c\",\"type\":\"ResizeTool\",\"attributes\":{\"plot\":{\"id\":\"5d1c3eca-dc5b-46af-c6fd-b4e7c8dbbaf2\",\"type\":\"Plot\",\"subtype\":\"Figure\"},\"id\":\"20c3458f-c893-472d-c7ea-b516d8f3887c\",\"tags\":[],\"doc\":null}},{\"id\":\"e20071fd-22f1-4eeb-cea5-b26656d5198f\",\"type\":\"ResetTool\",\"attributes\":{\"plot\":{\"id\":\"5d1c3eca-dc5b-46af-c6fd-b4e7c8dbbaf2\",\"type\":\"Plot\",\"subtype\":\"Figure\"},\"id\":\"e20071fd-22f1-4eeb-cea5-b26656d5198f\",\"tags\":[],\"doc\":null}},{\"id\":\"fbf9de6c-fa39-4c96-cc1b-5c1c04618cb6\",\"type\":\"Legend\",\"attributes\":{\"plot\":{\"id\":\"5d1c3eca-dc5b-46af-c6fd-b4e7c8dbbaf2\",\"type\":\"Plot\",\"subtype\":\"Figure\"},\"legends\":[[\"odd\",[{\"type\":\"GlyphRenderer\",\"id\":\"70c21479-4ce1-4a1e-ca58-0bd59aa88a22\"}]],[\"even\",[{\"type\":\"GlyphRenderer\",\"id\":\"59e96a8e-fbd0-4c61-cc41-36c64cd1b7fe\"}]]],\"id\":\"fbf9de6c-fa39-4c96-cc1b-5c1c04618cb6\",\"doc\":null,\"tags\":[]}},{\"id\":\"5d1c3eca-dc5b-46af-c6fd-b4e7c8dbbaf2\",\"type\":\"Plot\",\"attributes\":{\"x_range\":{\"type\":\"DataRange1d\",\"id\":\"99fddbbf-c947-4d98-cd9d-cfde08543b2e\"},\"tool_events\":{\"type\":\"ToolEvents\",\"id\":\"b56b3649-6fb0-47c7-c7d2-652fc99b2547\"},\"below\":[{\"type\":\"LinearAxis\",\"id\":\"b9ad490e-9ff6-4745-c7e0-67605ce7dc13\"}],\"renderers\":[{\"type\":\"GlyphRenderer\",\"id\":\"70c21479-4ce1-4a1e-ca58-0bd59aa88a22\"},{\"type\":\"GlyphRenderer\",\"id\":\"59e96a8e-fbd0-4c61-cc41-36c64cd1b7fe\"},{\"type\":\"LinearAxis\",\"id\":\"b9ad490e-9ff6-4745-c7e0-67605ce7dc13\"},{\"type\":\"Grid\",\"id\":\"af1800bf-195c-4260-c2cd-fad0d22d1d04\"},{\"type\":\"LinearAxis\",\"id\":\"35ac0dcd-c2d7-47e9-c7c6-aad71a405360\"},{\"type\":\"Grid\",\"id\":\"8098eaa1-a02d-4540-c5cf-8211b6989969\"},{\"type\":\"Legend\",\"id\":\"fbf9de6c-fa39-4c96-cc1b-5c1c04618cb6\"}],\"above\":[],\"tools\":[{\"type\":\"PanTool\",\"id\":\"ffc75395-8da6-4811-c885-f20da365339f\"},{\"type\":\"WheelZoomTool\",\"id\":\"e3e101e3-7e9b-462a-c66e-db0231d9963e\"},{\"type\":\"BoxZoomTool\",\"id\":\"bac18925-f8de-4306-c35a-806b09282122\"},{\"type\":\"PreviewSaveTool\",\"id\":\"2147c563-08ee-4b19-cbe4-a707e5e3a7ac\"},{\"type\":\"ResizeTool\",\"id\":\"20c3458f-c893-472d-c7ea-b516d8f3887c\"},{\"type\":\"ResetTool\",\"id\":\"e20071fd-22f1-4eeb-cea5-b26656d5198f\"}],\"doc\":null,\"right\":[],\"title\":\"Embeddings of numbers 0 - 9\",\"extra_x_ranges\":{},\"left\":[{\"type\":\"LinearAxis\",\"id\":\"35ac0dcd-c2d7-47e9-c7c6-aad71a405360\"}],\"y_range\":{\"type\":\"DataRange1d\",\"id\":\"d9429efd-3f36-4672-c672-a6a995104dcd\"},\"id\":\"5d1c3eca-dc5b-46af-c6fd-b4e7c8dbbaf2\",\"extra_y_ranges\":{},\"tags\":[]}}];\n",
       "      Bokeh.load_models(all_models);\n",
       "      var model = Bokeh.Collections(modeltype).get(modelid);\n",
       "      $(\"#786e4e56-96a1-4797-c77c-1c5281aec095\").html(''); // clear any previous plot in window_id\n",
       "      var view = new model.default_view({model: model, el: \"#786e4e56-96a1-4797-c77c-1c5281aec095\"});\n",
       "  });\n",
       "    }\n",
       "});\n",
       "</script>\n",
       "<div class=\"plotdiv\" id=\"786e4e56-96a1-4797-c77c-1c5281aec095\"></div>\n"
      ]
     },
     "metadata": {},
     "output_type": "display_data"
    }
   ],
   "source": [
    "-- Initial embeddings\n",
    "local _ = plot_emb(emb, nil)"
   ]
  },
  {
   "cell_type": "code",
   "execution_count": 72,
   "metadata": {
    "collapsed": false,
    "scrolled": false
   },
   "outputs": [],
   "source": [
    "-- SGD hyper-params (this basic version only needs learning rate and number of iterations)\n",
    "local learning_rate = 0.01\n",
    "local epochs = 7500\n",
    "-- Parallization is not helpful here\n",
    "local num_threads = torch.getnumthreads()\n",
    "torch.setnumthreads(1)\n",
    "-- do many iterations\n",
    "--   \\[T]/  Praise the Sun!\n",
    "--    |_|\n",
    "--    \\ \\\n",
    "for i = 1,epochs do\n",
    "    -- Reset the network\n",
    "    lstm_net:forget()\n",
    "    lstm_net:zeroGradParameters()\n",
    "    emb:zeroGradParameters()\n",
    "    local input_seq, output_seq = gen_data(seq_len) -- get inputs and outputs\n",
    "    local emb_seq = emb:forward(input_seq)          -- get inputs' embeddings\n",
    "    local sum_rep_seq = lstm_net:forward(emb_seq:t()) -- get representations from LSTM\n",
    "    local grad_sum_rep_seq = torch.zeros(sum_rep_dim, num_layers, seq_len) -- for later\n",
    "    local total_loss = 0\n",
    "    for t = 1,seq_len do -- for each sum (in the sequence)\n",
    "        classifier:zeroGradParameters() -- reset the classifier\n",
    "        -- get output log distribution, only need hidden state\n",
    "        local rep = sum_rep_seq[{{},1,t}]\n",
    "        local net_output = classifier:forward(rep) \n",
    "        local loss = criterion:forward(net_output, output_seq[t]) -- compute loss\n",
    "        total_loss = total_loss + loss\n",
    "        local grad_out = criterion:backward(net_output, output_seq[t]) -- gradients of the loss\n",
    "        local grad_sum_rep = classifier:backward(rep, grad_out) -- gradients of the representation\n",
    "        grad_sum_rep_seq[{{},num_layers,t}] = grad_sum_rep -- we get the gradient one at a time, so keep it here for later\n",
    "        classifier:updateParameters(learning_rate) -- update the classifier's parameters\n",
    "    end\n",
    "    -- compute embedding gradients (using all of the representation gradients)\n",
    "    local grad_emb_seq = lstm_net:backward(emb_seq:t(), grad_sum_rep_seq)\n",
    "    -- compute input gradients \n",
    "    -- (this returns nothing, because the input is just index.\n",
    "    -- But we need to call it to update the gradients accroding to the inputs\n",
    "    emb:backward(input_seq, grad_emb_seq:t())\n",
    "    -- update parameters\n",
    "    lstm_net:updateParameters(learning_rate)\n",
    "    emb:updateParameters(learning_rate)\n",
    "end\n",
    "-- Set num threads back\n",
    "torch.setnumthreads(num_threads)"
   ]
  },
  {
   "cell_type": "code",
   "execution_count": 75,
   "metadata": {
    "collapsed": false,
    "scrolled": true
   },
   "outputs": [
    {
     "data": {
      "text/plain": [
       "input 7, sum 7, output Odd\t\n",
       "input 8, sum 15, output Odd\t\n",
       "input 0, sum 15, output Odd\t\n",
       "input 1, sum 16, output Even\t\n",
       "input 9, sum 25, output Odd\t\n"
      ]
     },
     "execution_count": 75,
     "metadata": {},
     "output_type": "execute_result"
    }
   ],
   "source": [
    "-- Testing\n",
    "lstm_net:forget() -- reset LSTM (go back to step 0)\n",
    "local input_seq, output_seq = gen_data(seq_len)\n",
    "local emb_seq = emb:forward(input_seq)\n",
    "local sum_rep_seq = lstm_net:forward(emb_seq:t())\n",
    "local output_seq = torch.Tensor(seq_len) -- model's outputs, for later\n",
    "for t = 1,seq_len do\n",
    "    -- print('input:')\n",
    "    -- print(input_seq[t] - 1)\n",
    "    -- print(sum_rep_seq[t][2])\n",
    "    local rep = sum_rep_seq[{{},1,t}]\n",
    "    local net_output = classifier:forward(rep)\n",
    "    -- print(net_output)\n",
    "    local m, d = torch.max(net_output, 1)\n",
    "    output_seq[t] = d -- keep the output here\n",
    "end\n",
    "-- show the result, is it perfect?\n",
    "-- Yes: cool, can we make the sequence longer?\n",
    "-- No: tweak some hyper-parameters\n",
    "display(input_seq, output_seq) "
   ]
  },
  {
   "cell_type": "code",
   "execution_count": 76,
   "metadata": {
    "collapsed": false
   },
   "outputs": [
    {
     "data": {
      "text/html": [
       "<script type=\"text/javascript\">\n",
       "$(function() {\n",
       "    if (typeof (window._bokeh_onload_callbacks) === \"undefined\"){\n",
       "  window._bokeh_onload_callbacks = [];\n",
       "    }\n",
       "    function load_lib(url, callback){\n",
       "  window._bokeh_onload_callbacks.push(callback);\n",
       "  if (window._bokeh_is_loading){\n",
       "      console.log(\"Bokeh: BokehJS is being loaded, scheduling callback at\", new Date());\n",
       "      return null;\n",
       "  }\n",
       "  console.log(\"Bokeh: BokehJS not loaded, scheduling load and callback at\", new Date());\n",
       "  window._bokeh_is_loading = true;\n",
       "  var s = document.createElement('script');\n",
       "  s.src = url;\n",
       "  s.async = true;\n",
       "  s.onreadystatechange = s.onload = function(){\n",
       "      Bokeh.embed.inject_css(\"http://cdn.pydata.org/bokeh-0.7.0.min.css\");\n",
       "      window._bokeh_onload_callbacks.forEach(function(callback){callback()});\n",
       "  };\n",
       "  s.onerror = function(){\n",
       "      console.warn(\"failed to load library \" + url);\n",
       "  };\n",
       "  document.getElementsByTagName(\"head\")[0].appendChild(s);\n",
       "    }\n",
       "\n",
       "    bokehjs_url = \"http://cdn.pydata.org/bokeh-0.7.0.min.js\"\n",
       "\n",
       "    var elt = document.getElementById(\"c39d99d6-dc45-433c-c3d9-b1c6c0bc81d1\");\n",
       "    if(elt==null) {\n",
       "  console.log(\"Bokeh: ERROR: autoload.js configured with elementid 'c39d99d6-dc45-433c-c3d9-b1c6c0bc81d1'\"\n",
       "        + \"but no matching script tag was found. \")\n",
       "  return false;\n",
       "    }\n",
       "\n",
       "    if(typeof(Bokeh) !== \"undefined\") {\n",
       "  console.log(\"Bokeh: BokehJS loaded, going straight to plotting\");\n",
       "  var modelid = \"b460de3f-07d7-4af5-cac5-4a8fe282382f\";\n",
       "  var modeltype = \"Plot\";\n",
       "  var all_models = [{\"id\":\"1227d2df-af85-4d7e-cd2c-c19ae7669cc8\",\"type\":\"ColumnDataSource\",\"attributes\":{\"data\":{\"y\":[0.31174469087174,1.4548645386701,-1.6944343975552,1.1486142053649,-1.9739531476955],\"x\":[2.3474492298628,1.522908446722,-2.2286336083953,1.5614538656631,-2.0046092360157]},\"column_names\":[\"y\",\"x\"],\"cont_ranges\":{},\"discrete_ranges\":{},\"selected\":[],\"id\":\"1227d2df-af85-4d7e-cd2c-c19ae7669cc8\",\"doc\":null,\"tags\":[]}},{\"id\":\"003765cd-5c32-43f4-c335-04e396ab005d\",\"type\":\"Circle\",\"attributes\":{\"fill_alpha\":{\"units\":\"data\",\"value\":0.2},\"line_alpha\":{\"units\":\"data\",\"value\":1},\"doc\":null,\"size\":{\"units\":\"screen\",\"value\":10},\"fill_color\":{\"value\":\"red\"},\"line_color\":{\"value\":\"red\"},\"x\":{\"units\":\"data\",\"field\":\"x\"},\"id\":\"003765cd-5c32-43f4-c335-04e396ab005d\",\"y\":{\"units\":\"data\",\"field\":\"y\"},\"tags\":[]}},{\"id\":\"b91b20bb-a62a-482b-c882-09d0cd45dcce\",\"type\":\"Circle\",\"attributes\":{\"fill_alpha\":{\"units\":\"data\",\"value\":0.2},\"line_alpha\":{\"units\":\"data\",\"value\":1},\"doc\":null,\"size\":{\"units\":\"screen\",\"value\":10},\"fill_color\":{\"value\":\"red\"},\"line_color\":{\"value\":\"red\"},\"x\":{\"units\":\"data\",\"field\":\"x\"},\"id\":\"b91b20bb-a62a-482b-c882-09d0cd45dcce\",\"y\":{\"units\":\"data\",\"field\":\"y\"},\"tags\":[]}},{\"id\":\"430b3412-6160-45e0-c544-afa10d677d4c\",\"type\":\"GlyphRenderer\",\"attributes\":{\"name\":null,\"nonselection_glyph\":{\"type\":\"Circle\",\"id\":\"b91b20bb-a62a-482b-c882-09d0cd45dcce\"},\"doc\":null,\"server_data_source\":null,\"data_source\":{\"type\":\"ColumnDataSource\",\"id\":\"1227d2df-af85-4d7e-cd2c-c19ae7669cc8\"},\"glyph\":{\"type\":\"Circle\",\"id\":\"003765cd-5c32-43f4-c335-04e396ab005d\"},\"selection_glyph\":null,\"id\":\"430b3412-6160-45e0-c544-afa10d677d4c\",\"tags\":[]}},{\"id\":\"88ad14e3-7a37-4ee1-ce47-ca1e9f9d5b56\",\"type\":\"ColumnDataSource\",\"attributes\":{\"data\":{\"y\":[0.032106585744257,0.28385248333032,-1.0348547247903,-1.3478519964016,-0.36616390419416],\"x\":[-0.45182661240855,-0.66868214513729,0.47482930966035,0.63564701044303,-0.2357906395753]},\"column_names\":[\"y\",\"x\"],\"cont_ranges\":{},\"discrete_ranges\":{},\"selected\":[],\"id\":\"88ad14e3-7a37-4ee1-ce47-ca1e9f9d5b56\",\"doc\":null,\"tags\":[]}},{\"id\":\"a8245cc8-4914-4f5a-cfc9-4c89b70bcdc7\",\"type\":\"Circle\",\"attributes\":{\"fill_alpha\":{\"units\":\"data\",\"value\":0.2},\"line_alpha\":{\"units\":\"data\",\"value\":1},\"doc\":null,\"size\":{\"units\":\"screen\",\"value\":10},\"fill_color\":{\"value\":\"blue\"},\"line_color\":{\"value\":\"blue\"},\"x\":{\"units\":\"data\",\"field\":\"x\"},\"id\":\"a8245cc8-4914-4f5a-cfc9-4c89b70bcdc7\",\"y\":{\"units\":\"data\",\"field\":\"y\"},\"tags\":[]}},{\"id\":\"4a2b0906-a65d-478e-c75a-8d2c8464e4ed\",\"type\":\"Circle\",\"attributes\":{\"fill_alpha\":{\"units\":\"data\",\"value\":0.2},\"line_alpha\":{\"units\":\"data\",\"value\":1},\"doc\":null,\"size\":{\"units\":\"screen\",\"value\":10},\"fill_color\":{\"value\":\"blue\"},\"line_color\":{\"value\":\"blue\"},\"x\":{\"units\":\"data\",\"field\":\"x\"},\"id\":\"4a2b0906-a65d-478e-c75a-8d2c8464e4ed\",\"y\":{\"units\":\"data\",\"field\":\"y\"},\"tags\":[]}},{\"id\":\"29d5ebd2-9fbd-42d3-c2b9-fac420214c37\",\"type\":\"GlyphRenderer\",\"attributes\":{\"name\":null,\"nonselection_glyph\":{\"type\":\"Circle\",\"id\":\"4a2b0906-a65d-478e-c75a-8d2c8464e4ed\"},\"doc\":null,\"server_data_source\":null,\"data_source\":{\"type\":\"ColumnDataSource\",\"id\":\"88ad14e3-7a37-4ee1-ce47-ca1e9f9d5b56\"},\"glyph\":{\"type\":\"Circle\",\"id\":\"a8245cc8-4914-4f5a-cfc9-4c89b70bcdc7\"},\"selection_glyph\":null,\"id\":\"29d5ebd2-9fbd-42d3-c2b9-fac420214c37\",\"tags\":[]}},{\"id\":\"1a1280f1-9345-4dab-cd73-75b571378a73\",\"type\":\"DataRange1d\",\"attributes\":{\"sources\":[{\"columns\":[\"x\"],\"source\":{\"type\":\"ColumnDataSource\",\"id\":\"1227d2df-af85-4d7e-cd2c-c19ae7669cc8\"}},{\"columns\":[\"x\"],\"source\":{\"type\":\"ColumnDataSource\",\"id\":\"88ad14e3-7a37-4ee1-ce47-ca1e9f9d5b56\"}}],\"id\":\"1a1280f1-9345-4dab-cd73-75b571378a73\",\"tags\":[],\"doc\":null}},{\"id\":\"94ce86a3-da84-4dee-cdfa-8447154fa2e6\",\"type\":\"DataRange1d\",\"attributes\":{\"sources\":[{\"columns\":[\"y\"],\"source\":{\"type\":\"ColumnDataSource\",\"id\":\"1227d2df-af85-4d7e-cd2c-c19ae7669cc8\"}},{\"columns\":[\"y\"],\"source\":{\"type\":\"ColumnDataSource\",\"id\":\"88ad14e3-7a37-4ee1-ce47-ca1e9f9d5b56\"}}],\"id\":\"94ce86a3-da84-4dee-cdfa-8447154fa2e6\",\"tags\":[],\"doc\":null}},{\"id\":\"31eb89b1-e332-42b8-c211-6066176782c3\",\"type\":\"ToolEvents\",\"attributes\":{\"tags\":[],\"id\":\"31eb89b1-e332-42b8-c211-6066176782c3\",\"geometries\":[],\"doc\":null}},{\"id\":\"122b56ae-d653-44e6-c41d-25a11cd2e046\",\"type\":\"BasicTickFormatter\",\"attributes\":{\"id\":\"122b56ae-d653-44e6-c41d-25a11cd2e046\",\"tags\":[],\"doc\":null}},{\"id\":\"260b6d04-e5d0-4609-c6ea-9944ef20c76e\",\"type\":\"BasicTicker\",\"attributes\":{\"num_minor_ticks\":5,\"id\":\"260b6d04-e5d0-4609-c6ea-9944ef20c76e\",\"tags\":[],\"doc\":null}},{\"id\":\"4838e0b9-4add-450b-c5f5-551e47611112\",\"type\":\"LinearAxis\",\"attributes\":{\"formatter\":{\"type\":\"BasicTickFormatter\",\"id\":\"122b56ae-d653-44e6-c41d-25a11cd2e046\"},\"ticker\":{\"type\":\"BasicTicker\",\"id\":\"260b6d04-e5d0-4609-c6ea-9944ef20c76e\"},\"plot\":{\"id\":\"b460de3f-07d7-4af5-cac5-4a8fe282382f\",\"type\":\"Plot\",\"subtype\":\"Figure\"},\"axis_label\":null,\"id\":\"4838e0b9-4add-450b-c5f5-551e47611112\",\"doc\":null,\"tags\":[]}},{\"id\":\"8ce7e478-99ae-4fb6-cfdb-11f1e811af52\",\"type\":\"Grid\",\"attributes\":{\"dimension\":0,\"plot\":{\"id\":\"b460de3f-07d7-4af5-cac5-4a8fe282382f\",\"type\":\"Plot\",\"subtype\":\"Figure\"},\"ticker\":{\"type\":\"BasicTicker\",\"id\":\"260b6d04-e5d0-4609-c6ea-9944ef20c76e\"},\"id\":\"8ce7e478-99ae-4fb6-cfdb-11f1e811af52\",\"doc\":null,\"tags\":[]}},{\"id\":\"9cd3c40f-16d9-4213-c22d-be8d815b8e5c\",\"type\":\"BasicTickFormatter\",\"attributes\":{\"id\":\"9cd3c40f-16d9-4213-c22d-be8d815b8e5c\",\"tags\":[],\"doc\":null}},{\"id\":\"f994c54d-e84f-42a8-c28e-c78974388163\",\"type\":\"BasicTicker\",\"attributes\":{\"num_minor_ticks\":5,\"id\":\"f994c54d-e84f-42a8-c28e-c78974388163\",\"tags\":[],\"doc\":null}},{\"id\":\"e79af5cc-efc5-43c1-c37a-9a90b4408df9\",\"type\":\"LinearAxis\",\"attributes\":{\"formatter\":{\"type\":\"BasicTickFormatter\",\"id\":\"9cd3c40f-16d9-4213-c22d-be8d815b8e5c\"},\"ticker\":{\"type\":\"BasicTicker\",\"id\":\"f994c54d-e84f-42a8-c28e-c78974388163\"},\"plot\":{\"id\":\"b460de3f-07d7-4af5-cac5-4a8fe282382f\",\"type\":\"Plot\",\"subtype\":\"Figure\"},\"axis_label\":null,\"id\":\"e79af5cc-efc5-43c1-c37a-9a90b4408df9\",\"doc\":null,\"tags\":[]}},{\"id\":\"6baeb8ec-71f8-4791-c78e-0775d233351a\",\"type\":\"Grid\",\"attributes\":{\"dimension\":1,\"plot\":{\"id\":\"b460de3f-07d7-4af5-cac5-4a8fe282382f\",\"type\":\"Plot\",\"subtype\":\"Figure\"},\"ticker\":{\"type\":\"BasicTicker\",\"id\":\"f994c54d-e84f-42a8-c28e-c78974388163\"},\"id\":\"6baeb8ec-71f8-4791-c78e-0775d233351a\",\"doc\":null,\"tags\":[]}},{\"id\":\"a8d8ccfd-77d8-4a91-ca7f-1e9a5d4ae66a\",\"type\":\"PanTool\",\"attributes\":{\"plot\":{\"id\":\"b460de3f-07d7-4af5-cac5-4a8fe282382f\",\"type\":\"Plot\",\"subtype\":\"Figure\"},\"dimensions\":[\"width\",\"height\"],\"id\":\"a8d8ccfd-77d8-4a91-ca7f-1e9a5d4ae66a\",\"doc\":null,\"tags\":[]}},{\"id\":\"bf9dd448-a658-44b6-c452-9272d6a08d6e\",\"type\":\"WheelZoomTool\",\"attributes\":{\"plot\":{\"id\":\"b460de3f-07d7-4af5-cac5-4a8fe282382f\",\"type\":\"Plot\",\"subtype\":\"Figure\"},\"dimensions\":[\"width\",\"height\"],\"id\":\"bf9dd448-a658-44b6-c452-9272d6a08d6e\",\"doc\":null,\"tags\":[]}},{\"id\":\"08dae103-9a8f-4a9d-caeb-5edd39abfa12\",\"type\":\"BoxZoomTool\",\"attributes\":{\"plot\":{\"id\":\"b460de3f-07d7-4af5-cac5-4a8fe282382f\",\"type\":\"Plot\",\"subtype\":\"Figure\"},\"id\":\"08dae103-9a8f-4a9d-caeb-5edd39abfa12\",\"tags\":[],\"doc\":null}},{\"id\":\"5cca7155-eac3-47e9-c7d1-08494d2af29d\",\"type\":\"PreviewSaveTool\",\"attributes\":{\"plot\":{\"id\":\"b460de3f-07d7-4af5-cac5-4a8fe282382f\",\"type\":\"Plot\",\"subtype\":\"Figure\"},\"id\":\"5cca7155-eac3-47e9-c7d1-08494d2af29d\",\"tags\":[],\"doc\":null}},{\"id\":\"3d50d0a6-b080-42fa-c233-bbf2b46f5f9f\",\"type\":\"ResizeTool\",\"attributes\":{\"plot\":{\"id\":\"b460de3f-07d7-4af5-cac5-4a8fe282382f\",\"type\":\"Plot\",\"subtype\":\"Figure\"},\"id\":\"3d50d0a6-b080-42fa-c233-bbf2b46f5f9f\",\"tags\":[],\"doc\":null}},{\"id\":\"8d094fc7-9b80-44cd-c4b9-90f0034ad1a2\",\"type\":\"ResetTool\",\"attributes\":{\"plot\":{\"id\":\"b460de3f-07d7-4af5-cac5-4a8fe282382f\",\"type\":\"Plot\",\"subtype\":\"Figure\"},\"id\":\"8d094fc7-9b80-44cd-c4b9-90f0034ad1a2\",\"tags\":[],\"doc\":null}},{\"id\":\"0fd98f6c-4ce9-4e97-ce4d-1fd823c2f4cc\",\"type\":\"Legend\",\"attributes\":{\"plot\":{\"id\":\"b460de3f-07d7-4af5-cac5-4a8fe282382f\",\"type\":\"Plot\",\"subtype\":\"Figure\"},\"legends\":[[\"odd\",[{\"type\":\"GlyphRenderer\",\"id\":\"430b3412-6160-45e0-c544-afa10d677d4c\"}]],[\"even\",[{\"type\":\"GlyphRenderer\",\"id\":\"29d5ebd2-9fbd-42d3-c2b9-fac420214c37\"}]]],\"id\":\"0fd98f6c-4ce9-4e97-ce4d-1fd823c2f4cc\",\"doc\":null,\"tags\":[]}},{\"id\":\"b460de3f-07d7-4af5-cac5-4a8fe282382f\",\"type\":\"Plot\",\"attributes\":{\"x_range\":{\"type\":\"DataRange1d\",\"id\":\"1a1280f1-9345-4dab-cd73-75b571378a73\"},\"tool_events\":{\"type\":\"ToolEvents\",\"id\":\"31eb89b1-e332-42b8-c211-6066176782c3\"},\"below\":[{\"type\":\"LinearAxis\",\"id\":\"4838e0b9-4add-450b-c5f5-551e47611112\"}],\"renderers\":[{\"type\":\"GlyphRenderer\",\"id\":\"430b3412-6160-45e0-c544-afa10d677d4c\"},{\"type\":\"GlyphRenderer\",\"id\":\"29d5ebd2-9fbd-42d3-c2b9-fac420214c37\"},{\"type\":\"LinearAxis\",\"id\":\"4838e0b9-4add-450b-c5f5-551e47611112\"},{\"type\":\"Grid\",\"id\":\"8ce7e478-99ae-4fb6-cfdb-11f1e811af52\"},{\"type\":\"LinearAxis\",\"id\":\"e79af5cc-efc5-43c1-c37a-9a90b4408df9\"},{\"type\":\"Grid\",\"id\":\"6baeb8ec-71f8-4791-c78e-0775d233351a\"},{\"type\":\"Legend\",\"id\":\"0fd98f6c-4ce9-4e97-ce4d-1fd823c2f4cc\"}],\"above\":[],\"tools\":[{\"type\":\"PanTool\",\"id\":\"a8d8ccfd-77d8-4a91-ca7f-1e9a5d4ae66a\"},{\"type\":\"WheelZoomTool\",\"id\":\"bf9dd448-a658-44b6-c452-9272d6a08d6e\"},{\"type\":\"BoxZoomTool\",\"id\":\"08dae103-9a8f-4a9d-caeb-5edd39abfa12\"},{\"type\":\"PreviewSaveTool\",\"id\":\"5cca7155-eac3-47e9-c7d1-08494d2af29d\"},{\"type\":\"ResizeTool\",\"id\":\"3d50d0a6-b080-42fa-c233-bbf2b46f5f9f\"},{\"type\":\"ResetTool\",\"id\":\"8d094fc7-9b80-44cd-c4b9-90f0034ad1a2\"}],\"doc\":null,\"right\":[],\"title\":\"Embeddings of numbers 0 - 9\",\"extra_x_ranges\":{},\"left\":[{\"type\":\"LinearAxis\",\"id\":\"e79af5cc-efc5-43c1-c37a-9a90b4408df9\"}],\"y_range\":{\"type\":\"DataRange1d\",\"id\":\"94ce86a3-da84-4dee-cdfa-8447154fa2e6\"},\"id\":\"b460de3f-07d7-4af5-cac5-4a8fe282382f\",\"extra_y_ranges\":{},\"tags\":[]}}];\n",
       "  Bokeh.load_models(all_models);\n",
       "  var model = Bokeh.Collections(modeltype).get(modelid);\n",
       "  $(\"#c39d99d6-dc45-433c-c3d9-b1c6c0bc81d1\").html(''); // clear any previous plot in window_id\n",
       "  var view = new model.default_view({model: model, el: \"#c39d99d6-dc45-433c-c3d9-b1c6c0bc81d1\"});\n",
       "    } else {\n",
       "  load_lib(bokehjs_url, function() {\n",
       "      console.log(\"Bokeh: BokehJS plotting callback run at\", new Date())\n",
       "      var modelid = \"b460de3f-07d7-4af5-cac5-4a8fe282382f\";\n",
       "      var modeltype = \"Plot\";\n",
       "      var all_models = [{\"id\":\"1227d2df-af85-4d7e-cd2c-c19ae7669cc8\",\"type\":\"ColumnDataSource\",\"attributes\":{\"data\":{\"y\":[0.31174469087174,1.4548645386701,-1.6944343975552,1.1486142053649,-1.9739531476955],\"x\":[2.3474492298628,1.522908446722,-2.2286336083953,1.5614538656631,-2.0046092360157]},\"column_names\":[\"y\",\"x\"],\"cont_ranges\":{},\"discrete_ranges\":{},\"selected\":[],\"id\":\"1227d2df-af85-4d7e-cd2c-c19ae7669cc8\",\"doc\":null,\"tags\":[]}},{\"id\":\"003765cd-5c32-43f4-c335-04e396ab005d\",\"type\":\"Circle\",\"attributes\":{\"fill_alpha\":{\"units\":\"data\",\"value\":0.2},\"line_alpha\":{\"units\":\"data\",\"value\":1},\"doc\":null,\"size\":{\"units\":\"screen\",\"value\":10},\"fill_color\":{\"value\":\"red\"},\"line_color\":{\"value\":\"red\"},\"x\":{\"units\":\"data\",\"field\":\"x\"},\"id\":\"003765cd-5c32-43f4-c335-04e396ab005d\",\"y\":{\"units\":\"data\",\"field\":\"y\"},\"tags\":[]}},{\"id\":\"b91b20bb-a62a-482b-c882-09d0cd45dcce\",\"type\":\"Circle\",\"attributes\":{\"fill_alpha\":{\"units\":\"data\",\"value\":0.2},\"line_alpha\":{\"units\":\"data\",\"value\":1},\"doc\":null,\"size\":{\"units\":\"screen\",\"value\":10},\"fill_color\":{\"value\":\"red\"},\"line_color\":{\"value\":\"red\"},\"x\":{\"units\":\"data\",\"field\":\"x\"},\"id\":\"b91b20bb-a62a-482b-c882-09d0cd45dcce\",\"y\":{\"units\":\"data\",\"field\":\"y\"},\"tags\":[]}},{\"id\":\"430b3412-6160-45e0-c544-afa10d677d4c\",\"type\":\"GlyphRenderer\",\"attributes\":{\"name\":null,\"nonselection_glyph\":{\"type\":\"Circle\",\"id\":\"b91b20bb-a62a-482b-c882-09d0cd45dcce\"},\"doc\":null,\"server_data_source\":null,\"data_source\":{\"type\":\"ColumnDataSource\",\"id\":\"1227d2df-af85-4d7e-cd2c-c19ae7669cc8\"},\"glyph\":{\"type\":\"Circle\",\"id\":\"003765cd-5c32-43f4-c335-04e396ab005d\"},\"selection_glyph\":null,\"id\":\"430b3412-6160-45e0-c544-afa10d677d4c\",\"tags\":[]}},{\"id\":\"88ad14e3-7a37-4ee1-ce47-ca1e9f9d5b56\",\"type\":\"ColumnDataSource\",\"attributes\":{\"data\":{\"y\":[0.032106585744257,0.28385248333032,-1.0348547247903,-1.3478519964016,-0.36616390419416],\"x\":[-0.45182661240855,-0.66868214513729,0.47482930966035,0.63564701044303,-0.2357906395753]},\"column_names\":[\"y\",\"x\"],\"cont_ranges\":{},\"discrete_ranges\":{},\"selected\":[],\"id\":\"88ad14e3-7a37-4ee1-ce47-ca1e9f9d5b56\",\"doc\":null,\"tags\":[]}},{\"id\":\"a8245cc8-4914-4f5a-cfc9-4c89b70bcdc7\",\"type\":\"Circle\",\"attributes\":{\"fill_alpha\":{\"units\":\"data\",\"value\":0.2},\"line_alpha\":{\"units\":\"data\",\"value\":1},\"doc\":null,\"size\":{\"units\":\"screen\",\"value\":10},\"fill_color\":{\"value\":\"blue\"},\"line_color\":{\"value\":\"blue\"},\"x\":{\"units\":\"data\",\"field\":\"x\"},\"id\":\"a8245cc8-4914-4f5a-cfc9-4c89b70bcdc7\",\"y\":{\"units\":\"data\",\"field\":\"y\"},\"tags\":[]}},{\"id\":\"4a2b0906-a65d-478e-c75a-8d2c8464e4ed\",\"type\":\"Circle\",\"attributes\":{\"fill_alpha\":{\"units\":\"data\",\"value\":0.2},\"line_alpha\":{\"units\":\"data\",\"value\":1},\"doc\":null,\"size\":{\"units\":\"screen\",\"value\":10},\"fill_color\":{\"value\":\"blue\"},\"line_color\":{\"value\":\"blue\"},\"x\":{\"units\":\"data\",\"field\":\"x\"},\"id\":\"4a2b0906-a65d-478e-c75a-8d2c8464e4ed\",\"y\":{\"units\":\"data\",\"field\":\"y\"},\"tags\":[]}},{\"id\":\"29d5ebd2-9fbd-42d3-c2b9-fac420214c37\",\"type\":\"GlyphRenderer\",\"attributes\":{\"name\":null,\"nonselection_glyph\":{\"type\":\"Circle\",\"id\":\"4a2b0906-a65d-478e-c75a-8d2c8464e4ed\"},\"doc\":null,\"server_data_source\":null,\"data_source\":{\"type\":\"ColumnDataSource\",\"id\":\"88ad14e3-7a37-4ee1-ce47-ca1e9f9d5b56\"},\"glyph\":{\"type\":\"Circle\",\"id\":\"a8245cc8-4914-4f5a-cfc9-4c89b70bcdc7\"},\"selection_glyph\":null,\"id\":\"29d5ebd2-9fbd-42d3-c2b9-fac420214c37\",\"tags\":[]}},{\"id\":\"1a1280f1-9345-4dab-cd73-75b571378a73\",\"type\":\"DataRange1d\",\"attributes\":{\"sources\":[{\"columns\":[\"x\"],\"source\":{\"type\":\"ColumnDataSource\",\"id\":\"1227d2df-af85-4d7e-cd2c-c19ae7669cc8\"}},{\"columns\":[\"x\"],\"source\":{\"type\":\"ColumnDataSource\",\"id\":\"88ad14e3-7a37-4ee1-ce47-ca1e9f9d5b56\"}}],\"id\":\"1a1280f1-9345-4dab-cd73-75b571378a73\",\"tags\":[],\"doc\":null}},{\"id\":\"94ce86a3-da84-4dee-cdfa-8447154fa2e6\",\"type\":\"DataRange1d\",\"attributes\":{\"sources\":[{\"columns\":[\"y\"],\"source\":{\"type\":\"ColumnDataSource\",\"id\":\"1227d2df-af85-4d7e-cd2c-c19ae7669cc8\"}},{\"columns\":[\"y\"],\"source\":{\"type\":\"ColumnDataSource\",\"id\":\"88ad14e3-7a37-4ee1-ce47-ca1e9f9d5b56\"}}],\"id\":\"94ce86a3-da84-4dee-cdfa-8447154fa2e6\",\"tags\":[],\"doc\":null}},{\"id\":\"31eb89b1-e332-42b8-c211-6066176782c3\",\"type\":\"ToolEvents\",\"attributes\":{\"tags\":[],\"id\":\"31eb89b1-e332-42b8-c211-6066176782c3\",\"geometries\":[],\"doc\":null}},{\"id\":\"122b56ae-d653-44e6-c41d-25a11cd2e046\",\"type\":\"BasicTickFormatter\",\"attributes\":{\"id\":\"122b56ae-d653-44e6-c41d-25a11cd2e046\",\"tags\":[],\"doc\":null}},{\"id\":\"260b6d04-e5d0-4609-c6ea-9944ef20c76e\",\"type\":\"BasicTicker\",\"attributes\":{\"num_minor_ticks\":5,\"id\":\"260b6d04-e5d0-4609-c6ea-9944ef20c76e\",\"tags\":[],\"doc\":null}},{\"id\":\"4838e0b9-4add-450b-c5f5-551e47611112\",\"type\":\"LinearAxis\",\"attributes\":{\"formatter\":{\"type\":\"BasicTickFormatter\",\"id\":\"122b56ae-d653-44e6-c41d-25a11cd2e046\"},\"ticker\":{\"type\":\"BasicTicker\",\"id\":\"260b6d04-e5d0-4609-c6ea-9944ef20c76e\"},\"plot\":{\"id\":\"b460de3f-07d7-4af5-cac5-4a8fe282382f\",\"type\":\"Plot\",\"subtype\":\"Figure\"},\"axis_label\":null,\"id\":\"4838e0b9-4add-450b-c5f5-551e47611112\",\"doc\":null,\"tags\":[]}},{\"id\":\"8ce7e478-99ae-4fb6-cfdb-11f1e811af52\",\"type\":\"Grid\",\"attributes\":{\"dimension\":0,\"plot\":{\"id\":\"b460de3f-07d7-4af5-cac5-4a8fe282382f\",\"type\":\"Plot\",\"subtype\":\"Figure\"},\"ticker\":{\"type\":\"BasicTicker\",\"id\":\"260b6d04-e5d0-4609-c6ea-9944ef20c76e\"},\"id\":\"8ce7e478-99ae-4fb6-cfdb-11f1e811af52\",\"doc\":null,\"tags\":[]}},{\"id\":\"9cd3c40f-16d9-4213-c22d-be8d815b8e5c\",\"type\":\"BasicTickFormatter\",\"attributes\":{\"id\":\"9cd3c40f-16d9-4213-c22d-be8d815b8e5c\",\"tags\":[],\"doc\":null}},{\"id\":\"f994c54d-e84f-42a8-c28e-c78974388163\",\"type\":\"BasicTicker\",\"attributes\":{\"num_minor_ticks\":5,\"id\":\"f994c54d-e84f-42a8-c28e-c78974388163\",\"tags\":[],\"doc\":null}},{\"id\":\"e79af5cc-efc5-43c1-c37a-9a90b4408df9\",\"type\":\"LinearAxis\",\"attributes\":{\"formatter\":{\"type\":\"BasicTickFormatter\",\"id\":\"9cd3c40f-16d9-4213-c22d-be8d815b8e5c\"},\"ticker\":{\"type\":\"BasicTicker\",\"id\":\"f994c54d-e84f-42a8-c28e-c78974388163\"},\"plot\":{\"id\":\"b460de3f-07d7-4af5-cac5-4a8fe282382f\",\"type\":\"Plot\",\"subtype\":\"Figure\"},\"axis_label\":null,\"id\":\"e79af5cc-efc5-43c1-c37a-9a90b4408df9\",\"doc\":null,\"tags\":[]}},{\"id\":\"6baeb8ec-71f8-4791-c78e-0775d233351a\",\"type\":\"Grid\",\"attributes\":{\"dimension\":1,\"plot\":{\"id\":\"b460de3f-07d7-4af5-cac5-4a8fe282382f\",\"type\":\"Plot\",\"subtype\":\"Figure\"},\"ticker\":{\"type\":\"BasicTicker\",\"id\":\"f994c54d-e84f-42a8-c28e-c78974388163\"},\"id\":\"6baeb8ec-71f8-4791-c78e-0775d233351a\",\"doc\":null,\"tags\":[]}},{\"id\":\"a8d8ccfd-77d8-4a91-ca7f-1e9a5d4ae66a\",\"type\":\"PanTool\",\"attributes\":{\"plot\":{\"id\":\"b460de3f-07d7-4af5-cac5-4a8fe282382f\",\"type\":\"Plot\",\"subtype\":\"Figure\"},\"dimensions\":[\"width\",\"height\"],\"id\":\"a8d8ccfd-77d8-4a91-ca7f-1e9a5d4ae66a\",\"doc\":null,\"tags\":[]}},{\"id\":\"bf9dd448-a658-44b6-c452-9272d6a08d6e\",\"type\":\"WheelZoomTool\",\"attributes\":{\"plot\":{\"id\":\"b460de3f-07d7-4af5-cac5-4a8fe282382f\",\"type\":\"Plot\",\"subtype\":\"Figure\"},\"dimensions\":[\"width\",\"height\"],\"id\":\"bf9dd448-a658-44b6-c452-9272d6a08d6e\",\"doc\":null,\"tags\":[]}},{\"id\":\"08dae103-9a8f-4a9d-caeb-5edd39abfa12\",\"type\":\"BoxZoomTool\",\"attributes\":{\"plot\":{\"id\":\"b460de3f-07d7-4af5-cac5-4a8fe282382f\",\"type\":\"Plot\",\"subtype\":\"Figure\"},\"id\":\"08dae103-9a8f-4a9d-caeb-5edd39abfa12\",\"tags\":[],\"doc\":null}},{\"id\":\"5cca7155-eac3-47e9-c7d1-08494d2af29d\",\"type\":\"PreviewSaveTool\",\"attributes\":{\"plot\":{\"id\":\"b460de3f-07d7-4af5-cac5-4a8fe282382f\",\"type\":\"Plot\",\"subtype\":\"Figure\"},\"id\":\"5cca7155-eac3-47e9-c7d1-08494d2af29d\",\"tags\":[],\"doc\":null}},{\"id\":\"3d50d0a6-b080-42fa-c233-bbf2b46f5f9f\",\"type\":\"ResizeTool\",\"attributes\":{\"plot\":{\"id\":\"b460de3f-07d7-4af5-cac5-4a8fe282382f\",\"type\":\"Plot\",\"subtype\":\"Figure\"},\"id\":\"3d50d0a6-b080-42fa-c233-bbf2b46f5f9f\",\"tags\":[],\"doc\":null}},{\"id\":\"8d094fc7-9b80-44cd-c4b9-90f0034ad1a2\",\"type\":\"ResetTool\",\"attributes\":{\"plot\":{\"id\":\"b460de3f-07d7-4af5-cac5-4a8fe282382f\",\"type\":\"Plot\",\"subtype\":\"Figure\"},\"id\":\"8d094fc7-9b80-44cd-c4b9-90f0034ad1a2\",\"tags\":[],\"doc\":null}},{\"id\":\"0fd98f6c-4ce9-4e97-ce4d-1fd823c2f4cc\",\"type\":\"Legend\",\"attributes\":{\"plot\":{\"id\":\"b460de3f-07d7-4af5-cac5-4a8fe282382f\",\"type\":\"Plot\",\"subtype\":\"Figure\"},\"legends\":[[\"odd\",[{\"type\":\"GlyphRenderer\",\"id\":\"430b3412-6160-45e0-c544-afa10d677d4c\"}]],[\"even\",[{\"type\":\"GlyphRenderer\",\"id\":\"29d5ebd2-9fbd-42d3-c2b9-fac420214c37\"}]]],\"id\":\"0fd98f6c-4ce9-4e97-ce4d-1fd823c2f4cc\",\"doc\":null,\"tags\":[]}},{\"id\":\"b460de3f-07d7-4af5-cac5-4a8fe282382f\",\"type\":\"Plot\",\"attributes\":{\"x_range\":{\"type\":\"DataRange1d\",\"id\":\"1a1280f1-9345-4dab-cd73-75b571378a73\"},\"tool_events\":{\"type\":\"ToolEvents\",\"id\":\"31eb89b1-e332-42b8-c211-6066176782c3\"},\"below\":[{\"type\":\"LinearAxis\",\"id\":\"4838e0b9-4add-450b-c5f5-551e47611112\"}],\"renderers\":[{\"type\":\"GlyphRenderer\",\"id\":\"430b3412-6160-45e0-c544-afa10d677d4c\"},{\"type\":\"GlyphRenderer\",\"id\":\"29d5ebd2-9fbd-42d3-c2b9-fac420214c37\"},{\"type\":\"LinearAxis\",\"id\":\"4838e0b9-4add-450b-c5f5-551e47611112\"},{\"type\":\"Grid\",\"id\":\"8ce7e478-99ae-4fb6-cfdb-11f1e811af52\"},{\"type\":\"LinearAxis\",\"id\":\"e79af5cc-efc5-43c1-c37a-9a90b4408df9\"},{\"type\":\"Grid\",\"id\":\"6baeb8ec-71f8-4791-c78e-0775d233351a\"},{\"type\":\"Legend\",\"id\":\"0fd98f6c-4ce9-4e97-ce4d-1fd823c2f4cc\"}],\"above\":[],\"tools\":[{\"type\":\"PanTool\",\"id\":\"a8d8ccfd-77d8-4a91-ca7f-1e9a5d4ae66a\"},{\"type\":\"WheelZoomTool\",\"id\":\"bf9dd448-a658-44b6-c452-9272d6a08d6e\"},{\"type\":\"BoxZoomTool\",\"id\":\"08dae103-9a8f-4a9d-caeb-5edd39abfa12\"},{\"type\":\"PreviewSaveTool\",\"id\":\"5cca7155-eac3-47e9-c7d1-08494d2af29d\"},{\"type\":\"ResizeTool\",\"id\":\"3d50d0a6-b080-42fa-c233-bbf2b46f5f9f\"},{\"type\":\"ResetTool\",\"id\":\"8d094fc7-9b80-44cd-c4b9-90f0034ad1a2\"}],\"doc\":null,\"right\":[],\"title\":\"Embeddings of numbers 0 - 9\",\"extra_x_ranges\":{},\"left\":[{\"type\":\"LinearAxis\",\"id\":\"e79af5cc-efc5-43c1-c37a-9a90b4408df9\"}],\"y_range\":{\"type\":\"DataRange1d\",\"id\":\"94ce86a3-da84-4dee-cdfa-8447154fa2e6\"},\"id\":\"b460de3f-07d7-4af5-cac5-4a8fe282382f\",\"extra_y_ranges\":{},\"tags\":[]}}];\n",
       "      Bokeh.load_models(all_models);\n",
       "      var model = Bokeh.Collections(modeltype).get(modelid);\n",
       "      $(\"#c39d99d6-dc45-433c-c3d9-b1c6c0bc81d1\").html(''); // clear any previous plot in window_id\n",
       "      var view = new model.default_view({model: model, el: \"#c39d99d6-dc45-433c-c3d9-b1c6c0bc81d1\"});\n",
       "  });\n",
       "    }\n",
       "});\n",
       "</script>\n",
       "<div class=\"plotdiv\" id=\"c39d99d6-dc45-433c-c3d9-b1c6c0bc81d1\"></div>\n"
      ]
     },
     "metadata": {},
     "output_type": "display_data"
    }
   ],
   "source": [
    "local _ = plot_emb(emb,nil)"
   ]
  },
  {
   "cell_type": "code",
   "execution_count": 60,
   "metadata": {
    "collapsed": false
   },
   "outputs": [
    {
     "data": {
      "text/plain": [
       " 1.2402  2.3508\n",
       "-2.8068  1.5669\n",
       " 1.2212  2.3530\n",
       "-2.9475  1.6077\n",
       " 1.2472  2.3113\n",
       "-3.0214  1.6653\n",
       " 1.2684  2.3388\n",
       " 3.5085 -1.1818\n",
       " 1.3694  2.2624\n",
       " 3.5260 -1.1935\n",
       "[torch.DoubleTensor of size 10x2]\n",
       "\n"
      ]
     },
     "execution_count": 60,
     "metadata": {},
     "output_type": "execute_result"
    }
   ],
   "source": [
    "emb.weight"
   ]
  },
  {
   "cell_type": "code",
   "execution_count": null,
   "metadata": {
    "collapsed": true
   },
   "outputs": [],
   "source": []
  }
 ],
 "metadata": {
  "kernelspec": {
   "display_name": "iTorch",
   "language": "lua",
   "name": "itorch"
  },
  "language_info": {
   "name": "lua",
   "version": "20100"
  }
 },
 "nbformat": 4,
 "nbformat_minor": 0
}
