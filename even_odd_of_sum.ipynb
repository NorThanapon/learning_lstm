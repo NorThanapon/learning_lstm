{
 "cells": [
  {
   "cell_type": "code",
   "execution_count": 1,
   "metadata": {
    "collapsed": false
   },
   "outputs": [],
   "source": [
    "require 'nn'\n",
    "require 'nngraph'\n",
    "Plot = require \"itorch.Plot\"\n",
    "lstm = {}\n",
    "include('utils.lua')\n",
    "include('LSTM.lua')"
   ]
  },
  {
   "cell_type": "code",
   "execution_count": 2,
   "metadata": {
    "collapsed": false
   },
   "outputs": [],
   "source": [
    "-- model hyper-params\n",
    "emb_dim = 2\n",
    "sum_rep_dim = 20\n",
    "class_hidden = 40\n",
    "class_types = 2\n",
    "seq_len = 5\n",
    "-- create a model (in forward order)\n",
    "emb = nn.LookupTable(10, emb_dim) -- embeddings layer\n",
    "lstm_net = lstm.LSTM({input_dim=emb_dim, hidden_dim=sum_rep_dim}) -- LSTM layer\n",
    "classifier = nn.Sequential()  -- classification layer\n",
    "classifier:add(nn.Linear(sum_rep_dim, class_hidden)) -- classification: linear\n",
    "classifier:add(nn.Tanh())  -- classification: activation\n",
    "classifier:add(nn.Linear(class_hidden, class_types)) -- classification: output\n",
    "classifier:add(nn.LogSoftMax()) -- classification: softmax\n",
    "criterion = nn.ClassNLLCriterion() -- negative log-likelihood for training\n",
    "-- if we don't use \"optim\" package, the rest is not need \n",
    "-- (I am going to write SGD myself)\n",
    "local modules = nn.Parallel()\n",
    "modules:add(emb)\n",
    "modules:add(lstm_net)\n",
    "modules:add(classifier)\n",
    "params, grad_params = modules:getParameters()"
   ]
  },
  {
   "cell_type": "code",
   "execution_count": 3,
   "metadata": {
    "collapsed": false
   },
   "outputs": [],
   "source": [
    "-- Utility functions\n",
    "function plot_emb(emb, plot)\n",
    "    local even_points = emb.weight:index(1, torch.LongTensor{1,3,5,7,9})\n",
    "    local odd_points = emb.weight:index(1, torch.LongTensor{2,4,6,8,10})\n",
    "    if plot == nil then\n",
    "        plot = Plot()\n",
    "    else\n",
    "        plot._data = {}\n",
    "    end\n",
    "    plot:circle(odd_points[{{}, 1}], odd_points[{{}, 2}], 'red', 'odd')\n",
    "    plot:circle(even_points[{{}, 1}], even_points[{{}, 2}], 'blue', 'even')\n",
    "    plot:title('Embeddings of numbers 0 - 9')\n",
    "    plot:legend(true)\n",
    "    plot:redraw()\n",
    "    return plot\n",
    "end\n",
    "function gen_data(len)\n",
    "    local inputs = torch.Tensor(len)\n",
    "    local outputs = torch.Tensor(len)\n",
    "    for i = 1, len do\n",
    "        inputs[i] = torch.uniform(1,11)\n",
    "    end\n",
    "    inputs:floor()\n",
    "    local s = 0\n",
    "    for i = 1, len do\n",
    "        s = s + inputs[i] - 1\n",
    "        outputs[i] = (s % 2) + 1\n",
    "    end\n",
    "    return inputs, outputs\n",
    "end\n",
    "function display(inputs, outputs)\n",
    "    local s = 0\n",
    "    for i = 1, inputs:size(1) do\n",
    "        s = s + inputs[i] - 1\n",
    "        out_text = 'Even'\n",
    "        if outputs[i] == 2 then out_text = 'Odd' end\n",
    "        print(string.format('input %d, sum %d, output %s', inputs[i] - 1, s, out_text))\n",
    "    end\n",
    "end"
   ]
  },
  {
   "cell_type": "code",
   "execution_count": 4,
   "metadata": {
    "collapsed": false
   },
   "outputs": [
    {
     "data": {
      "text/html": [
       "<script type=\"text/javascript\">\n",
       "$(function() {\n",
       "    if (typeof (window._bokeh_onload_callbacks) === \"undefined\"){\n",
       "  window._bokeh_onload_callbacks = [];\n",
       "    }\n",
       "    function load_lib(url, callback){\n",
       "  window._bokeh_onload_callbacks.push(callback);\n",
       "  if (window._bokeh_is_loading){\n",
       "      console.log(\"Bokeh: BokehJS is being loaded, scheduling callback at\", new Date());\n",
       "      return null;\n",
       "  }\n",
       "  console.log(\"Bokeh: BokehJS not loaded, scheduling load and callback at\", new Date());\n",
       "  window._bokeh_is_loading = true;\n",
       "  var s = document.createElement('script');\n",
       "  s.src = url;\n",
       "  s.async = true;\n",
       "  s.onreadystatechange = s.onload = function(){\n",
       "      Bokeh.embed.inject_css(\"http://cdn.pydata.org/bokeh-0.7.0.min.css\");\n",
       "      window._bokeh_onload_callbacks.forEach(function(callback){callback()});\n",
       "  };\n",
       "  s.onerror = function(){\n",
       "      console.warn(\"failed to load library \" + url);\n",
       "  };\n",
       "  document.getElementsByTagName(\"head\")[0].appendChild(s);\n",
       "    }\n",
       "\n",
       "    bokehjs_url = \"http://cdn.pydata.org/bokeh-0.7.0.min.js\"\n",
       "\n",
       "    var elt = document.getElementById(\"16ca4d4e-69df-4fa1-cf2a-9b4b1287e209\");\n",
       "    if(elt==null) {\n",
       "  console.log(\"Bokeh: ERROR: autoload.js configured with elementid '16ca4d4e-69df-4fa1-cf2a-9b4b1287e209'\"\n",
       "        + \"but no matching script tag was found. \")\n",
       "  return false;\n",
       "    }\n",
       "\n",
       "    if(typeof(Bokeh) !== \"undefined\") {\n",
       "  console.log(\"Bokeh: BokehJS loaded, going straight to plotting\");\n",
       "  var modelid = \"2f79d0ae-336f-4b57-cb29-565af26475f4\";\n",
       "  var modeltype = \"Plot\";\n",
       "  var all_models = [{\"id\":\"e0b42cff-87b8-4a28-cad0-9ac042194cb2\",\"type\":\"ColumnDataSource\",\"attributes\":{\"data\":{\"y\":[-0.3330566021933,0.052424358857676,-0.086380575036573,-0.38262792726218,-0.17877542412507],\"x\":[0.8458461938063,0.50011222547901,-1.4712167569094,1.40128054783,-1.3496825010442]},\"column_names\":[\"y\",\"x\"],\"cont_ranges\":{},\"discrete_ranges\":{},\"selected\":[],\"id\":\"e0b42cff-87b8-4a28-cad0-9ac042194cb2\",\"doc\":null,\"tags\":[]}},{\"id\":\"10b4e680-057a-4a1f-cafe-dea08590c4af\",\"type\":\"Circle\",\"attributes\":{\"fill_alpha\":{\"units\":\"data\",\"value\":0.2},\"line_alpha\":{\"units\":\"data\",\"value\":1},\"doc\":null,\"size\":{\"units\":\"screen\",\"value\":10},\"fill_color\":{\"value\":\"red\"},\"line_color\":{\"value\":\"red\"},\"x\":{\"units\":\"data\",\"field\":\"x\"},\"id\":\"10b4e680-057a-4a1f-cafe-dea08590c4af\",\"y\":{\"units\":\"data\",\"field\":\"y\"},\"tags\":[]}},{\"id\":\"b87a236e-39de-4871-c8d4-3339d14ca9fe\",\"type\":\"Circle\",\"attributes\":{\"fill_alpha\":{\"units\":\"data\",\"value\":0.2},\"line_alpha\":{\"units\":\"data\",\"value\":1},\"doc\":null,\"size\":{\"units\":\"screen\",\"value\":10},\"fill_color\":{\"value\":\"red\"},\"line_color\":{\"value\":\"red\"},\"x\":{\"units\":\"data\",\"field\":\"x\"},\"id\":\"b87a236e-39de-4871-c8d4-3339d14ca9fe\",\"y\":{\"units\":\"data\",\"field\":\"y\"},\"tags\":[]}},{\"id\":\"81fcbe51-b5ee-4db9-cdc0-b8a407dd40eb\",\"type\":\"GlyphRenderer\",\"attributes\":{\"name\":null,\"nonselection_glyph\":{\"type\":\"Circle\",\"id\":\"b87a236e-39de-4871-c8d4-3339d14ca9fe\"},\"doc\":null,\"server_data_source\":null,\"data_source\":{\"type\":\"ColumnDataSource\",\"id\":\"e0b42cff-87b8-4a28-cad0-9ac042194cb2\"},\"glyph\":{\"type\":\"Circle\",\"id\":\"10b4e680-057a-4a1f-cafe-dea08590c4af\"},\"selection_glyph\":null,\"id\":\"81fcbe51-b5ee-4db9-cdc0-b8a407dd40eb\",\"tags\":[]}},{\"id\":\"dc92eb86-db89-4bee-cb2f-cecbba231d70\",\"type\":\"ColumnDataSource\",\"attributes\":{\"data\":{\"y\":[0.4101677656242,1.4445427290533,-1.3592815931271,0.64065079786954,0.0082127860877918],\"x\":[-1.3675613412203,1.2350565532193,-0.015379682477933,0.46967674690432,0.90163874657178]},\"column_names\":[\"y\",\"x\"],\"cont_ranges\":{},\"discrete_ranges\":{},\"selected\":[],\"id\":\"dc92eb86-db89-4bee-cb2f-cecbba231d70\",\"doc\":null,\"tags\":[]}},{\"id\":\"fbfc8de8-bb8e-45f2-c544-0110242eab1d\",\"type\":\"Circle\",\"attributes\":{\"fill_alpha\":{\"units\":\"data\",\"value\":0.2},\"line_alpha\":{\"units\":\"data\",\"value\":1},\"doc\":null,\"size\":{\"units\":\"screen\",\"value\":10},\"fill_color\":{\"value\":\"blue\"},\"line_color\":{\"value\":\"blue\"},\"x\":{\"units\":\"data\",\"field\":\"x\"},\"id\":\"fbfc8de8-bb8e-45f2-c544-0110242eab1d\",\"y\":{\"units\":\"data\",\"field\":\"y\"},\"tags\":[]}},{\"id\":\"3ec781e8-420c-4d75-cdcb-dee6b0d0068c\",\"type\":\"Circle\",\"attributes\":{\"fill_alpha\":{\"units\":\"data\",\"value\":0.2},\"line_alpha\":{\"units\":\"data\",\"value\":1},\"doc\":null,\"size\":{\"units\":\"screen\",\"value\":10},\"fill_color\":{\"value\":\"blue\"},\"line_color\":{\"value\":\"blue\"},\"x\":{\"units\":\"data\",\"field\":\"x\"},\"id\":\"3ec781e8-420c-4d75-cdcb-dee6b0d0068c\",\"y\":{\"units\":\"data\",\"field\":\"y\"},\"tags\":[]}},{\"id\":\"d3c40fd8-8b54-4e08-cecf-70e347496f7d\",\"type\":\"GlyphRenderer\",\"attributes\":{\"name\":null,\"nonselection_glyph\":{\"type\":\"Circle\",\"id\":\"3ec781e8-420c-4d75-cdcb-dee6b0d0068c\"},\"doc\":null,\"server_data_source\":null,\"data_source\":{\"type\":\"ColumnDataSource\",\"id\":\"dc92eb86-db89-4bee-cb2f-cecbba231d70\"},\"glyph\":{\"type\":\"Circle\",\"id\":\"fbfc8de8-bb8e-45f2-c544-0110242eab1d\"},\"selection_glyph\":null,\"id\":\"d3c40fd8-8b54-4e08-cecf-70e347496f7d\",\"tags\":[]}},{\"id\":\"295bbb71-c767-4e62-cea9-fd82614afb58\",\"type\":\"DataRange1d\",\"attributes\":{\"sources\":[{\"columns\":[\"x\"],\"source\":{\"type\":\"ColumnDataSource\",\"id\":\"e0b42cff-87b8-4a28-cad0-9ac042194cb2\"}},{\"columns\":[\"x\"],\"source\":{\"type\":\"ColumnDataSource\",\"id\":\"dc92eb86-db89-4bee-cb2f-cecbba231d70\"}}],\"id\":\"295bbb71-c767-4e62-cea9-fd82614afb58\",\"tags\":[],\"doc\":null}},{\"id\":\"676a8e95-a689-4ce2-ccdf-bc8ad9f32418\",\"type\":\"DataRange1d\",\"attributes\":{\"sources\":[{\"columns\":[\"y\"],\"source\":{\"type\":\"ColumnDataSource\",\"id\":\"e0b42cff-87b8-4a28-cad0-9ac042194cb2\"}},{\"columns\":[\"y\"],\"source\":{\"type\":\"ColumnDataSource\",\"id\":\"dc92eb86-db89-4bee-cb2f-cecbba231d70\"}}],\"id\":\"676a8e95-a689-4ce2-ccdf-bc8ad9f32418\",\"tags\":[],\"doc\":null}},{\"id\":\"525beeef-1526-4bb9-cbcf-5fed4d9e2200\",\"type\":\"ToolEvents\",\"attributes\":{\"tags\":[],\"id\":\"525beeef-1526-4bb9-cbcf-5fed4d9e2200\",\"geometries\":[],\"doc\":null}},{\"id\":\"fb8d1727-b786-45ce-c531-9c54b5609220\",\"type\":\"BasicTickFormatter\",\"attributes\":{\"id\":\"fb8d1727-b786-45ce-c531-9c54b5609220\",\"tags\":[],\"doc\":null}},{\"id\":\"598729a1-0cf7-497a-c946-bb2b6c2bb0b4\",\"type\":\"BasicTicker\",\"attributes\":{\"num_minor_ticks\":5,\"id\":\"598729a1-0cf7-497a-c946-bb2b6c2bb0b4\",\"tags\":[],\"doc\":null}},{\"id\":\"294bc1d6-012f-4c1b-ccc7-8ff65da8cfb9\",\"type\":\"LinearAxis\",\"attributes\":{\"formatter\":{\"type\":\"BasicTickFormatter\",\"id\":\"fb8d1727-b786-45ce-c531-9c54b5609220\"},\"ticker\":{\"type\":\"BasicTicker\",\"id\":\"598729a1-0cf7-497a-c946-bb2b6c2bb0b4\"},\"plot\":{\"id\":\"2f79d0ae-336f-4b57-cb29-565af26475f4\",\"type\":\"Plot\",\"subtype\":\"Figure\"},\"axis_label\":null,\"id\":\"294bc1d6-012f-4c1b-ccc7-8ff65da8cfb9\",\"doc\":null,\"tags\":[]}},{\"id\":\"8065d0d8-e099-4afe-ca1c-cd2fa32b7fc2\",\"type\":\"Grid\",\"attributes\":{\"dimension\":0,\"plot\":{\"id\":\"2f79d0ae-336f-4b57-cb29-565af26475f4\",\"type\":\"Plot\",\"subtype\":\"Figure\"},\"ticker\":{\"type\":\"BasicTicker\",\"id\":\"598729a1-0cf7-497a-c946-bb2b6c2bb0b4\"},\"id\":\"8065d0d8-e099-4afe-ca1c-cd2fa32b7fc2\",\"doc\":null,\"tags\":[]}},{\"id\":\"b8bff12f-b404-43d6-c3ca-4404aedee39e\",\"type\":\"BasicTickFormatter\",\"attributes\":{\"id\":\"b8bff12f-b404-43d6-c3ca-4404aedee39e\",\"tags\":[],\"doc\":null}},{\"id\":\"90ac4a97-417d-4903-c98b-ed9a675d4918\",\"type\":\"BasicTicker\",\"attributes\":{\"num_minor_ticks\":5,\"id\":\"90ac4a97-417d-4903-c98b-ed9a675d4918\",\"tags\":[],\"doc\":null}},{\"id\":\"50ab886e-2ffc-4562-c531-022fe52b2fa8\",\"type\":\"LinearAxis\",\"attributes\":{\"formatter\":{\"type\":\"BasicTickFormatter\",\"id\":\"b8bff12f-b404-43d6-c3ca-4404aedee39e\"},\"ticker\":{\"type\":\"BasicTicker\",\"id\":\"90ac4a97-417d-4903-c98b-ed9a675d4918\"},\"plot\":{\"id\":\"2f79d0ae-336f-4b57-cb29-565af26475f4\",\"type\":\"Plot\",\"subtype\":\"Figure\"},\"axis_label\":null,\"id\":\"50ab886e-2ffc-4562-c531-022fe52b2fa8\",\"doc\":null,\"tags\":[]}},{\"id\":\"22748664-18c5-491a-c983-aa6519a2cf3d\",\"type\":\"Grid\",\"attributes\":{\"dimension\":1,\"plot\":{\"id\":\"2f79d0ae-336f-4b57-cb29-565af26475f4\",\"type\":\"Plot\",\"subtype\":\"Figure\"},\"ticker\":{\"type\":\"BasicTicker\",\"id\":\"90ac4a97-417d-4903-c98b-ed9a675d4918\"},\"id\":\"22748664-18c5-491a-c983-aa6519a2cf3d\",\"doc\":null,\"tags\":[]}},{\"id\":\"dfc5d210-21c2-4941-c9e8-e315d3e43f11\",\"type\":\"PanTool\",\"attributes\":{\"plot\":{\"id\":\"2f79d0ae-336f-4b57-cb29-565af26475f4\",\"type\":\"Plot\",\"subtype\":\"Figure\"},\"dimensions\":[\"width\",\"height\"],\"id\":\"dfc5d210-21c2-4941-c9e8-e315d3e43f11\",\"doc\":null,\"tags\":[]}},{\"id\":\"dbcc3eaa-b727-47b6-c720-42663355dce0\",\"type\":\"WheelZoomTool\",\"attributes\":{\"plot\":{\"id\":\"2f79d0ae-336f-4b57-cb29-565af26475f4\",\"type\":\"Plot\",\"subtype\":\"Figure\"},\"dimensions\":[\"width\",\"height\"],\"id\":\"dbcc3eaa-b727-47b6-c720-42663355dce0\",\"doc\":null,\"tags\":[]}},{\"id\":\"5009ef23-82c9-4a61-ca83-74682f17fda2\",\"type\":\"BoxZoomTool\",\"attributes\":{\"plot\":{\"id\":\"2f79d0ae-336f-4b57-cb29-565af26475f4\",\"type\":\"Plot\",\"subtype\":\"Figure\"},\"id\":\"5009ef23-82c9-4a61-ca83-74682f17fda2\",\"tags\":[],\"doc\":null}},{\"id\":\"cb31dc76-94d6-465b-c6f7-be2f9280a00e\",\"type\":\"PreviewSaveTool\",\"attributes\":{\"plot\":{\"id\":\"2f79d0ae-336f-4b57-cb29-565af26475f4\",\"type\":\"Plot\",\"subtype\":\"Figure\"},\"id\":\"cb31dc76-94d6-465b-c6f7-be2f9280a00e\",\"tags\":[],\"doc\":null}},{\"id\":\"2ce6d563-645b-437e-c3e5-955c0880629e\",\"type\":\"ResizeTool\",\"attributes\":{\"plot\":{\"id\":\"2f79d0ae-336f-4b57-cb29-565af26475f4\",\"type\":\"Plot\",\"subtype\":\"Figure\"},\"id\":\"2ce6d563-645b-437e-c3e5-955c0880629e\",\"tags\":[],\"doc\":null}},{\"id\":\"ae9bdc2a-8636-481f-c89f-c93e65dd2be2\",\"type\":\"ResetTool\",\"attributes\":{\"plot\":{\"id\":\"2f79d0ae-336f-4b57-cb29-565af26475f4\",\"type\":\"Plot\",\"subtype\":\"Figure\"},\"id\":\"ae9bdc2a-8636-481f-c89f-c93e65dd2be2\",\"tags\":[],\"doc\":null}},{\"id\":\"6ea307e2-93aa-4cdd-cc53-0fe234bdd645\",\"type\":\"Legend\",\"attributes\":{\"plot\":{\"id\":\"2f79d0ae-336f-4b57-cb29-565af26475f4\",\"type\":\"Plot\",\"subtype\":\"Figure\"},\"legends\":[[\"odd\",[{\"type\":\"GlyphRenderer\",\"id\":\"81fcbe51-b5ee-4db9-cdc0-b8a407dd40eb\"}]],[\"even\",[{\"type\":\"GlyphRenderer\",\"id\":\"d3c40fd8-8b54-4e08-cecf-70e347496f7d\"}]]],\"id\":\"6ea307e2-93aa-4cdd-cc53-0fe234bdd645\",\"doc\":null,\"tags\":[]}},{\"id\":\"2f79d0ae-336f-4b57-cb29-565af26475f4\",\"type\":\"Plot\",\"attributes\":{\"x_range\":{\"type\":\"DataRange1d\",\"id\":\"295bbb71-c767-4e62-cea9-fd82614afb58\"},\"tool_events\":{\"type\":\"ToolEvents\",\"id\":\"525beeef-1526-4bb9-cbcf-5fed4d9e2200\"},\"below\":[{\"type\":\"LinearAxis\",\"id\":\"294bc1d6-012f-4c1b-ccc7-8ff65da8cfb9\"}],\"renderers\":[{\"type\":\"GlyphRenderer\",\"id\":\"81fcbe51-b5ee-4db9-cdc0-b8a407dd40eb\"},{\"type\":\"GlyphRenderer\",\"id\":\"d3c40fd8-8b54-4e08-cecf-70e347496f7d\"},{\"type\":\"LinearAxis\",\"id\":\"294bc1d6-012f-4c1b-ccc7-8ff65da8cfb9\"},{\"type\":\"Grid\",\"id\":\"8065d0d8-e099-4afe-ca1c-cd2fa32b7fc2\"},{\"type\":\"LinearAxis\",\"id\":\"50ab886e-2ffc-4562-c531-022fe52b2fa8\"},{\"type\":\"Grid\",\"id\":\"22748664-18c5-491a-c983-aa6519a2cf3d\"},{\"type\":\"Legend\",\"id\":\"6ea307e2-93aa-4cdd-cc53-0fe234bdd645\"}],\"above\":[],\"tools\":[{\"type\":\"PanTool\",\"id\":\"dfc5d210-21c2-4941-c9e8-e315d3e43f11\"},{\"type\":\"WheelZoomTool\",\"id\":\"dbcc3eaa-b727-47b6-c720-42663355dce0\"},{\"type\":\"BoxZoomTool\",\"id\":\"5009ef23-82c9-4a61-ca83-74682f17fda2\"},{\"type\":\"PreviewSaveTool\",\"id\":\"cb31dc76-94d6-465b-c6f7-be2f9280a00e\"},{\"type\":\"ResizeTool\",\"id\":\"2ce6d563-645b-437e-c3e5-955c0880629e\"},{\"type\":\"ResetTool\",\"id\":\"ae9bdc2a-8636-481f-c89f-c93e65dd2be2\"}],\"doc\":null,\"right\":[],\"title\":\"Embeddings of numbers 0 - 9\",\"extra_x_ranges\":{},\"left\":[{\"type\":\"LinearAxis\",\"id\":\"50ab886e-2ffc-4562-c531-022fe52b2fa8\"}],\"y_range\":{\"type\":\"DataRange1d\",\"id\":\"676a8e95-a689-4ce2-ccdf-bc8ad9f32418\"},\"id\":\"2f79d0ae-336f-4b57-cb29-565af26475f4\",\"extra_y_ranges\":{},\"tags\":[]}}];\n",
       "  Bokeh.load_models(all_models);\n",
       "  var model = Bokeh.Collections(modeltype).get(modelid);\n",
       "  $(\"#16ca4d4e-69df-4fa1-cf2a-9b4b1287e209\").html(''); // clear any previous plot in window_id\n",
       "  var view = new model.default_view({model: model, el: \"#16ca4d4e-69df-4fa1-cf2a-9b4b1287e209\"});\n",
       "    } else {\n",
       "  load_lib(bokehjs_url, function() {\n",
       "      console.log(\"Bokeh: BokehJS plotting callback run at\", new Date())\n",
       "      var modelid = \"2f79d0ae-336f-4b57-cb29-565af26475f4\";\n",
       "      var modeltype = \"Plot\";\n",
       "      var all_models = [{\"id\":\"e0b42cff-87b8-4a28-cad0-9ac042194cb2\",\"type\":\"ColumnDataSource\",\"attributes\":{\"data\":{\"y\":[-0.3330566021933,0.052424358857676,-0.086380575036573,-0.38262792726218,-0.17877542412507],\"x\":[0.8458461938063,0.50011222547901,-1.4712167569094,1.40128054783,-1.3496825010442]},\"column_names\":[\"y\",\"x\"],\"cont_ranges\":{},\"discrete_ranges\":{},\"selected\":[],\"id\":\"e0b42cff-87b8-4a28-cad0-9ac042194cb2\",\"doc\":null,\"tags\":[]}},{\"id\":\"10b4e680-057a-4a1f-cafe-dea08590c4af\",\"type\":\"Circle\",\"attributes\":{\"fill_alpha\":{\"units\":\"data\",\"value\":0.2},\"line_alpha\":{\"units\":\"data\",\"value\":1},\"doc\":null,\"size\":{\"units\":\"screen\",\"value\":10},\"fill_color\":{\"value\":\"red\"},\"line_color\":{\"value\":\"red\"},\"x\":{\"units\":\"data\",\"field\":\"x\"},\"id\":\"10b4e680-057a-4a1f-cafe-dea08590c4af\",\"y\":{\"units\":\"data\",\"field\":\"y\"},\"tags\":[]}},{\"id\":\"b87a236e-39de-4871-c8d4-3339d14ca9fe\",\"type\":\"Circle\",\"attributes\":{\"fill_alpha\":{\"units\":\"data\",\"value\":0.2},\"line_alpha\":{\"units\":\"data\",\"value\":1},\"doc\":null,\"size\":{\"units\":\"screen\",\"value\":10},\"fill_color\":{\"value\":\"red\"},\"line_color\":{\"value\":\"red\"},\"x\":{\"units\":\"data\",\"field\":\"x\"},\"id\":\"b87a236e-39de-4871-c8d4-3339d14ca9fe\",\"y\":{\"units\":\"data\",\"field\":\"y\"},\"tags\":[]}},{\"id\":\"81fcbe51-b5ee-4db9-cdc0-b8a407dd40eb\",\"type\":\"GlyphRenderer\",\"attributes\":{\"name\":null,\"nonselection_glyph\":{\"type\":\"Circle\",\"id\":\"b87a236e-39de-4871-c8d4-3339d14ca9fe\"},\"doc\":null,\"server_data_source\":null,\"data_source\":{\"type\":\"ColumnDataSource\",\"id\":\"e0b42cff-87b8-4a28-cad0-9ac042194cb2\"},\"glyph\":{\"type\":\"Circle\",\"id\":\"10b4e680-057a-4a1f-cafe-dea08590c4af\"},\"selection_glyph\":null,\"id\":\"81fcbe51-b5ee-4db9-cdc0-b8a407dd40eb\",\"tags\":[]}},{\"id\":\"dc92eb86-db89-4bee-cb2f-cecbba231d70\",\"type\":\"ColumnDataSource\",\"attributes\":{\"data\":{\"y\":[0.4101677656242,1.4445427290533,-1.3592815931271,0.64065079786954,0.0082127860877918],\"x\":[-1.3675613412203,1.2350565532193,-0.015379682477933,0.46967674690432,0.90163874657178]},\"column_names\":[\"y\",\"x\"],\"cont_ranges\":{},\"discrete_ranges\":{},\"selected\":[],\"id\":\"dc92eb86-db89-4bee-cb2f-cecbba231d70\",\"doc\":null,\"tags\":[]}},{\"id\":\"fbfc8de8-bb8e-45f2-c544-0110242eab1d\",\"type\":\"Circle\",\"attributes\":{\"fill_alpha\":{\"units\":\"data\",\"value\":0.2},\"line_alpha\":{\"units\":\"data\",\"value\":1},\"doc\":null,\"size\":{\"units\":\"screen\",\"value\":10},\"fill_color\":{\"value\":\"blue\"},\"line_color\":{\"value\":\"blue\"},\"x\":{\"units\":\"data\",\"field\":\"x\"},\"id\":\"fbfc8de8-bb8e-45f2-c544-0110242eab1d\",\"y\":{\"units\":\"data\",\"field\":\"y\"},\"tags\":[]}},{\"id\":\"3ec781e8-420c-4d75-cdcb-dee6b0d0068c\",\"type\":\"Circle\",\"attributes\":{\"fill_alpha\":{\"units\":\"data\",\"value\":0.2},\"line_alpha\":{\"units\":\"data\",\"value\":1},\"doc\":null,\"size\":{\"units\":\"screen\",\"value\":10},\"fill_color\":{\"value\":\"blue\"},\"line_color\":{\"value\":\"blue\"},\"x\":{\"units\":\"data\",\"field\":\"x\"},\"id\":\"3ec781e8-420c-4d75-cdcb-dee6b0d0068c\",\"y\":{\"units\":\"data\",\"field\":\"y\"},\"tags\":[]}},{\"id\":\"d3c40fd8-8b54-4e08-cecf-70e347496f7d\",\"type\":\"GlyphRenderer\",\"attributes\":{\"name\":null,\"nonselection_glyph\":{\"type\":\"Circle\",\"id\":\"3ec781e8-420c-4d75-cdcb-dee6b0d0068c\"},\"doc\":null,\"server_data_source\":null,\"data_source\":{\"type\":\"ColumnDataSource\",\"id\":\"dc92eb86-db89-4bee-cb2f-cecbba231d70\"},\"glyph\":{\"type\":\"Circle\",\"id\":\"fbfc8de8-bb8e-45f2-c544-0110242eab1d\"},\"selection_glyph\":null,\"id\":\"d3c40fd8-8b54-4e08-cecf-70e347496f7d\",\"tags\":[]}},{\"id\":\"295bbb71-c767-4e62-cea9-fd82614afb58\",\"type\":\"DataRange1d\",\"attributes\":{\"sources\":[{\"columns\":[\"x\"],\"source\":{\"type\":\"ColumnDataSource\",\"id\":\"e0b42cff-87b8-4a28-cad0-9ac042194cb2\"}},{\"columns\":[\"x\"],\"source\":{\"type\":\"ColumnDataSource\",\"id\":\"dc92eb86-db89-4bee-cb2f-cecbba231d70\"}}],\"id\":\"295bbb71-c767-4e62-cea9-fd82614afb58\",\"tags\":[],\"doc\":null}},{\"id\":\"676a8e95-a689-4ce2-ccdf-bc8ad9f32418\",\"type\":\"DataRange1d\",\"attributes\":{\"sources\":[{\"columns\":[\"y\"],\"source\":{\"type\":\"ColumnDataSource\",\"id\":\"e0b42cff-87b8-4a28-cad0-9ac042194cb2\"}},{\"columns\":[\"y\"],\"source\":{\"type\":\"ColumnDataSource\",\"id\":\"dc92eb86-db89-4bee-cb2f-cecbba231d70\"}}],\"id\":\"676a8e95-a689-4ce2-ccdf-bc8ad9f32418\",\"tags\":[],\"doc\":null}},{\"id\":\"525beeef-1526-4bb9-cbcf-5fed4d9e2200\",\"type\":\"ToolEvents\",\"attributes\":{\"tags\":[],\"id\":\"525beeef-1526-4bb9-cbcf-5fed4d9e2200\",\"geometries\":[],\"doc\":null}},{\"id\":\"fb8d1727-b786-45ce-c531-9c54b5609220\",\"type\":\"BasicTickFormatter\",\"attributes\":{\"id\":\"fb8d1727-b786-45ce-c531-9c54b5609220\",\"tags\":[],\"doc\":null}},{\"id\":\"598729a1-0cf7-497a-c946-bb2b6c2bb0b4\",\"type\":\"BasicTicker\",\"attributes\":{\"num_minor_ticks\":5,\"id\":\"598729a1-0cf7-497a-c946-bb2b6c2bb0b4\",\"tags\":[],\"doc\":null}},{\"id\":\"294bc1d6-012f-4c1b-ccc7-8ff65da8cfb9\",\"type\":\"LinearAxis\",\"attributes\":{\"formatter\":{\"type\":\"BasicTickFormatter\",\"id\":\"fb8d1727-b786-45ce-c531-9c54b5609220\"},\"ticker\":{\"type\":\"BasicTicker\",\"id\":\"598729a1-0cf7-497a-c946-bb2b6c2bb0b4\"},\"plot\":{\"id\":\"2f79d0ae-336f-4b57-cb29-565af26475f4\",\"type\":\"Plot\",\"subtype\":\"Figure\"},\"axis_label\":null,\"id\":\"294bc1d6-012f-4c1b-ccc7-8ff65da8cfb9\",\"doc\":null,\"tags\":[]}},{\"id\":\"8065d0d8-e099-4afe-ca1c-cd2fa32b7fc2\",\"type\":\"Grid\",\"attributes\":{\"dimension\":0,\"plot\":{\"id\":\"2f79d0ae-336f-4b57-cb29-565af26475f4\",\"type\":\"Plot\",\"subtype\":\"Figure\"},\"ticker\":{\"type\":\"BasicTicker\",\"id\":\"598729a1-0cf7-497a-c946-bb2b6c2bb0b4\"},\"id\":\"8065d0d8-e099-4afe-ca1c-cd2fa32b7fc2\",\"doc\":null,\"tags\":[]}},{\"id\":\"b8bff12f-b404-43d6-c3ca-4404aedee39e\",\"type\":\"BasicTickFormatter\",\"attributes\":{\"id\":\"b8bff12f-b404-43d6-c3ca-4404aedee39e\",\"tags\":[],\"doc\":null}},{\"id\":\"90ac4a97-417d-4903-c98b-ed9a675d4918\",\"type\":\"BasicTicker\",\"attributes\":{\"num_minor_ticks\":5,\"id\":\"90ac4a97-417d-4903-c98b-ed9a675d4918\",\"tags\":[],\"doc\":null}},{\"id\":\"50ab886e-2ffc-4562-c531-022fe52b2fa8\",\"type\":\"LinearAxis\",\"attributes\":{\"formatter\":{\"type\":\"BasicTickFormatter\",\"id\":\"b8bff12f-b404-43d6-c3ca-4404aedee39e\"},\"ticker\":{\"type\":\"BasicTicker\",\"id\":\"90ac4a97-417d-4903-c98b-ed9a675d4918\"},\"plot\":{\"id\":\"2f79d0ae-336f-4b57-cb29-565af26475f4\",\"type\":\"Plot\",\"subtype\":\"Figure\"},\"axis_label\":null,\"id\":\"50ab886e-2ffc-4562-c531-022fe52b2fa8\",\"doc\":null,\"tags\":[]}},{\"id\":\"22748664-18c5-491a-c983-aa6519a2cf3d\",\"type\":\"Grid\",\"attributes\":{\"dimension\":1,\"plot\":{\"id\":\"2f79d0ae-336f-4b57-cb29-565af26475f4\",\"type\":\"Plot\",\"subtype\":\"Figure\"},\"ticker\":{\"type\":\"BasicTicker\",\"id\":\"90ac4a97-417d-4903-c98b-ed9a675d4918\"},\"id\":\"22748664-18c5-491a-c983-aa6519a2cf3d\",\"doc\":null,\"tags\":[]}},{\"id\":\"dfc5d210-21c2-4941-c9e8-e315d3e43f11\",\"type\":\"PanTool\",\"attributes\":{\"plot\":{\"id\":\"2f79d0ae-336f-4b57-cb29-565af26475f4\",\"type\":\"Plot\",\"subtype\":\"Figure\"},\"dimensions\":[\"width\",\"height\"],\"id\":\"dfc5d210-21c2-4941-c9e8-e315d3e43f11\",\"doc\":null,\"tags\":[]}},{\"id\":\"dbcc3eaa-b727-47b6-c720-42663355dce0\",\"type\":\"WheelZoomTool\",\"attributes\":{\"plot\":{\"id\":\"2f79d0ae-336f-4b57-cb29-565af26475f4\",\"type\":\"Plot\",\"subtype\":\"Figure\"},\"dimensions\":[\"width\",\"height\"],\"id\":\"dbcc3eaa-b727-47b6-c720-42663355dce0\",\"doc\":null,\"tags\":[]}},{\"id\":\"5009ef23-82c9-4a61-ca83-74682f17fda2\",\"type\":\"BoxZoomTool\",\"attributes\":{\"plot\":{\"id\":\"2f79d0ae-336f-4b57-cb29-565af26475f4\",\"type\":\"Plot\",\"subtype\":\"Figure\"},\"id\":\"5009ef23-82c9-4a61-ca83-74682f17fda2\",\"tags\":[],\"doc\":null}},{\"id\":\"cb31dc76-94d6-465b-c6f7-be2f9280a00e\",\"type\":\"PreviewSaveTool\",\"attributes\":{\"plot\":{\"id\":\"2f79d0ae-336f-4b57-cb29-565af26475f4\",\"type\":\"Plot\",\"subtype\":\"Figure\"},\"id\":\"cb31dc76-94d6-465b-c6f7-be2f9280a00e\",\"tags\":[],\"doc\":null}},{\"id\":\"2ce6d563-645b-437e-c3e5-955c0880629e\",\"type\":\"ResizeTool\",\"attributes\":{\"plot\":{\"id\":\"2f79d0ae-336f-4b57-cb29-565af26475f4\",\"type\":\"Plot\",\"subtype\":\"Figure\"},\"id\":\"2ce6d563-645b-437e-c3e5-955c0880629e\",\"tags\":[],\"doc\":null}},{\"id\":\"ae9bdc2a-8636-481f-c89f-c93e65dd2be2\",\"type\":\"ResetTool\",\"attributes\":{\"plot\":{\"id\":\"2f79d0ae-336f-4b57-cb29-565af26475f4\",\"type\":\"Plot\",\"subtype\":\"Figure\"},\"id\":\"ae9bdc2a-8636-481f-c89f-c93e65dd2be2\",\"tags\":[],\"doc\":null}},{\"id\":\"6ea307e2-93aa-4cdd-cc53-0fe234bdd645\",\"type\":\"Legend\",\"attributes\":{\"plot\":{\"id\":\"2f79d0ae-336f-4b57-cb29-565af26475f4\",\"type\":\"Plot\",\"subtype\":\"Figure\"},\"legends\":[[\"odd\",[{\"type\":\"GlyphRenderer\",\"id\":\"81fcbe51-b5ee-4db9-cdc0-b8a407dd40eb\"}]],[\"even\",[{\"type\":\"GlyphRenderer\",\"id\":\"d3c40fd8-8b54-4e08-cecf-70e347496f7d\"}]]],\"id\":\"6ea307e2-93aa-4cdd-cc53-0fe234bdd645\",\"doc\":null,\"tags\":[]}},{\"id\":\"2f79d0ae-336f-4b57-cb29-565af26475f4\",\"type\":\"Plot\",\"attributes\":{\"x_range\":{\"type\":\"DataRange1d\",\"id\":\"295bbb71-c767-4e62-cea9-fd82614afb58\"},\"tool_events\":{\"type\":\"ToolEvents\",\"id\":\"525beeef-1526-4bb9-cbcf-5fed4d9e2200\"},\"below\":[{\"type\":\"LinearAxis\",\"id\":\"294bc1d6-012f-4c1b-ccc7-8ff65da8cfb9\"}],\"renderers\":[{\"type\":\"GlyphRenderer\",\"id\":\"81fcbe51-b5ee-4db9-cdc0-b8a407dd40eb\"},{\"type\":\"GlyphRenderer\",\"id\":\"d3c40fd8-8b54-4e08-cecf-70e347496f7d\"},{\"type\":\"LinearAxis\",\"id\":\"294bc1d6-012f-4c1b-ccc7-8ff65da8cfb9\"},{\"type\":\"Grid\",\"id\":\"8065d0d8-e099-4afe-ca1c-cd2fa32b7fc2\"},{\"type\":\"LinearAxis\",\"id\":\"50ab886e-2ffc-4562-c531-022fe52b2fa8\"},{\"type\":\"Grid\",\"id\":\"22748664-18c5-491a-c983-aa6519a2cf3d\"},{\"type\":\"Legend\",\"id\":\"6ea307e2-93aa-4cdd-cc53-0fe234bdd645\"}],\"above\":[],\"tools\":[{\"type\":\"PanTool\",\"id\":\"dfc5d210-21c2-4941-c9e8-e315d3e43f11\"},{\"type\":\"WheelZoomTool\",\"id\":\"dbcc3eaa-b727-47b6-c720-42663355dce0\"},{\"type\":\"BoxZoomTool\",\"id\":\"5009ef23-82c9-4a61-ca83-74682f17fda2\"},{\"type\":\"PreviewSaveTool\",\"id\":\"cb31dc76-94d6-465b-c6f7-be2f9280a00e\"},{\"type\":\"ResizeTool\",\"id\":\"2ce6d563-645b-437e-c3e5-955c0880629e\"},{\"type\":\"ResetTool\",\"id\":\"ae9bdc2a-8636-481f-c89f-c93e65dd2be2\"}],\"doc\":null,\"right\":[],\"title\":\"Embeddings of numbers 0 - 9\",\"extra_x_ranges\":{},\"left\":[{\"type\":\"LinearAxis\",\"id\":\"50ab886e-2ffc-4562-c531-022fe52b2fa8\"}],\"y_range\":{\"type\":\"DataRange1d\",\"id\":\"676a8e95-a689-4ce2-ccdf-bc8ad9f32418\"},\"id\":\"2f79d0ae-336f-4b57-cb29-565af26475f4\",\"extra_y_ranges\":{},\"tags\":[]}}];\n",
       "      Bokeh.load_models(all_models);\n",
       "      var model = Bokeh.Collections(modeltype).get(modelid);\n",
       "      $(\"#16ca4d4e-69df-4fa1-cf2a-9b4b1287e209\").html(''); // clear any previous plot in window_id\n",
       "      var view = new model.default_view({model: model, el: \"#16ca4d4e-69df-4fa1-cf2a-9b4b1287e209\"});\n",
       "  });\n",
       "    }\n",
       "});\n",
       "</script>\n",
       "<div class=\"plotdiv\" id=\"16ca4d4e-69df-4fa1-cf2a-9b4b1287e209\"></div>\n"
      ]
     },
     "metadata": {},
     "output_type": "display_data"
    }
   ],
   "source": [
    "-- Initial embeddings\n",
    "local _ = plot_emb(emb, nil)"
   ]
  },
  {
   "cell_type": "code",
   "execution_count": 5,
   "metadata": {
    "collapsed": false,
    "scrolled": false
   },
   "outputs": [],
   "source": [
    "-- SGD hyper-params (this basic version only needs learning rate and number of iterations)\n",
    "local learning_rate = 0.01\n",
    "local epochs = 7500\n",
    "-- Parallization is not helpful here\n",
    "local num_threads = torch.getnumthreads()\n",
    "torch.setnumthreads(1)\n",
    "-- do many iterations\n",
    "--   \\[T]/  Praise the Sun!\n",
    "--    |_|\n",
    "--    \\ \\\n",
    "for i = 1,epochs do\n",
    "    -- Reset the network\n",
    "    lstm_net:forget()\n",
    "    lstm_net:zeroGradParameters()\n",
    "    emb:zeroGradParameters()\n",
    "    local input_seq, output_seq = gen_data(seq_len) -- get inputs and outputs\n",
    "    local emb_seq = emb:forward(input_seq)          -- get inputs' embeddings\n",
    "    local sum_rep_seq = lstm_net:forward(emb_seq:t()) -- get representations from LSTM\n",
    "    local grad_sum_rep_seq = torch.Tensor(sum_rep_dim, seq_len) -- for later\n",
    "    local total_loss = 0\n",
    "    grad_sum_rep_seq:zero()\n",
    "    for t = 1,seq_len do -- for each sum (in the sequence)\n",
    "        classifier:zeroGradParameters() -- reset the classifier\n",
    "        -- get output log distribution, only need hidden state\n",
    "        local net_output = classifier:forward(sum_rep_seq[t][2]) \n",
    "        local loss = criterion:forward(net_output, output_seq[t]) -- compute loss\n",
    "        total_loss = total_loss + loss\n",
    "        local grad_out = criterion:backward(net_output, output_seq[t]) -- gradients of the loss\n",
    "        local grad_sum_rep = classifier:backward(sum_rep_seq[t][2], grad_out) -- gradients of the representation\n",
    "        grad_sum_rep_seq[{{},t}] = grad_sum_rep -- we get the gradient one at a time, so keep it here for later\n",
    "        classifier:updateParameters(learning_rate) -- update the classifier's parameters\n",
    "    end\n",
    "    -- compute embedding gradients (using all of the representation gradients)\n",
    "    local grad_emb_seq = lstm_net:backward(emb_seq:t(), grad_sum_rep_seq)\n",
    "    -- compute input gradients \n",
    "    -- (this returns nothing, because the input is just index.\n",
    "    -- But we need to call it to update the gradients accroding to the inputs\n",
    "    emb:backward(input_seq, grad_emb_seq:t())\n",
    "    -- update parameters\n",
    "    lstm_net:updateParameters(learning_rate)\n",
    "    emb:updateParameters(learning_rate)\n",
    "end\n",
    "-- Set num threads back\n",
    "torch.setnumthreads(num_threads)"
   ]
  },
  {
   "cell_type": "code",
   "execution_count": 7,
   "metadata": {
    "collapsed": false,
    "scrolled": true
   },
   "outputs": [
    {
     "data": {
      "text/plain": [
       "input 5, sum 5, output Odd\t\n",
       "input 3, sum 8, output Even\t\n",
       "input 4, sum 12, output Even\t\n",
       "input 1, sum 13, output Odd\t\n",
       "input 8, sum 21, output Odd\t\n"
      ]
     },
     "execution_count": 7,
     "metadata": {},
     "output_type": "execute_result"
    }
   ],
   "source": [
    "-- Testing\n",
    "lstm_net:forget() -- reset LSTM (go back to step 0)\n",
    "local input_seq, output_seq = gen_data(seq_len)\n",
    "local emb_seq = emb:forward(input_seq)\n",
    "local sum_rep_seq = lstm_net:forward(emb_seq:t())\n",
    "local output_seq = torch.Tensor(seq_len) -- model's outputs, for later\n",
    "for t = 1,seq_len do\n",
    "    -- print('input:')\n",
    "    -- print(input_seq[t] - 1)\n",
    "    -- print(sum_rep_seq[t][2])\n",
    "    local net_output = classifier:forward(sum_rep_seq[t][2])\n",
    "    -- print(net_output)\n",
    "    local m, d = torch.max(net_output, 1)\n",
    "    output_seq[t] = d -- keep the output here\n",
    "end\n",
    "-- show the result, is it perfect?\n",
    "-- Yes: cool, can we make the sequence longer?\n",
    "-- No: tweak some hyper-parameters\n",
    "display(input_seq, output_seq) "
   ]
  },
  {
   "cell_type": "code",
   "execution_count": 8,
   "metadata": {
    "collapsed": false
   },
   "outputs": [
    {
     "data": {
      "text/html": [
       "<script type=\"text/javascript\">\n",
       "$(function() {\n",
       "    if (typeof (window._bokeh_onload_callbacks) === \"undefined\"){\n",
       "  window._bokeh_onload_callbacks = [];\n",
       "    }\n",
       "    function load_lib(url, callback){\n",
       "  window._bokeh_onload_callbacks.push(callback);\n",
       "  if (window._bokeh_is_loading){\n",
       "      console.log(\"Bokeh: BokehJS is being loaded, scheduling callback at\", new Date());\n",
       "      return null;\n",
       "  }\n",
       "  console.log(\"Bokeh: BokehJS not loaded, scheduling load and callback at\", new Date());\n",
       "  window._bokeh_is_loading = true;\n",
       "  var s = document.createElement('script');\n",
       "  s.src = url;\n",
       "  s.async = true;\n",
       "  s.onreadystatechange = s.onload = function(){\n",
       "      Bokeh.embed.inject_css(\"http://cdn.pydata.org/bokeh-0.7.0.min.css\");\n",
       "      window._bokeh_onload_callbacks.forEach(function(callback){callback()});\n",
       "  };\n",
       "  s.onerror = function(){\n",
       "      console.warn(\"failed to load library \" + url);\n",
       "  };\n",
       "  document.getElementsByTagName(\"head\")[0].appendChild(s);\n",
       "    }\n",
       "\n",
       "    bokehjs_url = \"http://cdn.pydata.org/bokeh-0.7.0.min.js\"\n",
       "\n",
       "    var elt = document.getElementById(\"6761a806-b16f-4d65-cdfb-ac8a32d052d3\");\n",
       "    if(elt==null) {\n",
       "  console.log(\"Bokeh: ERROR: autoload.js configured with elementid '6761a806-b16f-4d65-cdfb-ac8a32d052d3'\"\n",
       "        + \"but no matching script tag was found. \")\n",
       "  return false;\n",
       "    }\n",
       "\n",
       "    if(typeof(Bokeh) !== \"undefined\") {\n",
       "  console.log(\"Bokeh: BokehJS loaded, going straight to plotting\");\n",
       "  var modelid = \"88fe02b4-c305-4443-c4bc-51a48e8ab53c\";\n",
       "  var modeltype = \"Plot\";\n",
       "  var all_models = [{\"id\":\"3de3aa81-2bc2-4514-c55b-552a597be5ee\",\"type\":\"ColumnDataSource\",\"attributes\":{\"data\":{\"y\":[-1.4704842509608,-1.5024207250058,-1.1920093529165,-1.540941834649,-1.1320374826247],\"x\":[1.0878805721938,1.0810153933355,-1.7679287308361,1.0429904296908,-1.7230846293294]},\"column_names\":[\"y\",\"x\"],\"cont_ranges\":{},\"discrete_ranges\":{},\"selected\":[],\"id\":\"3de3aa81-2bc2-4514-c55b-552a597be5ee\",\"doc\":null,\"tags\":[]}},{\"id\":\"30478146-1415-43bc-c354-2f11b7f63741\",\"type\":\"Circle\",\"attributes\":{\"fill_alpha\":{\"units\":\"data\",\"value\":0.2},\"line_alpha\":{\"units\":\"data\",\"value\":1},\"doc\":null,\"size\":{\"units\":\"screen\",\"value\":10},\"fill_color\":{\"value\":\"red\"},\"line_color\":{\"value\":\"red\"},\"x\":{\"units\":\"data\",\"field\":\"x\"},\"id\":\"30478146-1415-43bc-c354-2f11b7f63741\",\"y\":{\"units\":\"data\",\"field\":\"y\"},\"tags\":[]}},{\"id\":\"67fedde7-77f3-4be4-cbee-f8d7e302e1f3\",\"type\":\"Circle\",\"attributes\":{\"fill_alpha\":{\"units\":\"data\",\"value\":0.2},\"line_alpha\":{\"units\":\"data\",\"value\":1},\"doc\":null,\"size\":{\"units\":\"screen\",\"value\":10},\"fill_color\":{\"value\":\"red\"},\"line_color\":{\"value\":\"red\"},\"x\":{\"units\":\"data\",\"field\":\"x\"},\"id\":\"67fedde7-77f3-4be4-cbee-f8d7e302e1f3\",\"y\":{\"units\":\"data\",\"field\":\"y\"},\"tags\":[]}},{\"id\":\"bf1c741c-5060-4927-c9b9-07391de6e8a4\",\"type\":\"GlyphRenderer\",\"attributes\":{\"name\":null,\"nonselection_glyph\":{\"type\":\"Circle\",\"id\":\"67fedde7-77f3-4be4-cbee-f8d7e302e1f3\"},\"doc\":null,\"server_data_source\":null,\"data_source\":{\"type\":\"ColumnDataSource\",\"id\":\"3de3aa81-2bc2-4514-c55b-552a597be5ee\"},\"glyph\":{\"type\":\"Circle\",\"id\":\"30478146-1415-43bc-c354-2f11b7f63741\"},\"selection_glyph\":null,\"id\":\"bf1c741c-5060-4927-c9b9-07391de6e8a4\",\"tags\":[]}},{\"id\":\"e4375cef-c895-46d0-c6a9-fab205519e72\",\"type\":\"ColumnDataSource\",\"attributes\":{\"data\":{\"y\":[1.3120091747518,1.2981834385017,1.1226289244334,1.251073119971,1.2957427793214],\"x\":[-0.74701458174887,1.2304330703702,-0.22315406149138,0.68117779036764,0.67377654833751]},\"column_names\":[\"y\",\"x\"],\"cont_ranges\":{},\"discrete_ranges\":{},\"selected\":[],\"id\":\"e4375cef-c895-46d0-c6a9-fab205519e72\",\"doc\":null,\"tags\":[]}},{\"id\":\"648b2e60-e405-4c40-cc5b-fff61141078a\",\"type\":\"Circle\",\"attributes\":{\"fill_alpha\":{\"units\":\"data\",\"value\":0.2},\"line_alpha\":{\"units\":\"data\",\"value\":1},\"doc\":null,\"size\":{\"units\":\"screen\",\"value\":10},\"fill_color\":{\"value\":\"blue\"},\"line_color\":{\"value\":\"blue\"},\"x\":{\"units\":\"data\",\"field\":\"x\"},\"id\":\"648b2e60-e405-4c40-cc5b-fff61141078a\",\"y\":{\"units\":\"data\",\"field\":\"y\"},\"tags\":[]}},{\"id\":\"489e075e-014c-4ef5-ce93-ac111bcdfad3\",\"type\":\"Circle\",\"attributes\":{\"fill_alpha\":{\"units\":\"data\",\"value\":0.2},\"line_alpha\":{\"units\":\"data\",\"value\":1},\"doc\":null,\"size\":{\"units\":\"screen\",\"value\":10},\"fill_color\":{\"value\":\"blue\"},\"line_color\":{\"value\":\"blue\"},\"x\":{\"units\":\"data\",\"field\":\"x\"},\"id\":\"489e075e-014c-4ef5-ce93-ac111bcdfad3\",\"y\":{\"units\":\"data\",\"field\":\"y\"},\"tags\":[]}},{\"id\":\"4323d333-fe4b-47ae-c720-624cf01f3eae\",\"type\":\"GlyphRenderer\",\"attributes\":{\"name\":null,\"nonselection_glyph\":{\"type\":\"Circle\",\"id\":\"489e075e-014c-4ef5-ce93-ac111bcdfad3\"},\"doc\":null,\"server_data_source\":null,\"data_source\":{\"type\":\"ColumnDataSource\",\"id\":\"e4375cef-c895-46d0-c6a9-fab205519e72\"},\"glyph\":{\"type\":\"Circle\",\"id\":\"648b2e60-e405-4c40-cc5b-fff61141078a\"},\"selection_glyph\":null,\"id\":\"4323d333-fe4b-47ae-c720-624cf01f3eae\",\"tags\":[]}},{\"id\":\"1aa638fb-0aeb-4e45-cebe-45eea8d8a6e4\",\"type\":\"DataRange1d\",\"attributes\":{\"sources\":[{\"columns\":[\"x\"],\"source\":{\"type\":\"ColumnDataSource\",\"id\":\"3de3aa81-2bc2-4514-c55b-552a597be5ee\"}},{\"columns\":[\"x\"],\"source\":{\"type\":\"ColumnDataSource\",\"id\":\"e4375cef-c895-46d0-c6a9-fab205519e72\"}}],\"id\":\"1aa638fb-0aeb-4e45-cebe-45eea8d8a6e4\",\"tags\":[],\"doc\":null}},{\"id\":\"a5b6de1d-d2b3-4e39-ce5e-d76a30234d47\",\"type\":\"DataRange1d\",\"attributes\":{\"sources\":[{\"columns\":[\"y\"],\"source\":{\"type\":\"ColumnDataSource\",\"id\":\"3de3aa81-2bc2-4514-c55b-552a597be5ee\"}},{\"columns\":[\"y\"],\"source\":{\"type\":\"ColumnDataSource\",\"id\":\"e4375cef-c895-46d0-c6a9-fab205519e72\"}}],\"id\":\"a5b6de1d-d2b3-4e39-ce5e-d76a30234d47\",\"tags\":[],\"doc\":null}},{\"id\":\"d8769ff3-60c1-4be2-cbef-3376017c54e6\",\"type\":\"ToolEvents\",\"attributes\":{\"tags\":[],\"id\":\"d8769ff3-60c1-4be2-cbef-3376017c54e6\",\"geometries\":[],\"doc\":null}},{\"id\":\"5cff97a7-73c3-432a-c325-b8d3f3c8984a\",\"type\":\"BasicTickFormatter\",\"attributes\":{\"id\":\"5cff97a7-73c3-432a-c325-b8d3f3c8984a\",\"tags\":[],\"doc\":null}},{\"id\":\"8fece7b3-34f4-4a7d-ca00-df339eec392a\",\"type\":\"BasicTicker\",\"attributes\":{\"num_minor_ticks\":5,\"id\":\"8fece7b3-34f4-4a7d-ca00-df339eec392a\",\"tags\":[],\"doc\":null}},{\"id\":\"51b3bdeb-9054-46ac-c68b-ae4a6f851315\",\"type\":\"LinearAxis\",\"attributes\":{\"formatter\":{\"type\":\"BasicTickFormatter\",\"id\":\"5cff97a7-73c3-432a-c325-b8d3f3c8984a\"},\"ticker\":{\"type\":\"BasicTicker\",\"id\":\"8fece7b3-34f4-4a7d-ca00-df339eec392a\"},\"plot\":{\"id\":\"88fe02b4-c305-4443-c4bc-51a48e8ab53c\",\"type\":\"Plot\",\"subtype\":\"Figure\"},\"axis_label\":null,\"id\":\"51b3bdeb-9054-46ac-c68b-ae4a6f851315\",\"doc\":null,\"tags\":[]}},{\"id\":\"4e5f4750-9a88-4fca-cf9f-cd4ce3b7a203\",\"type\":\"Grid\",\"attributes\":{\"dimension\":0,\"plot\":{\"id\":\"88fe02b4-c305-4443-c4bc-51a48e8ab53c\",\"type\":\"Plot\",\"subtype\":\"Figure\"},\"ticker\":{\"type\":\"BasicTicker\",\"id\":\"8fece7b3-34f4-4a7d-ca00-df339eec392a\"},\"id\":\"4e5f4750-9a88-4fca-cf9f-cd4ce3b7a203\",\"doc\":null,\"tags\":[]}},{\"id\":\"49fd7e0a-99e4-42c9-c230-569e198fd904\",\"type\":\"BasicTickFormatter\",\"attributes\":{\"id\":\"49fd7e0a-99e4-42c9-c230-569e198fd904\",\"tags\":[],\"doc\":null}},{\"id\":\"71c762a4-7339-4c46-cc34-a9cde1830045\",\"type\":\"BasicTicker\",\"attributes\":{\"num_minor_ticks\":5,\"id\":\"71c762a4-7339-4c46-cc34-a9cde1830045\",\"tags\":[],\"doc\":null}},{\"id\":\"c743e878-2950-4f7e-cfc8-7835840a558a\",\"type\":\"LinearAxis\",\"attributes\":{\"formatter\":{\"type\":\"BasicTickFormatter\",\"id\":\"49fd7e0a-99e4-42c9-c230-569e198fd904\"},\"ticker\":{\"type\":\"BasicTicker\",\"id\":\"71c762a4-7339-4c46-cc34-a9cde1830045\"},\"plot\":{\"id\":\"88fe02b4-c305-4443-c4bc-51a48e8ab53c\",\"type\":\"Plot\",\"subtype\":\"Figure\"},\"axis_label\":null,\"id\":\"c743e878-2950-4f7e-cfc8-7835840a558a\",\"doc\":null,\"tags\":[]}},{\"id\":\"80916607-4ec3-4111-c1ce-45221464354c\",\"type\":\"Grid\",\"attributes\":{\"dimension\":1,\"plot\":{\"id\":\"88fe02b4-c305-4443-c4bc-51a48e8ab53c\",\"type\":\"Plot\",\"subtype\":\"Figure\"},\"ticker\":{\"type\":\"BasicTicker\",\"id\":\"71c762a4-7339-4c46-cc34-a9cde1830045\"},\"id\":\"80916607-4ec3-4111-c1ce-45221464354c\",\"doc\":null,\"tags\":[]}},{\"id\":\"38bd9b0b-8d2c-432c-c33c-6353b5ddd497\",\"type\":\"PanTool\",\"attributes\":{\"plot\":{\"id\":\"88fe02b4-c305-4443-c4bc-51a48e8ab53c\",\"type\":\"Plot\",\"subtype\":\"Figure\"},\"dimensions\":[\"width\",\"height\"],\"id\":\"38bd9b0b-8d2c-432c-c33c-6353b5ddd497\",\"doc\":null,\"tags\":[]}},{\"id\":\"38e71985-908a-4f41-cfdb-a4f2127a8589\",\"type\":\"WheelZoomTool\",\"attributes\":{\"plot\":{\"id\":\"88fe02b4-c305-4443-c4bc-51a48e8ab53c\",\"type\":\"Plot\",\"subtype\":\"Figure\"},\"dimensions\":[\"width\",\"height\"],\"id\":\"38e71985-908a-4f41-cfdb-a4f2127a8589\",\"doc\":null,\"tags\":[]}},{\"id\":\"fb1c0a8c-3974-4ba7-cb54-d027d9fce98f\",\"type\":\"BoxZoomTool\",\"attributes\":{\"plot\":{\"id\":\"88fe02b4-c305-4443-c4bc-51a48e8ab53c\",\"type\":\"Plot\",\"subtype\":\"Figure\"},\"id\":\"fb1c0a8c-3974-4ba7-cb54-d027d9fce98f\",\"tags\":[],\"doc\":null}},{\"id\":\"3d45818a-b5bc-48e0-c871-129881dfe385\",\"type\":\"PreviewSaveTool\",\"attributes\":{\"plot\":{\"id\":\"88fe02b4-c305-4443-c4bc-51a48e8ab53c\",\"type\":\"Plot\",\"subtype\":\"Figure\"},\"id\":\"3d45818a-b5bc-48e0-c871-129881dfe385\",\"tags\":[],\"doc\":null}},{\"id\":\"bb20367c-45be-4187-c160-91a65e1b87ee\",\"type\":\"ResizeTool\",\"attributes\":{\"plot\":{\"id\":\"88fe02b4-c305-4443-c4bc-51a48e8ab53c\",\"type\":\"Plot\",\"subtype\":\"Figure\"},\"id\":\"bb20367c-45be-4187-c160-91a65e1b87ee\",\"tags\":[],\"doc\":null}},{\"id\":\"75deb4e1-de4b-4277-c2b6-03402a290f7d\",\"type\":\"ResetTool\",\"attributes\":{\"plot\":{\"id\":\"88fe02b4-c305-4443-c4bc-51a48e8ab53c\",\"type\":\"Plot\",\"subtype\":\"Figure\"},\"id\":\"75deb4e1-de4b-4277-c2b6-03402a290f7d\",\"tags\":[],\"doc\":null}},{\"id\":\"c77fc70e-c027-4bdd-cb74-9efe64b30c3f\",\"type\":\"Legend\",\"attributes\":{\"plot\":{\"id\":\"88fe02b4-c305-4443-c4bc-51a48e8ab53c\",\"type\":\"Plot\",\"subtype\":\"Figure\"},\"legends\":[[\"odd\",[{\"type\":\"GlyphRenderer\",\"id\":\"bf1c741c-5060-4927-c9b9-07391de6e8a4\"}]],[\"even\",[{\"type\":\"GlyphRenderer\",\"id\":\"4323d333-fe4b-47ae-c720-624cf01f3eae\"}]]],\"id\":\"c77fc70e-c027-4bdd-cb74-9efe64b30c3f\",\"doc\":null,\"tags\":[]}},{\"id\":\"88fe02b4-c305-4443-c4bc-51a48e8ab53c\",\"type\":\"Plot\",\"attributes\":{\"x_range\":{\"type\":\"DataRange1d\",\"id\":\"1aa638fb-0aeb-4e45-cebe-45eea8d8a6e4\"},\"tool_events\":{\"type\":\"ToolEvents\",\"id\":\"d8769ff3-60c1-4be2-cbef-3376017c54e6\"},\"below\":[{\"type\":\"LinearAxis\",\"id\":\"51b3bdeb-9054-46ac-c68b-ae4a6f851315\"}],\"renderers\":[{\"type\":\"GlyphRenderer\",\"id\":\"bf1c741c-5060-4927-c9b9-07391de6e8a4\"},{\"type\":\"GlyphRenderer\",\"id\":\"4323d333-fe4b-47ae-c720-624cf01f3eae\"},{\"type\":\"LinearAxis\",\"id\":\"51b3bdeb-9054-46ac-c68b-ae4a6f851315\"},{\"type\":\"Grid\",\"id\":\"4e5f4750-9a88-4fca-cf9f-cd4ce3b7a203\"},{\"type\":\"LinearAxis\",\"id\":\"c743e878-2950-4f7e-cfc8-7835840a558a\"},{\"type\":\"Grid\",\"id\":\"80916607-4ec3-4111-c1ce-45221464354c\"},{\"type\":\"Legend\",\"id\":\"c77fc70e-c027-4bdd-cb74-9efe64b30c3f\"}],\"above\":[],\"tools\":[{\"type\":\"PanTool\",\"id\":\"38bd9b0b-8d2c-432c-c33c-6353b5ddd497\"},{\"type\":\"WheelZoomTool\",\"id\":\"38e71985-908a-4f41-cfdb-a4f2127a8589\"},{\"type\":\"BoxZoomTool\",\"id\":\"fb1c0a8c-3974-4ba7-cb54-d027d9fce98f\"},{\"type\":\"PreviewSaveTool\",\"id\":\"3d45818a-b5bc-48e0-c871-129881dfe385\"},{\"type\":\"ResizeTool\",\"id\":\"bb20367c-45be-4187-c160-91a65e1b87ee\"},{\"type\":\"ResetTool\",\"id\":\"75deb4e1-de4b-4277-c2b6-03402a290f7d\"}],\"doc\":null,\"right\":[],\"title\":\"Embeddings of numbers 0 - 9\",\"extra_x_ranges\":{},\"left\":[{\"type\":\"LinearAxis\",\"id\":\"c743e878-2950-4f7e-cfc8-7835840a558a\"}],\"y_range\":{\"type\":\"DataRange1d\",\"id\":\"a5b6de1d-d2b3-4e39-ce5e-d76a30234d47\"},\"id\":\"88fe02b4-c305-4443-c4bc-51a48e8ab53c\",\"extra_y_ranges\":{},\"tags\":[]}}];\n",
       "  Bokeh.load_models(all_models);\n",
       "  var model = Bokeh.Collections(modeltype).get(modelid);\n",
       "  $(\"#6761a806-b16f-4d65-cdfb-ac8a32d052d3\").html(''); // clear any previous plot in window_id\n",
       "  var view = new model.default_view({model: model, el: \"#6761a806-b16f-4d65-cdfb-ac8a32d052d3\"});\n",
       "    } else {\n",
       "  load_lib(bokehjs_url, function() {\n",
       "      console.log(\"Bokeh: BokehJS plotting callback run at\", new Date())\n",
       "      var modelid = \"88fe02b4-c305-4443-c4bc-51a48e8ab53c\";\n",
       "      var modeltype = \"Plot\";\n",
       "      var all_models = [{\"id\":\"3de3aa81-2bc2-4514-c55b-552a597be5ee\",\"type\":\"ColumnDataSource\",\"attributes\":{\"data\":{\"y\":[-1.4704842509608,-1.5024207250058,-1.1920093529165,-1.540941834649,-1.1320374826247],\"x\":[1.0878805721938,1.0810153933355,-1.7679287308361,1.0429904296908,-1.7230846293294]},\"column_names\":[\"y\",\"x\"],\"cont_ranges\":{},\"discrete_ranges\":{},\"selected\":[],\"id\":\"3de3aa81-2bc2-4514-c55b-552a597be5ee\",\"doc\":null,\"tags\":[]}},{\"id\":\"30478146-1415-43bc-c354-2f11b7f63741\",\"type\":\"Circle\",\"attributes\":{\"fill_alpha\":{\"units\":\"data\",\"value\":0.2},\"line_alpha\":{\"units\":\"data\",\"value\":1},\"doc\":null,\"size\":{\"units\":\"screen\",\"value\":10},\"fill_color\":{\"value\":\"red\"},\"line_color\":{\"value\":\"red\"},\"x\":{\"units\":\"data\",\"field\":\"x\"},\"id\":\"30478146-1415-43bc-c354-2f11b7f63741\",\"y\":{\"units\":\"data\",\"field\":\"y\"},\"tags\":[]}},{\"id\":\"67fedde7-77f3-4be4-cbee-f8d7e302e1f3\",\"type\":\"Circle\",\"attributes\":{\"fill_alpha\":{\"units\":\"data\",\"value\":0.2},\"line_alpha\":{\"units\":\"data\",\"value\":1},\"doc\":null,\"size\":{\"units\":\"screen\",\"value\":10},\"fill_color\":{\"value\":\"red\"},\"line_color\":{\"value\":\"red\"},\"x\":{\"units\":\"data\",\"field\":\"x\"},\"id\":\"67fedde7-77f3-4be4-cbee-f8d7e302e1f3\",\"y\":{\"units\":\"data\",\"field\":\"y\"},\"tags\":[]}},{\"id\":\"bf1c741c-5060-4927-c9b9-07391de6e8a4\",\"type\":\"GlyphRenderer\",\"attributes\":{\"name\":null,\"nonselection_glyph\":{\"type\":\"Circle\",\"id\":\"67fedde7-77f3-4be4-cbee-f8d7e302e1f3\"},\"doc\":null,\"server_data_source\":null,\"data_source\":{\"type\":\"ColumnDataSource\",\"id\":\"3de3aa81-2bc2-4514-c55b-552a597be5ee\"},\"glyph\":{\"type\":\"Circle\",\"id\":\"30478146-1415-43bc-c354-2f11b7f63741\"},\"selection_glyph\":null,\"id\":\"bf1c741c-5060-4927-c9b9-07391de6e8a4\",\"tags\":[]}},{\"id\":\"e4375cef-c895-46d0-c6a9-fab205519e72\",\"type\":\"ColumnDataSource\",\"attributes\":{\"data\":{\"y\":[1.3120091747518,1.2981834385017,1.1226289244334,1.251073119971,1.2957427793214],\"x\":[-0.74701458174887,1.2304330703702,-0.22315406149138,0.68117779036764,0.67377654833751]},\"column_names\":[\"y\",\"x\"],\"cont_ranges\":{},\"discrete_ranges\":{},\"selected\":[],\"id\":\"e4375cef-c895-46d0-c6a9-fab205519e72\",\"doc\":null,\"tags\":[]}},{\"id\":\"648b2e60-e405-4c40-cc5b-fff61141078a\",\"type\":\"Circle\",\"attributes\":{\"fill_alpha\":{\"units\":\"data\",\"value\":0.2},\"line_alpha\":{\"units\":\"data\",\"value\":1},\"doc\":null,\"size\":{\"units\":\"screen\",\"value\":10},\"fill_color\":{\"value\":\"blue\"},\"line_color\":{\"value\":\"blue\"},\"x\":{\"units\":\"data\",\"field\":\"x\"},\"id\":\"648b2e60-e405-4c40-cc5b-fff61141078a\",\"y\":{\"units\":\"data\",\"field\":\"y\"},\"tags\":[]}},{\"id\":\"489e075e-014c-4ef5-ce93-ac111bcdfad3\",\"type\":\"Circle\",\"attributes\":{\"fill_alpha\":{\"units\":\"data\",\"value\":0.2},\"line_alpha\":{\"units\":\"data\",\"value\":1},\"doc\":null,\"size\":{\"units\":\"screen\",\"value\":10},\"fill_color\":{\"value\":\"blue\"},\"line_color\":{\"value\":\"blue\"},\"x\":{\"units\":\"data\",\"field\":\"x\"},\"id\":\"489e075e-014c-4ef5-ce93-ac111bcdfad3\",\"y\":{\"units\":\"data\",\"field\":\"y\"},\"tags\":[]}},{\"id\":\"4323d333-fe4b-47ae-c720-624cf01f3eae\",\"type\":\"GlyphRenderer\",\"attributes\":{\"name\":null,\"nonselection_glyph\":{\"type\":\"Circle\",\"id\":\"489e075e-014c-4ef5-ce93-ac111bcdfad3\"},\"doc\":null,\"server_data_source\":null,\"data_source\":{\"type\":\"ColumnDataSource\",\"id\":\"e4375cef-c895-46d0-c6a9-fab205519e72\"},\"glyph\":{\"type\":\"Circle\",\"id\":\"648b2e60-e405-4c40-cc5b-fff61141078a\"},\"selection_glyph\":null,\"id\":\"4323d333-fe4b-47ae-c720-624cf01f3eae\",\"tags\":[]}},{\"id\":\"1aa638fb-0aeb-4e45-cebe-45eea8d8a6e4\",\"type\":\"DataRange1d\",\"attributes\":{\"sources\":[{\"columns\":[\"x\"],\"source\":{\"type\":\"ColumnDataSource\",\"id\":\"3de3aa81-2bc2-4514-c55b-552a597be5ee\"}},{\"columns\":[\"x\"],\"source\":{\"type\":\"ColumnDataSource\",\"id\":\"e4375cef-c895-46d0-c6a9-fab205519e72\"}}],\"id\":\"1aa638fb-0aeb-4e45-cebe-45eea8d8a6e4\",\"tags\":[],\"doc\":null}},{\"id\":\"a5b6de1d-d2b3-4e39-ce5e-d76a30234d47\",\"type\":\"DataRange1d\",\"attributes\":{\"sources\":[{\"columns\":[\"y\"],\"source\":{\"type\":\"ColumnDataSource\",\"id\":\"3de3aa81-2bc2-4514-c55b-552a597be5ee\"}},{\"columns\":[\"y\"],\"source\":{\"type\":\"ColumnDataSource\",\"id\":\"e4375cef-c895-46d0-c6a9-fab205519e72\"}}],\"id\":\"a5b6de1d-d2b3-4e39-ce5e-d76a30234d47\",\"tags\":[],\"doc\":null}},{\"id\":\"d8769ff3-60c1-4be2-cbef-3376017c54e6\",\"type\":\"ToolEvents\",\"attributes\":{\"tags\":[],\"id\":\"d8769ff3-60c1-4be2-cbef-3376017c54e6\",\"geometries\":[],\"doc\":null}},{\"id\":\"5cff97a7-73c3-432a-c325-b8d3f3c8984a\",\"type\":\"BasicTickFormatter\",\"attributes\":{\"id\":\"5cff97a7-73c3-432a-c325-b8d3f3c8984a\",\"tags\":[],\"doc\":null}},{\"id\":\"8fece7b3-34f4-4a7d-ca00-df339eec392a\",\"type\":\"BasicTicker\",\"attributes\":{\"num_minor_ticks\":5,\"id\":\"8fece7b3-34f4-4a7d-ca00-df339eec392a\",\"tags\":[],\"doc\":null}},{\"id\":\"51b3bdeb-9054-46ac-c68b-ae4a6f851315\",\"type\":\"LinearAxis\",\"attributes\":{\"formatter\":{\"type\":\"BasicTickFormatter\",\"id\":\"5cff97a7-73c3-432a-c325-b8d3f3c8984a\"},\"ticker\":{\"type\":\"BasicTicker\",\"id\":\"8fece7b3-34f4-4a7d-ca00-df339eec392a\"},\"plot\":{\"id\":\"88fe02b4-c305-4443-c4bc-51a48e8ab53c\",\"type\":\"Plot\",\"subtype\":\"Figure\"},\"axis_label\":null,\"id\":\"51b3bdeb-9054-46ac-c68b-ae4a6f851315\",\"doc\":null,\"tags\":[]}},{\"id\":\"4e5f4750-9a88-4fca-cf9f-cd4ce3b7a203\",\"type\":\"Grid\",\"attributes\":{\"dimension\":0,\"plot\":{\"id\":\"88fe02b4-c305-4443-c4bc-51a48e8ab53c\",\"type\":\"Plot\",\"subtype\":\"Figure\"},\"ticker\":{\"type\":\"BasicTicker\",\"id\":\"8fece7b3-34f4-4a7d-ca00-df339eec392a\"},\"id\":\"4e5f4750-9a88-4fca-cf9f-cd4ce3b7a203\",\"doc\":null,\"tags\":[]}},{\"id\":\"49fd7e0a-99e4-42c9-c230-569e198fd904\",\"type\":\"BasicTickFormatter\",\"attributes\":{\"id\":\"49fd7e0a-99e4-42c9-c230-569e198fd904\",\"tags\":[],\"doc\":null}},{\"id\":\"71c762a4-7339-4c46-cc34-a9cde1830045\",\"type\":\"BasicTicker\",\"attributes\":{\"num_minor_ticks\":5,\"id\":\"71c762a4-7339-4c46-cc34-a9cde1830045\",\"tags\":[],\"doc\":null}},{\"id\":\"c743e878-2950-4f7e-cfc8-7835840a558a\",\"type\":\"LinearAxis\",\"attributes\":{\"formatter\":{\"type\":\"BasicTickFormatter\",\"id\":\"49fd7e0a-99e4-42c9-c230-569e198fd904\"},\"ticker\":{\"type\":\"BasicTicker\",\"id\":\"71c762a4-7339-4c46-cc34-a9cde1830045\"},\"plot\":{\"id\":\"88fe02b4-c305-4443-c4bc-51a48e8ab53c\",\"type\":\"Plot\",\"subtype\":\"Figure\"},\"axis_label\":null,\"id\":\"c743e878-2950-4f7e-cfc8-7835840a558a\",\"doc\":null,\"tags\":[]}},{\"id\":\"80916607-4ec3-4111-c1ce-45221464354c\",\"type\":\"Grid\",\"attributes\":{\"dimension\":1,\"plot\":{\"id\":\"88fe02b4-c305-4443-c4bc-51a48e8ab53c\",\"type\":\"Plot\",\"subtype\":\"Figure\"},\"ticker\":{\"type\":\"BasicTicker\",\"id\":\"71c762a4-7339-4c46-cc34-a9cde1830045\"},\"id\":\"80916607-4ec3-4111-c1ce-45221464354c\",\"doc\":null,\"tags\":[]}},{\"id\":\"38bd9b0b-8d2c-432c-c33c-6353b5ddd497\",\"type\":\"PanTool\",\"attributes\":{\"plot\":{\"id\":\"88fe02b4-c305-4443-c4bc-51a48e8ab53c\",\"type\":\"Plot\",\"subtype\":\"Figure\"},\"dimensions\":[\"width\",\"height\"],\"id\":\"38bd9b0b-8d2c-432c-c33c-6353b5ddd497\",\"doc\":null,\"tags\":[]}},{\"id\":\"38e71985-908a-4f41-cfdb-a4f2127a8589\",\"type\":\"WheelZoomTool\",\"attributes\":{\"plot\":{\"id\":\"88fe02b4-c305-4443-c4bc-51a48e8ab53c\",\"type\":\"Plot\",\"subtype\":\"Figure\"},\"dimensions\":[\"width\",\"height\"],\"id\":\"38e71985-908a-4f41-cfdb-a4f2127a8589\",\"doc\":null,\"tags\":[]}},{\"id\":\"fb1c0a8c-3974-4ba7-cb54-d027d9fce98f\",\"type\":\"BoxZoomTool\",\"attributes\":{\"plot\":{\"id\":\"88fe02b4-c305-4443-c4bc-51a48e8ab53c\",\"type\":\"Plot\",\"subtype\":\"Figure\"},\"id\":\"fb1c0a8c-3974-4ba7-cb54-d027d9fce98f\",\"tags\":[],\"doc\":null}},{\"id\":\"3d45818a-b5bc-48e0-c871-129881dfe385\",\"type\":\"PreviewSaveTool\",\"attributes\":{\"plot\":{\"id\":\"88fe02b4-c305-4443-c4bc-51a48e8ab53c\",\"type\":\"Plot\",\"subtype\":\"Figure\"},\"id\":\"3d45818a-b5bc-48e0-c871-129881dfe385\",\"tags\":[],\"doc\":null}},{\"id\":\"bb20367c-45be-4187-c160-91a65e1b87ee\",\"type\":\"ResizeTool\",\"attributes\":{\"plot\":{\"id\":\"88fe02b4-c305-4443-c4bc-51a48e8ab53c\",\"type\":\"Plot\",\"subtype\":\"Figure\"},\"id\":\"bb20367c-45be-4187-c160-91a65e1b87ee\",\"tags\":[],\"doc\":null}},{\"id\":\"75deb4e1-de4b-4277-c2b6-03402a290f7d\",\"type\":\"ResetTool\",\"attributes\":{\"plot\":{\"id\":\"88fe02b4-c305-4443-c4bc-51a48e8ab53c\",\"type\":\"Plot\",\"subtype\":\"Figure\"},\"id\":\"75deb4e1-de4b-4277-c2b6-03402a290f7d\",\"tags\":[],\"doc\":null}},{\"id\":\"c77fc70e-c027-4bdd-cb74-9efe64b30c3f\",\"type\":\"Legend\",\"attributes\":{\"plot\":{\"id\":\"88fe02b4-c305-4443-c4bc-51a48e8ab53c\",\"type\":\"Plot\",\"subtype\":\"Figure\"},\"legends\":[[\"odd\",[{\"type\":\"GlyphRenderer\",\"id\":\"bf1c741c-5060-4927-c9b9-07391de6e8a4\"}]],[\"even\",[{\"type\":\"GlyphRenderer\",\"id\":\"4323d333-fe4b-47ae-c720-624cf01f3eae\"}]]],\"id\":\"c77fc70e-c027-4bdd-cb74-9efe64b30c3f\",\"doc\":null,\"tags\":[]}},{\"id\":\"88fe02b4-c305-4443-c4bc-51a48e8ab53c\",\"type\":\"Plot\",\"attributes\":{\"x_range\":{\"type\":\"DataRange1d\",\"id\":\"1aa638fb-0aeb-4e45-cebe-45eea8d8a6e4\"},\"tool_events\":{\"type\":\"ToolEvents\",\"id\":\"d8769ff3-60c1-4be2-cbef-3376017c54e6\"},\"below\":[{\"type\":\"LinearAxis\",\"id\":\"51b3bdeb-9054-46ac-c68b-ae4a6f851315\"}],\"renderers\":[{\"type\":\"GlyphRenderer\",\"id\":\"bf1c741c-5060-4927-c9b9-07391de6e8a4\"},{\"type\":\"GlyphRenderer\",\"id\":\"4323d333-fe4b-47ae-c720-624cf01f3eae\"},{\"type\":\"LinearAxis\",\"id\":\"51b3bdeb-9054-46ac-c68b-ae4a6f851315\"},{\"type\":\"Grid\",\"id\":\"4e5f4750-9a88-4fca-cf9f-cd4ce3b7a203\"},{\"type\":\"LinearAxis\",\"id\":\"c743e878-2950-4f7e-cfc8-7835840a558a\"},{\"type\":\"Grid\",\"id\":\"80916607-4ec3-4111-c1ce-45221464354c\"},{\"type\":\"Legend\",\"id\":\"c77fc70e-c027-4bdd-cb74-9efe64b30c3f\"}],\"above\":[],\"tools\":[{\"type\":\"PanTool\",\"id\":\"38bd9b0b-8d2c-432c-c33c-6353b5ddd497\"},{\"type\":\"WheelZoomTool\",\"id\":\"38e71985-908a-4f41-cfdb-a4f2127a8589\"},{\"type\":\"BoxZoomTool\",\"id\":\"fb1c0a8c-3974-4ba7-cb54-d027d9fce98f\"},{\"type\":\"PreviewSaveTool\",\"id\":\"3d45818a-b5bc-48e0-c871-129881dfe385\"},{\"type\":\"ResizeTool\",\"id\":\"bb20367c-45be-4187-c160-91a65e1b87ee\"},{\"type\":\"ResetTool\",\"id\":\"75deb4e1-de4b-4277-c2b6-03402a290f7d\"}],\"doc\":null,\"right\":[],\"title\":\"Embeddings of numbers 0 - 9\",\"extra_x_ranges\":{},\"left\":[{\"type\":\"LinearAxis\",\"id\":\"c743e878-2950-4f7e-cfc8-7835840a558a\"}],\"y_range\":{\"type\":\"DataRange1d\",\"id\":\"a5b6de1d-d2b3-4e39-ce5e-d76a30234d47\"},\"id\":\"88fe02b4-c305-4443-c4bc-51a48e8ab53c\",\"extra_y_ranges\":{},\"tags\":[]}}];\n",
       "      Bokeh.load_models(all_models);\n",
       "      var model = Bokeh.Collections(modeltype).get(modelid);\n",
       "      $(\"#6761a806-b16f-4d65-cdfb-ac8a32d052d3\").html(''); // clear any previous plot in window_id\n",
       "      var view = new model.default_view({model: model, el: \"#6761a806-b16f-4d65-cdfb-ac8a32d052d3\"});\n",
       "  });\n",
       "    }\n",
       "});\n",
       "</script>\n",
       "<div class=\"plotdiv\" id=\"6761a806-b16f-4d65-cdfb-ac8a32d052d3\"></div>\n"
      ]
     },
     "metadata": {},
     "output_type": "display_data"
    }
   ],
   "source": [
    "local _ = plot_emb(emb,nil)"
   ]
  },
  {
   "cell_type": "code",
   "execution_count": 9,
   "metadata": {
    "collapsed": false
   },
   "outputs": [
    {
     "data": {
      "text/plain": [
       "-0.7470  1.3120\n",
       " 1.0879 -1.4705\n",
       " 1.2304  1.2982\n",
       " 1.0810 -1.5024\n",
       "-0.2232  1.1226\n",
       "-1.7679 -1.1920\n",
       " 0.6812  1.2511\n",
       " 1.0430 -1.5409\n",
       " 0.6738  1.2957\n",
       "-1.7231 -1.1320\n",
       "[torch.DoubleTensor of size 10x2]\n",
       "\n"
      ]
     },
     "execution_count": 9,
     "metadata": {},
     "output_type": "execute_result"
    }
   ],
   "source": [
    "emb.weight"
   ]
  },
  {
   "cell_type": "code",
   "execution_count": null,
   "metadata": {
    "collapsed": true
   },
   "outputs": [],
   "source": []
  }
 ],
 "metadata": {
  "kernelspec": {
   "display_name": "iTorch",
   "language": "lua",
   "name": "itorch"
  },
  "language_info": {
   "name": "lua",
   "version": "20100"
  }
 },
 "nbformat": 4,
 "nbformat_minor": 0
}
