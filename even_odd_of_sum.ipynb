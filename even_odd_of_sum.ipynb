{
 "cells": [
  {
   "cell_type": "code",
   "execution_count": 1,
   "metadata": {
    "collapsed": false
   },
   "outputs": [],
   "source": [
    "Plot = require \"itorch.Plot\"\n",
    "include('init.lua')\n"
   ]
  },
  {
   "cell_type": "code",
   "execution_count": 2,
   "metadata": {
    "collapsed": false
   },
   "outputs": [],
   "source": [
    "-- model hyper-params\n",
    "emb_dim = 2\n",
    "sum_rep_dim = 20\n",
    "class_hidden = 40\n",
    "class_types = 2\n",
    "seq_len = 5\n",
    "num_layers = 2\n",
    "-- create a model (in forward order)\n",
    "emb = nn.LookupTable(10, emb_dim) -- embeddings layer\n",
    "lstm_net = lstm.LSTM({num_layers=num_layers, input_dim=emb_dim, hidden_dim=sum_rep_dim}) -- LSTM layer\n",
    "classifier = nn.Sequential()  -- classification layer\n",
    "classifier:add(nn.Linear(sum_rep_dim, class_hidden)) -- classification: linear\n",
    "classifier:add(nn.ReLU())  -- classification: activation\n",
    "classifier:add(nn.Linear(class_hidden, class_types)) -- classification: output\n",
    "classifier:add(nn.LogSoftMax()) -- classification: softmax\n",
    "criterion = nn.ClassNLLCriterion() -- negative log-likelihood for training\n",
    "-- if we don't use \"optim\" package, the rest is not need \n",
    "-- (I am going to write SGD myself)\n",
    "local modules = nn.Parallel()\n",
    "modules:add(emb)\n",
    "modules:add(lstm_net)\n",
    "modules:add(classifier)\n",
    "params, grad_params = modules:getParameters()"
   ]
  },
  {
   "cell_type": "code",
   "execution_count": 3,
   "metadata": {
    "collapsed": false
   },
   "outputs": [],
   "source": [
    "-- Utility functions\n",
    "function plot_emb(emb, plot)\n",
    "    local even_points = emb.weight:index(1, torch.LongTensor{1,3,5,7,9})\n",
    "    local odd_points = emb.weight:index(1, torch.LongTensor{2,4,6,8,10})\n",
    "    if plot == nil then\n",
    "        plot = Plot()\n",
    "    else\n",
    "        plot._data = {}\n",
    "    end\n",
    "    plot:circle(odd_points[{{}, 1}], odd_points[{{}, 2}], 'red', 'odd')\n",
    "    plot:circle(even_points[{{}, 1}], even_points[{{}, 2}], 'blue', 'even')\n",
    "    plot:title('Embeddings of numbers 0 - 9')\n",
    "    plot:legend(true)\n",
    "    plot:redraw()\n",
    "    return plot\n",
    "end\n",
    "function gen_data(len)\n",
    "    local inputs = torch.Tensor(len)\n",
    "    local outputs = torch.Tensor(len)\n",
    "    for i = 1, len do\n",
    "        inputs[i] = torch.uniform(1,11)\n",
    "    end\n",
    "    inputs:floor()\n",
    "    local s = 0\n",
    "    for i = 1, len do\n",
    "        s = s + inputs[i] - 1\n",
    "        outputs[i] = (s % 2) + 1\n",
    "    end\n",
    "    return inputs, outputs\n",
    "end\n",
    "function display(inputs, outputs)\n",
    "    local s = 0\n",
    "    for i = 1, inputs:size(1) do\n",
    "        s = s + inputs[i] - 1\n",
    "        out_text = 'Even'\n",
    "        if outputs[i] == 2 then out_text = 'Odd' end\n",
    "        print(string.format('input %d, sum %d, output %s', inputs[i] - 1, s, out_text))\n",
    "    end\n",
    "end"
   ]
  },
  {
   "cell_type": "code",
   "execution_count": 4,
   "metadata": {
    "collapsed": false
   },
   "outputs": [
    {
     "data": {
      "text/html": [
       "<script type=\"text/javascript\">\n",
       "$(function() {\n",
       "    if (typeof (window._bokeh_onload_callbacks) === \"undefined\"){\n",
       "  window._bokeh_onload_callbacks = [];\n",
       "    }\n",
       "    function load_lib(url, callback){\n",
       "  window._bokeh_onload_callbacks.push(callback);\n",
       "  if (window._bokeh_is_loading){\n",
       "      console.log(\"Bokeh: BokehJS is being loaded, scheduling callback at\", new Date());\n",
       "      return null;\n",
       "  }\n",
       "  console.log(\"Bokeh: BokehJS not loaded, scheduling load and callback at\", new Date());\n",
       "  window._bokeh_is_loading = true;\n",
       "  var s = document.createElement('script');\n",
       "  s.src = url;\n",
       "  s.async = true;\n",
       "  s.onreadystatechange = s.onload = function(){\n",
       "      Bokeh.embed.inject_css(\"http://cdn.pydata.org/bokeh-0.7.0.min.css\");\n",
       "      window._bokeh_onload_callbacks.forEach(function(callback){callback()});\n",
       "  };\n",
       "  s.onerror = function(){\n",
       "      console.warn(\"failed to load library \" + url);\n",
       "  };\n",
       "  document.getElementsByTagName(\"head\")[0].appendChild(s);\n",
       "    }\n",
       "\n",
       "    bokehjs_url = \"http://cdn.pydata.org/bokeh-0.7.0.min.js\"\n",
       "\n",
       "    var elt = document.getElementById(\"7d0e3034-00f9-433f-c303-8ee9f15f43eb\");\n",
       "    if(elt==null) {\n",
       "  console.log(\"Bokeh: ERROR: autoload.js configured with elementid '7d0e3034-00f9-433f-c303-8ee9f15f43eb'\"\n",
       "        + \"but no matching script tag was found. \")\n",
       "  return false;\n",
       "    }\n",
       "\n",
       "    if(typeof(Bokeh) !== \"undefined\") {\n",
       "  console.log(\"Bokeh: BokehJS loaded, going straight to plotting\");\n",
       "  var modelid = \"b87a236e-39de-4871-c8d4-3339d14ca9fe\";\n",
       "  var modeltype = \"Plot\";\n",
       "  var all_models = [{\"id\":\"81fcbe51-b5ee-4db9-cdc0-b8a407dd40eb\",\"type\":\"ColumnDataSource\",\"attributes\":{\"data\":{\"y\":[1.7541766364212,-0.37055962006191,1.7479166099927,1.22368243885,-0.081605325632943],\"x\":[2.0893488629944,0.44320477342119,-0.26825898751577,-0.53001097697905,2.0480717643014]},\"column_names\":[\"y\",\"x\"],\"cont_ranges\":{},\"discrete_ranges\":{},\"selected\":[],\"id\":\"81fcbe51-b5ee-4db9-cdc0-b8a407dd40eb\",\"doc\":null,\"tags\":[]}},{\"id\":\"dc92eb86-db89-4bee-cb2f-cecbba231d70\",\"type\":\"Circle\",\"attributes\":{\"fill_alpha\":{\"units\":\"data\",\"value\":0.2},\"line_alpha\":{\"units\":\"data\",\"value\":1},\"doc\":null,\"size\":{\"units\":\"screen\",\"value\":10},\"fill_color\":{\"value\":\"red\"},\"line_color\":{\"value\":\"red\"},\"x\":{\"units\":\"data\",\"field\":\"x\"},\"id\":\"dc92eb86-db89-4bee-cb2f-cecbba231d70\",\"y\":{\"units\":\"data\",\"field\":\"y\"},\"tags\":[]}},{\"id\":\"fbfc8de8-bb8e-45f2-c544-0110242eab1d\",\"type\":\"Circle\",\"attributes\":{\"fill_alpha\":{\"units\":\"data\",\"value\":0.2},\"line_alpha\":{\"units\":\"data\",\"value\":1},\"doc\":null,\"size\":{\"units\":\"screen\",\"value\":10},\"fill_color\":{\"value\":\"red\"},\"line_color\":{\"value\":\"red\"},\"x\":{\"units\":\"data\",\"field\":\"x\"},\"id\":\"fbfc8de8-bb8e-45f2-c544-0110242eab1d\",\"y\":{\"units\":\"data\",\"field\":\"y\"},\"tags\":[]}},{\"id\":\"3ec781e8-420c-4d75-cdcb-dee6b0d0068c\",\"type\":\"GlyphRenderer\",\"attributes\":{\"name\":null,\"nonselection_glyph\":{\"type\":\"Circle\",\"id\":\"fbfc8de8-bb8e-45f2-c544-0110242eab1d\"},\"doc\":null,\"server_data_source\":null,\"data_source\":{\"type\":\"ColumnDataSource\",\"id\":\"81fcbe51-b5ee-4db9-cdc0-b8a407dd40eb\"},\"glyph\":{\"type\":\"Circle\",\"id\":\"dc92eb86-db89-4bee-cb2f-cecbba231d70\"},\"selection_glyph\":null,\"id\":\"3ec781e8-420c-4d75-cdcb-dee6b0d0068c\",\"tags\":[]}},{\"id\":\"d3c40fd8-8b54-4e08-cecf-70e347496f7d\",\"type\":\"ColumnDataSource\",\"attributes\":{\"data\":{\"y\":[0.14173915634605,0.88652174366326,-1.108017166665,-0.049469629449694,-0.12140775724552],\"x\":[-0.70917541341862,-0.50519041020639,-1.5651235228789,-0.73174769387047,-0.29223023658366]},\"column_names\":[\"y\",\"x\"],\"cont_ranges\":{},\"discrete_ranges\":{},\"selected\":[],\"id\":\"d3c40fd8-8b54-4e08-cecf-70e347496f7d\",\"doc\":null,\"tags\":[]}},{\"id\":\"295bbb71-c767-4e62-cea9-fd82614afb58\",\"type\":\"Circle\",\"attributes\":{\"fill_alpha\":{\"units\":\"data\",\"value\":0.2},\"line_alpha\":{\"units\":\"data\",\"value\":1},\"doc\":null,\"size\":{\"units\":\"screen\",\"value\":10},\"fill_color\":{\"value\":\"blue\"},\"line_color\":{\"value\":\"blue\"},\"x\":{\"units\":\"data\",\"field\":\"x\"},\"id\":\"295bbb71-c767-4e62-cea9-fd82614afb58\",\"y\":{\"units\":\"data\",\"field\":\"y\"},\"tags\":[]}},{\"id\":\"676a8e95-a689-4ce2-ccdf-bc8ad9f32418\",\"type\":\"Circle\",\"attributes\":{\"fill_alpha\":{\"units\":\"data\",\"value\":0.2},\"line_alpha\":{\"units\":\"data\",\"value\":1},\"doc\":null,\"size\":{\"units\":\"screen\",\"value\":10},\"fill_color\":{\"value\":\"blue\"},\"line_color\":{\"value\":\"blue\"},\"x\":{\"units\":\"data\",\"field\":\"x\"},\"id\":\"676a8e95-a689-4ce2-ccdf-bc8ad9f32418\",\"y\":{\"units\":\"data\",\"field\":\"y\"},\"tags\":[]}},{\"id\":\"525beeef-1526-4bb9-cbcf-5fed4d9e2200\",\"type\":\"GlyphRenderer\",\"attributes\":{\"name\":null,\"nonselection_glyph\":{\"type\":\"Circle\",\"id\":\"676a8e95-a689-4ce2-ccdf-bc8ad9f32418\"},\"doc\":null,\"server_data_source\":null,\"data_source\":{\"type\":\"ColumnDataSource\",\"id\":\"d3c40fd8-8b54-4e08-cecf-70e347496f7d\"},\"glyph\":{\"type\":\"Circle\",\"id\":\"295bbb71-c767-4e62-cea9-fd82614afb58\"},\"selection_glyph\":null,\"id\":\"525beeef-1526-4bb9-cbcf-5fed4d9e2200\",\"tags\":[]}},{\"id\":\"fb8d1727-b786-45ce-c531-9c54b5609220\",\"type\":\"DataRange1d\",\"attributes\":{\"sources\":[{\"columns\":[\"x\"],\"source\":{\"type\":\"ColumnDataSource\",\"id\":\"81fcbe51-b5ee-4db9-cdc0-b8a407dd40eb\"}},{\"columns\":[\"x\"],\"source\":{\"type\":\"ColumnDataSource\",\"id\":\"d3c40fd8-8b54-4e08-cecf-70e347496f7d\"}}],\"id\":\"fb8d1727-b786-45ce-c531-9c54b5609220\",\"tags\":[],\"doc\":null}},{\"id\":\"598729a1-0cf7-497a-c946-bb2b6c2bb0b4\",\"type\":\"DataRange1d\",\"attributes\":{\"sources\":[{\"columns\":[\"y\"],\"source\":{\"type\":\"ColumnDataSource\",\"id\":\"81fcbe51-b5ee-4db9-cdc0-b8a407dd40eb\"}},{\"columns\":[\"y\"],\"source\":{\"type\":\"ColumnDataSource\",\"id\":\"d3c40fd8-8b54-4e08-cecf-70e347496f7d\"}}],\"id\":\"598729a1-0cf7-497a-c946-bb2b6c2bb0b4\",\"tags\":[],\"doc\":null}},{\"id\":\"294bc1d6-012f-4c1b-ccc7-8ff65da8cfb9\",\"type\":\"ToolEvents\",\"attributes\":{\"tags\":[],\"id\":\"294bc1d6-012f-4c1b-ccc7-8ff65da8cfb9\",\"geometries\":[],\"doc\":null}},{\"id\":\"8065d0d8-e099-4afe-ca1c-cd2fa32b7fc2\",\"type\":\"BasicTickFormatter\",\"attributes\":{\"id\":\"8065d0d8-e099-4afe-ca1c-cd2fa32b7fc2\",\"tags\":[],\"doc\":null}},{\"id\":\"b8bff12f-b404-43d6-c3ca-4404aedee39e\",\"type\":\"BasicTicker\",\"attributes\":{\"num_minor_ticks\":5,\"id\":\"b8bff12f-b404-43d6-c3ca-4404aedee39e\",\"tags\":[],\"doc\":null}},{\"id\":\"90ac4a97-417d-4903-c98b-ed9a675d4918\",\"type\":\"LinearAxis\",\"attributes\":{\"formatter\":{\"type\":\"BasicTickFormatter\",\"id\":\"8065d0d8-e099-4afe-ca1c-cd2fa32b7fc2\"},\"ticker\":{\"type\":\"BasicTicker\",\"id\":\"b8bff12f-b404-43d6-c3ca-4404aedee39e\"},\"plot\":{\"id\":\"b87a236e-39de-4871-c8d4-3339d14ca9fe\",\"type\":\"Plot\",\"subtype\":\"Figure\"},\"axis_label\":null,\"id\":\"90ac4a97-417d-4903-c98b-ed9a675d4918\",\"doc\":null,\"tags\":[]}},{\"id\":\"50ab886e-2ffc-4562-c531-022fe52b2fa8\",\"type\":\"Grid\",\"attributes\":{\"dimension\":0,\"plot\":{\"id\":\"b87a236e-39de-4871-c8d4-3339d14ca9fe\",\"type\":\"Plot\",\"subtype\":\"Figure\"},\"ticker\":{\"type\":\"BasicTicker\",\"id\":\"b8bff12f-b404-43d6-c3ca-4404aedee39e\"},\"id\":\"50ab886e-2ffc-4562-c531-022fe52b2fa8\",\"doc\":null,\"tags\":[]}},{\"id\":\"22748664-18c5-491a-c983-aa6519a2cf3d\",\"type\":\"BasicTickFormatter\",\"attributes\":{\"id\":\"22748664-18c5-491a-c983-aa6519a2cf3d\",\"tags\":[],\"doc\":null}},{\"id\":\"dfc5d210-21c2-4941-c9e8-e315d3e43f11\",\"type\":\"BasicTicker\",\"attributes\":{\"num_minor_ticks\":5,\"id\":\"dfc5d210-21c2-4941-c9e8-e315d3e43f11\",\"tags\":[],\"doc\":null}},{\"id\":\"dbcc3eaa-b727-47b6-c720-42663355dce0\",\"type\":\"LinearAxis\",\"attributes\":{\"formatter\":{\"type\":\"BasicTickFormatter\",\"id\":\"22748664-18c5-491a-c983-aa6519a2cf3d\"},\"ticker\":{\"type\":\"BasicTicker\",\"id\":\"dfc5d210-21c2-4941-c9e8-e315d3e43f11\"},\"plot\":{\"id\":\"b87a236e-39de-4871-c8d4-3339d14ca9fe\",\"type\":\"Plot\",\"subtype\":\"Figure\"},\"axis_label\":null,\"id\":\"dbcc3eaa-b727-47b6-c720-42663355dce0\",\"doc\":null,\"tags\":[]}},{\"id\":\"5009ef23-82c9-4a61-ca83-74682f17fda2\",\"type\":\"Grid\",\"attributes\":{\"dimension\":1,\"plot\":{\"id\":\"b87a236e-39de-4871-c8d4-3339d14ca9fe\",\"type\":\"Plot\",\"subtype\":\"Figure\"},\"ticker\":{\"type\":\"BasicTicker\",\"id\":\"dfc5d210-21c2-4941-c9e8-e315d3e43f11\"},\"id\":\"5009ef23-82c9-4a61-ca83-74682f17fda2\",\"doc\":null,\"tags\":[]}},{\"id\":\"cb31dc76-94d6-465b-c6f7-be2f9280a00e\",\"type\":\"PanTool\",\"attributes\":{\"plot\":{\"id\":\"b87a236e-39de-4871-c8d4-3339d14ca9fe\",\"type\":\"Plot\",\"subtype\":\"Figure\"},\"dimensions\":[\"width\",\"height\"],\"id\":\"cb31dc76-94d6-465b-c6f7-be2f9280a00e\",\"doc\":null,\"tags\":[]}},{\"id\":\"2ce6d563-645b-437e-c3e5-955c0880629e\",\"type\":\"WheelZoomTool\",\"attributes\":{\"plot\":{\"id\":\"b87a236e-39de-4871-c8d4-3339d14ca9fe\",\"type\":\"Plot\",\"subtype\":\"Figure\"},\"dimensions\":[\"width\",\"height\"],\"id\":\"2ce6d563-645b-437e-c3e5-955c0880629e\",\"doc\":null,\"tags\":[]}},{\"id\":\"ae9bdc2a-8636-481f-c89f-c93e65dd2be2\",\"type\":\"BoxZoomTool\",\"attributes\":{\"plot\":{\"id\":\"b87a236e-39de-4871-c8d4-3339d14ca9fe\",\"type\":\"Plot\",\"subtype\":\"Figure\"},\"id\":\"ae9bdc2a-8636-481f-c89f-c93e65dd2be2\",\"tags\":[],\"doc\":null}},{\"id\":\"6ea307e2-93aa-4cdd-cc53-0fe234bdd645\",\"type\":\"PreviewSaveTool\",\"attributes\":{\"plot\":{\"id\":\"b87a236e-39de-4871-c8d4-3339d14ca9fe\",\"type\":\"Plot\",\"subtype\":\"Figure\"},\"id\":\"6ea307e2-93aa-4cdd-cc53-0fe234bdd645\",\"tags\":[],\"doc\":null}},{\"id\":\"16ca4d4e-69df-4fa1-cf2a-9b4b1287e209\",\"type\":\"ResizeTool\",\"attributes\":{\"plot\":{\"id\":\"b87a236e-39de-4871-c8d4-3339d14ca9fe\",\"type\":\"Plot\",\"subtype\":\"Figure\"},\"id\":\"16ca4d4e-69df-4fa1-cf2a-9b4b1287e209\",\"tags\":[],\"doc\":null}},{\"id\":\"bc15cc70-ce9e-41f7-c15e-cf43818825f6\",\"type\":\"ResetTool\",\"attributes\":{\"plot\":{\"id\":\"b87a236e-39de-4871-c8d4-3339d14ca9fe\",\"type\":\"Plot\",\"subtype\":\"Figure\"},\"id\":\"bc15cc70-ce9e-41f7-c15e-cf43818825f6\",\"tags\":[],\"doc\":null}},{\"id\":\"f58a716c-0919-4ed1-ce81-4532f5591c71\",\"type\":\"Legend\",\"attributes\":{\"plot\":{\"id\":\"b87a236e-39de-4871-c8d4-3339d14ca9fe\",\"type\":\"Plot\",\"subtype\":\"Figure\"},\"legends\":[[\"odd\",[{\"type\":\"GlyphRenderer\",\"id\":\"3ec781e8-420c-4d75-cdcb-dee6b0d0068c\"}]],[\"even\",[{\"type\":\"GlyphRenderer\",\"id\":\"525beeef-1526-4bb9-cbcf-5fed4d9e2200\"}]]],\"id\":\"f58a716c-0919-4ed1-ce81-4532f5591c71\",\"doc\":null,\"tags\":[]}},{\"id\":\"b87a236e-39de-4871-c8d4-3339d14ca9fe\",\"type\":\"Plot\",\"attributes\":{\"x_range\":{\"type\":\"DataRange1d\",\"id\":\"fb8d1727-b786-45ce-c531-9c54b5609220\"},\"tool_events\":{\"type\":\"ToolEvents\",\"id\":\"294bc1d6-012f-4c1b-ccc7-8ff65da8cfb9\"},\"below\":[{\"type\":\"LinearAxis\",\"id\":\"90ac4a97-417d-4903-c98b-ed9a675d4918\"}],\"renderers\":[{\"type\":\"GlyphRenderer\",\"id\":\"3ec781e8-420c-4d75-cdcb-dee6b0d0068c\"},{\"type\":\"GlyphRenderer\",\"id\":\"525beeef-1526-4bb9-cbcf-5fed4d9e2200\"},{\"type\":\"LinearAxis\",\"id\":\"90ac4a97-417d-4903-c98b-ed9a675d4918\"},{\"type\":\"Grid\",\"id\":\"50ab886e-2ffc-4562-c531-022fe52b2fa8\"},{\"type\":\"LinearAxis\",\"id\":\"dbcc3eaa-b727-47b6-c720-42663355dce0\"},{\"type\":\"Grid\",\"id\":\"5009ef23-82c9-4a61-ca83-74682f17fda2\"},{\"type\":\"Legend\",\"id\":\"f58a716c-0919-4ed1-ce81-4532f5591c71\"}],\"above\":[],\"tools\":[{\"type\":\"PanTool\",\"id\":\"cb31dc76-94d6-465b-c6f7-be2f9280a00e\"},{\"type\":\"WheelZoomTool\",\"id\":\"2ce6d563-645b-437e-c3e5-955c0880629e\"},{\"type\":\"BoxZoomTool\",\"id\":\"ae9bdc2a-8636-481f-c89f-c93e65dd2be2\"},{\"type\":\"PreviewSaveTool\",\"id\":\"6ea307e2-93aa-4cdd-cc53-0fe234bdd645\"},{\"type\":\"ResizeTool\",\"id\":\"16ca4d4e-69df-4fa1-cf2a-9b4b1287e209\"},{\"type\":\"ResetTool\",\"id\":\"bc15cc70-ce9e-41f7-c15e-cf43818825f6\"}],\"doc\":null,\"right\":[],\"title\":\"Embeddings of numbers 0 - 9\",\"extra_x_ranges\":{},\"left\":[{\"type\":\"LinearAxis\",\"id\":\"dbcc3eaa-b727-47b6-c720-42663355dce0\"}],\"y_range\":{\"type\":\"DataRange1d\",\"id\":\"598729a1-0cf7-497a-c946-bb2b6c2bb0b4\"},\"id\":\"b87a236e-39de-4871-c8d4-3339d14ca9fe\",\"extra_y_ranges\":{},\"tags\":[]}}];\n",
       "  Bokeh.load_models(all_models);\n",
       "  var model = Bokeh.Collections(modeltype).get(modelid);\n",
       "  $(\"#7d0e3034-00f9-433f-c303-8ee9f15f43eb\").html(''); // clear any previous plot in window_id\n",
       "  var view = new model.default_view({model: model, el: \"#7d0e3034-00f9-433f-c303-8ee9f15f43eb\"});\n",
       "    } else {\n",
       "  load_lib(bokehjs_url, function() {\n",
       "      console.log(\"Bokeh: BokehJS plotting callback run at\", new Date())\n",
       "      var modelid = \"b87a236e-39de-4871-c8d4-3339d14ca9fe\";\n",
       "      var modeltype = \"Plot\";\n",
       "      var all_models = [{\"id\":\"81fcbe51-b5ee-4db9-cdc0-b8a407dd40eb\",\"type\":\"ColumnDataSource\",\"attributes\":{\"data\":{\"y\":[1.7541766364212,-0.37055962006191,1.7479166099927,1.22368243885,-0.081605325632943],\"x\":[2.0893488629944,0.44320477342119,-0.26825898751577,-0.53001097697905,2.0480717643014]},\"column_names\":[\"y\",\"x\"],\"cont_ranges\":{},\"discrete_ranges\":{},\"selected\":[],\"id\":\"81fcbe51-b5ee-4db9-cdc0-b8a407dd40eb\",\"doc\":null,\"tags\":[]}},{\"id\":\"dc92eb86-db89-4bee-cb2f-cecbba231d70\",\"type\":\"Circle\",\"attributes\":{\"fill_alpha\":{\"units\":\"data\",\"value\":0.2},\"line_alpha\":{\"units\":\"data\",\"value\":1},\"doc\":null,\"size\":{\"units\":\"screen\",\"value\":10},\"fill_color\":{\"value\":\"red\"},\"line_color\":{\"value\":\"red\"},\"x\":{\"units\":\"data\",\"field\":\"x\"},\"id\":\"dc92eb86-db89-4bee-cb2f-cecbba231d70\",\"y\":{\"units\":\"data\",\"field\":\"y\"},\"tags\":[]}},{\"id\":\"fbfc8de8-bb8e-45f2-c544-0110242eab1d\",\"type\":\"Circle\",\"attributes\":{\"fill_alpha\":{\"units\":\"data\",\"value\":0.2},\"line_alpha\":{\"units\":\"data\",\"value\":1},\"doc\":null,\"size\":{\"units\":\"screen\",\"value\":10},\"fill_color\":{\"value\":\"red\"},\"line_color\":{\"value\":\"red\"},\"x\":{\"units\":\"data\",\"field\":\"x\"},\"id\":\"fbfc8de8-bb8e-45f2-c544-0110242eab1d\",\"y\":{\"units\":\"data\",\"field\":\"y\"},\"tags\":[]}},{\"id\":\"3ec781e8-420c-4d75-cdcb-dee6b0d0068c\",\"type\":\"GlyphRenderer\",\"attributes\":{\"name\":null,\"nonselection_glyph\":{\"type\":\"Circle\",\"id\":\"fbfc8de8-bb8e-45f2-c544-0110242eab1d\"},\"doc\":null,\"server_data_source\":null,\"data_source\":{\"type\":\"ColumnDataSource\",\"id\":\"81fcbe51-b5ee-4db9-cdc0-b8a407dd40eb\"},\"glyph\":{\"type\":\"Circle\",\"id\":\"dc92eb86-db89-4bee-cb2f-cecbba231d70\"},\"selection_glyph\":null,\"id\":\"3ec781e8-420c-4d75-cdcb-dee6b0d0068c\",\"tags\":[]}},{\"id\":\"d3c40fd8-8b54-4e08-cecf-70e347496f7d\",\"type\":\"ColumnDataSource\",\"attributes\":{\"data\":{\"y\":[0.14173915634605,0.88652174366326,-1.108017166665,-0.049469629449694,-0.12140775724552],\"x\":[-0.70917541341862,-0.50519041020639,-1.5651235228789,-0.73174769387047,-0.29223023658366]},\"column_names\":[\"y\",\"x\"],\"cont_ranges\":{},\"discrete_ranges\":{},\"selected\":[],\"id\":\"d3c40fd8-8b54-4e08-cecf-70e347496f7d\",\"doc\":null,\"tags\":[]}},{\"id\":\"295bbb71-c767-4e62-cea9-fd82614afb58\",\"type\":\"Circle\",\"attributes\":{\"fill_alpha\":{\"units\":\"data\",\"value\":0.2},\"line_alpha\":{\"units\":\"data\",\"value\":1},\"doc\":null,\"size\":{\"units\":\"screen\",\"value\":10},\"fill_color\":{\"value\":\"blue\"},\"line_color\":{\"value\":\"blue\"},\"x\":{\"units\":\"data\",\"field\":\"x\"},\"id\":\"295bbb71-c767-4e62-cea9-fd82614afb58\",\"y\":{\"units\":\"data\",\"field\":\"y\"},\"tags\":[]}},{\"id\":\"676a8e95-a689-4ce2-ccdf-bc8ad9f32418\",\"type\":\"Circle\",\"attributes\":{\"fill_alpha\":{\"units\":\"data\",\"value\":0.2},\"line_alpha\":{\"units\":\"data\",\"value\":1},\"doc\":null,\"size\":{\"units\":\"screen\",\"value\":10},\"fill_color\":{\"value\":\"blue\"},\"line_color\":{\"value\":\"blue\"},\"x\":{\"units\":\"data\",\"field\":\"x\"},\"id\":\"676a8e95-a689-4ce2-ccdf-bc8ad9f32418\",\"y\":{\"units\":\"data\",\"field\":\"y\"},\"tags\":[]}},{\"id\":\"525beeef-1526-4bb9-cbcf-5fed4d9e2200\",\"type\":\"GlyphRenderer\",\"attributes\":{\"name\":null,\"nonselection_glyph\":{\"type\":\"Circle\",\"id\":\"676a8e95-a689-4ce2-ccdf-bc8ad9f32418\"},\"doc\":null,\"server_data_source\":null,\"data_source\":{\"type\":\"ColumnDataSource\",\"id\":\"d3c40fd8-8b54-4e08-cecf-70e347496f7d\"},\"glyph\":{\"type\":\"Circle\",\"id\":\"295bbb71-c767-4e62-cea9-fd82614afb58\"},\"selection_glyph\":null,\"id\":\"525beeef-1526-4bb9-cbcf-5fed4d9e2200\",\"tags\":[]}},{\"id\":\"fb8d1727-b786-45ce-c531-9c54b5609220\",\"type\":\"DataRange1d\",\"attributes\":{\"sources\":[{\"columns\":[\"x\"],\"source\":{\"type\":\"ColumnDataSource\",\"id\":\"81fcbe51-b5ee-4db9-cdc0-b8a407dd40eb\"}},{\"columns\":[\"x\"],\"source\":{\"type\":\"ColumnDataSource\",\"id\":\"d3c40fd8-8b54-4e08-cecf-70e347496f7d\"}}],\"id\":\"fb8d1727-b786-45ce-c531-9c54b5609220\",\"tags\":[],\"doc\":null}},{\"id\":\"598729a1-0cf7-497a-c946-bb2b6c2bb0b4\",\"type\":\"DataRange1d\",\"attributes\":{\"sources\":[{\"columns\":[\"y\"],\"source\":{\"type\":\"ColumnDataSource\",\"id\":\"81fcbe51-b5ee-4db9-cdc0-b8a407dd40eb\"}},{\"columns\":[\"y\"],\"source\":{\"type\":\"ColumnDataSource\",\"id\":\"d3c40fd8-8b54-4e08-cecf-70e347496f7d\"}}],\"id\":\"598729a1-0cf7-497a-c946-bb2b6c2bb0b4\",\"tags\":[],\"doc\":null}},{\"id\":\"294bc1d6-012f-4c1b-ccc7-8ff65da8cfb9\",\"type\":\"ToolEvents\",\"attributes\":{\"tags\":[],\"id\":\"294bc1d6-012f-4c1b-ccc7-8ff65da8cfb9\",\"geometries\":[],\"doc\":null}},{\"id\":\"8065d0d8-e099-4afe-ca1c-cd2fa32b7fc2\",\"type\":\"BasicTickFormatter\",\"attributes\":{\"id\":\"8065d0d8-e099-4afe-ca1c-cd2fa32b7fc2\",\"tags\":[],\"doc\":null}},{\"id\":\"b8bff12f-b404-43d6-c3ca-4404aedee39e\",\"type\":\"BasicTicker\",\"attributes\":{\"num_minor_ticks\":5,\"id\":\"b8bff12f-b404-43d6-c3ca-4404aedee39e\",\"tags\":[],\"doc\":null}},{\"id\":\"90ac4a97-417d-4903-c98b-ed9a675d4918\",\"type\":\"LinearAxis\",\"attributes\":{\"formatter\":{\"type\":\"BasicTickFormatter\",\"id\":\"8065d0d8-e099-4afe-ca1c-cd2fa32b7fc2\"},\"ticker\":{\"type\":\"BasicTicker\",\"id\":\"b8bff12f-b404-43d6-c3ca-4404aedee39e\"},\"plot\":{\"id\":\"b87a236e-39de-4871-c8d4-3339d14ca9fe\",\"type\":\"Plot\",\"subtype\":\"Figure\"},\"axis_label\":null,\"id\":\"90ac4a97-417d-4903-c98b-ed9a675d4918\",\"doc\":null,\"tags\":[]}},{\"id\":\"50ab886e-2ffc-4562-c531-022fe52b2fa8\",\"type\":\"Grid\",\"attributes\":{\"dimension\":0,\"plot\":{\"id\":\"b87a236e-39de-4871-c8d4-3339d14ca9fe\",\"type\":\"Plot\",\"subtype\":\"Figure\"},\"ticker\":{\"type\":\"BasicTicker\",\"id\":\"b8bff12f-b404-43d6-c3ca-4404aedee39e\"},\"id\":\"50ab886e-2ffc-4562-c531-022fe52b2fa8\",\"doc\":null,\"tags\":[]}},{\"id\":\"22748664-18c5-491a-c983-aa6519a2cf3d\",\"type\":\"BasicTickFormatter\",\"attributes\":{\"id\":\"22748664-18c5-491a-c983-aa6519a2cf3d\",\"tags\":[],\"doc\":null}},{\"id\":\"dfc5d210-21c2-4941-c9e8-e315d3e43f11\",\"type\":\"BasicTicker\",\"attributes\":{\"num_minor_ticks\":5,\"id\":\"dfc5d210-21c2-4941-c9e8-e315d3e43f11\",\"tags\":[],\"doc\":null}},{\"id\":\"dbcc3eaa-b727-47b6-c720-42663355dce0\",\"type\":\"LinearAxis\",\"attributes\":{\"formatter\":{\"type\":\"BasicTickFormatter\",\"id\":\"22748664-18c5-491a-c983-aa6519a2cf3d\"},\"ticker\":{\"type\":\"BasicTicker\",\"id\":\"dfc5d210-21c2-4941-c9e8-e315d3e43f11\"},\"plot\":{\"id\":\"b87a236e-39de-4871-c8d4-3339d14ca9fe\",\"type\":\"Plot\",\"subtype\":\"Figure\"},\"axis_label\":null,\"id\":\"dbcc3eaa-b727-47b6-c720-42663355dce0\",\"doc\":null,\"tags\":[]}},{\"id\":\"5009ef23-82c9-4a61-ca83-74682f17fda2\",\"type\":\"Grid\",\"attributes\":{\"dimension\":1,\"plot\":{\"id\":\"b87a236e-39de-4871-c8d4-3339d14ca9fe\",\"type\":\"Plot\",\"subtype\":\"Figure\"},\"ticker\":{\"type\":\"BasicTicker\",\"id\":\"dfc5d210-21c2-4941-c9e8-e315d3e43f11\"},\"id\":\"5009ef23-82c9-4a61-ca83-74682f17fda2\",\"doc\":null,\"tags\":[]}},{\"id\":\"cb31dc76-94d6-465b-c6f7-be2f9280a00e\",\"type\":\"PanTool\",\"attributes\":{\"plot\":{\"id\":\"b87a236e-39de-4871-c8d4-3339d14ca9fe\",\"type\":\"Plot\",\"subtype\":\"Figure\"},\"dimensions\":[\"width\",\"height\"],\"id\":\"cb31dc76-94d6-465b-c6f7-be2f9280a00e\",\"doc\":null,\"tags\":[]}},{\"id\":\"2ce6d563-645b-437e-c3e5-955c0880629e\",\"type\":\"WheelZoomTool\",\"attributes\":{\"plot\":{\"id\":\"b87a236e-39de-4871-c8d4-3339d14ca9fe\",\"type\":\"Plot\",\"subtype\":\"Figure\"},\"dimensions\":[\"width\",\"height\"],\"id\":\"2ce6d563-645b-437e-c3e5-955c0880629e\",\"doc\":null,\"tags\":[]}},{\"id\":\"ae9bdc2a-8636-481f-c89f-c93e65dd2be2\",\"type\":\"BoxZoomTool\",\"attributes\":{\"plot\":{\"id\":\"b87a236e-39de-4871-c8d4-3339d14ca9fe\",\"type\":\"Plot\",\"subtype\":\"Figure\"},\"id\":\"ae9bdc2a-8636-481f-c89f-c93e65dd2be2\",\"tags\":[],\"doc\":null}},{\"id\":\"6ea307e2-93aa-4cdd-cc53-0fe234bdd645\",\"type\":\"PreviewSaveTool\",\"attributes\":{\"plot\":{\"id\":\"b87a236e-39de-4871-c8d4-3339d14ca9fe\",\"type\":\"Plot\",\"subtype\":\"Figure\"},\"id\":\"6ea307e2-93aa-4cdd-cc53-0fe234bdd645\",\"tags\":[],\"doc\":null}},{\"id\":\"16ca4d4e-69df-4fa1-cf2a-9b4b1287e209\",\"type\":\"ResizeTool\",\"attributes\":{\"plot\":{\"id\":\"b87a236e-39de-4871-c8d4-3339d14ca9fe\",\"type\":\"Plot\",\"subtype\":\"Figure\"},\"id\":\"16ca4d4e-69df-4fa1-cf2a-9b4b1287e209\",\"tags\":[],\"doc\":null}},{\"id\":\"bc15cc70-ce9e-41f7-c15e-cf43818825f6\",\"type\":\"ResetTool\",\"attributes\":{\"plot\":{\"id\":\"b87a236e-39de-4871-c8d4-3339d14ca9fe\",\"type\":\"Plot\",\"subtype\":\"Figure\"},\"id\":\"bc15cc70-ce9e-41f7-c15e-cf43818825f6\",\"tags\":[],\"doc\":null}},{\"id\":\"f58a716c-0919-4ed1-ce81-4532f5591c71\",\"type\":\"Legend\",\"attributes\":{\"plot\":{\"id\":\"b87a236e-39de-4871-c8d4-3339d14ca9fe\",\"type\":\"Plot\",\"subtype\":\"Figure\"},\"legends\":[[\"odd\",[{\"type\":\"GlyphRenderer\",\"id\":\"3ec781e8-420c-4d75-cdcb-dee6b0d0068c\"}]],[\"even\",[{\"type\":\"GlyphRenderer\",\"id\":\"525beeef-1526-4bb9-cbcf-5fed4d9e2200\"}]]],\"id\":\"f58a716c-0919-4ed1-ce81-4532f5591c71\",\"doc\":null,\"tags\":[]}},{\"id\":\"b87a236e-39de-4871-c8d4-3339d14ca9fe\",\"type\":\"Plot\",\"attributes\":{\"x_range\":{\"type\":\"DataRange1d\",\"id\":\"fb8d1727-b786-45ce-c531-9c54b5609220\"},\"tool_events\":{\"type\":\"ToolEvents\",\"id\":\"294bc1d6-012f-4c1b-ccc7-8ff65da8cfb9\"},\"below\":[{\"type\":\"LinearAxis\",\"id\":\"90ac4a97-417d-4903-c98b-ed9a675d4918\"}],\"renderers\":[{\"type\":\"GlyphRenderer\",\"id\":\"3ec781e8-420c-4d75-cdcb-dee6b0d0068c\"},{\"type\":\"GlyphRenderer\",\"id\":\"525beeef-1526-4bb9-cbcf-5fed4d9e2200\"},{\"type\":\"LinearAxis\",\"id\":\"90ac4a97-417d-4903-c98b-ed9a675d4918\"},{\"type\":\"Grid\",\"id\":\"50ab886e-2ffc-4562-c531-022fe52b2fa8\"},{\"type\":\"LinearAxis\",\"id\":\"dbcc3eaa-b727-47b6-c720-42663355dce0\"},{\"type\":\"Grid\",\"id\":\"5009ef23-82c9-4a61-ca83-74682f17fda2\"},{\"type\":\"Legend\",\"id\":\"f58a716c-0919-4ed1-ce81-4532f5591c71\"}],\"above\":[],\"tools\":[{\"type\":\"PanTool\",\"id\":\"cb31dc76-94d6-465b-c6f7-be2f9280a00e\"},{\"type\":\"WheelZoomTool\",\"id\":\"2ce6d563-645b-437e-c3e5-955c0880629e\"},{\"type\":\"BoxZoomTool\",\"id\":\"ae9bdc2a-8636-481f-c89f-c93e65dd2be2\"},{\"type\":\"PreviewSaveTool\",\"id\":\"6ea307e2-93aa-4cdd-cc53-0fe234bdd645\"},{\"type\":\"ResizeTool\",\"id\":\"16ca4d4e-69df-4fa1-cf2a-9b4b1287e209\"},{\"type\":\"ResetTool\",\"id\":\"bc15cc70-ce9e-41f7-c15e-cf43818825f6\"}],\"doc\":null,\"right\":[],\"title\":\"Embeddings of numbers 0 - 9\",\"extra_x_ranges\":{},\"left\":[{\"type\":\"LinearAxis\",\"id\":\"dbcc3eaa-b727-47b6-c720-42663355dce0\"}],\"y_range\":{\"type\":\"DataRange1d\",\"id\":\"598729a1-0cf7-497a-c946-bb2b6c2bb0b4\"},\"id\":\"b87a236e-39de-4871-c8d4-3339d14ca9fe\",\"extra_y_ranges\":{},\"tags\":[]}}];\n",
       "      Bokeh.load_models(all_models);\n",
       "      var model = Bokeh.Collections(modeltype).get(modelid);\n",
       "      $(\"#7d0e3034-00f9-433f-c303-8ee9f15f43eb\").html(''); // clear any previous plot in window_id\n",
       "      var view = new model.default_view({model: model, el: \"#7d0e3034-00f9-433f-c303-8ee9f15f43eb\"});\n",
       "  });\n",
       "    }\n",
       "});\n",
       "</script>\n",
       "<div class=\"plotdiv\" id=\"7d0e3034-00f9-433f-c303-8ee9f15f43eb\"></div>\n"
      ]
     },
     "metadata": {},
     "output_type": "display_data"
    }
   ],
   "source": [
    "-- Initial embeddings\n",
    "local _ = plot_emb(emb, nil)"
   ]
  },
  {
   "cell_type": "code",
   "execution_count": 1,
   "metadata": {
    "collapsed": false,
    "scrolled": false
   },
   "outputs": [],
   "source": [
    "-- SGD hyper-params (this basic version only needs learning rate and number of iterations)\n",
    "local learning_rate = 0.01\n",
    "local epochs = 7500\n",
    "-- Parallization is not helpful here\n",
    "local num_threads = torch.getnumthreads()\n",
    "torch.setnumthreads(1)\n",
    "-- do many iterations\n",
    "--   \\[T]/  Praise the Sun!\n",
    "--    |_|\n",
    "--    \\ \\\n",
    "for i = 1,epochs do\n",
    "    -- Reset the network\n",
    "    lstm_net:forget()\n",
    "    lstm_net:zeroGradParameters()\n",
    "    emb:zeroGradParameters()\n",
    "    local input_seq, output_seq = gen_data(seq_len) -- get inputs and outputs\n",
    "    local emb_seq = emb:forward(input_seq)          -- get inputs' embeddings\n",
    "    local sum_rep_seq = lstm_net:forward(emb_seq) -- get representations from LSTM\n",
    "    local grad_sum_rep_seq = torch.zeros(seq_len, num_layers, sum_rep_dim) -- for later\n",
    "    local total_loss = 0\n",
    "    for t = 1,seq_len do -- for each sum (in the sequence)\n",
    "        classifier:zeroGradParameters() -- reset the classifier\n",
    "        -- get output log distribution, only need hidden state\n",
    "        local rep = sum_rep_seq[{{},t,num_layers,{}}]\n",
    "        local net_output = classifier:forward(rep) \n",
    "        net_output = net_output:reshape(class_types)\n",
    "        local loss = criterion:forward(net_output, output_seq[t]) -- compute loss\n",
    "        total_loss = total_loss + loss\n",
    "        local grad_out = criterion:backward(net_output, output_seq[t]) -- gradients of the loss\n",
    "        local grad_sum_rep = classifier:backward(rep, grad_out) -- gradients of the representation\n",
    "        grad_sum_rep_seq[{t,num_layers,{}}] = grad_sum_rep -- we get the gradient one at a time, so keep it here for later\n",
    "        classifier:updateParameters(learning_rate) -- update the classifier's parameters\n",
    "    end\n",
    "    -- compute embedding gradients (using all of the representation gradients)\n",
    "    local grad_emb_seq = lstm_net:backward(emb_seq, grad_sum_rep_seq)\n",
    "    -- compute input gradients \n",
    "    -- (this returns nothing, because the input is just index.\n",
    "    -- But we need to call it to update the gradients accroding to the inputs\n",
    "    grad_emb_seq = grad_emb_seq:reshape(seq_len, emb_dim)\n",
    "    emb:backward(input_seq, grad_emb_seq)\n",
    "    -- update parameters\n",
    "    lstm_net:updateParameters(learning_rate)\n",
    "    emb:updateParameters(learning_rate)\n",
    "end\n",
    "-- Set num threads back\n",
    "torch.setnumthreads(num_threads)"
   ]
  },
  {
   "cell_type": "code",
   "execution_count": 3,
   "metadata": {
    "collapsed": false,
    "scrolled": true
   },
   "outputs": [
    {
     "data": {
      "text/plain": [
       "input 2, sum 2, output Even\t\n",
       "input 3, sum 5, output Odd\t\n",
       "input 6, sum 11, output Odd\t\n",
       "input 1, sum 12, output Even\t\n",
       "input 2, sum 14, output Even\t\n"
      ]
     },
     "execution_count": 3,
     "metadata": {},
     "output_type": "execute_result"
    }
   ],
   "source": [
    "-- Testing\n",
    "lstm_net:forget() -- reset LSTM (go back to step 0)\n",
    "local input_seq, output_seq = gen_data(seq_len)\n",
    "local emb_seq = emb:forward(input_seq)\n",
    "local sum_rep_seq = lstm_net:forward(emb_seq)\n",
    "local output_seq = torch.Tensor(seq_len) -- model's outputs, for later\n",
    "for t = 1,seq_len do\n",
    "    -- print('input:')\n",
    "    -- print(input_seq[t] - 1)\n",
    "    -- print(sum_rep_seq[t][2])\n",
    "    local rep = sum_rep_seq[{{},t,num_layers,{}}]\n",
    "    local net_output = classifier:forward(rep)\n",
    "    local m, d = torch.max(net_output, 2)\n",
    "    output_seq[t] = d -- keep the output here\n",
    "end\n",
    "-- show the result, is it perfect?\n",
    "-- Yes: cool, can we make the sequence longer?\n",
    "-- No: tweak some hyper-parameters\n",
    "display(input_seq, output_seq) "
   ]
  },
  {
   "cell_type": "code",
   "execution_count": 4,
   "metadata": {
    "collapsed": false
   },
   "outputs": [
    {
     "data": {
      "text/html": [
       "<script type=\"text/javascript\">\n",
       "$(function() {\n",
       "    if (typeof (window._bokeh_onload_callbacks) === \"undefined\"){\n",
       "  window._bokeh_onload_callbacks = [];\n",
       "    }\n",
       "    function load_lib(url, callback){\n",
       "  window._bokeh_onload_callbacks.push(callback);\n",
       "  if (window._bokeh_is_loading){\n",
       "      console.log(\"Bokeh: BokehJS is being loaded, scheduling callback at\", new Date());\n",
       "      return null;\n",
       "  }\n",
       "  console.log(\"Bokeh: BokehJS not loaded, scheduling load and callback at\", new Date());\n",
       "  window._bokeh_is_loading = true;\n",
       "  var s = document.createElement('script');\n",
       "  s.src = url;\n",
       "  s.async = true;\n",
       "  s.onreadystatechange = s.onload = function(){\n",
       "      Bokeh.embed.inject_css(\"http://cdn.pydata.org/bokeh-0.7.0.min.css\");\n",
       "      window._bokeh_onload_callbacks.forEach(function(callback){callback()});\n",
       "  };\n",
       "  s.onerror = function(){\n",
       "      console.warn(\"failed to load library \" + url);\n",
       "  };\n",
       "  document.getElementsByTagName(\"head\")[0].appendChild(s);\n",
       "    }\n",
       "\n",
       "    bokehjs_url = \"http://cdn.pydata.org/bokeh-0.7.0.min.js\"\n",
       "\n",
       "    var elt = document.getElementById(\"70af5f75-a406-4cb3-ccd2-c2d320ffe43a\");\n",
       "    if(elt==null) {\n",
       "  console.log(\"Bokeh: ERROR: autoload.js configured with elementid '70af5f75-a406-4cb3-ccd2-c2d320ffe43a'\"\n",
       "        + \"but no matching script tag was found. \")\n",
       "  return false;\n",
       "    }\n",
       "\n",
       "    if(typeof(Bokeh) !== \"undefined\") {\n",
       "  console.log(\"Bokeh: BokehJS loaded, going straight to plotting\");\n",
       "  var modelid = \"489e075e-014c-4ef5-ce93-ac111bcdfad3\";\n",
       "  var modeltype = \"Plot\";\n",
       "  var all_models = [{\"id\":\"4323d333-fe4b-47ae-c720-624cf01f3eae\",\"type\":\"ColumnDataSource\",\"attributes\":{\"data\":{\"y\":[1.7210864102809,0.20975832309374,1.9447955293751,1.7195103842978,-0.018885520553729],\"x\":[2.1003301875237,1.3219119241056,0.037084703745439,0.13868757947007,2.0704558287975]},\"column_names\":[\"y\",\"x\"],\"cont_ranges\":{},\"discrete_ranges\":{},\"selected\":[],\"id\":\"4323d333-fe4b-47ae-c720-624cf01f3eae\",\"doc\":null,\"tags\":[]}},{\"id\":\"1aa638fb-0aeb-4e45-cebe-45eea8d8a6e4\",\"type\":\"Circle\",\"attributes\":{\"fill_alpha\":{\"units\":\"data\",\"value\":0.2},\"line_alpha\":{\"units\":\"data\",\"value\":1},\"doc\":null,\"size\":{\"units\":\"screen\",\"value\":10},\"fill_color\":{\"value\":\"red\"},\"line_color\":{\"value\":\"red\"},\"x\":{\"units\":\"data\",\"field\":\"x\"},\"id\":\"1aa638fb-0aeb-4e45-cebe-45eea8d8a6e4\",\"y\":{\"units\":\"data\",\"field\":\"y\"},\"tags\":[]}},{\"id\":\"a5b6de1d-d2b3-4e39-ce5e-d76a30234d47\",\"type\":\"Circle\",\"attributes\":{\"fill_alpha\":{\"units\":\"data\",\"value\":0.2},\"line_alpha\":{\"units\":\"data\",\"value\":1},\"doc\":null,\"size\":{\"units\":\"screen\",\"value\":10},\"fill_color\":{\"value\":\"red\"},\"line_color\":{\"value\":\"red\"},\"x\":{\"units\":\"data\",\"field\":\"x\"},\"id\":\"a5b6de1d-d2b3-4e39-ce5e-d76a30234d47\",\"y\":{\"units\":\"data\",\"field\":\"y\"},\"tags\":[]}},{\"id\":\"d8769ff3-60c1-4be2-cbef-3376017c54e6\",\"type\":\"GlyphRenderer\",\"attributes\":{\"name\":null,\"nonselection_glyph\":{\"type\":\"Circle\",\"id\":\"a5b6de1d-d2b3-4e39-ce5e-d76a30234d47\"},\"doc\":null,\"server_data_source\":null,\"data_source\":{\"type\":\"ColumnDataSource\",\"id\":\"4323d333-fe4b-47ae-c720-624cf01f3eae\"},\"glyph\":{\"type\":\"Circle\",\"id\":\"1aa638fb-0aeb-4e45-cebe-45eea8d8a6e4\"},\"selection_glyph\":null,\"id\":\"d8769ff3-60c1-4be2-cbef-3376017c54e6\",\"tags\":[]}},{\"id\":\"5cff97a7-73c3-432a-c325-b8d3f3c8984a\",\"type\":\"ColumnDataSource\",\"attributes\":{\"data\":{\"y\":[-0.07369683430656,0.28072310642582,-1.1891569743121,-0.18685511635876,-0.29801274324803],\"x\":[-1.158071046084,-1.2606194652557,-1.2359436175599,-1.1159146406263,-1.1001885238416]},\"column_names\":[\"y\",\"x\"],\"cont_ranges\":{},\"discrete_ranges\":{},\"selected\":[],\"id\":\"5cff97a7-73c3-432a-c325-b8d3f3c8984a\",\"doc\":null,\"tags\":[]}},{\"id\":\"8fece7b3-34f4-4a7d-ca00-df339eec392a\",\"type\":\"Circle\",\"attributes\":{\"fill_alpha\":{\"units\":\"data\",\"value\":0.2},\"line_alpha\":{\"units\":\"data\",\"value\":1},\"doc\":null,\"size\":{\"units\":\"screen\",\"value\":10},\"fill_color\":{\"value\":\"blue\"},\"line_color\":{\"value\":\"blue\"},\"x\":{\"units\":\"data\",\"field\":\"x\"},\"id\":\"8fece7b3-34f4-4a7d-ca00-df339eec392a\",\"y\":{\"units\":\"data\",\"field\":\"y\"},\"tags\":[]}},{\"id\":\"51b3bdeb-9054-46ac-c68b-ae4a6f851315\",\"type\":\"Circle\",\"attributes\":{\"fill_alpha\":{\"units\":\"data\",\"value\":0.2},\"line_alpha\":{\"units\":\"data\",\"value\":1},\"doc\":null,\"size\":{\"units\":\"screen\",\"value\":10},\"fill_color\":{\"value\":\"blue\"},\"line_color\":{\"value\":\"blue\"},\"x\":{\"units\":\"data\",\"field\":\"x\"},\"id\":\"51b3bdeb-9054-46ac-c68b-ae4a6f851315\",\"y\":{\"units\":\"data\",\"field\":\"y\"},\"tags\":[]}},{\"id\":\"4e5f4750-9a88-4fca-cf9f-cd4ce3b7a203\",\"type\":\"GlyphRenderer\",\"attributes\":{\"name\":null,\"nonselection_glyph\":{\"type\":\"Circle\",\"id\":\"51b3bdeb-9054-46ac-c68b-ae4a6f851315\"},\"doc\":null,\"server_data_source\":null,\"data_source\":{\"type\":\"ColumnDataSource\",\"id\":\"5cff97a7-73c3-432a-c325-b8d3f3c8984a\"},\"glyph\":{\"type\":\"Circle\",\"id\":\"8fece7b3-34f4-4a7d-ca00-df339eec392a\"},\"selection_glyph\":null,\"id\":\"4e5f4750-9a88-4fca-cf9f-cd4ce3b7a203\",\"tags\":[]}},{\"id\":\"49fd7e0a-99e4-42c9-c230-569e198fd904\",\"type\":\"DataRange1d\",\"attributes\":{\"sources\":[{\"columns\":[\"x\"],\"source\":{\"type\":\"ColumnDataSource\",\"id\":\"4323d333-fe4b-47ae-c720-624cf01f3eae\"}},{\"columns\":[\"x\"],\"source\":{\"type\":\"ColumnDataSource\",\"id\":\"5cff97a7-73c3-432a-c325-b8d3f3c8984a\"}}],\"id\":\"49fd7e0a-99e4-42c9-c230-569e198fd904\",\"tags\":[],\"doc\":null}},{\"id\":\"71c762a4-7339-4c46-cc34-a9cde1830045\",\"type\":\"DataRange1d\",\"attributes\":{\"sources\":[{\"columns\":[\"y\"],\"source\":{\"type\":\"ColumnDataSource\",\"id\":\"4323d333-fe4b-47ae-c720-624cf01f3eae\"}},{\"columns\":[\"y\"],\"source\":{\"type\":\"ColumnDataSource\",\"id\":\"5cff97a7-73c3-432a-c325-b8d3f3c8984a\"}}],\"id\":\"71c762a4-7339-4c46-cc34-a9cde1830045\",\"tags\":[],\"doc\":null}},{\"id\":\"c743e878-2950-4f7e-cfc8-7835840a558a\",\"type\":\"ToolEvents\",\"attributes\":{\"tags\":[],\"id\":\"c743e878-2950-4f7e-cfc8-7835840a558a\",\"geometries\":[],\"doc\":null}},{\"id\":\"80916607-4ec3-4111-c1ce-45221464354c\",\"type\":\"BasicTickFormatter\",\"attributes\":{\"id\":\"80916607-4ec3-4111-c1ce-45221464354c\",\"tags\":[],\"doc\":null}},{\"id\":\"38bd9b0b-8d2c-432c-c33c-6353b5ddd497\",\"type\":\"BasicTicker\",\"attributes\":{\"num_minor_ticks\":5,\"id\":\"38bd9b0b-8d2c-432c-c33c-6353b5ddd497\",\"tags\":[],\"doc\":null}},{\"id\":\"38e71985-908a-4f41-cfdb-a4f2127a8589\",\"type\":\"LinearAxis\",\"attributes\":{\"formatter\":{\"type\":\"BasicTickFormatter\",\"id\":\"80916607-4ec3-4111-c1ce-45221464354c\"},\"ticker\":{\"type\":\"BasicTicker\",\"id\":\"38bd9b0b-8d2c-432c-c33c-6353b5ddd497\"},\"plot\":{\"id\":\"489e075e-014c-4ef5-ce93-ac111bcdfad3\",\"type\":\"Plot\",\"subtype\":\"Figure\"},\"axis_label\":null,\"id\":\"38e71985-908a-4f41-cfdb-a4f2127a8589\",\"doc\":null,\"tags\":[]}},{\"id\":\"fb1c0a8c-3974-4ba7-cb54-d027d9fce98f\",\"type\":\"Grid\",\"attributes\":{\"dimension\":0,\"plot\":{\"id\":\"489e075e-014c-4ef5-ce93-ac111bcdfad3\",\"type\":\"Plot\",\"subtype\":\"Figure\"},\"ticker\":{\"type\":\"BasicTicker\",\"id\":\"38bd9b0b-8d2c-432c-c33c-6353b5ddd497\"},\"id\":\"fb1c0a8c-3974-4ba7-cb54-d027d9fce98f\",\"doc\":null,\"tags\":[]}},{\"id\":\"3d45818a-b5bc-48e0-c871-129881dfe385\",\"type\":\"BasicTickFormatter\",\"attributes\":{\"id\":\"3d45818a-b5bc-48e0-c871-129881dfe385\",\"tags\":[],\"doc\":null}},{\"id\":\"bb20367c-45be-4187-c160-91a65e1b87ee\",\"type\":\"BasicTicker\",\"attributes\":{\"num_minor_ticks\":5,\"id\":\"bb20367c-45be-4187-c160-91a65e1b87ee\",\"tags\":[],\"doc\":null}},{\"id\":\"75deb4e1-de4b-4277-c2b6-03402a290f7d\",\"type\":\"LinearAxis\",\"attributes\":{\"formatter\":{\"type\":\"BasicTickFormatter\",\"id\":\"3d45818a-b5bc-48e0-c871-129881dfe385\"},\"ticker\":{\"type\":\"BasicTicker\",\"id\":\"bb20367c-45be-4187-c160-91a65e1b87ee\"},\"plot\":{\"id\":\"489e075e-014c-4ef5-ce93-ac111bcdfad3\",\"type\":\"Plot\",\"subtype\":\"Figure\"},\"axis_label\":null,\"id\":\"75deb4e1-de4b-4277-c2b6-03402a290f7d\",\"doc\":null,\"tags\":[]}},{\"id\":\"c77fc70e-c027-4bdd-cb74-9efe64b30c3f\",\"type\":\"Grid\",\"attributes\":{\"dimension\":1,\"plot\":{\"id\":\"489e075e-014c-4ef5-ce93-ac111bcdfad3\",\"type\":\"Plot\",\"subtype\":\"Figure\"},\"ticker\":{\"type\":\"BasicTicker\",\"id\":\"bb20367c-45be-4187-c160-91a65e1b87ee\"},\"id\":\"c77fc70e-c027-4bdd-cb74-9efe64b30c3f\",\"doc\":null,\"tags\":[]}},{\"id\":\"6761a806-b16f-4d65-cdfb-ac8a32d052d3\",\"type\":\"PanTool\",\"attributes\":{\"plot\":{\"id\":\"489e075e-014c-4ef5-ce93-ac111bcdfad3\",\"type\":\"Plot\",\"subtype\":\"Figure\"},\"dimensions\":[\"width\",\"height\"],\"id\":\"6761a806-b16f-4d65-cdfb-ac8a32d052d3\",\"doc\":null,\"tags\":[]}},{\"id\":\"94195310-aa19-4ca4-ccff-ddd71d30ae2e\",\"type\":\"WheelZoomTool\",\"attributes\":{\"plot\":{\"id\":\"489e075e-014c-4ef5-ce93-ac111bcdfad3\",\"type\":\"Plot\",\"subtype\":\"Figure\"},\"dimensions\":[\"width\",\"height\"],\"id\":\"94195310-aa19-4ca4-ccff-ddd71d30ae2e\",\"doc\":null,\"tags\":[]}},{\"id\":\"1a51a132-5544-45d0-c517-c7413397c262\",\"type\":\"BoxZoomTool\",\"attributes\":{\"plot\":{\"id\":\"489e075e-014c-4ef5-ce93-ac111bcdfad3\",\"type\":\"Plot\",\"subtype\":\"Figure\"},\"id\":\"1a51a132-5544-45d0-c517-c7413397c262\",\"tags\":[],\"doc\":null}},{\"id\":\"bb1614d0-945b-49bc-c939-478134e839e5\",\"type\":\"PreviewSaveTool\",\"attributes\":{\"plot\":{\"id\":\"489e075e-014c-4ef5-ce93-ac111bcdfad3\",\"type\":\"Plot\",\"subtype\":\"Figure\"},\"id\":\"bb1614d0-945b-49bc-c939-478134e839e5\",\"tags\":[],\"doc\":null}},{\"id\":\"ba89f1af-8906-4b2e-cb32-cc24feeefc78\",\"type\":\"ResizeTool\",\"attributes\":{\"plot\":{\"id\":\"489e075e-014c-4ef5-ce93-ac111bcdfad3\",\"type\":\"Plot\",\"subtype\":\"Figure\"},\"id\":\"ba89f1af-8906-4b2e-cb32-cc24feeefc78\",\"tags\":[],\"doc\":null}},{\"id\":\"6a3bde1f-0946-44d8-c4ae-464b440e8a88\",\"type\":\"ResetTool\",\"attributes\":{\"plot\":{\"id\":\"489e075e-014c-4ef5-ce93-ac111bcdfad3\",\"type\":\"Plot\",\"subtype\":\"Figure\"},\"id\":\"6a3bde1f-0946-44d8-c4ae-464b440e8a88\",\"tags\":[],\"doc\":null}},{\"id\":\"c2b03050-7182-4818-c81f-517947bf8a35\",\"type\":\"Legend\",\"attributes\":{\"plot\":{\"id\":\"489e075e-014c-4ef5-ce93-ac111bcdfad3\",\"type\":\"Plot\",\"subtype\":\"Figure\"},\"legends\":[[\"odd\",[{\"type\":\"GlyphRenderer\",\"id\":\"d8769ff3-60c1-4be2-cbef-3376017c54e6\"}]],[\"even\",[{\"type\":\"GlyphRenderer\",\"id\":\"4e5f4750-9a88-4fca-cf9f-cd4ce3b7a203\"}]]],\"id\":\"c2b03050-7182-4818-c81f-517947bf8a35\",\"doc\":null,\"tags\":[]}},{\"id\":\"489e075e-014c-4ef5-ce93-ac111bcdfad3\",\"type\":\"Plot\",\"attributes\":{\"x_range\":{\"type\":\"DataRange1d\",\"id\":\"49fd7e0a-99e4-42c9-c230-569e198fd904\"},\"tool_events\":{\"type\":\"ToolEvents\",\"id\":\"c743e878-2950-4f7e-cfc8-7835840a558a\"},\"below\":[{\"type\":\"LinearAxis\",\"id\":\"38e71985-908a-4f41-cfdb-a4f2127a8589\"}],\"renderers\":[{\"type\":\"GlyphRenderer\",\"id\":\"d8769ff3-60c1-4be2-cbef-3376017c54e6\"},{\"type\":\"GlyphRenderer\",\"id\":\"4e5f4750-9a88-4fca-cf9f-cd4ce3b7a203\"},{\"type\":\"LinearAxis\",\"id\":\"38e71985-908a-4f41-cfdb-a4f2127a8589\"},{\"type\":\"Grid\",\"id\":\"fb1c0a8c-3974-4ba7-cb54-d027d9fce98f\"},{\"type\":\"LinearAxis\",\"id\":\"75deb4e1-de4b-4277-c2b6-03402a290f7d\"},{\"type\":\"Grid\",\"id\":\"c77fc70e-c027-4bdd-cb74-9efe64b30c3f\"},{\"type\":\"Legend\",\"id\":\"c2b03050-7182-4818-c81f-517947bf8a35\"}],\"above\":[],\"tools\":[{\"type\":\"PanTool\",\"id\":\"6761a806-b16f-4d65-cdfb-ac8a32d052d3\"},{\"type\":\"WheelZoomTool\",\"id\":\"94195310-aa19-4ca4-ccff-ddd71d30ae2e\"},{\"type\":\"BoxZoomTool\",\"id\":\"1a51a132-5544-45d0-c517-c7413397c262\"},{\"type\":\"PreviewSaveTool\",\"id\":\"bb1614d0-945b-49bc-c939-478134e839e5\"},{\"type\":\"ResizeTool\",\"id\":\"ba89f1af-8906-4b2e-cb32-cc24feeefc78\"},{\"type\":\"ResetTool\",\"id\":\"6a3bde1f-0946-44d8-c4ae-464b440e8a88\"}],\"doc\":null,\"right\":[],\"title\":\"Embeddings of numbers 0 - 9\",\"extra_x_ranges\":{},\"left\":[{\"type\":\"LinearAxis\",\"id\":\"75deb4e1-de4b-4277-c2b6-03402a290f7d\"}],\"y_range\":{\"type\":\"DataRange1d\",\"id\":\"71c762a4-7339-4c46-cc34-a9cde1830045\"},\"id\":\"489e075e-014c-4ef5-ce93-ac111bcdfad3\",\"extra_y_ranges\":{},\"tags\":[]}}];\n",
       "  Bokeh.load_models(all_models);\n",
       "  var model = Bokeh.Collections(modeltype).get(modelid);\n",
       "  $(\"#70af5f75-a406-4cb3-ccd2-c2d320ffe43a\").html(''); // clear any previous plot in window_id\n",
       "  var view = new model.default_view({model: model, el: \"#70af5f75-a406-4cb3-ccd2-c2d320ffe43a\"});\n",
       "    } else {\n",
       "  load_lib(bokehjs_url, function() {\n",
       "      console.log(\"Bokeh: BokehJS plotting callback run at\", new Date())\n",
       "      var modelid = \"489e075e-014c-4ef5-ce93-ac111bcdfad3\";\n",
       "      var modeltype = \"Plot\";\n",
       "      var all_models = [{\"id\":\"4323d333-fe4b-47ae-c720-624cf01f3eae\",\"type\":\"ColumnDataSource\",\"attributes\":{\"data\":{\"y\":[1.7210864102809,0.20975832309374,1.9447955293751,1.7195103842978,-0.018885520553729],\"x\":[2.1003301875237,1.3219119241056,0.037084703745439,0.13868757947007,2.0704558287975]},\"column_names\":[\"y\",\"x\"],\"cont_ranges\":{},\"discrete_ranges\":{},\"selected\":[],\"id\":\"4323d333-fe4b-47ae-c720-624cf01f3eae\",\"doc\":null,\"tags\":[]}},{\"id\":\"1aa638fb-0aeb-4e45-cebe-45eea8d8a6e4\",\"type\":\"Circle\",\"attributes\":{\"fill_alpha\":{\"units\":\"data\",\"value\":0.2},\"line_alpha\":{\"units\":\"data\",\"value\":1},\"doc\":null,\"size\":{\"units\":\"screen\",\"value\":10},\"fill_color\":{\"value\":\"red\"},\"line_color\":{\"value\":\"red\"},\"x\":{\"units\":\"data\",\"field\":\"x\"},\"id\":\"1aa638fb-0aeb-4e45-cebe-45eea8d8a6e4\",\"y\":{\"units\":\"data\",\"field\":\"y\"},\"tags\":[]}},{\"id\":\"a5b6de1d-d2b3-4e39-ce5e-d76a30234d47\",\"type\":\"Circle\",\"attributes\":{\"fill_alpha\":{\"units\":\"data\",\"value\":0.2},\"line_alpha\":{\"units\":\"data\",\"value\":1},\"doc\":null,\"size\":{\"units\":\"screen\",\"value\":10},\"fill_color\":{\"value\":\"red\"},\"line_color\":{\"value\":\"red\"},\"x\":{\"units\":\"data\",\"field\":\"x\"},\"id\":\"a5b6de1d-d2b3-4e39-ce5e-d76a30234d47\",\"y\":{\"units\":\"data\",\"field\":\"y\"},\"tags\":[]}},{\"id\":\"d8769ff3-60c1-4be2-cbef-3376017c54e6\",\"type\":\"GlyphRenderer\",\"attributes\":{\"name\":null,\"nonselection_glyph\":{\"type\":\"Circle\",\"id\":\"a5b6de1d-d2b3-4e39-ce5e-d76a30234d47\"},\"doc\":null,\"server_data_source\":null,\"data_source\":{\"type\":\"ColumnDataSource\",\"id\":\"4323d333-fe4b-47ae-c720-624cf01f3eae\"},\"glyph\":{\"type\":\"Circle\",\"id\":\"1aa638fb-0aeb-4e45-cebe-45eea8d8a6e4\"},\"selection_glyph\":null,\"id\":\"d8769ff3-60c1-4be2-cbef-3376017c54e6\",\"tags\":[]}},{\"id\":\"5cff97a7-73c3-432a-c325-b8d3f3c8984a\",\"type\":\"ColumnDataSource\",\"attributes\":{\"data\":{\"y\":[-0.07369683430656,0.28072310642582,-1.1891569743121,-0.18685511635876,-0.29801274324803],\"x\":[-1.158071046084,-1.2606194652557,-1.2359436175599,-1.1159146406263,-1.1001885238416]},\"column_names\":[\"y\",\"x\"],\"cont_ranges\":{},\"discrete_ranges\":{},\"selected\":[],\"id\":\"5cff97a7-73c3-432a-c325-b8d3f3c8984a\",\"doc\":null,\"tags\":[]}},{\"id\":\"8fece7b3-34f4-4a7d-ca00-df339eec392a\",\"type\":\"Circle\",\"attributes\":{\"fill_alpha\":{\"units\":\"data\",\"value\":0.2},\"line_alpha\":{\"units\":\"data\",\"value\":1},\"doc\":null,\"size\":{\"units\":\"screen\",\"value\":10},\"fill_color\":{\"value\":\"blue\"},\"line_color\":{\"value\":\"blue\"},\"x\":{\"units\":\"data\",\"field\":\"x\"},\"id\":\"8fece7b3-34f4-4a7d-ca00-df339eec392a\",\"y\":{\"units\":\"data\",\"field\":\"y\"},\"tags\":[]}},{\"id\":\"51b3bdeb-9054-46ac-c68b-ae4a6f851315\",\"type\":\"Circle\",\"attributes\":{\"fill_alpha\":{\"units\":\"data\",\"value\":0.2},\"line_alpha\":{\"units\":\"data\",\"value\":1},\"doc\":null,\"size\":{\"units\":\"screen\",\"value\":10},\"fill_color\":{\"value\":\"blue\"},\"line_color\":{\"value\":\"blue\"},\"x\":{\"units\":\"data\",\"field\":\"x\"},\"id\":\"51b3bdeb-9054-46ac-c68b-ae4a6f851315\",\"y\":{\"units\":\"data\",\"field\":\"y\"},\"tags\":[]}},{\"id\":\"4e5f4750-9a88-4fca-cf9f-cd4ce3b7a203\",\"type\":\"GlyphRenderer\",\"attributes\":{\"name\":null,\"nonselection_glyph\":{\"type\":\"Circle\",\"id\":\"51b3bdeb-9054-46ac-c68b-ae4a6f851315\"},\"doc\":null,\"server_data_source\":null,\"data_source\":{\"type\":\"ColumnDataSource\",\"id\":\"5cff97a7-73c3-432a-c325-b8d3f3c8984a\"},\"glyph\":{\"type\":\"Circle\",\"id\":\"8fece7b3-34f4-4a7d-ca00-df339eec392a\"},\"selection_glyph\":null,\"id\":\"4e5f4750-9a88-4fca-cf9f-cd4ce3b7a203\",\"tags\":[]}},{\"id\":\"49fd7e0a-99e4-42c9-c230-569e198fd904\",\"type\":\"DataRange1d\",\"attributes\":{\"sources\":[{\"columns\":[\"x\"],\"source\":{\"type\":\"ColumnDataSource\",\"id\":\"4323d333-fe4b-47ae-c720-624cf01f3eae\"}},{\"columns\":[\"x\"],\"source\":{\"type\":\"ColumnDataSource\",\"id\":\"5cff97a7-73c3-432a-c325-b8d3f3c8984a\"}}],\"id\":\"49fd7e0a-99e4-42c9-c230-569e198fd904\",\"tags\":[],\"doc\":null}},{\"id\":\"71c762a4-7339-4c46-cc34-a9cde1830045\",\"type\":\"DataRange1d\",\"attributes\":{\"sources\":[{\"columns\":[\"y\"],\"source\":{\"type\":\"ColumnDataSource\",\"id\":\"4323d333-fe4b-47ae-c720-624cf01f3eae\"}},{\"columns\":[\"y\"],\"source\":{\"type\":\"ColumnDataSource\",\"id\":\"5cff97a7-73c3-432a-c325-b8d3f3c8984a\"}}],\"id\":\"71c762a4-7339-4c46-cc34-a9cde1830045\",\"tags\":[],\"doc\":null}},{\"id\":\"c743e878-2950-4f7e-cfc8-7835840a558a\",\"type\":\"ToolEvents\",\"attributes\":{\"tags\":[],\"id\":\"c743e878-2950-4f7e-cfc8-7835840a558a\",\"geometries\":[],\"doc\":null}},{\"id\":\"80916607-4ec3-4111-c1ce-45221464354c\",\"type\":\"BasicTickFormatter\",\"attributes\":{\"id\":\"80916607-4ec3-4111-c1ce-45221464354c\",\"tags\":[],\"doc\":null}},{\"id\":\"38bd9b0b-8d2c-432c-c33c-6353b5ddd497\",\"type\":\"BasicTicker\",\"attributes\":{\"num_minor_ticks\":5,\"id\":\"38bd9b0b-8d2c-432c-c33c-6353b5ddd497\",\"tags\":[],\"doc\":null}},{\"id\":\"38e71985-908a-4f41-cfdb-a4f2127a8589\",\"type\":\"LinearAxis\",\"attributes\":{\"formatter\":{\"type\":\"BasicTickFormatter\",\"id\":\"80916607-4ec3-4111-c1ce-45221464354c\"},\"ticker\":{\"type\":\"BasicTicker\",\"id\":\"38bd9b0b-8d2c-432c-c33c-6353b5ddd497\"},\"plot\":{\"id\":\"489e075e-014c-4ef5-ce93-ac111bcdfad3\",\"type\":\"Plot\",\"subtype\":\"Figure\"},\"axis_label\":null,\"id\":\"38e71985-908a-4f41-cfdb-a4f2127a8589\",\"doc\":null,\"tags\":[]}},{\"id\":\"fb1c0a8c-3974-4ba7-cb54-d027d9fce98f\",\"type\":\"Grid\",\"attributes\":{\"dimension\":0,\"plot\":{\"id\":\"489e075e-014c-4ef5-ce93-ac111bcdfad3\",\"type\":\"Plot\",\"subtype\":\"Figure\"},\"ticker\":{\"type\":\"BasicTicker\",\"id\":\"38bd9b0b-8d2c-432c-c33c-6353b5ddd497\"},\"id\":\"fb1c0a8c-3974-4ba7-cb54-d027d9fce98f\",\"doc\":null,\"tags\":[]}},{\"id\":\"3d45818a-b5bc-48e0-c871-129881dfe385\",\"type\":\"BasicTickFormatter\",\"attributes\":{\"id\":\"3d45818a-b5bc-48e0-c871-129881dfe385\",\"tags\":[],\"doc\":null}},{\"id\":\"bb20367c-45be-4187-c160-91a65e1b87ee\",\"type\":\"BasicTicker\",\"attributes\":{\"num_minor_ticks\":5,\"id\":\"bb20367c-45be-4187-c160-91a65e1b87ee\",\"tags\":[],\"doc\":null}},{\"id\":\"75deb4e1-de4b-4277-c2b6-03402a290f7d\",\"type\":\"LinearAxis\",\"attributes\":{\"formatter\":{\"type\":\"BasicTickFormatter\",\"id\":\"3d45818a-b5bc-48e0-c871-129881dfe385\"},\"ticker\":{\"type\":\"BasicTicker\",\"id\":\"bb20367c-45be-4187-c160-91a65e1b87ee\"},\"plot\":{\"id\":\"489e075e-014c-4ef5-ce93-ac111bcdfad3\",\"type\":\"Plot\",\"subtype\":\"Figure\"},\"axis_label\":null,\"id\":\"75deb4e1-de4b-4277-c2b6-03402a290f7d\",\"doc\":null,\"tags\":[]}},{\"id\":\"c77fc70e-c027-4bdd-cb74-9efe64b30c3f\",\"type\":\"Grid\",\"attributes\":{\"dimension\":1,\"plot\":{\"id\":\"489e075e-014c-4ef5-ce93-ac111bcdfad3\",\"type\":\"Plot\",\"subtype\":\"Figure\"},\"ticker\":{\"type\":\"BasicTicker\",\"id\":\"bb20367c-45be-4187-c160-91a65e1b87ee\"},\"id\":\"c77fc70e-c027-4bdd-cb74-9efe64b30c3f\",\"doc\":null,\"tags\":[]}},{\"id\":\"6761a806-b16f-4d65-cdfb-ac8a32d052d3\",\"type\":\"PanTool\",\"attributes\":{\"plot\":{\"id\":\"489e075e-014c-4ef5-ce93-ac111bcdfad3\",\"type\":\"Plot\",\"subtype\":\"Figure\"},\"dimensions\":[\"width\",\"height\"],\"id\":\"6761a806-b16f-4d65-cdfb-ac8a32d052d3\",\"doc\":null,\"tags\":[]}},{\"id\":\"94195310-aa19-4ca4-ccff-ddd71d30ae2e\",\"type\":\"WheelZoomTool\",\"attributes\":{\"plot\":{\"id\":\"489e075e-014c-4ef5-ce93-ac111bcdfad3\",\"type\":\"Plot\",\"subtype\":\"Figure\"},\"dimensions\":[\"width\",\"height\"],\"id\":\"94195310-aa19-4ca4-ccff-ddd71d30ae2e\",\"doc\":null,\"tags\":[]}},{\"id\":\"1a51a132-5544-45d0-c517-c7413397c262\",\"type\":\"BoxZoomTool\",\"attributes\":{\"plot\":{\"id\":\"489e075e-014c-4ef5-ce93-ac111bcdfad3\",\"type\":\"Plot\",\"subtype\":\"Figure\"},\"id\":\"1a51a132-5544-45d0-c517-c7413397c262\",\"tags\":[],\"doc\":null}},{\"id\":\"bb1614d0-945b-49bc-c939-478134e839e5\",\"type\":\"PreviewSaveTool\",\"attributes\":{\"plot\":{\"id\":\"489e075e-014c-4ef5-ce93-ac111bcdfad3\",\"type\":\"Plot\",\"subtype\":\"Figure\"},\"id\":\"bb1614d0-945b-49bc-c939-478134e839e5\",\"tags\":[],\"doc\":null}},{\"id\":\"ba89f1af-8906-4b2e-cb32-cc24feeefc78\",\"type\":\"ResizeTool\",\"attributes\":{\"plot\":{\"id\":\"489e075e-014c-4ef5-ce93-ac111bcdfad3\",\"type\":\"Plot\",\"subtype\":\"Figure\"},\"id\":\"ba89f1af-8906-4b2e-cb32-cc24feeefc78\",\"tags\":[],\"doc\":null}},{\"id\":\"6a3bde1f-0946-44d8-c4ae-464b440e8a88\",\"type\":\"ResetTool\",\"attributes\":{\"plot\":{\"id\":\"489e075e-014c-4ef5-ce93-ac111bcdfad3\",\"type\":\"Plot\",\"subtype\":\"Figure\"},\"id\":\"6a3bde1f-0946-44d8-c4ae-464b440e8a88\",\"tags\":[],\"doc\":null}},{\"id\":\"c2b03050-7182-4818-c81f-517947bf8a35\",\"type\":\"Legend\",\"attributes\":{\"plot\":{\"id\":\"489e075e-014c-4ef5-ce93-ac111bcdfad3\",\"type\":\"Plot\",\"subtype\":\"Figure\"},\"legends\":[[\"odd\",[{\"type\":\"GlyphRenderer\",\"id\":\"d8769ff3-60c1-4be2-cbef-3376017c54e6\"}]],[\"even\",[{\"type\":\"GlyphRenderer\",\"id\":\"4e5f4750-9a88-4fca-cf9f-cd4ce3b7a203\"}]]],\"id\":\"c2b03050-7182-4818-c81f-517947bf8a35\",\"doc\":null,\"tags\":[]}},{\"id\":\"489e075e-014c-4ef5-ce93-ac111bcdfad3\",\"type\":\"Plot\",\"attributes\":{\"x_range\":{\"type\":\"DataRange1d\",\"id\":\"49fd7e0a-99e4-42c9-c230-569e198fd904\"},\"tool_events\":{\"type\":\"ToolEvents\",\"id\":\"c743e878-2950-4f7e-cfc8-7835840a558a\"},\"below\":[{\"type\":\"LinearAxis\",\"id\":\"38e71985-908a-4f41-cfdb-a4f2127a8589\"}],\"renderers\":[{\"type\":\"GlyphRenderer\",\"id\":\"d8769ff3-60c1-4be2-cbef-3376017c54e6\"},{\"type\":\"GlyphRenderer\",\"id\":\"4e5f4750-9a88-4fca-cf9f-cd4ce3b7a203\"},{\"type\":\"LinearAxis\",\"id\":\"38e71985-908a-4f41-cfdb-a4f2127a8589\"},{\"type\":\"Grid\",\"id\":\"fb1c0a8c-3974-4ba7-cb54-d027d9fce98f\"},{\"type\":\"LinearAxis\",\"id\":\"75deb4e1-de4b-4277-c2b6-03402a290f7d\"},{\"type\":\"Grid\",\"id\":\"c77fc70e-c027-4bdd-cb74-9efe64b30c3f\"},{\"type\":\"Legend\",\"id\":\"c2b03050-7182-4818-c81f-517947bf8a35\"}],\"above\":[],\"tools\":[{\"type\":\"PanTool\",\"id\":\"6761a806-b16f-4d65-cdfb-ac8a32d052d3\"},{\"type\":\"WheelZoomTool\",\"id\":\"94195310-aa19-4ca4-ccff-ddd71d30ae2e\"},{\"type\":\"BoxZoomTool\",\"id\":\"1a51a132-5544-45d0-c517-c7413397c262\"},{\"type\":\"PreviewSaveTool\",\"id\":\"bb1614d0-945b-49bc-c939-478134e839e5\"},{\"type\":\"ResizeTool\",\"id\":\"ba89f1af-8906-4b2e-cb32-cc24feeefc78\"},{\"type\":\"ResetTool\",\"id\":\"6a3bde1f-0946-44d8-c4ae-464b440e8a88\"}],\"doc\":null,\"right\":[],\"title\":\"Embeddings of numbers 0 - 9\",\"extra_x_ranges\":{},\"left\":[{\"type\":\"LinearAxis\",\"id\":\"75deb4e1-de4b-4277-c2b6-03402a290f7d\"}],\"y_range\":{\"type\":\"DataRange1d\",\"id\":\"71c762a4-7339-4c46-cc34-a9cde1830045\"},\"id\":\"489e075e-014c-4ef5-ce93-ac111bcdfad3\",\"extra_y_ranges\":{},\"tags\":[]}}];\n",
       "      Bokeh.load_models(all_models);\n",
       "      var model = Bokeh.Collections(modeltype).get(modelid);\n",
       "      $(\"#70af5f75-a406-4cb3-ccd2-c2d320ffe43a\").html(''); // clear any previous plot in window_id\n",
       "      var view = new model.default_view({model: model, el: \"#70af5f75-a406-4cb3-ccd2-c2d320ffe43a\"});\n",
       "  });\n",
       "    }\n",
       "});\n",
       "</script>\n",
       "<div class=\"plotdiv\" id=\"70af5f75-a406-4cb3-ccd2-c2d320ffe43a\"></div>\n"
      ]
     },
     "metadata": {},
     "output_type": "display_data"
    }
   ],
   "source": [
    "local _ = plot_emb(emb,nil)"
   ]
  },
  {
   "cell_type": "code",
   "execution_count": 5,
   "metadata": {
    "collapsed": false
   },
   "outputs": [
    {
     "data": {
      "text/plain": [
       "-1.1581 -0.0737\n",
       " 2.1003  1.7211\n",
       "-1.2606  0.2807\n",
       " 1.3219  0.2098\n",
       "-1.2359 -1.1892\n",
       " 0.0371  1.9448\n",
       "-1.1159 -0.1869\n",
       " 0.1387  1.7195\n",
       "-1.1002 -0.2980\n",
       " 2.0705 -0.0189\n",
       "[torch.DoubleTensor of size 10x2]\n",
       "\n"
      ]
     },
     "execution_count": 5,
     "metadata": {},
     "output_type": "execute_result"
    }
   ],
   "source": [
    "emb.weight"
   ]
  },
  {
   "cell_type": "code",
   "execution_count": null,
   "metadata": {
    "collapsed": true
   },
   "outputs": [],
   "source": []
  }
 ],
 "metadata": {
  "kernelspec": {
   "display_name": "iTorch",
   "language": "lua",
   "name": "itorch"
  },
  "language_info": {
   "name": "lua",
   "version": "20100"
  }
 },
 "nbformat": 4,
 "nbformat_minor": 0
}
