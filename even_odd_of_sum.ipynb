{
 "cells": [
  {
   "cell_type": "code",
   "execution_count": 1,
   "metadata": {
    "collapsed": false
   },
   "outputs": [],
   "source": [
    "require 'nn'\n",
    "require 'nngraph'\n",
    "Plot = require \"itorch.Plot\"\n",
    "lstm = {}\n",
    "include('utils.lua')\n",
    "include('LSTM.lua')"
   ]
  },
  {
   "cell_type": "code",
   "execution_count": 43,
   "metadata": {
    "collapsed": false
   },
   "outputs": [],
   "source": [
    "-- model hyper-params\n",
    "emb_dim = 2\n",
    "sum_rep_dim = 20\n",
    "class_hidden = 40\n",
    "class_types = 2\n",
    "seq_len = 5\n",
    "num_layers = 2\n",
    "-- create a model (in forward order)\n",
    "emb = nn.LookupTable(10, emb_dim) -- embeddings layer\n",
    "lstm_net = lstm.LSTM({num_layers=num_layers, input_dim=emb_dim, hidden_dim=sum_rep_dim}) -- LSTM layer\n",
    "classifier = nn.Sequential()  -- classification layer\n",
    "classifier:add(nn.Linear(sum_rep_dim, class_hidden)) -- classification: linear\n",
    "classifier:add(nn.ReLU())  -- classification: activation\n",
    "classifier:add(nn.Linear(class_hidden, class_types)) -- classification: output\n",
    "classifier:add(nn.LogSoftMax()) -- classification: softmax\n",
    "criterion = nn.ClassNLLCriterion() -- negative log-likelihood for training\n",
    "-- if we don't use \"optim\" package, the rest is not need \n",
    "-- (I am going to write SGD myself)\n",
    "local modules = nn.Parallel()\n",
    "modules:add(emb)\n",
    "modules:add(lstm_net)\n",
    "modules:add(classifier)\n",
    "params, grad_params = modules:getParameters()"
   ]
  },
  {
   "cell_type": "code",
   "execution_count": 44,
   "metadata": {
    "collapsed": false
   },
   "outputs": [],
   "source": [
    "-- Utility functions\n",
    "function plot_emb(emb, plot)\n",
    "    local even_points = emb.weight:index(1, torch.LongTensor{1,3,5,7,9})\n",
    "    local odd_points = emb.weight:index(1, torch.LongTensor{2,4,6,8,10})\n",
    "    if plot == nil then\n",
    "        plot = Plot()\n",
    "    else\n",
    "        plot._data = {}\n",
    "    end\n",
    "    plot:circle(odd_points[{{}, 1}], odd_points[{{}, 2}], 'red', 'odd')\n",
    "    plot:circle(even_points[{{}, 1}], even_points[{{}, 2}], 'blue', 'even')\n",
    "    plot:title('Embeddings of numbers 0 - 9')\n",
    "    plot:legend(true)\n",
    "    plot:redraw()\n",
    "    return plot\n",
    "end\n",
    "function gen_data(len)\n",
    "    local inputs = torch.Tensor(len)\n",
    "    local outputs = torch.Tensor(len)\n",
    "    for i = 1, len do\n",
    "        inputs[i] = torch.uniform(1,11)\n",
    "    end\n",
    "    inputs:floor()\n",
    "    local s = 0\n",
    "    for i = 1, len do\n",
    "        s = s + inputs[i] - 1\n",
    "        outputs[i] = (s % 2) + 1\n",
    "    end\n",
    "    return inputs, outputs\n",
    "end\n",
    "function display(inputs, outputs)\n",
    "    local s = 0\n",
    "    for i = 1, inputs:size(1) do\n",
    "        s = s + inputs[i] - 1\n",
    "        out_text = 'Even'\n",
    "        if outputs[i] == 2 then out_text = 'Odd' end\n",
    "        print(string.format('input %d, sum %d, output %s', inputs[i] - 1, s, out_text))\n",
    "    end\n",
    "end"
   ]
  },
  {
   "cell_type": "code",
   "execution_count": 45,
   "metadata": {
    "collapsed": false
   },
   "outputs": [
    {
     "data": {
      "text/html": [
       "<script type=\"text/javascript\">\n",
       "$(function() {\n",
       "    if (typeof (window._bokeh_onload_callbacks) === \"undefined\"){\n",
       "  window._bokeh_onload_callbacks = [];\n",
       "    }\n",
       "    function load_lib(url, callback){\n",
       "  window._bokeh_onload_callbacks.push(callback);\n",
       "  if (window._bokeh_is_loading){\n",
       "      console.log(\"Bokeh: BokehJS is being loaded, scheduling callback at\", new Date());\n",
       "      return null;\n",
       "  }\n",
       "  console.log(\"Bokeh: BokehJS not loaded, scheduling load and callback at\", new Date());\n",
       "  window._bokeh_is_loading = true;\n",
       "  var s = document.createElement('script');\n",
       "  s.src = url;\n",
       "  s.async = true;\n",
       "  s.onreadystatechange = s.onload = function(){\n",
       "      Bokeh.embed.inject_css(\"http://cdn.pydata.org/bokeh-0.7.0.min.css\");\n",
       "      window._bokeh_onload_callbacks.forEach(function(callback){callback()});\n",
       "  };\n",
       "  s.onerror = function(){\n",
       "      console.warn(\"failed to load library \" + url);\n",
       "  };\n",
       "  document.getElementsByTagName(\"head\")[0].appendChild(s);\n",
       "    }\n",
       "\n",
       "    bokehjs_url = \"http://cdn.pydata.org/bokeh-0.7.0.min.js\"\n",
       "\n",
       "    var elt = document.getElementById(\"8df64787-ed5a-44e2-c40e-0c4abd36ee08\");\n",
       "    if(elt==null) {\n",
       "  console.log(\"Bokeh: ERROR: autoload.js configured with elementid '8df64787-ed5a-44e2-c40e-0c4abd36ee08'\"\n",
       "        + \"but no matching script tag was found. \")\n",
       "  return false;\n",
       "    }\n",
       "\n",
       "    if(typeof(Bokeh) !== \"undefined\") {\n",
       "  console.log(\"Bokeh: BokehJS loaded, going straight to plotting\");\n",
       "  var modelid = \"9614dfa8-9f73-4906-c9b8-ce004b16bcd7\";\n",
       "  var modeltype = \"Plot\";\n",
       "  var all_models = [{\"id\":\"7ef987d6-b99b-4c16-cc7e-9c4c50cb5cc4\",\"type\":\"ColumnDataSource\",\"attributes\":{\"data\":{\"y\":[-0.9737785455878,0.32421175722641,1.243897830171,1.168980419133,0.50180358861117],\"x\":[-1.8457856411913,-1.9722280865461,0.17122182950269,0.3919716879708,-0.36409447692153]},\"column_names\":[\"y\",\"x\"],\"cont_ranges\":{},\"discrete_ranges\":{},\"selected\":[],\"id\":\"7ef987d6-b99b-4c16-cc7e-9c4c50cb5cc4\",\"doc\":null,\"tags\":[]}},{\"id\":\"6dab06e5-b677-4483-c434-491c70e78b59\",\"type\":\"Circle\",\"attributes\":{\"fill_alpha\":{\"units\":\"data\",\"value\":0.2},\"line_alpha\":{\"units\":\"data\",\"value\":1},\"doc\":null,\"size\":{\"units\":\"screen\",\"value\":10},\"fill_color\":{\"value\":\"red\"},\"line_color\":{\"value\":\"red\"},\"x\":{\"units\":\"data\",\"field\":\"x\"},\"id\":\"6dab06e5-b677-4483-c434-491c70e78b59\",\"y\":{\"units\":\"data\",\"field\":\"y\"},\"tags\":[]}},{\"id\":\"9749a434-9fdf-409b-c008-777ce997c7b1\",\"type\":\"Circle\",\"attributes\":{\"fill_alpha\":{\"units\":\"data\",\"value\":0.2},\"line_alpha\":{\"units\":\"data\",\"value\":1},\"doc\":null,\"size\":{\"units\":\"screen\",\"value\":10},\"fill_color\":{\"value\":\"red\"},\"line_color\":{\"value\":\"red\"},\"x\":{\"units\":\"data\",\"field\":\"x\"},\"id\":\"9749a434-9fdf-409b-c008-777ce997c7b1\",\"y\":{\"units\":\"data\",\"field\":\"y\"},\"tags\":[]}},{\"id\":\"c3e914dd-9ef0-4d30-cdc5-0950b2e84f97\",\"type\":\"GlyphRenderer\",\"attributes\":{\"name\":null,\"nonselection_glyph\":{\"type\":\"Circle\",\"id\":\"9749a434-9fdf-409b-c008-777ce997c7b1\"},\"doc\":null,\"server_data_source\":null,\"data_source\":{\"type\":\"ColumnDataSource\",\"id\":\"7ef987d6-b99b-4c16-cc7e-9c4c50cb5cc4\"},\"glyph\":{\"type\":\"Circle\",\"id\":\"6dab06e5-b677-4483-c434-491c70e78b59\"},\"selection_glyph\":null,\"id\":\"c3e914dd-9ef0-4d30-cdc5-0950b2e84f97\",\"tags\":[]}},{\"id\":\"817658f1-002f-47fb-c763-1f0588a7eb6c\",\"type\":\"ColumnDataSource\",\"attributes\":{\"data\":{\"y\":[1.0975842919717,-1.7746300686832,-2.0100698362017,-0.26082623910767,0.22077915422687],\"x\":[-0.54727075719013,0.095403894388249,-1.2480399686091,1.5866995928809,0.31071698240725]},\"column_names\":[\"y\",\"x\"],\"cont_ranges\":{},\"discrete_ranges\":{},\"selected\":[],\"id\":\"817658f1-002f-47fb-c763-1f0588a7eb6c\",\"doc\":null,\"tags\":[]}},{\"id\":\"c4ed0338-7dec-4521-c59b-f38ca5145ee8\",\"type\":\"Circle\",\"attributes\":{\"fill_alpha\":{\"units\":\"data\",\"value\":0.2},\"line_alpha\":{\"units\":\"data\",\"value\":1},\"doc\":null,\"size\":{\"units\":\"screen\",\"value\":10},\"fill_color\":{\"value\":\"blue\"},\"line_color\":{\"value\":\"blue\"},\"x\":{\"units\":\"data\",\"field\":\"x\"},\"id\":\"c4ed0338-7dec-4521-c59b-f38ca5145ee8\",\"y\":{\"units\":\"data\",\"field\":\"y\"},\"tags\":[]}},{\"id\":\"3325eb2e-316d-4a16-caef-3de3fead25d1\",\"type\":\"Circle\",\"attributes\":{\"fill_alpha\":{\"units\":\"data\",\"value\":0.2},\"line_alpha\":{\"units\":\"data\",\"value\":1},\"doc\":null,\"size\":{\"units\":\"screen\",\"value\":10},\"fill_color\":{\"value\":\"blue\"},\"line_color\":{\"value\":\"blue\"},\"x\":{\"units\":\"data\",\"field\":\"x\"},\"id\":\"3325eb2e-316d-4a16-caef-3de3fead25d1\",\"y\":{\"units\":\"data\",\"field\":\"y\"},\"tags\":[]}},{\"id\":\"513893b6-c1c5-428f-c2c0-0750323fd794\",\"type\":\"GlyphRenderer\",\"attributes\":{\"name\":null,\"nonselection_glyph\":{\"type\":\"Circle\",\"id\":\"3325eb2e-316d-4a16-caef-3de3fead25d1\"},\"doc\":null,\"server_data_source\":null,\"data_source\":{\"type\":\"ColumnDataSource\",\"id\":\"817658f1-002f-47fb-c763-1f0588a7eb6c\"},\"glyph\":{\"type\":\"Circle\",\"id\":\"c4ed0338-7dec-4521-c59b-f38ca5145ee8\"},\"selection_glyph\":null,\"id\":\"513893b6-c1c5-428f-c2c0-0750323fd794\",\"tags\":[]}},{\"id\":\"79e9d9c4-4a28-4e17-ce72-74f85bda98cb\",\"type\":\"DataRange1d\",\"attributes\":{\"sources\":[{\"columns\":[\"x\"],\"source\":{\"type\":\"ColumnDataSource\",\"id\":\"7ef987d6-b99b-4c16-cc7e-9c4c50cb5cc4\"}},{\"columns\":[\"x\"],\"source\":{\"type\":\"ColumnDataSource\",\"id\":\"817658f1-002f-47fb-c763-1f0588a7eb6c\"}}],\"id\":\"79e9d9c4-4a28-4e17-ce72-74f85bda98cb\",\"tags\":[],\"doc\":null}},{\"id\":\"3f947ee5-3034-420f-c254-64fb6852581e\",\"type\":\"DataRange1d\",\"attributes\":{\"sources\":[{\"columns\":[\"y\"],\"source\":{\"type\":\"ColumnDataSource\",\"id\":\"7ef987d6-b99b-4c16-cc7e-9c4c50cb5cc4\"}},{\"columns\":[\"y\"],\"source\":{\"type\":\"ColumnDataSource\",\"id\":\"817658f1-002f-47fb-c763-1f0588a7eb6c\"}}],\"id\":\"3f947ee5-3034-420f-c254-64fb6852581e\",\"tags\":[],\"doc\":null}},{\"id\":\"3060bed5-c949-45a3-c5d9-2dc469b0b7a8\",\"type\":\"ToolEvents\",\"attributes\":{\"tags\":[],\"id\":\"3060bed5-c949-45a3-c5d9-2dc469b0b7a8\",\"geometries\":[],\"doc\":null}},{\"id\":\"4473ce17-7b5a-40f1-c0fc-671f22f9d9ec\",\"type\":\"BasicTickFormatter\",\"attributes\":{\"id\":\"4473ce17-7b5a-40f1-c0fc-671f22f9d9ec\",\"tags\":[],\"doc\":null}},{\"id\":\"bfcd134d-ed90-4dd3-cd1e-272608ba7b79\",\"type\":\"BasicTicker\",\"attributes\":{\"num_minor_ticks\":5,\"id\":\"bfcd134d-ed90-4dd3-cd1e-272608ba7b79\",\"tags\":[],\"doc\":null}},{\"id\":\"526b14f2-e959-4543-c5e2-a0977418961b\",\"type\":\"LinearAxis\",\"attributes\":{\"formatter\":{\"type\":\"BasicTickFormatter\",\"id\":\"4473ce17-7b5a-40f1-c0fc-671f22f9d9ec\"},\"ticker\":{\"type\":\"BasicTicker\",\"id\":\"bfcd134d-ed90-4dd3-cd1e-272608ba7b79\"},\"plot\":{\"id\":\"9614dfa8-9f73-4906-c9b8-ce004b16bcd7\",\"type\":\"Plot\",\"subtype\":\"Figure\"},\"axis_label\":null,\"id\":\"526b14f2-e959-4543-c5e2-a0977418961b\",\"doc\":null,\"tags\":[]}},{\"id\":\"f223fef1-7924-46de-c61f-da27bee49a77\",\"type\":\"Grid\",\"attributes\":{\"dimension\":0,\"plot\":{\"id\":\"9614dfa8-9f73-4906-c9b8-ce004b16bcd7\",\"type\":\"Plot\",\"subtype\":\"Figure\"},\"ticker\":{\"type\":\"BasicTicker\",\"id\":\"bfcd134d-ed90-4dd3-cd1e-272608ba7b79\"},\"id\":\"f223fef1-7924-46de-c61f-da27bee49a77\",\"doc\":null,\"tags\":[]}},{\"id\":\"b028db9d-f21f-4c47-cc7f-31598ae7ef89\",\"type\":\"BasicTickFormatter\",\"attributes\":{\"id\":\"b028db9d-f21f-4c47-cc7f-31598ae7ef89\",\"tags\":[],\"doc\":null}},{\"id\":\"32f281dd-d787-4ac1-ca05-6634b67774cb\",\"type\":\"BasicTicker\",\"attributes\":{\"num_minor_ticks\":5,\"id\":\"32f281dd-d787-4ac1-ca05-6634b67774cb\",\"tags\":[],\"doc\":null}},{\"id\":\"4b176ccc-5fa2-4375-c34f-9a08a2ad51f2\",\"type\":\"LinearAxis\",\"attributes\":{\"formatter\":{\"type\":\"BasicTickFormatter\",\"id\":\"b028db9d-f21f-4c47-cc7f-31598ae7ef89\"},\"ticker\":{\"type\":\"BasicTicker\",\"id\":\"32f281dd-d787-4ac1-ca05-6634b67774cb\"},\"plot\":{\"id\":\"9614dfa8-9f73-4906-c9b8-ce004b16bcd7\",\"type\":\"Plot\",\"subtype\":\"Figure\"},\"axis_label\":null,\"id\":\"4b176ccc-5fa2-4375-c34f-9a08a2ad51f2\",\"doc\":null,\"tags\":[]}},{\"id\":\"2c5ed6db-c7a4-4c91-ccb9-01d098f2b9c1\",\"type\":\"Grid\",\"attributes\":{\"dimension\":1,\"plot\":{\"id\":\"9614dfa8-9f73-4906-c9b8-ce004b16bcd7\",\"type\":\"Plot\",\"subtype\":\"Figure\"},\"ticker\":{\"type\":\"BasicTicker\",\"id\":\"32f281dd-d787-4ac1-ca05-6634b67774cb\"},\"id\":\"2c5ed6db-c7a4-4c91-ccb9-01d098f2b9c1\",\"doc\":null,\"tags\":[]}},{\"id\":\"6fcf14a1-c7d6-4475-c45c-4f1a34b2c25c\",\"type\":\"PanTool\",\"attributes\":{\"plot\":{\"id\":\"9614dfa8-9f73-4906-c9b8-ce004b16bcd7\",\"type\":\"Plot\",\"subtype\":\"Figure\"},\"dimensions\":[\"width\",\"height\"],\"id\":\"6fcf14a1-c7d6-4475-c45c-4f1a34b2c25c\",\"doc\":null,\"tags\":[]}},{\"id\":\"63d903d9-42a6-4eac-cec8-5b80ff5afcb3\",\"type\":\"WheelZoomTool\",\"attributes\":{\"plot\":{\"id\":\"9614dfa8-9f73-4906-c9b8-ce004b16bcd7\",\"type\":\"Plot\",\"subtype\":\"Figure\"},\"dimensions\":[\"width\",\"height\"],\"id\":\"63d903d9-42a6-4eac-cec8-5b80ff5afcb3\",\"doc\":null,\"tags\":[]}},{\"id\":\"03bac975-9b9a-438a-c3a9-5a88240f7499\",\"type\":\"BoxZoomTool\",\"attributes\":{\"plot\":{\"id\":\"9614dfa8-9f73-4906-c9b8-ce004b16bcd7\",\"type\":\"Plot\",\"subtype\":\"Figure\"},\"id\":\"03bac975-9b9a-438a-c3a9-5a88240f7499\",\"tags\":[],\"doc\":null}},{\"id\":\"11587a44-da13-4f1a-cfb0-5c52d1d69230\",\"type\":\"PreviewSaveTool\",\"attributes\":{\"plot\":{\"id\":\"9614dfa8-9f73-4906-c9b8-ce004b16bcd7\",\"type\":\"Plot\",\"subtype\":\"Figure\"},\"id\":\"11587a44-da13-4f1a-cfb0-5c52d1d69230\",\"tags\":[],\"doc\":null}},{\"id\":\"89325772-6ad0-46c7-c6e7-2e863ff20c14\",\"type\":\"ResizeTool\",\"attributes\":{\"plot\":{\"id\":\"9614dfa8-9f73-4906-c9b8-ce004b16bcd7\",\"type\":\"Plot\",\"subtype\":\"Figure\"},\"id\":\"89325772-6ad0-46c7-c6e7-2e863ff20c14\",\"tags\":[],\"doc\":null}},{\"id\":\"270f4066-aa4b-4d0d-cd48-c51a0717887b\",\"type\":\"ResetTool\",\"attributes\":{\"plot\":{\"id\":\"9614dfa8-9f73-4906-c9b8-ce004b16bcd7\",\"type\":\"Plot\",\"subtype\":\"Figure\"},\"id\":\"270f4066-aa4b-4d0d-cd48-c51a0717887b\",\"tags\":[],\"doc\":null}},{\"id\":\"c68f8bee-12c0-4034-c085-296b6310d5ad\",\"type\":\"Legend\",\"attributes\":{\"plot\":{\"id\":\"9614dfa8-9f73-4906-c9b8-ce004b16bcd7\",\"type\":\"Plot\",\"subtype\":\"Figure\"},\"legends\":[[\"odd\",[{\"type\":\"GlyphRenderer\",\"id\":\"c3e914dd-9ef0-4d30-cdc5-0950b2e84f97\"}]],[\"even\",[{\"type\":\"GlyphRenderer\",\"id\":\"513893b6-c1c5-428f-c2c0-0750323fd794\"}]]],\"id\":\"c68f8bee-12c0-4034-c085-296b6310d5ad\",\"doc\":null,\"tags\":[]}},{\"id\":\"9614dfa8-9f73-4906-c9b8-ce004b16bcd7\",\"type\":\"Plot\",\"attributes\":{\"x_range\":{\"type\":\"DataRange1d\",\"id\":\"79e9d9c4-4a28-4e17-ce72-74f85bda98cb\"},\"tool_events\":{\"type\":\"ToolEvents\",\"id\":\"3060bed5-c949-45a3-c5d9-2dc469b0b7a8\"},\"below\":[{\"type\":\"LinearAxis\",\"id\":\"526b14f2-e959-4543-c5e2-a0977418961b\"}],\"renderers\":[{\"type\":\"GlyphRenderer\",\"id\":\"c3e914dd-9ef0-4d30-cdc5-0950b2e84f97\"},{\"type\":\"GlyphRenderer\",\"id\":\"513893b6-c1c5-428f-c2c0-0750323fd794\"},{\"type\":\"LinearAxis\",\"id\":\"526b14f2-e959-4543-c5e2-a0977418961b\"},{\"type\":\"Grid\",\"id\":\"f223fef1-7924-46de-c61f-da27bee49a77\"},{\"type\":\"LinearAxis\",\"id\":\"4b176ccc-5fa2-4375-c34f-9a08a2ad51f2\"},{\"type\":\"Grid\",\"id\":\"2c5ed6db-c7a4-4c91-ccb9-01d098f2b9c1\"},{\"type\":\"Legend\",\"id\":\"c68f8bee-12c0-4034-c085-296b6310d5ad\"}],\"above\":[],\"tools\":[{\"type\":\"PanTool\",\"id\":\"6fcf14a1-c7d6-4475-c45c-4f1a34b2c25c\"},{\"type\":\"WheelZoomTool\",\"id\":\"63d903d9-42a6-4eac-cec8-5b80ff5afcb3\"},{\"type\":\"BoxZoomTool\",\"id\":\"03bac975-9b9a-438a-c3a9-5a88240f7499\"},{\"type\":\"PreviewSaveTool\",\"id\":\"11587a44-da13-4f1a-cfb0-5c52d1d69230\"},{\"type\":\"ResizeTool\",\"id\":\"89325772-6ad0-46c7-c6e7-2e863ff20c14\"},{\"type\":\"ResetTool\",\"id\":\"270f4066-aa4b-4d0d-cd48-c51a0717887b\"}],\"doc\":null,\"right\":[],\"title\":\"Embeddings of numbers 0 - 9\",\"extra_x_ranges\":{},\"left\":[{\"type\":\"LinearAxis\",\"id\":\"4b176ccc-5fa2-4375-c34f-9a08a2ad51f2\"}],\"y_range\":{\"type\":\"DataRange1d\",\"id\":\"3f947ee5-3034-420f-c254-64fb6852581e\"},\"id\":\"9614dfa8-9f73-4906-c9b8-ce004b16bcd7\",\"extra_y_ranges\":{},\"tags\":[]}}];\n",
       "  Bokeh.load_models(all_models);\n",
       "  var model = Bokeh.Collections(modeltype).get(modelid);\n",
       "  $(\"#8df64787-ed5a-44e2-c40e-0c4abd36ee08\").html(''); // clear any previous plot in window_id\n",
       "  var view = new model.default_view({model: model, el: \"#8df64787-ed5a-44e2-c40e-0c4abd36ee08\"});\n",
       "    } else {\n",
       "  load_lib(bokehjs_url, function() {\n",
       "      console.log(\"Bokeh: BokehJS plotting callback run at\", new Date())\n",
       "      var modelid = \"9614dfa8-9f73-4906-c9b8-ce004b16bcd7\";\n",
       "      var modeltype = \"Plot\";\n",
       "      var all_models = [{\"id\":\"7ef987d6-b99b-4c16-cc7e-9c4c50cb5cc4\",\"type\":\"ColumnDataSource\",\"attributes\":{\"data\":{\"y\":[-0.9737785455878,0.32421175722641,1.243897830171,1.168980419133,0.50180358861117],\"x\":[-1.8457856411913,-1.9722280865461,0.17122182950269,0.3919716879708,-0.36409447692153]},\"column_names\":[\"y\",\"x\"],\"cont_ranges\":{},\"discrete_ranges\":{},\"selected\":[],\"id\":\"7ef987d6-b99b-4c16-cc7e-9c4c50cb5cc4\",\"doc\":null,\"tags\":[]}},{\"id\":\"6dab06e5-b677-4483-c434-491c70e78b59\",\"type\":\"Circle\",\"attributes\":{\"fill_alpha\":{\"units\":\"data\",\"value\":0.2},\"line_alpha\":{\"units\":\"data\",\"value\":1},\"doc\":null,\"size\":{\"units\":\"screen\",\"value\":10},\"fill_color\":{\"value\":\"red\"},\"line_color\":{\"value\":\"red\"},\"x\":{\"units\":\"data\",\"field\":\"x\"},\"id\":\"6dab06e5-b677-4483-c434-491c70e78b59\",\"y\":{\"units\":\"data\",\"field\":\"y\"},\"tags\":[]}},{\"id\":\"9749a434-9fdf-409b-c008-777ce997c7b1\",\"type\":\"Circle\",\"attributes\":{\"fill_alpha\":{\"units\":\"data\",\"value\":0.2},\"line_alpha\":{\"units\":\"data\",\"value\":1},\"doc\":null,\"size\":{\"units\":\"screen\",\"value\":10},\"fill_color\":{\"value\":\"red\"},\"line_color\":{\"value\":\"red\"},\"x\":{\"units\":\"data\",\"field\":\"x\"},\"id\":\"9749a434-9fdf-409b-c008-777ce997c7b1\",\"y\":{\"units\":\"data\",\"field\":\"y\"},\"tags\":[]}},{\"id\":\"c3e914dd-9ef0-4d30-cdc5-0950b2e84f97\",\"type\":\"GlyphRenderer\",\"attributes\":{\"name\":null,\"nonselection_glyph\":{\"type\":\"Circle\",\"id\":\"9749a434-9fdf-409b-c008-777ce997c7b1\"},\"doc\":null,\"server_data_source\":null,\"data_source\":{\"type\":\"ColumnDataSource\",\"id\":\"7ef987d6-b99b-4c16-cc7e-9c4c50cb5cc4\"},\"glyph\":{\"type\":\"Circle\",\"id\":\"6dab06e5-b677-4483-c434-491c70e78b59\"},\"selection_glyph\":null,\"id\":\"c3e914dd-9ef0-4d30-cdc5-0950b2e84f97\",\"tags\":[]}},{\"id\":\"817658f1-002f-47fb-c763-1f0588a7eb6c\",\"type\":\"ColumnDataSource\",\"attributes\":{\"data\":{\"y\":[1.0975842919717,-1.7746300686832,-2.0100698362017,-0.26082623910767,0.22077915422687],\"x\":[-0.54727075719013,0.095403894388249,-1.2480399686091,1.5866995928809,0.31071698240725]},\"column_names\":[\"y\",\"x\"],\"cont_ranges\":{},\"discrete_ranges\":{},\"selected\":[],\"id\":\"817658f1-002f-47fb-c763-1f0588a7eb6c\",\"doc\":null,\"tags\":[]}},{\"id\":\"c4ed0338-7dec-4521-c59b-f38ca5145ee8\",\"type\":\"Circle\",\"attributes\":{\"fill_alpha\":{\"units\":\"data\",\"value\":0.2},\"line_alpha\":{\"units\":\"data\",\"value\":1},\"doc\":null,\"size\":{\"units\":\"screen\",\"value\":10},\"fill_color\":{\"value\":\"blue\"},\"line_color\":{\"value\":\"blue\"},\"x\":{\"units\":\"data\",\"field\":\"x\"},\"id\":\"c4ed0338-7dec-4521-c59b-f38ca5145ee8\",\"y\":{\"units\":\"data\",\"field\":\"y\"},\"tags\":[]}},{\"id\":\"3325eb2e-316d-4a16-caef-3de3fead25d1\",\"type\":\"Circle\",\"attributes\":{\"fill_alpha\":{\"units\":\"data\",\"value\":0.2},\"line_alpha\":{\"units\":\"data\",\"value\":1},\"doc\":null,\"size\":{\"units\":\"screen\",\"value\":10},\"fill_color\":{\"value\":\"blue\"},\"line_color\":{\"value\":\"blue\"},\"x\":{\"units\":\"data\",\"field\":\"x\"},\"id\":\"3325eb2e-316d-4a16-caef-3de3fead25d1\",\"y\":{\"units\":\"data\",\"field\":\"y\"},\"tags\":[]}},{\"id\":\"513893b6-c1c5-428f-c2c0-0750323fd794\",\"type\":\"GlyphRenderer\",\"attributes\":{\"name\":null,\"nonselection_glyph\":{\"type\":\"Circle\",\"id\":\"3325eb2e-316d-4a16-caef-3de3fead25d1\"},\"doc\":null,\"server_data_source\":null,\"data_source\":{\"type\":\"ColumnDataSource\",\"id\":\"817658f1-002f-47fb-c763-1f0588a7eb6c\"},\"glyph\":{\"type\":\"Circle\",\"id\":\"c4ed0338-7dec-4521-c59b-f38ca5145ee8\"},\"selection_glyph\":null,\"id\":\"513893b6-c1c5-428f-c2c0-0750323fd794\",\"tags\":[]}},{\"id\":\"79e9d9c4-4a28-4e17-ce72-74f85bda98cb\",\"type\":\"DataRange1d\",\"attributes\":{\"sources\":[{\"columns\":[\"x\"],\"source\":{\"type\":\"ColumnDataSource\",\"id\":\"7ef987d6-b99b-4c16-cc7e-9c4c50cb5cc4\"}},{\"columns\":[\"x\"],\"source\":{\"type\":\"ColumnDataSource\",\"id\":\"817658f1-002f-47fb-c763-1f0588a7eb6c\"}}],\"id\":\"79e9d9c4-4a28-4e17-ce72-74f85bda98cb\",\"tags\":[],\"doc\":null}},{\"id\":\"3f947ee5-3034-420f-c254-64fb6852581e\",\"type\":\"DataRange1d\",\"attributes\":{\"sources\":[{\"columns\":[\"y\"],\"source\":{\"type\":\"ColumnDataSource\",\"id\":\"7ef987d6-b99b-4c16-cc7e-9c4c50cb5cc4\"}},{\"columns\":[\"y\"],\"source\":{\"type\":\"ColumnDataSource\",\"id\":\"817658f1-002f-47fb-c763-1f0588a7eb6c\"}}],\"id\":\"3f947ee5-3034-420f-c254-64fb6852581e\",\"tags\":[],\"doc\":null}},{\"id\":\"3060bed5-c949-45a3-c5d9-2dc469b0b7a8\",\"type\":\"ToolEvents\",\"attributes\":{\"tags\":[],\"id\":\"3060bed5-c949-45a3-c5d9-2dc469b0b7a8\",\"geometries\":[],\"doc\":null}},{\"id\":\"4473ce17-7b5a-40f1-c0fc-671f22f9d9ec\",\"type\":\"BasicTickFormatter\",\"attributes\":{\"id\":\"4473ce17-7b5a-40f1-c0fc-671f22f9d9ec\",\"tags\":[],\"doc\":null}},{\"id\":\"bfcd134d-ed90-4dd3-cd1e-272608ba7b79\",\"type\":\"BasicTicker\",\"attributes\":{\"num_minor_ticks\":5,\"id\":\"bfcd134d-ed90-4dd3-cd1e-272608ba7b79\",\"tags\":[],\"doc\":null}},{\"id\":\"526b14f2-e959-4543-c5e2-a0977418961b\",\"type\":\"LinearAxis\",\"attributes\":{\"formatter\":{\"type\":\"BasicTickFormatter\",\"id\":\"4473ce17-7b5a-40f1-c0fc-671f22f9d9ec\"},\"ticker\":{\"type\":\"BasicTicker\",\"id\":\"bfcd134d-ed90-4dd3-cd1e-272608ba7b79\"},\"plot\":{\"id\":\"9614dfa8-9f73-4906-c9b8-ce004b16bcd7\",\"type\":\"Plot\",\"subtype\":\"Figure\"},\"axis_label\":null,\"id\":\"526b14f2-e959-4543-c5e2-a0977418961b\",\"doc\":null,\"tags\":[]}},{\"id\":\"f223fef1-7924-46de-c61f-da27bee49a77\",\"type\":\"Grid\",\"attributes\":{\"dimension\":0,\"plot\":{\"id\":\"9614dfa8-9f73-4906-c9b8-ce004b16bcd7\",\"type\":\"Plot\",\"subtype\":\"Figure\"},\"ticker\":{\"type\":\"BasicTicker\",\"id\":\"bfcd134d-ed90-4dd3-cd1e-272608ba7b79\"},\"id\":\"f223fef1-7924-46de-c61f-da27bee49a77\",\"doc\":null,\"tags\":[]}},{\"id\":\"b028db9d-f21f-4c47-cc7f-31598ae7ef89\",\"type\":\"BasicTickFormatter\",\"attributes\":{\"id\":\"b028db9d-f21f-4c47-cc7f-31598ae7ef89\",\"tags\":[],\"doc\":null}},{\"id\":\"32f281dd-d787-4ac1-ca05-6634b67774cb\",\"type\":\"BasicTicker\",\"attributes\":{\"num_minor_ticks\":5,\"id\":\"32f281dd-d787-4ac1-ca05-6634b67774cb\",\"tags\":[],\"doc\":null}},{\"id\":\"4b176ccc-5fa2-4375-c34f-9a08a2ad51f2\",\"type\":\"LinearAxis\",\"attributes\":{\"formatter\":{\"type\":\"BasicTickFormatter\",\"id\":\"b028db9d-f21f-4c47-cc7f-31598ae7ef89\"},\"ticker\":{\"type\":\"BasicTicker\",\"id\":\"32f281dd-d787-4ac1-ca05-6634b67774cb\"},\"plot\":{\"id\":\"9614dfa8-9f73-4906-c9b8-ce004b16bcd7\",\"type\":\"Plot\",\"subtype\":\"Figure\"},\"axis_label\":null,\"id\":\"4b176ccc-5fa2-4375-c34f-9a08a2ad51f2\",\"doc\":null,\"tags\":[]}},{\"id\":\"2c5ed6db-c7a4-4c91-ccb9-01d098f2b9c1\",\"type\":\"Grid\",\"attributes\":{\"dimension\":1,\"plot\":{\"id\":\"9614dfa8-9f73-4906-c9b8-ce004b16bcd7\",\"type\":\"Plot\",\"subtype\":\"Figure\"},\"ticker\":{\"type\":\"BasicTicker\",\"id\":\"32f281dd-d787-4ac1-ca05-6634b67774cb\"},\"id\":\"2c5ed6db-c7a4-4c91-ccb9-01d098f2b9c1\",\"doc\":null,\"tags\":[]}},{\"id\":\"6fcf14a1-c7d6-4475-c45c-4f1a34b2c25c\",\"type\":\"PanTool\",\"attributes\":{\"plot\":{\"id\":\"9614dfa8-9f73-4906-c9b8-ce004b16bcd7\",\"type\":\"Plot\",\"subtype\":\"Figure\"},\"dimensions\":[\"width\",\"height\"],\"id\":\"6fcf14a1-c7d6-4475-c45c-4f1a34b2c25c\",\"doc\":null,\"tags\":[]}},{\"id\":\"63d903d9-42a6-4eac-cec8-5b80ff5afcb3\",\"type\":\"WheelZoomTool\",\"attributes\":{\"plot\":{\"id\":\"9614dfa8-9f73-4906-c9b8-ce004b16bcd7\",\"type\":\"Plot\",\"subtype\":\"Figure\"},\"dimensions\":[\"width\",\"height\"],\"id\":\"63d903d9-42a6-4eac-cec8-5b80ff5afcb3\",\"doc\":null,\"tags\":[]}},{\"id\":\"03bac975-9b9a-438a-c3a9-5a88240f7499\",\"type\":\"BoxZoomTool\",\"attributes\":{\"plot\":{\"id\":\"9614dfa8-9f73-4906-c9b8-ce004b16bcd7\",\"type\":\"Plot\",\"subtype\":\"Figure\"},\"id\":\"03bac975-9b9a-438a-c3a9-5a88240f7499\",\"tags\":[],\"doc\":null}},{\"id\":\"11587a44-da13-4f1a-cfb0-5c52d1d69230\",\"type\":\"PreviewSaveTool\",\"attributes\":{\"plot\":{\"id\":\"9614dfa8-9f73-4906-c9b8-ce004b16bcd7\",\"type\":\"Plot\",\"subtype\":\"Figure\"},\"id\":\"11587a44-da13-4f1a-cfb0-5c52d1d69230\",\"tags\":[],\"doc\":null}},{\"id\":\"89325772-6ad0-46c7-c6e7-2e863ff20c14\",\"type\":\"ResizeTool\",\"attributes\":{\"plot\":{\"id\":\"9614dfa8-9f73-4906-c9b8-ce004b16bcd7\",\"type\":\"Plot\",\"subtype\":\"Figure\"},\"id\":\"89325772-6ad0-46c7-c6e7-2e863ff20c14\",\"tags\":[],\"doc\":null}},{\"id\":\"270f4066-aa4b-4d0d-cd48-c51a0717887b\",\"type\":\"ResetTool\",\"attributes\":{\"plot\":{\"id\":\"9614dfa8-9f73-4906-c9b8-ce004b16bcd7\",\"type\":\"Plot\",\"subtype\":\"Figure\"},\"id\":\"270f4066-aa4b-4d0d-cd48-c51a0717887b\",\"tags\":[],\"doc\":null}},{\"id\":\"c68f8bee-12c0-4034-c085-296b6310d5ad\",\"type\":\"Legend\",\"attributes\":{\"plot\":{\"id\":\"9614dfa8-9f73-4906-c9b8-ce004b16bcd7\",\"type\":\"Plot\",\"subtype\":\"Figure\"},\"legends\":[[\"odd\",[{\"type\":\"GlyphRenderer\",\"id\":\"c3e914dd-9ef0-4d30-cdc5-0950b2e84f97\"}]],[\"even\",[{\"type\":\"GlyphRenderer\",\"id\":\"513893b6-c1c5-428f-c2c0-0750323fd794\"}]]],\"id\":\"c68f8bee-12c0-4034-c085-296b6310d5ad\",\"doc\":null,\"tags\":[]}},{\"id\":\"9614dfa8-9f73-4906-c9b8-ce004b16bcd7\",\"type\":\"Plot\",\"attributes\":{\"x_range\":{\"type\":\"DataRange1d\",\"id\":\"79e9d9c4-4a28-4e17-ce72-74f85bda98cb\"},\"tool_events\":{\"type\":\"ToolEvents\",\"id\":\"3060bed5-c949-45a3-c5d9-2dc469b0b7a8\"},\"below\":[{\"type\":\"LinearAxis\",\"id\":\"526b14f2-e959-4543-c5e2-a0977418961b\"}],\"renderers\":[{\"type\":\"GlyphRenderer\",\"id\":\"c3e914dd-9ef0-4d30-cdc5-0950b2e84f97\"},{\"type\":\"GlyphRenderer\",\"id\":\"513893b6-c1c5-428f-c2c0-0750323fd794\"},{\"type\":\"LinearAxis\",\"id\":\"526b14f2-e959-4543-c5e2-a0977418961b\"},{\"type\":\"Grid\",\"id\":\"f223fef1-7924-46de-c61f-da27bee49a77\"},{\"type\":\"LinearAxis\",\"id\":\"4b176ccc-5fa2-4375-c34f-9a08a2ad51f2\"},{\"type\":\"Grid\",\"id\":\"2c5ed6db-c7a4-4c91-ccb9-01d098f2b9c1\"},{\"type\":\"Legend\",\"id\":\"c68f8bee-12c0-4034-c085-296b6310d5ad\"}],\"above\":[],\"tools\":[{\"type\":\"PanTool\",\"id\":\"6fcf14a1-c7d6-4475-c45c-4f1a34b2c25c\"},{\"type\":\"WheelZoomTool\",\"id\":\"63d903d9-42a6-4eac-cec8-5b80ff5afcb3\"},{\"type\":\"BoxZoomTool\",\"id\":\"03bac975-9b9a-438a-c3a9-5a88240f7499\"},{\"type\":\"PreviewSaveTool\",\"id\":\"11587a44-da13-4f1a-cfb0-5c52d1d69230\"},{\"type\":\"ResizeTool\",\"id\":\"89325772-6ad0-46c7-c6e7-2e863ff20c14\"},{\"type\":\"ResetTool\",\"id\":\"270f4066-aa4b-4d0d-cd48-c51a0717887b\"}],\"doc\":null,\"right\":[],\"title\":\"Embeddings of numbers 0 - 9\",\"extra_x_ranges\":{},\"left\":[{\"type\":\"LinearAxis\",\"id\":\"4b176ccc-5fa2-4375-c34f-9a08a2ad51f2\"}],\"y_range\":{\"type\":\"DataRange1d\",\"id\":\"3f947ee5-3034-420f-c254-64fb6852581e\"},\"id\":\"9614dfa8-9f73-4906-c9b8-ce004b16bcd7\",\"extra_y_ranges\":{},\"tags\":[]}}];\n",
       "      Bokeh.load_models(all_models);\n",
       "      var model = Bokeh.Collections(modeltype).get(modelid);\n",
       "      $(\"#8df64787-ed5a-44e2-c40e-0c4abd36ee08\").html(''); // clear any previous plot in window_id\n",
       "      var view = new model.default_view({model: model, el: \"#8df64787-ed5a-44e2-c40e-0c4abd36ee08\"});\n",
       "  });\n",
       "    }\n",
       "});\n",
       "</script>\n",
       "<div class=\"plotdiv\" id=\"8df64787-ed5a-44e2-c40e-0c4abd36ee08\"></div>\n"
      ]
     },
     "metadata": {},
     "output_type": "display_data"
    }
   ],
   "source": [
    "-- Initial embeddings\n",
    "local _ = plot_emb(emb, nil)"
   ]
  },
  {
   "cell_type": "code",
   "execution_count": 57,
   "metadata": {
    "collapsed": false,
    "scrolled": false
   },
   "outputs": [],
   "source": [
    "-- SGD hyper-params (this basic version only needs learning rate and number of iterations)\n",
    "local learning_rate = 0.01\n",
    "local epochs = 7500\n",
    "-- Parallization is not helpful here\n",
    "local num_threads = torch.getnumthreads()\n",
    "torch.setnumthreads(1)\n",
    "-- do many iterations\n",
    "--   \\[T]/  Praise the Sun!\n",
    "--    |_|\n",
    "--    \\ \\\n",
    "for i = 1,epochs do\n",
    "    -- Reset the network\n",
    "    lstm_net:forget()\n",
    "    lstm_net:zeroGradParameters()\n",
    "    emb:zeroGradParameters()\n",
    "    local input_seq, output_seq = gen_data(seq_len) -- get inputs and outputs\n",
    "    local emb_seq = emb:forward(input_seq)          -- get inputs' embeddings\n",
    "    local sum_rep_seq = lstm_net:forward(emb_seq:t()) -- get representations from LSTM\n",
    "    local grad_sum_rep_seq = torch.zeros(sum_rep_dim, num_layers, seq_len) -- for later\n",
    "    local total_loss = 0\n",
    "    for t = 1,seq_len do -- for each sum (in the sequence)\n",
    "        classifier:zeroGradParameters() -- reset the classifier\n",
    "        -- get output log distribution, only need hidden state\n",
    "        local rep = sum_rep_seq[{{},{},num_layers,t}]\n",
    "        local net_output = classifier:forward(rep) \n",
    "        net_output = net_output:reshape(class_types)\n",
    "        local loss = criterion:forward(net_output, output_seq[t]) -- compute loss\n",
    "        total_loss = total_loss + loss\n",
    "        local grad_out = criterion:backward(net_output, output_seq[t]) -- gradients of the loss\n",
    "        local grad_sum_rep = classifier:backward(rep, grad_out) -- gradients of the representation\n",
    "        grad_sum_rep_seq[{{},num_layers,t}] = grad_sum_rep -- we get the gradient one at a time, so keep it here for later\n",
    "        classifier:updateParameters(learning_rate) -- update the classifier's parameters\n",
    "    end\n",
    "    -- compute embedding gradients (using all of the representation gradients)\n",
    "    local grad_emb_seq = lstm_net:backward(emb_seq:t(), grad_sum_rep_seq)\n",
    "    -- compute input gradients \n",
    "    -- (this returns nothing, because the input is just index.\n",
    "    -- But we need to call it to update the gradients accroding to the inputs\n",
    "    grad_emb_seq = grad_emb_seq:reshape(emb_dim, seq_len)\n",
    "    emb:backward(input_seq, grad_emb_seq:t())\n",
    "    -- update parameters\n",
    "    lstm_net:updateParameters(learning_rate)\n",
    "    emb:updateParameters(learning_rate)\n",
    "end\n",
    "-- Set num threads back\n",
    "torch.setnumthreads(num_threads)"
   ]
  },
  {
   "cell_type": "code",
   "execution_count": 66,
   "metadata": {
    "collapsed": false,
    "scrolled": true
   },
   "outputs": [
    {
     "data": {
      "text/plain": [
       "input 7, sum 7, output Odd\t\n",
       "input 9, sum 16, output Even\t\n",
       "input 3, sum 19, output Odd\t\n",
       "input 7, sum 26, output Even\t"
      ]
     },
     "execution_count": 66,
     "metadata": {},
     "output_type": "execute_result"
    },
    {
     "data": {
      "text/plain": [
       "\n",
       "input 9, sum 35, output Even\t\n"
      ]
     },
     "execution_count": 66,
     "metadata": {},
     "output_type": "execute_result"
    }
   ],
   "source": [
    "-- Testing\n",
    "lstm_net:forget() -- reset LSTM (go back to step 0)\n",
    "local input_seq, output_seq = gen_data(seq_len)\n",
    "local emb_seq = emb:forward(input_seq)\n",
    "local sum_rep_seq = lstm_net:forward(emb_seq:t())\n",
    "local output_seq = torch.Tensor(seq_len) -- model's outputs, for later\n",
    "for t = 1,seq_len do\n",
    "    -- print('input:')\n",
    "    -- print(input_seq[t] - 1)\n",
    "    -- print(sum_rep_seq[t][2])\n",
    "    local rep = sum_rep_seq[{{},{},num_layers,t}]\n",
    "    local net_output = classifier:forward(rep)\n",
    "    local m, d = torch.max(net_output, 2)\n",
    "    output_seq[t] = d -- keep the output here\n",
    "end\n",
    "-- show the result, is it perfect?\n",
    "-- Yes: cool, can we make the sequence longer?\n",
    "-- No: tweak some hyper-parameters\n",
    "display(input_seq, output_seq) "
   ]
  },
  {
   "cell_type": "code",
   "execution_count": 65,
   "metadata": {
    "collapsed": false
   },
   "outputs": [
    {
     "data": {
      "text/html": [
       "<script type=\"text/javascript\">\n",
       "$(function() {\n",
       "    if (typeof (window._bokeh_onload_callbacks) === \"undefined\"){\n",
       "  window._bokeh_onload_callbacks = [];\n",
       "    }\n",
       "    function load_lib(url, callback){\n",
       "  window._bokeh_onload_callbacks.push(callback);\n",
       "  if (window._bokeh_is_loading){\n",
       "      console.log(\"Bokeh: BokehJS is being loaded, scheduling callback at\", new Date());\n",
       "      return null;\n",
       "  }\n",
       "  console.log(\"Bokeh: BokehJS not loaded, scheduling load and callback at\", new Date());\n",
       "  window._bokeh_is_loading = true;\n",
       "  var s = document.createElement('script');\n",
       "  s.src = url;\n",
       "  s.async = true;\n",
       "  s.onreadystatechange = s.onload = function(){\n",
       "      Bokeh.embed.inject_css(\"http://cdn.pydata.org/bokeh-0.7.0.min.css\");\n",
       "      window._bokeh_onload_callbacks.forEach(function(callback){callback()});\n",
       "  };\n",
       "  s.onerror = function(){\n",
       "      console.warn(\"failed to load library \" + url);\n",
       "  };\n",
       "  document.getElementsByTagName(\"head\")[0].appendChild(s);\n",
       "    }\n",
       "\n",
       "    bokehjs_url = \"http://cdn.pydata.org/bokeh-0.7.0.min.js\"\n",
       "\n",
       "    var elt = document.getElementById(\"5ef3a036-2a2d-43f3-c36d-b9e33ea0e84e\");\n",
       "    if(elt==null) {\n",
       "  console.log(\"Bokeh: ERROR: autoload.js configured with elementid '5ef3a036-2a2d-43f3-c36d-b9e33ea0e84e'\"\n",
       "        + \"but no matching script tag was found. \")\n",
       "  return false;\n",
       "    }\n",
       "\n",
       "    if(typeof(Bokeh) !== \"undefined\") {\n",
       "  console.log(\"Bokeh: BokehJS loaded, going straight to plotting\");\n",
       "  var modelid = \"f7753cbc-99ea-4469-c4da-dc355ad729d1\";\n",
       "  var modeltype = \"Plot\";\n",
       "  var all_models = [{\"id\":\"f7ab0430-a481-4cb6-cc32-77a5cc80df3d\",\"type\":\"ColumnDataSource\",\"attributes\":{\"data\":{\"y\":[-0.37359063490295,-0.23267408612515,0.89413772610548,0.90458686286872,0.47984967510971],\"x\":[-2.0210987513678,-1.5452400997548,0.20675735192966,0.3422568249809,-0.36483629779988]},\"column_names\":[\"y\",\"x\"],\"cont_ranges\":{},\"discrete_ranges\":{},\"selected\":[],\"id\":\"f7ab0430-a481-4cb6-cc32-77a5cc80df3d\",\"doc\":null,\"tags\":[]}},{\"id\":\"146d2f6a-0632-42a8-c2cc-985da1da8ae3\",\"type\":\"Circle\",\"attributes\":{\"fill_alpha\":{\"units\":\"data\",\"value\":0.2},\"line_alpha\":{\"units\":\"data\",\"value\":1},\"doc\":null,\"size\":{\"units\":\"screen\",\"value\":10},\"fill_color\":{\"value\":\"red\"},\"line_color\":{\"value\":\"red\"},\"x\":{\"units\":\"data\",\"field\":\"x\"},\"id\":\"146d2f6a-0632-42a8-c2cc-985da1da8ae3\",\"y\":{\"units\":\"data\",\"field\":\"y\"},\"tags\":[]}},{\"id\":\"09a962c8-e0af-4331-c3d1-dad6cc22f4fa\",\"type\":\"Circle\",\"attributes\":{\"fill_alpha\":{\"units\":\"data\",\"value\":0.2},\"line_alpha\":{\"units\":\"data\",\"value\":1},\"doc\":null,\"size\":{\"units\":\"screen\",\"value\":10},\"fill_color\":{\"value\":\"red\"},\"line_color\":{\"value\":\"red\"},\"x\":{\"units\":\"data\",\"field\":\"x\"},\"id\":\"09a962c8-e0af-4331-c3d1-dad6cc22f4fa\",\"y\":{\"units\":\"data\",\"field\":\"y\"},\"tags\":[]}},{\"id\":\"0d38426c-d37d-4fcf-cfa4-3c18d361bf71\",\"type\":\"GlyphRenderer\",\"attributes\":{\"name\":null,\"nonselection_glyph\":{\"type\":\"Circle\",\"id\":\"09a962c8-e0af-4331-c3d1-dad6cc22f4fa\"},\"doc\":null,\"server_data_source\":null,\"data_source\":{\"type\":\"ColumnDataSource\",\"id\":\"f7ab0430-a481-4cb6-cc32-77a5cc80df3d\"},\"glyph\":{\"type\":\"Circle\",\"id\":\"146d2f6a-0632-42a8-c2cc-985da1da8ae3\"},\"selection_glyph\":null,\"id\":\"0d38426c-d37d-4fcf-cfa4-3c18d361bf71\",\"tags\":[]}},{\"id\":\"dc64e65a-36d2-43ab-c3ec-5cb3523d2271\",\"type\":\"ColumnDataSource\",\"attributes\":{\"data\":{\"y\":[2.4828200479564,-1.5787873406387,-2.2119616570111,-0.52055862194251,-0.86488472771343],\"x\":[-1.1753436495785,0.044945850146077,-0.71146127425268,1.3980093197782,0.92468310712748]},\"column_names\":[\"y\",\"x\"],\"cont_ranges\":{},\"discrete_ranges\":{},\"selected\":[],\"id\":\"dc64e65a-36d2-43ab-c3ec-5cb3523d2271\",\"doc\":null,\"tags\":[]}},{\"id\":\"232f46e8-97c2-4234-c2ec-28e6e804147d\",\"type\":\"Circle\",\"attributes\":{\"fill_alpha\":{\"units\":\"data\",\"value\":0.2},\"line_alpha\":{\"units\":\"data\",\"value\":1},\"doc\":null,\"size\":{\"units\":\"screen\",\"value\":10},\"fill_color\":{\"value\":\"blue\"},\"line_color\":{\"value\":\"blue\"},\"x\":{\"units\":\"data\",\"field\":\"x\"},\"id\":\"232f46e8-97c2-4234-c2ec-28e6e804147d\",\"y\":{\"units\":\"data\",\"field\":\"y\"},\"tags\":[]}},{\"id\":\"8ceb84a2-d64a-4f4a-cf0f-8c3d6385164a\",\"type\":\"Circle\",\"attributes\":{\"fill_alpha\":{\"units\":\"data\",\"value\":0.2},\"line_alpha\":{\"units\":\"data\",\"value\":1},\"doc\":null,\"size\":{\"units\":\"screen\",\"value\":10},\"fill_color\":{\"value\":\"blue\"},\"line_color\":{\"value\":\"blue\"},\"x\":{\"units\":\"data\",\"field\":\"x\"},\"id\":\"8ceb84a2-d64a-4f4a-cf0f-8c3d6385164a\",\"y\":{\"units\":\"data\",\"field\":\"y\"},\"tags\":[]}},{\"id\":\"1c7ed4df-b478-4194-c1bb-0807c1f692ff\",\"type\":\"GlyphRenderer\",\"attributes\":{\"name\":null,\"nonselection_glyph\":{\"type\":\"Circle\",\"id\":\"8ceb84a2-d64a-4f4a-cf0f-8c3d6385164a\"},\"doc\":null,\"server_data_source\":null,\"data_source\":{\"type\":\"ColumnDataSource\",\"id\":\"dc64e65a-36d2-43ab-c3ec-5cb3523d2271\"},\"glyph\":{\"type\":\"Circle\",\"id\":\"232f46e8-97c2-4234-c2ec-28e6e804147d\"},\"selection_glyph\":null,\"id\":\"1c7ed4df-b478-4194-c1bb-0807c1f692ff\",\"tags\":[]}},{\"id\":\"7a3e7a75-bf47-4bc7-cb2c-a672a2afd67e\",\"type\":\"DataRange1d\",\"attributes\":{\"sources\":[{\"columns\":[\"x\"],\"source\":{\"type\":\"ColumnDataSource\",\"id\":\"f7ab0430-a481-4cb6-cc32-77a5cc80df3d\"}},{\"columns\":[\"x\"],\"source\":{\"type\":\"ColumnDataSource\",\"id\":\"dc64e65a-36d2-43ab-c3ec-5cb3523d2271\"}}],\"id\":\"7a3e7a75-bf47-4bc7-cb2c-a672a2afd67e\",\"tags\":[],\"doc\":null}},{\"id\":\"d7368302-75e9-4ff2-cf96-876fb6e05939\",\"type\":\"DataRange1d\",\"attributes\":{\"sources\":[{\"columns\":[\"y\"],\"source\":{\"type\":\"ColumnDataSource\",\"id\":\"f7ab0430-a481-4cb6-cc32-77a5cc80df3d\"}},{\"columns\":[\"y\"],\"source\":{\"type\":\"ColumnDataSource\",\"id\":\"dc64e65a-36d2-43ab-c3ec-5cb3523d2271\"}}],\"id\":\"d7368302-75e9-4ff2-cf96-876fb6e05939\",\"tags\":[],\"doc\":null}},{\"id\":\"5697a74d-173c-487b-c86e-277b0901ee31\",\"type\":\"ToolEvents\",\"attributes\":{\"tags\":[],\"id\":\"5697a74d-173c-487b-c86e-277b0901ee31\",\"geometries\":[],\"doc\":null}},{\"id\":\"35b94f39-929a-4d9b-cd73-9e95900c882d\",\"type\":\"BasicTickFormatter\",\"attributes\":{\"id\":\"35b94f39-929a-4d9b-cd73-9e95900c882d\",\"tags\":[],\"doc\":null}},{\"id\":\"bfe29634-eaf7-4501-c56f-2f8e8f3f2c41\",\"type\":\"BasicTicker\",\"attributes\":{\"num_minor_ticks\":5,\"id\":\"bfe29634-eaf7-4501-c56f-2f8e8f3f2c41\",\"tags\":[],\"doc\":null}},{\"id\":\"13dbe953-b8c2-4710-c7aa-4f6589aad91d\",\"type\":\"LinearAxis\",\"attributes\":{\"formatter\":{\"type\":\"BasicTickFormatter\",\"id\":\"35b94f39-929a-4d9b-cd73-9e95900c882d\"},\"ticker\":{\"type\":\"BasicTicker\",\"id\":\"bfe29634-eaf7-4501-c56f-2f8e8f3f2c41\"},\"plot\":{\"id\":\"f7753cbc-99ea-4469-c4da-dc355ad729d1\",\"type\":\"Plot\",\"subtype\":\"Figure\"},\"axis_label\":null,\"id\":\"13dbe953-b8c2-4710-c7aa-4f6589aad91d\",\"doc\":null,\"tags\":[]}},{\"id\":\"a5e4bdd8-c12b-4ea8-cee3-1bc48c728a13\",\"type\":\"Grid\",\"attributes\":{\"dimension\":0,\"plot\":{\"id\":\"f7753cbc-99ea-4469-c4da-dc355ad729d1\",\"type\":\"Plot\",\"subtype\":\"Figure\"},\"ticker\":{\"type\":\"BasicTicker\",\"id\":\"bfe29634-eaf7-4501-c56f-2f8e8f3f2c41\"},\"id\":\"a5e4bdd8-c12b-4ea8-cee3-1bc48c728a13\",\"doc\":null,\"tags\":[]}},{\"id\":\"f25d1225-7f4b-4e7e-cedd-174ef04e3bf7\",\"type\":\"BasicTickFormatter\",\"attributes\":{\"id\":\"f25d1225-7f4b-4e7e-cedd-174ef04e3bf7\",\"tags\":[],\"doc\":null}},{\"id\":\"0ca84604-89a4-49f7-c91e-32c6608e7606\",\"type\":\"BasicTicker\",\"attributes\":{\"num_minor_ticks\":5,\"id\":\"0ca84604-89a4-49f7-c91e-32c6608e7606\",\"tags\":[],\"doc\":null}},{\"id\":\"1dc4334f-56d4-4d92-cd56-ac0a18ac1f08\",\"type\":\"LinearAxis\",\"attributes\":{\"formatter\":{\"type\":\"BasicTickFormatter\",\"id\":\"f25d1225-7f4b-4e7e-cedd-174ef04e3bf7\"},\"ticker\":{\"type\":\"BasicTicker\",\"id\":\"0ca84604-89a4-49f7-c91e-32c6608e7606\"},\"plot\":{\"id\":\"f7753cbc-99ea-4469-c4da-dc355ad729d1\",\"type\":\"Plot\",\"subtype\":\"Figure\"},\"axis_label\":null,\"id\":\"1dc4334f-56d4-4d92-cd56-ac0a18ac1f08\",\"doc\":null,\"tags\":[]}},{\"id\":\"a95c4965-2f3d-4bc0-cbec-2f33317fa430\",\"type\":\"Grid\",\"attributes\":{\"dimension\":1,\"plot\":{\"id\":\"f7753cbc-99ea-4469-c4da-dc355ad729d1\",\"type\":\"Plot\",\"subtype\":\"Figure\"},\"ticker\":{\"type\":\"BasicTicker\",\"id\":\"0ca84604-89a4-49f7-c91e-32c6608e7606\"},\"id\":\"a95c4965-2f3d-4bc0-cbec-2f33317fa430\",\"doc\":null,\"tags\":[]}},{\"id\":\"5a262e56-b5af-44f6-c44b-c24abbce72e9\",\"type\":\"PanTool\",\"attributes\":{\"plot\":{\"id\":\"f7753cbc-99ea-4469-c4da-dc355ad729d1\",\"type\":\"Plot\",\"subtype\":\"Figure\"},\"dimensions\":[\"width\",\"height\"],\"id\":\"5a262e56-b5af-44f6-c44b-c24abbce72e9\",\"doc\":null,\"tags\":[]}},{\"id\":\"43c81ffa-3395-4827-c8c5-123cf6358c2e\",\"type\":\"WheelZoomTool\",\"attributes\":{\"plot\":{\"id\":\"f7753cbc-99ea-4469-c4da-dc355ad729d1\",\"type\":\"Plot\",\"subtype\":\"Figure\"},\"dimensions\":[\"width\",\"height\"],\"id\":\"43c81ffa-3395-4827-c8c5-123cf6358c2e\",\"doc\":null,\"tags\":[]}},{\"id\":\"830e1138-11c3-4865-c866-9eceb73e40ab\",\"type\":\"BoxZoomTool\",\"attributes\":{\"plot\":{\"id\":\"f7753cbc-99ea-4469-c4da-dc355ad729d1\",\"type\":\"Plot\",\"subtype\":\"Figure\"},\"id\":\"830e1138-11c3-4865-c866-9eceb73e40ab\",\"tags\":[],\"doc\":null}},{\"id\":\"74a3ab0a-5066-4b21-cb40-985447c1dca4\",\"type\":\"PreviewSaveTool\",\"attributes\":{\"plot\":{\"id\":\"f7753cbc-99ea-4469-c4da-dc355ad729d1\",\"type\":\"Plot\",\"subtype\":\"Figure\"},\"id\":\"74a3ab0a-5066-4b21-cb40-985447c1dca4\",\"tags\":[],\"doc\":null}},{\"id\":\"b360f51b-d555-432e-c3d1-7ac54f44a85a\",\"type\":\"ResizeTool\",\"attributes\":{\"plot\":{\"id\":\"f7753cbc-99ea-4469-c4da-dc355ad729d1\",\"type\":\"Plot\",\"subtype\":\"Figure\"},\"id\":\"b360f51b-d555-432e-c3d1-7ac54f44a85a\",\"tags\":[],\"doc\":null}},{\"id\":\"e136ecdf-b99c-4bab-cb30-a0682ce777be\",\"type\":\"ResetTool\",\"attributes\":{\"plot\":{\"id\":\"f7753cbc-99ea-4469-c4da-dc355ad729d1\",\"type\":\"Plot\",\"subtype\":\"Figure\"},\"id\":\"e136ecdf-b99c-4bab-cb30-a0682ce777be\",\"tags\":[],\"doc\":null}},{\"id\":\"fc0314bc-0fe2-489c-c876-791e0d82e1ec\",\"type\":\"Legend\",\"attributes\":{\"plot\":{\"id\":\"f7753cbc-99ea-4469-c4da-dc355ad729d1\",\"type\":\"Plot\",\"subtype\":\"Figure\"},\"legends\":[[\"odd\",[{\"type\":\"GlyphRenderer\",\"id\":\"0d38426c-d37d-4fcf-cfa4-3c18d361bf71\"}]],[\"even\",[{\"type\":\"GlyphRenderer\",\"id\":\"1c7ed4df-b478-4194-c1bb-0807c1f692ff\"}]]],\"id\":\"fc0314bc-0fe2-489c-c876-791e0d82e1ec\",\"doc\":null,\"tags\":[]}},{\"id\":\"f7753cbc-99ea-4469-c4da-dc355ad729d1\",\"type\":\"Plot\",\"attributes\":{\"x_range\":{\"type\":\"DataRange1d\",\"id\":\"7a3e7a75-bf47-4bc7-cb2c-a672a2afd67e\"},\"tool_events\":{\"type\":\"ToolEvents\",\"id\":\"5697a74d-173c-487b-c86e-277b0901ee31\"},\"below\":[{\"type\":\"LinearAxis\",\"id\":\"13dbe953-b8c2-4710-c7aa-4f6589aad91d\"}],\"renderers\":[{\"type\":\"GlyphRenderer\",\"id\":\"0d38426c-d37d-4fcf-cfa4-3c18d361bf71\"},{\"type\":\"GlyphRenderer\",\"id\":\"1c7ed4df-b478-4194-c1bb-0807c1f692ff\"},{\"type\":\"LinearAxis\",\"id\":\"13dbe953-b8c2-4710-c7aa-4f6589aad91d\"},{\"type\":\"Grid\",\"id\":\"a5e4bdd8-c12b-4ea8-cee3-1bc48c728a13\"},{\"type\":\"LinearAxis\",\"id\":\"1dc4334f-56d4-4d92-cd56-ac0a18ac1f08\"},{\"type\":\"Grid\",\"id\":\"a95c4965-2f3d-4bc0-cbec-2f33317fa430\"},{\"type\":\"Legend\",\"id\":\"fc0314bc-0fe2-489c-c876-791e0d82e1ec\"}],\"above\":[],\"tools\":[{\"type\":\"PanTool\",\"id\":\"5a262e56-b5af-44f6-c44b-c24abbce72e9\"},{\"type\":\"WheelZoomTool\",\"id\":\"43c81ffa-3395-4827-c8c5-123cf6358c2e\"},{\"type\":\"BoxZoomTool\",\"id\":\"830e1138-11c3-4865-c866-9eceb73e40ab\"},{\"type\":\"PreviewSaveTool\",\"id\":\"74a3ab0a-5066-4b21-cb40-985447c1dca4\"},{\"type\":\"ResizeTool\",\"id\":\"b360f51b-d555-432e-c3d1-7ac54f44a85a\"},{\"type\":\"ResetTool\",\"id\":\"e136ecdf-b99c-4bab-cb30-a0682ce777be\"}],\"doc\":null,\"right\":[],\"title\":\"Embeddings of numbers 0 - 9\",\"extra_x_ranges\":{},\"left\":[{\"type\":\"LinearAxis\",\"id\":\"1dc4334f-56d4-4d92-cd56-ac0a18ac1f08\"}],\"y_range\":{\"type\":\"DataRange1d\",\"id\":\"d7368302-75e9-4ff2-cf96-876fb6e05939\"},\"id\":\"f7753cbc-99ea-4469-c4da-dc355ad729d1\",\"extra_y_ranges\":{},\"tags\":[]}}];\n",
       "  Bokeh.load_models(all_models);\n",
       "  var model = Bokeh.Collections(modeltype).get(modelid);\n",
       "  $(\"#5ef3a036-2a2d-43f3-c36d-b9e33ea0e84e\").html(''); // clear any previous plot in window_id\n",
       "  var view = new model.default_view({model: model, el: \"#5ef3a036-2a2d-43f3-c36d-b9e33ea0e84e\"});\n",
       "    } else {\n",
       "  load_lib(bokehjs_url, function() {\n",
       "      console.log(\"Bokeh: BokehJS plotting callback run at\", new Date())\n",
       "      var modelid = \"f7753cbc-99ea-4469-c4da-dc355ad729d1\";\n",
       "      var modeltype = \"Plot\";\n",
       "      var all_models = [{\"id\":\"f7ab0430-a481-4cb6-cc32-77a5cc80df3d\",\"type\":\"ColumnDataSource\",\"attributes\":{\"data\":{\"y\":[-0.37359063490295,-0.23267408612515,0.89413772610548,0.90458686286872,0.47984967510971],\"x\":[-2.0210987513678,-1.5452400997548,0.20675735192966,0.3422568249809,-0.36483629779988]},\"column_names\":[\"y\",\"x\"],\"cont_ranges\":{},\"discrete_ranges\":{},\"selected\":[],\"id\":\"f7ab0430-a481-4cb6-cc32-77a5cc80df3d\",\"doc\":null,\"tags\":[]}},{\"id\":\"146d2f6a-0632-42a8-c2cc-985da1da8ae3\",\"type\":\"Circle\",\"attributes\":{\"fill_alpha\":{\"units\":\"data\",\"value\":0.2},\"line_alpha\":{\"units\":\"data\",\"value\":1},\"doc\":null,\"size\":{\"units\":\"screen\",\"value\":10},\"fill_color\":{\"value\":\"red\"},\"line_color\":{\"value\":\"red\"},\"x\":{\"units\":\"data\",\"field\":\"x\"},\"id\":\"146d2f6a-0632-42a8-c2cc-985da1da8ae3\",\"y\":{\"units\":\"data\",\"field\":\"y\"},\"tags\":[]}},{\"id\":\"09a962c8-e0af-4331-c3d1-dad6cc22f4fa\",\"type\":\"Circle\",\"attributes\":{\"fill_alpha\":{\"units\":\"data\",\"value\":0.2},\"line_alpha\":{\"units\":\"data\",\"value\":1},\"doc\":null,\"size\":{\"units\":\"screen\",\"value\":10},\"fill_color\":{\"value\":\"red\"},\"line_color\":{\"value\":\"red\"},\"x\":{\"units\":\"data\",\"field\":\"x\"},\"id\":\"09a962c8-e0af-4331-c3d1-dad6cc22f4fa\",\"y\":{\"units\":\"data\",\"field\":\"y\"},\"tags\":[]}},{\"id\":\"0d38426c-d37d-4fcf-cfa4-3c18d361bf71\",\"type\":\"GlyphRenderer\",\"attributes\":{\"name\":null,\"nonselection_glyph\":{\"type\":\"Circle\",\"id\":\"09a962c8-e0af-4331-c3d1-dad6cc22f4fa\"},\"doc\":null,\"server_data_source\":null,\"data_source\":{\"type\":\"ColumnDataSource\",\"id\":\"f7ab0430-a481-4cb6-cc32-77a5cc80df3d\"},\"glyph\":{\"type\":\"Circle\",\"id\":\"146d2f6a-0632-42a8-c2cc-985da1da8ae3\"},\"selection_glyph\":null,\"id\":\"0d38426c-d37d-4fcf-cfa4-3c18d361bf71\",\"tags\":[]}},{\"id\":\"dc64e65a-36d2-43ab-c3ec-5cb3523d2271\",\"type\":\"ColumnDataSource\",\"attributes\":{\"data\":{\"y\":[2.4828200479564,-1.5787873406387,-2.2119616570111,-0.52055862194251,-0.86488472771343],\"x\":[-1.1753436495785,0.044945850146077,-0.71146127425268,1.3980093197782,0.92468310712748]},\"column_names\":[\"y\",\"x\"],\"cont_ranges\":{},\"discrete_ranges\":{},\"selected\":[],\"id\":\"dc64e65a-36d2-43ab-c3ec-5cb3523d2271\",\"doc\":null,\"tags\":[]}},{\"id\":\"232f46e8-97c2-4234-c2ec-28e6e804147d\",\"type\":\"Circle\",\"attributes\":{\"fill_alpha\":{\"units\":\"data\",\"value\":0.2},\"line_alpha\":{\"units\":\"data\",\"value\":1},\"doc\":null,\"size\":{\"units\":\"screen\",\"value\":10},\"fill_color\":{\"value\":\"blue\"},\"line_color\":{\"value\":\"blue\"},\"x\":{\"units\":\"data\",\"field\":\"x\"},\"id\":\"232f46e8-97c2-4234-c2ec-28e6e804147d\",\"y\":{\"units\":\"data\",\"field\":\"y\"},\"tags\":[]}},{\"id\":\"8ceb84a2-d64a-4f4a-cf0f-8c3d6385164a\",\"type\":\"Circle\",\"attributes\":{\"fill_alpha\":{\"units\":\"data\",\"value\":0.2},\"line_alpha\":{\"units\":\"data\",\"value\":1},\"doc\":null,\"size\":{\"units\":\"screen\",\"value\":10},\"fill_color\":{\"value\":\"blue\"},\"line_color\":{\"value\":\"blue\"},\"x\":{\"units\":\"data\",\"field\":\"x\"},\"id\":\"8ceb84a2-d64a-4f4a-cf0f-8c3d6385164a\",\"y\":{\"units\":\"data\",\"field\":\"y\"},\"tags\":[]}},{\"id\":\"1c7ed4df-b478-4194-c1bb-0807c1f692ff\",\"type\":\"GlyphRenderer\",\"attributes\":{\"name\":null,\"nonselection_glyph\":{\"type\":\"Circle\",\"id\":\"8ceb84a2-d64a-4f4a-cf0f-8c3d6385164a\"},\"doc\":null,\"server_data_source\":null,\"data_source\":{\"type\":\"ColumnDataSource\",\"id\":\"dc64e65a-36d2-43ab-c3ec-5cb3523d2271\"},\"glyph\":{\"type\":\"Circle\",\"id\":\"232f46e8-97c2-4234-c2ec-28e6e804147d\"},\"selection_glyph\":null,\"id\":\"1c7ed4df-b478-4194-c1bb-0807c1f692ff\",\"tags\":[]}},{\"id\":\"7a3e7a75-bf47-4bc7-cb2c-a672a2afd67e\",\"type\":\"DataRange1d\",\"attributes\":{\"sources\":[{\"columns\":[\"x\"],\"source\":{\"type\":\"ColumnDataSource\",\"id\":\"f7ab0430-a481-4cb6-cc32-77a5cc80df3d\"}},{\"columns\":[\"x\"],\"source\":{\"type\":\"ColumnDataSource\",\"id\":\"dc64e65a-36d2-43ab-c3ec-5cb3523d2271\"}}],\"id\":\"7a3e7a75-bf47-4bc7-cb2c-a672a2afd67e\",\"tags\":[],\"doc\":null}},{\"id\":\"d7368302-75e9-4ff2-cf96-876fb6e05939\",\"type\":\"DataRange1d\",\"attributes\":{\"sources\":[{\"columns\":[\"y\"],\"source\":{\"type\":\"ColumnDataSource\",\"id\":\"f7ab0430-a481-4cb6-cc32-77a5cc80df3d\"}},{\"columns\":[\"y\"],\"source\":{\"type\":\"ColumnDataSource\",\"id\":\"dc64e65a-36d2-43ab-c3ec-5cb3523d2271\"}}],\"id\":\"d7368302-75e9-4ff2-cf96-876fb6e05939\",\"tags\":[],\"doc\":null}},{\"id\":\"5697a74d-173c-487b-c86e-277b0901ee31\",\"type\":\"ToolEvents\",\"attributes\":{\"tags\":[],\"id\":\"5697a74d-173c-487b-c86e-277b0901ee31\",\"geometries\":[],\"doc\":null}},{\"id\":\"35b94f39-929a-4d9b-cd73-9e95900c882d\",\"type\":\"BasicTickFormatter\",\"attributes\":{\"id\":\"35b94f39-929a-4d9b-cd73-9e95900c882d\",\"tags\":[],\"doc\":null}},{\"id\":\"bfe29634-eaf7-4501-c56f-2f8e8f3f2c41\",\"type\":\"BasicTicker\",\"attributes\":{\"num_minor_ticks\":5,\"id\":\"bfe29634-eaf7-4501-c56f-2f8e8f3f2c41\",\"tags\":[],\"doc\":null}},{\"id\":\"13dbe953-b8c2-4710-c7aa-4f6589aad91d\",\"type\":\"LinearAxis\",\"attributes\":{\"formatter\":{\"type\":\"BasicTickFormatter\",\"id\":\"35b94f39-929a-4d9b-cd73-9e95900c882d\"},\"ticker\":{\"type\":\"BasicTicker\",\"id\":\"bfe29634-eaf7-4501-c56f-2f8e8f3f2c41\"},\"plot\":{\"id\":\"f7753cbc-99ea-4469-c4da-dc355ad729d1\",\"type\":\"Plot\",\"subtype\":\"Figure\"},\"axis_label\":null,\"id\":\"13dbe953-b8c2-4710-c7aa-4f6589aad91d\",\"doc\":null,\"tags\":[]}},{\"id\":\"a5e4bdd8-c12b-4ea8-cee3-1bc48c728a13\",\"type\":\"Grid\",\"attributes\":{\"dimension\":0,\"plot\":{\"id\":\"f7753cbc-99ea-4469-c4da-dc355ad729d1\",\"type\":\"Plot\",\"subtype\":\"Figure\"},\"ticker\":{\"type\":\"BasicTicker\",\"id\":\"bfe29634-eaf7-4501-c56f-2f8e8f3f2c41\"},\"id\":\"a5e4bdd8-c12b-4ea8-cee3-1bc48c728a13\",\"doc\":null,\"tags\":[]}},{\"id\":\"f25d1225-7f4b-4e7e-cedd-174ef04e3bf7\",\"type\":\"BasicTickFormatter\",\"attributes\":{\"id\":\"f25d1225-7f4b-4e7e-cedd-174ef04e3bf7\",\"tags\":[],\"doc\":null}},{\"id\":\"0ca84604-89a4-49f7-c91e-32c6608e7606\",\"type\":\"BasicTicker\",\"attributes\":{\"num_minor_ticks\":5,\"id\":\"0ca84604-89a4-49f7-c91e-32c6608e7606\",\"tags\":[],\"doc\":null}},{\"id\":\"1dc4334f-56d4-4d92-cd56-ac0a18ac1f08\",\"type\":\"LinearAxis\",\"attributes\":{\"formatter\":{\"type\":\"BasicTickFormatter\",\"id\":\"f25d1225-7f4b-4e7e-cedd-174ef04e3bf7\"},\"ticker\":{\"type\":\"BasicTicker\",\"id\":\"0ca84604-89a4-49f7-c91e-32c6608e7606\"},\"plot\":{\"id\":\"f7753cbc-99ea-4469-c4da-dc355ad729d1\",\"type\":\"Plot\",\"subtype\":\"Figure\"},\"axis_label\":null,\"id\":\"1dc4334f-56d4-4d92-cd56-ac0a18ac1f08\",\"doc\":null,\"tags\":[]}},{\"id\":\"a95c4965-2f3d-4bc0-cbec-2f33317fa430\",\"type\":\"Grid\",\"attributes\":{\"dimension\":1,\"plot\":{\"id\":\"f7753cbc-99ea-4469-c4da-dc355ad729d1\",\"type\":\"Plot\",\"subtype\":\"Figure\"},\"ticker\":{\"type\":\"BasicTicker\",\"id\":\"0ca84604-89a4-49f7-c91e-32c6608e7606\"},\"id\":\"a95c4965-2f3d-4bc0-cbec-2f33317fa430\",\"doc\":null,\"tags\":[]}},{\"id\":\"5a262e56-b5af-44f6-c44b-c24abbce72e9\",\"type\":\"PanTool\",\"attributes\":{\"plot\":{\"id\":\"f7753cbc-99ea-4469-c4da-dc355ad729d1\",\"type\":\"Plot\",\"subtype\":\"Figure\"},\"dimensions\":[\"width\",\"height\"],\"id\":\"5a262e56-b5af-44f6-c44b-c24abbce72e9\",\"doc\":null,\"tags\":[]}},{\"id\":\"43c81ffa-3395-4827-c8c5-123cf6358c2e\",\"type\":\"WheelZoomTool\",\"attributes\":{\"plot\":{\"id\":\"f7753cbc-99ea-4469-c4da-dc355ad729d1\",\"type\":\"Plot\",\"subtype\":\"Figure\"},\"dimensions\":[\"width\",\"height\"],\"id\":\"43c81ffa-3395-4827-c8c5-123cf6358c2e\",\"doc\":null,\"tags\":[]}},{\"id\":\"830e1138-11c3-4865-c866-9eceb73e40ab\",\"type\":\"BoxZoomTool\",\"attributes\":{\"plot\":{\"id\":\"f7753cbc-99ea-4469-c4da-dc355ad729d1\",\"type\":\"Plot\",\"subtype\":\"Figure\"},\"id\":\"830e1138-11c3-4865-c866-9eceb73e40ab\",\"tags\":[],\"doc\":null}},{\"id\":\"74a3ab0a-5066-4b21-cb40-985447c1dca4\",\"type\":\"PreviewSaveTool\",\"attributes\":{\"plot\":{\"id\":\"f7753cbc-99ea-4469-c4da-dc355ad729d1\",\"type\":\"Plot\",\"subtype\":\"Figure\"},\"id\":\"74a3ab0a-5066-4b21-cb40-985447c1dca4\",\"tags\":[],\"doc\":null}},{\"id\":\"b360f51b-d555-432e-c3d1-7ac54f44a85a\",\"type\":\"ResizeTool\",\"attributes\":{\"plot\":{\"id\":\"f7753cbc-99ea-4469-c4da-dc355ad729d1\",\"type\":\"Plot\",\"subtype\":\"Figure\"},\"id\":\"b360f51b-d555-432e-c3d1-7ac54f44a85a\",\"tags\":[],\"doc\":null}},{\"id\":\"e136ecdf-b99c-4bab-cb30-a0682ce777be\",\"type\":\"ResetTool\",\"attributes\":{\"plot\":{\"id\":\"f7753cbc-99ea-4469-c4da-dc355ad729d1\",\"type\":\"Plot\",\"subtype\":\"Figure\"},\"id\":\"e136ecdf-b99c-4bab-cb30-a0682ce777be\",\"tags\":[],\"doc\":null}},{\"id\":\"fc0314bc-0fe2-489c-c876-791e0d82e1ec\",\"type\":\"Legend\",\"attributes\":{\"plot\":{\"id\":\"f7753cbc-99ea-4469-c4da-dc355ad729d1\",\"type\":\"Plot\",\"subtype\":\"Figure\"},\"legends\":[[\"odd\",[{\"type\":\"GlyphRenderer\",\"id\":\"0d38426c-d37d-4fcf-cfa4-3c18d361bf71\"}]],[\"even\",[{\"type\":\"GlyphRenderer\",\"id\":\"1c7ed4df-b478-4194-c1bb-0807c1f692ff\"}]]],\"id\":\"fc0314bc-0fe2-489c-c876-791e0d82e1ec\",\"doc\":null,\"tags\":[]}},{\"id\":\"f7753cbc-99ea-4469-c4da-dc355ad729d1\",\"type\":\"Plot\",\"attributes\":{\"x_range\":{\"type\":\"DataRange1d\",\"id\":\"7a3e7a75-bf47-4bc7-cb2c-a672a2afd67e\"},\"tool_events\":{\"type\":\"ToolEvents\",\"id\":\"5697a74d-173c-487b-c86e-277b0901ee31\"},\"below\":[{\"type\":\"LinearAxis\",\"id\":\"13dbe953-b8c2-4710-c7aa-4f6589aad91d\"}],\"renderers\":[{\"type\":\"GlyphRenderer\",\"id\":\"0d38426c-d37d-4fcf-cfa4-3c18d361bf71\"},{\"type\":\"GlyphRenderer\",\"id\":\"1c7ed4df-b478-4194-c1bb-0807c1f692ff\"},{\"type\":\"LinearAxis\",\"id\":\"13dbe953-b8c2-4710-c7aa-4f6589aad91d\"},{\"type\":\"Grid\",\"id\":\"a5e4bdd8-c12b-4ea8-cee3-1bc48c728a13\"},{\"type\":\"LinearAxis\",\"id\":\"1dc4334f-56d4-4d92-cd56-ac0a18ac1f08\"},{\"type\":\"Grid\",\"id\":\"a95c4965-2f3d-4bc0-cbec-2f33317fa430\"},{\"type\":\"Legend\",\"id\":\"fc0314bc-0fe2-489c-c876-791e0d82e1ec\"}],\"above\":[],\"tools\":[{\"type\":\"PanTool\",\"id\":\"5a262e56-b5af-44f6-c44b-c24abbce72e9\"},{\"type\":\"WheelZoomTool\",\"id\":\"43c81ffa-3395-4827-c8c5-123cf6358c2e\"},{\"type\":\"BoxZoomTool\",\"id\":\"830e1138-11c3-4865-c866-9eceb73e40ab\"},{\"type\":\"PreviewSaveTool\",\"id\":\"74a3ab0a-5066-4b21-cb40-985447c1dca4\"},{\"type\":\"ResizeTool\",\"id\":\"b360f51b-d555-432e-c3d1-7ac54f44a85a\"},{\"type\":\"ResetTool\",\"id\":\"e136ecdf-b99c-4bab-cb30-a0682ce777be\"}],\"doc\":null,\"right\":[],\"title\":\"Embeddings of numbers 0 - 9\",\"extra_x_ranges\":{},\"left\":[{\"type\":\"LinearAxis\",\"id\":\"1dc4334f-56d4-4d92-cd56-ac0a18ac1f08\"}],\"y_range\":{\"type\":\"DataRange1d\",\"id\":\"d7368302-75e9-4ff2-cf96-876fb6e05939\"},\"id\":\"f7753cbc-99ea-4469-c4da-dc355ad729d1\",\"extra_y_ranges\":{},\"tags\":[]}}];\n",
       "      Bokeh.load_models(all_models);\n",
       "      var model = Bokeh.Collections(modeltype).get(modelid);\n",
       "      $(\"#5ef3a036-2a2d-43f3-c36d-b9e33ea0e84e\").html(''); // clear any previous plot in window_id\n",
       "      var view = new model.default_view({model: model, el: \"#5ef3a036-2a2d-43f3-c36d-b9e33ea0e84e\"});\n",
       "  });\n",
       "    }\n",
       "});\n",
       "</script>\n",
       "<div class=\"plotdiv\" id=\"5ef3a036-2a2d-43f3-c36d-b9e33ea0e84e\"></div>\n"
      ]
     },
     "metadata": {},
     "output_type": "display_data"
    }
   ],
   "source": [
    "local _ = plot_emb(emb,nil)"
   ]
  },
  {
   "cell_type": "code",
   "execution_count": 60,
   "metadata": {
    "collapsed": false
   },
   "outputs": [
    {
     "data": {
      "text/plain": [
       " 1.2402  2.3508\n",
       "-2.8068  1.5669\n",
       " 1.2212  2.3530\n",
       "-2.9475  1.6077\n",
       " 1.2472  2.3113\n",
       "-3.0214  1.6653\n",
       " 1.2684  2.3388\n",
       " 3.5085 -1.1818\n",
       " 1.3694  2.2624\n",
       " 3.5260 -1.1935\n",
       "[torch.DoubleTensor of size 10x2]\n",
       "\n"
      ]
     },
     "execution_count": 60,
     "metadata": {},
     "output_type": "execute_result"
    }
   ],
   "source": [
    "emb.weight"
   ]
  },
  {
   "cell_type": "code",
   "execution_count": null,
   "metadata": {
    "collapsed": true
   },
   "outputs": [],
   "source": []
  }
 ],
 "metadata": {
  "kernelspec": {
   "display_name": "iTorch",
   "language": "lua",
   "name": "itorch"
  },
  "language_info": {
   "name": "lua",
   "version": "20100"
  }
 },
 "nbformat": 4,
 "nbformat_minor": 0
}
