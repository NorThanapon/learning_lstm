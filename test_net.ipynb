{
 "cells": [
  {
   "cell_type": "code",
   "execution_count": 1,
   "metadata": {
    "collapsed": false
   },
   "outputs": [],
   "source": [
    "require 'nn'\n",
    "require 'nngraph'\n",
    "Plot = require \"itorch.Plot\"\n",
    "lstm = {}\n",
    "include('utils.lua')\n",
    "include('LSTM.lua')"
   ]
  },
  {
   "cell_type": "code",
   "execution_count": 2,
   "metadata": {
    "collapsed": false
   },
   "outputs": [],
   "source": [
    "torch.setnumthreads(1)\n",
    "net = lstm.LSTM({num_layers=2, input_dim=2, hidden_dim=3})"
   ]
  },
  {
   "cell_type": "code",
   "execution_count": 3,
   "metadata": {
    "collapsed": false
   },
   "outputs": [],
   "source": [
    "inputs = torch.randn(5,2,4)\n",
    "net:forget()\n",
    "result = net:forward(inputs)"
   ]
  },
  {
   "cell_type": "code",
   "execution_count": 4,
   "metadata": {
    "collapsed": false
   },
   "outputs": [],
   "source": [
    "grads = torch.randn(5,3,2,4)\n",
    "in_grads = net:backward(inputs, grads)"
   ]
  },
  {
   "cell_type": "code",
   "execution_count": 5,
   "metadata": {
    "collapsed": false
   },
   "outputs": [
    {
     "data": {
      "text/plain": [
       "(1,.,.) = \n",
       "  0.0090  0.0208 -0.0278 -0.2552\n",
       "  0.0216 -0.0778 -0.0130  0.1596\n",
       "\n",
       "(2,.,.) = \n",
       "  0.2274 -0.1074  0.2891  0.0035\n",
       "  0.2124  0.0010 -0.0062  0.0005\n",
       "\n",
       "(3,.,.) = \n",
       "  0.0225  0.0207 -0.0074  0.0059\n",
       " -0.0186  0.0901 -0.0268  0.0401\n",
       "\n",
       "(4,.,.) = \n",
       "  0.1223  0.0559  0.0851 -0.1988\n",
       "  0.1583  0.0659  0.0401  0.0882\n",
       "\n",
       "(5,.,.) = \n",
       "  0.1387 -0.0185 -0.1944 -0.0403\n",
       "  0.0097 -0.0395 -0.0684  0.0438\n",
       "[torch.DoubleTensor of size 5x2x4]\n",
       "\n"
      ]
     },
     "execution_count": 5,
     "metadata": {},
     "output_type": "execute_result"
    }
   ],
   "source": [
    "in_grads"
   ]
  },
  {
   "cell_type": "code",
   "execution_count": 12,
   "metadata": {
    "collapsed": false
   },
   "outputs": [],
   "source": [
    "self = {num_layers = 2, input_dim=2, hidden_dim=3}\n",
    "local input = nn.Identity()()\n",
    "local c_p = nn.Identity()()\n",
    "local h_p = nn.Identity()()\n",
    "local inputs = {input, c_p, h_p} -- {x_t, c_{t-1}, h_{t-1}}\n",
    "local h, c = {}, {}\n",
    "\n",
    "\n",
    "for l = 1, self.num_layers do\n",
    "    local c_l_p = nn.SelectTable(l)(c_p)\n",
    "    local h_l_p = nn.SelectTable(l)(h_p)\n",
    "    local i2h\n",
    "    if l == 1 then\n",
    "        i2h = nn.Linear(self.input_dim, 4*self.hidden_dim)(input) -- W_x * x_t + b_x\n",
    "    else\n",
    "        i2h = nn.Linear(self.hidden_dim, 4*self.hidden_dim)(h[l-1]) -- W_x * h_{t-1} + b_x\n",
    "    end\n",
    "    local h2h = nn.Linear(self.hidden_dim, 4*self.hidden_dim)(h_l_p) -- W_h * h_{t-1} + b_h  \n",
    "    -- preactivations for i_t, f_t, o_t, c_in_t (update)\n",
    "    local preacts = nn.CAddTable()({i2h, h2h}) -- i2h + h2h\n",
    "\n",
    "    -- direction of Narrow = 2 (row vector input)\n",
    "    -- nonlinear:\n",
    "    --     input, forget, and output gates get Sigmoid\n",
    "    --     state update gets Tanh\n",
    "    local all_gates = nn.Sigmoid()(nn.Narrow(2, 1, 3*self.hidden_dim)(preacts)) \n",
    "    local update = nn.Tanh()(nn.Narrow(2, 3*self.hidden_dim + 1, self.hidden_dim)(preacts))\n",
    "    -- split gates into their variables\n",
    "    local i_gate = nn.Narrow(2, 1, self.hidden_dim)(all_gates)\n",
    "    local f_gate = nn.Narrow(2, self.hidden_dim + 1, self.hidden_dim)(all_gates)\n",
    "    local o_gate = nn.Narrow(2, 2 * self.hidden_dim + 1, self.hidden_dim)(all_gates)\n",
    "    -- new state, c = f_t .* c_p + i_t .* c_in_t\n",
    "    c[l] = nn.CAddTable()({\n",
    "            nn.CMulTable()({f_gate, c_l_p}),\n",
    "            nn.CMulTable()({i_gate, update})\n",
    "        })\n",
    "    -- new hidden, h = o_t .* Tanh(c)\n",
    "    h[l] = nn.CMulTable()({\n",
    "            o_gate,\n",
    "            nn.Tanh()(c[l])\n",
    "        })\n",
    "end\n",
    "local outputs = {nn.Identity()(c), nn.Identity()(h)} -- output new state c, and new hidden h\n",
    "\n",
    "cell = nn.gModule(inputs, outputs)\n"
   ]
  },
  {
   "cell_type": "code",
   "execution_count": 16,
   "metadata": {
    "collapsed": false
   },
   "outputs": [],
   "source": [
    "result = cell:forward({\n",
    "        torch.randn(5,2), \n",
    "        {torch.randn(5,3),torch.randn(5,3)}, \n",
    "        {torch.randn(5,3),torch.randn(5,3)}\n",
    "    }\n",
    ")"
   ]
  },
  {
   "cell_type": "code",
   "execution_count": 17,
   "metadata": {
    "collapsed": false
   },
   "outputs": [
    {
     "data": {
      "text/plain": [
       "{\n",
       "  1 : \n",
       "    {\n",
       "      1 : DoubleTensor - size: 5x3\n",
       "      2 : DoubleTensor - size: 5x3\n",
       "    }\n",
       "  2 : \n",
       "    {\n",
       "      1 : DoubleTensor - size: 5x3\n",
       "      2 : DoubleTensor - size: 5x3\n",
       "    }\n",
       "}\n"
      ]
     },
     "execution_count": 17,
     "metadata": {},
     "output_type": "execute_result"
    }
   ],
   "source": [
    "result"
   ]
  },
  {
   "cell_type": "code",
   "execution_count": 18,
   "metadata": {
    "collapsed": false
   },
   "outputs": [
    {
     "data": {
      "text/plain": [
       "{\n",
       "  1 : DoubleTensor - size: 5x2\n",
       "  2 : \n",
       "    {\n",
       "      1 : DoubleTensor - size: 5x3\n",
       "      2 : DoubleTensor - size: 5x3\n",
       "    }\n",
       "  3 : \n",
       "    {\n",
       "      1 : DoubleTensor - size: 5x3\n",
       "      2 : DoubleTensor - size: 5x3\n",
       "    }\n",
       "}\n"
      ]
     },
     "execution_count": 18,
     "metadata": {},
     "output_type": "execute_result"
    }
   ],
   "source": [
    "cell:backward({torch.Tensor{5,2}, {torch.randn(5,3), torch.randn(5,3)}, {torch.randn(5,3), torch.randn(5,3)}},\n",
    "    {{torch.randn(5,3),torch.randn(5,3)}, {torch.randn(5,3),torch.randn(5,3)}}\n",
    "    )"
   ]
  },
  {
   "cell_type": "code",
   "execution_count": 38,
   "metadata": {
    "collapsed": true
   },
   "outputs": [],
   "source": [
    "a = torch.randn(5,2,4)"
   ]
  },
  {
   "cell_type": "code",
   "execution_count": 41,
   "metadata": {
    "collapsed": false
   },
   "outputs": [
    {
     "data": {
      "text/plain": [
       " 1.1834  0.9655\n",
       "-0.5355  0.8005\n",
       " 4.3073  0.5039\n",
       " 0.2041  0.0605\n",
       " 0.2387 -0.3394\n",
       "[torch.DoubleTensor of size 5x2]\n",
       "\n"
      ]
     },
     "execution_count": 41,
     "metadata": {},
     "output_type": "execute_result"
    }
   ],
   "source": [
    "a[{{}, {}, 1}]"
   ]
  },
  {
   "cell_type": "code",
   "execution_count": 42,
   "metadata": {
    "collapsed": false
   },
   "outputs": [
    {
     "data": {
      "text/plain": [
       "\n",
       " 5\n",
       " 2\n",
       " 4\n",
       "[torch.LongStorage of size 3]\n",
       "\n"
      ]
     },
     "execution_count": 42,
     "metadata": {},
     "output_type": "execute_result"
    }
   ],
   "source": [
    "a:size()"
   ]
  },
  {
   "cell_type": "code",
   "execution_count": 43,
   "metadata": {
    "collapsed": false
   },
   "outputs": [
    {
     "data": {
      "text/plain": [
       "3\t\n"
      ]
     },
     "execution_count": 43,
     "metadata": {},
     "output_type": "execute_result"
    }
   ],
   "source": [
    "#a:size()"
   ]
  },
  {
   "cell_type": "code",
   "execution_count": 44,
   "metadata": {
    "collapsed": true
   },
   "outputs": [],
   "source": [
    "b= torch.randn(2,4)"
   ]
  },
  {
   "cell_type": "code",
   "execution_count": 45,
   "metadata": {
    "collapsed": false
   },
   "outputs": [
    {
     "data": {
      "text/plain": [
       "(1,.,.) = \n",
       "  0.2341 -0.6311 -1.8598 -1.4613\n",
       "  0.3113  2.0795  0.7851 -1.4057\n",
       "[torch.DoubleTensor of size 1x2x4]\n",
       "\n"
      ]
     },
     "execution_count": 45,
     "metadata": {},
     "output_type": "execute_result"
    }
   ],
   "source": [
    "b:reshape(1,2,4)"
   ]
  },
  {
   "cell_type": "code",
   "execution_count": 46,
   "metadata": {
    "collapsed": false
   },
   "outputs": [
    {
     "data": {
      "text/plain": [
       " 0.2341 -0.6311 -1.8598 -1.4613\n",
       " 0.3113  2.0795  0.7851 -1.4057\n",
       "[torch.DoubleTensor of size 2x4]\n",
       "\n"
      ]
     },
     "execution_count": 46,
     "metadata": {},
     "output_type": "execute_result"
    }
   ],
   "source": [
    "b"
   ]
  },
  {
   "cell_type": "code",
   "execution_count": null,
   "metadata": {
    "collapsed": true
   },
   "outputs": [],
   "source": []
  }
 ],
 "metadata": {
  "kernelspec": {
   "display_name": "iTorch",
   "language": "lua",
   "name": "itorch"
  },
  "language_info": {
   "name": "lua",
   "version": "20100"
  }
 },
 "nbformat": 4,
 "nbformat_minor": 0
}
