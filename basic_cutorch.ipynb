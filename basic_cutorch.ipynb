{
 "cells": [
  {
   "cell_type": "code",
   "execution_count": 1,
   "metadata": {
    "collapsed": false,
    "scrolled": true
   },
   "outputs": [],
   "source": [
    "require 'cutorch'\n",
    "t1 = torch.randn(32,20)\n",
    "t2 = torch.randn(20,32)"
   ]
  },
  {
   "cell_type": "code",
   "execution_count": 2,
   "metadata": {
    "collapsed": false
   },
   "outputs": [
    {
     "data": {
      "text/plain": [
       "[CPU]Matrix multiplication: 0.0011100769042969 seconds\t\n"
      ]
     },
     "execution_count": 2,
     "metadata": {},
     "output_type": "execute_result"
    },
    {
     "data": {
      "text/plain": [
       "[GPU]Transfer data: 0.00076389312744141 seconds\t\n",
       "[GPU]Matrix multipication: 0.00026297569274902 seconds\t\n",
       "[GPU]Transfer data back: 0.00014281272888184 seconds\t\n",
       "[GPU]Time elapsed: 0.0012829303741455 seconds\t\n"
      ]
     },
     "execution_count": 2,
     "metadata": {},
     "output_type": "execute_result"
    }
   ],
   "source": [
    "timer = torch.Timer() \n",
    "t3 = t1*t2\n",
    "ts = timer:time().real\n",
    "print('[CPU]Matrix multiplication: ' .. ts .. ' seconds')\n",
    "gtimer = torch.Timer()\n",
    "timer = torch.Timer()\n",
    "t1c = t1:cuda()\n",
    "t2c = t2:cuda()\n",
    "ts = timer:time().real\n",
    "print('[GPU]Transfer data: ' .. ts .. ' seconds')\n",
    "timer = torch.Timer() \n",
    "t3c = t1c * t2c\n",
    "ts = timer:time().real\n",
    "print('[GPU]Matrix multipication: ' .. ts .. ' seconds')\n",
    "timer = torch.Timer() \n",
    "t3 = t3c:float()\n",
    "ts = timer:time().real\n",
    "gts = gtimer:time().real\n",
    "print('[GPU]Transfer data back: ' .. ts .. ' seconds')\n",
    "print('[GPU]Time elapsed: ' .. gts .. ' seconds')\n",
    "t1 = nil\n",
    "t2 = nil\n",
    "t3 = nil\n",
    "ts = nil\n",
    "t1c = nil\n",
    "t2c = nil\n",
    "t3c = nil\n",
    "timer = nil\n",
    "gts = nil\n",
    "collectgarbage()"
   ]
  },
  {
   "cell_type": "code",
   "execution_count": null,
   "metadata": {
    "collapsed": true
   },
   "outputs": [],
   "source": []
  }
 ],
 "metadata": {
  "kernelspec": {
   "display_name": "iTorch",
   "language": "lua",
   "name": "itorch"
  },
  "language_info": {
   "name": "lua",
   "version": "20100"
  }
 },
 "nbformat": 4,
 "nbformat_minor": 0
}
